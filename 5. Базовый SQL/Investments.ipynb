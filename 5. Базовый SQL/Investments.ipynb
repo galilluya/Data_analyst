{
 "cells": [
  {
   "cell_type": "markdown",
   "id": "9f0f99e0",
   "metadata": {},
   "source": [
    "# Исследование данных об инвестициях венчурных фондов в компании-стартапы"
   ]
  },
  {
   "cell_type": "markdown",
   "id": "f554dafa",
   "metadata": {},
   "source": [
    "## Описание проекта\n",
    "\n",
    "Необходимо проанализировать данные о фондах и инвестициях и написать запросы к базе. Все запросы производятся к базе данных, которая хранит информацию о венчурных фондах и инвестициях в компании-стартапы. Эта база данных основана на датасете Startup Investments, опубликованном на популярной платформе для соревнований по исследованию данных Kaggle (https://www.kaggle.com/datasets/justinas/startup-investments)."
   ]
  },
  {
   "cell_type": "markdown",
   "id": "e455dfad",
   "metadata": {},
   "source": [
    "## Дополнительная информация\n",
    "\n",
    "**Венчурные фонды** — это финансовые организации, которые могут позволить себе высокий риск и инвестировать в компании с инновационной бизнес-идеей или разработанной новой технологией, то есть в стартапы. Цель венчурных фондов — в будущем получить значительную прибыль, которая в разы превысит размер их трат на инвестиции в компанию. Если стартап подорожает, венчурный фонд может получить долю в компании или фиксированный процент от её выручки.\n",
    "\n",
    "Чтобы процесс финансирования стал менее рискованным, его делят на стадии — раунды. Тот или иной раунд зависит от того, какого уровня развития достигла компания.\n",
    "\n",
    "**Первые этапы** — *предпосевной* и *посевной раунды*. *Предпосевной* раунд предполагает, что компания как таковая ещё не создана и находится в стадии замысла. Следующий — *посевной* — раунд знаменует рост проекта: создатели компании разрабатывают бизнес-модель и привлекают инвесторов.\n",
    "\n",
    "Если компании требуется ментор или наставник — она привлекает *бизнес-ангела*. **Бизнес-ангелы** — инвесторы, которые помимо финансовой поддержки предлагают экспертную помощь. Такой раунд называют *ангельским*.\n",
    "\n",
    "Когда стартап становится компанией с проверенной бизнес-моделью и начинает зарабатывать самостоятельно, предложений инвесторов становится больше. Это раунд *A*, а за ним следуют и другие: *B, C, D* — на этих этапах компания активно развивается и готовится к IPO.\n",
    "\n",
    "Иногда выделяют *венчурный раунд* — финансирование, которое могло поступить от венчурного фонда на любом этапе: начальном или более позднем.\n",
    "\n",
    "В данных об инвестициях встретятся упоминания раундов, но самостоятельный проект не предполагает, что необходимо разбираться в их специфике лучше любого инвестора. Главное — понимать, как устроены данные."
   ]
  },
  {
   "cell_type": "markdown",
   "id": "6f48ec4a",
   "metadata": {},
   "source": [
    "## Описание данных\n",
    "\n",
    "Таблица **acquisition** содержит информацию о покупках одних компаний другими.\n",
    "- первичный ключ **id** — идентификатор или уникальный номер покупки;\n",
    "- внешний ключ **acquiring_company_id** — ссылается на таблицу company — идентификатор компании-покупателя, то есть той, что покупает другую компанию;\n",
    "- внешний ключ **acquired_company_id** — ссылается на таблицу company — идентификатор компании, которую покупают;\n",
    "- **term_code** — способ оплаты сделки:\n",
    "- **cash** — наличными;\n",
    "- **stock** — акциями компании;\n",
    "- **cash_and_stock** — смешанный тип оплаты: наличные и акции.\n",
    "- **price_amount** — сумма покупки в долларах;\n",
    "- **acquired_at** — дата совершения сделки;\n",
    "- **created_at** — дата и время создания записи в таблице;\n",
    "- **updated_at** — дата и время обновления записи в таблице.\n",
    "\n",
    "Таблица **company** содержит информацию о компаниях-стартапах.\n",
    "- первичный ключ **id** — идентификатор, или уникальный номер компании;\n",
    "- **name** — название компании;\n",
    "- **category_code** — категория деятельности компании, например:\n",
    "- **news** — специализируется на работе с новостями;\n",
    "- **social** — специализируется на социальной работе.\n",
    "- **status** — статус компании:\n",
    "- **acquired** — приобретена;\n",
    "- **operating** — действует;\n",
    "- **ipo** — вышла на IPO;\n",
    "- **closed** — перестала существовать.\n",
    "- **founded_at** — дата основания компании;\n",
    "- **closed_at** — дата закрытия компании, которую указывают в том случае, если компании больше не существует;\n",
    "- **domain** — домен сайта компании;\n",
    "- **twitter_username** — название профиля компании в твиттере;\n",
    "- **country_code** — код страны, например, USA для США, GBR для Великобритании;\n",
    "- **investment_rounds** — число раундов, в которых компания участвовала как инвестор;\n",
    "- **funding_rounds** — число раундов, в которых компания привлекала инвестиции;\n",
    "- **funding_total** — сумма привлечённых инвестиций в долларах;\n",
    "- **milestones** — количество важных этапов в истории компании;\n",
    "- **created_at** — дата и время создания записи в таблице;\n",
    "- **updated_at** — дата и время обновления записи в таблице.\n",
    "\n",
    "Таблица **education** хранит информацию об уровне образования сотрудников компаний.\n",
    "- первичный ключ **id** — уникальный номер записи с информацией об образовании;\n",
    "- внешний ключ **person_id** — ссылается на таблицу people — идентификатор человека, информация о котором представлена в записи;\n",
    "- **degree_type** — учебная степень, например:\n",
    "- **BA** — Bachelor of Arts — бакалавр гуманитарных наук;\n",
    "- **MS** — Master of Science — магистр естественных наук.\n",
    "- **instituition** — учебное заведение, название университета;\n",
    "- **graduated_at** — дата завершения обучения, выпуска;\n",
    "- **created_at** — дата и время создания записи в таблице;\n",
    "- **updated_at** — дата и время обновления записи в таблице.\n",
    "\n",
    "Таблица **fund** - хранит информацию о венчурных фондах.\n",
    "- первичный ключ **id** — уникальный номер венчурного фонда;\n",
    "- **name** — название венчурного фонда;\n",
    "- **founded_at** — дата основания фонда;\n",
    "- **domain** — домен сайта фонда;\n",
    "- **twitter_username** — профиль фонда в твиттере;\n",
    "- **country_code** — код страны фонда;\n",
    "- **investment_rounds** — число инвестиционных раундов, в которых фонд принимал участие;\n",
    "- **invested_companies** — число компаний, в которые инвестировал фонд;\n",
    "- **milestones** — количество важных этапов в истории фонда;\n",
    "- **created_at** — дата и время создания записи в таблице;\n",
    "- **updated_at** — дата и время обновления записи в таблице.\n",
    "\n",
    "Таблица **funding_round** - содержит информацию о раундах инвестиций.\n",
    "- первичный ключ **id** — уникальный номер инвестиционного раунда;\n",
    "- внешний ключ **company_id** — ссылается на таблицу company — уникальный номер компании, участвовавшей в инвестиционном раунде;\n",
    "- **funded_at** — дата проведения раунда;\n",
    "- **funding_round_type** — тип инвестиционного раунда, например:\n",
    "- **venture** — венчурный раунд;\n",
    "- **angel** — ангельский раунд;\n",
    "- **series_a** — раунд А.\n",
    "- **raised_amount** — сумма инвестиций, которую привлекла компания в этом раунде в долларах;\n",
    "- **pre_money_valuation** — предварительная, проведённая до инвестиций оценка стоимости компании в долларах;\n",
    "- **participants** — количество участников инвестиционного раунда;\n",
    "- **is_first_round** — является ли этот раунд первым для компании;\n",
    "- **is_last_round** — является ли этот раунд последним для компании;\n",
    "- **created_at** — дата и время создания записи в таблице;\n",
    "- **updated_at** — дата и время обновления записи в таблице.\n",
    "\n",
    "Таблица **investment** содержит информацию об инвестициях венчурных фондов в компании-стартапы.\n",
    "- первичный ключ **id** — уникальный номер инвестиции;\n",
    "- внешний ключ **funding_round_id** — ссылается на таблицу funding_round — уникальный номер раунда инвестиции;\n",
    "- внешний ключ **company_id** — ссылается на таблицу company — уникальный номер компании-стартапа, в которую инвестируют;\n",
    "- внешний ключ **fund_id** — ссылается на таблицу fund — уникальный номер фонда, инвестирующего в компанию-стартап;\n",
    "- **created_at** — дата и время создания записи в таблице;\n",
    "- **updated_at** — дата и время обновления записи в таблице.\n",
    "\n",
    "Таблица **people** содержит информацию о сотрудниках компаний-стартапов.\n",
    "- первичный ключ **id** — уникальный номер сотрудника;\n",
    "- **first_name** — имя сотрудника;\n",
    "- **last_name** — фамилия сотрудника;\n",
    "- внешний ключ **company_id** — ссылается на таблицу company — уникальный номер компании-стартапа;\n",
    "- **twitter_username** — профиль сотрудника в твиттере;\n",
    "- **created_at** — дата и время создания записи в таблице;\n",
    "- **updated_at** — дата и время обновления записи в таблице."
   ]
  },
  {
   "cell_type": "markdown",
   "id": "cccf52b6",
   "metadata": {},
   "source": [
    "### Задание 1\n",
    "Посчитайте, сколько компаний закрылось."
   ]
  },
  {
   "cell_type": "code",
   "execution_count": null,
   "id": "5bc2fc1a",
   "metadata": {},
   "outputs": [],
   "source": [
    "SELECT COUNT(status)\n",
    "FROM company\n",
    "WHERE status LIKE 'closed';"
   ]
  },
  {
   "cell_type": "markdown",
   "id": "2a51142b",
   "metadata": {},
   "source": [
    "### Задание 2\n",
    "\n",
    "Отобразите количество привлечённых средств для новостных компаний США. Используйте данные из таблицы company. Отсортируйте таблицу по убыванию значений в поле funding_total."
   ]
  },
  {
   "cell_type": "code",
   "execution_count": null,
   "id": "0724d36f",
   "metadata": {},
   "outputs": [],
   "source": [
    "SELECT SUM(funding_total)\n",
    "FROM company\n",
    "WHERE category_code LIKE 'news' AND country_code LIKE 'USA'\n",
    "GROUP BY name\n",
    "ORDER BY SUM(funding_total) DESC;"
   ]
  },
  {
   "cell_type": "markdown",
   "id": "cd88fb4c",
   "metadata": {},
   "source": [
    "### Задание 3\n",
    "Найдите общую сумму сделок по покупке одних компаний другими в долларах. Отберите сделки, которые осуществлялись только за наличные с 2011 по 2013 год включительно."
   ]
  },
  {
   "cell_type": "code",
   "execution_count": null,
   "id": "43cf351a",
   "metadata": {},
   "outputs": [],
   "source": [
    "SELECT SUM(price_amount)\n",
    "FROM acquisition\n",
    "WHERE EXTRACT(YEAR FROM CAST(acquired_at AS date)) BETWEEN 2011 AND 2013 \n",
    "AND term_code LIKE 'cash';"
   ]
  },
  {
   "cell_type": "markdown",
   "id": "f0854779",
   "metadata": {},
   "source": [
    "### Задание 4\n",
    "Отобразите имя, фамилию и названия аккаунтов людей в твиттере, у которых названия аккаунтов начинаются на 'Silver'."
   ]
  },
  {
   "cell_type": "code",
   "execution_count": null,
   "id": "985a118c",
   "metadata": {},
   "outputs": [],
   "source": [
    "SELECT first_name, \n",
    "       last_name, \n",
    "       twitter_username\n",
    "FROM people\n",
    "WHERE twitter_username LIKE 'Silver%';"
   ]
  },
  {
   "cell_type": "markdown",
   "id": "8efebd1b",
   "metadata": {},
   "source": [
    "### Задание 5\n",
    "Выведите на экран всю информацию о людях, у которых названия аккаунтов в твиттере содержат подстроку 'money', а фамилия начинается на 'K'."
   ]
  },
  {
   "cell_type": "code",
   "execution_count": null,
   "id": "069e6e42",
   "metadata": {},
   "outputs": [],
   "source": [
    "SELECT *\n",
    "FROM people\n",
    "WHERE twitter_username LIKE '%money%' AND last_name LIKE 'K%';"
   ]
  },
  {
   "cell_type": "markdown",
   "id": "60123ae7",
   "metadata": {},
   "source": [
    "### Задание 6\n",
    "Для каждой страны отобразите общую сумму привлечённых инвестиций, которые получили компании, зарегистрированные в этой стране. Страну, в которой зарегистрирована компания, можно определить по коду страны. Отсортируйте данные по убыванию суммы."
   ]
  },
  {
   "cell_type": "code",
   "execution_count": null,
   "id": "8f9a053f",
   "metadata": {},
   "outputs": [],
   "source": [
    "SELECT country_code,\n",
    "       SUM(funding_total)\n",
    "FROM company \n",
    "GROUP BY country_code\n",
    "ORDER BY SUM(funding_total) DASC;"
   ]
  },
  {
   "cell_type": "markdown",
   "id": "697914f4",
   "metadata": {},
   "source": [
    "### Задание 7\n",
    "Составьте таблицу, в которую войдёт дата проведения раунда, а также минимальное и максимальное значения суммы инвестиций, привлечённых в эту дату.\n",
    "Оставьте в итоговой таблице только те записи, в которых минимальное значение суммы инвестиций не равно нулю и не равно максимальному значению."
   ]
  },
  {
   "cell_type": "code",
   "execution_count": null,
   "id": "cb0230bf",
   "metadata": {},
   "outputs": [],
   "source": [
    "SELECT funded_at, \n",
    "       MIN(raised_amount) AS min, \n",
    "       MAX(raised_amount) AS max\n",
    "FROM funding_round\n",
    "GROUP BY funded_at\n",
    "HAVING MIN(raised_amount)<>0 AND MIN(raised_amount)<>MAX(raised_amount);"
   ]
  },
  {
   "cell_type": "markdown",
   "id": "fee537f4",
   "metadata": {},
   "source": [
    "### Задание 8\n",
    "Создайте поле с категориями:\n",
    "- Для фондов, которые инвестируют в 100 и более компаний, назначьте категорию high_activity.\n",
    "- Для фондов, которые инвестируют в 20 и более компаний до 100, назначьте категорию middle_activity.\n",
    "- Если количество инвестируемых компаний фонда не достигает 20, назначьте категорию low_activity.\n",
    "\n",
    "Отобразите все поля таблицы fund и новое поле с категориями."
   ]
  },
  {
   "cell_type": "code",
   "execution_count": null,
   "id": "26399fc3",
   "metadata": {},
   "outputs": [],
   "source": [
    "SELECT *,\n",
    "    CASE \n",
    "        WHEN invested_companies>=100 THEN 'high_activity'\n",
    "        WHEN invested_companies>=20 AND invested_companies<100 THEN 'middle_activity'\n",
    "        ELSE 'low_activity'\n",
    "        END\n",
    "FROM fund;"
   ]
  },
  {
   "cell_type": "markdown",
   "id": "66d4d192",
   "metadata": {},
   "source": [
    "### Задание 9\n",
    "Для каждой из категорий, назначенных в предыдущем задании, посчитайте округлённое до ближайшего целого числа среднее количество инвестиционных раундов, в которых фонд принимал участие. Выведите на экран категории и среднее число инвестиционных раундов. Отсортируйте таблицу по возрастанию среднего."
   ]
  },
  {
   "cell_type": "code",
   "execution_count": null,
   "id": "6368f5ad",
   "metadata": {},
   "outputs": [],
   "source": [
    "SELECT \n",
    "       (CASE\n",
    "           WHEN invested_companies>=100 THEN 'high_activity'\n",
    "           WHEN invested_companies>=20 THEN 'middle_activity'\n",
    "           ELSE 'low_activity'\n",
    "       END) AS activity,\n",
    "       ROUND(avg(investment_rounds)) AS avg_investment_rounds\n",
    "FROM fund\n",
    "GROUP BY activity\n",
    "ORDER BY avg_investment_rounds;"
   ]
  },
  {
   "cell_type": "markdown",
   "id": "3ee99049",
   "metadata": {},
   "source": [
    "### Задание 10\n",
    "Проанализируйте, в каких странах находятся фонды, которые чаще всего инвестируют в стартапы.\n",
    "Для каждой страны посчитайте минимальное, максимальное и среднее число компаний, в которые инвестировали фонды этой страны, основанные с 2010 по 2012 год включительно. Исключите страны с фондами, у которых минимальное число компаний, получивших инвестиции, равно нулю. Выгрузите десять самых активных стран-инвесторов.\n",
    "Отсортируйте таблицу по среднему количеству компаний от большего к меньшему, а затем по коду страны в лексикографическом порядке."
   ]
  },
  {
   "cell_type": "code",
   "execution_count": null,
   "id": "28e4e689",
   "metadata": {},
   "outputs": [],
   "source": [
    "SELECT country_code, \n",
    "       AVG(invested_companies),\n",
    "       MIN(invested_companies),\n",
    "       MAX(invested_companies)\n",
    "FROM fund\n",
    "WHERE EXTRACT(YEAR FROM CAST(founded_at AS date)) BETWEEN 2010 AND 2012\n",
    "GROUP BY country_code\n",
    "HAVING MIN(invested_companies)<>0\n",
    "ORDER BY AVG(invested_companies) DESC\n",
    "LIMIT 10;"
   ]
  },
  {
   "cell_type": "markdown",
   "id": "34a924ea",
   "metadata": {},
   "source": [
    "### Задание 11\n",
    "Отобразите имя и фамилию всех сотрудников стартапов. Добавьте поле с названием учебного заведения, которое окончил сотрудник, если эта информация известна."
   ]
  },
  {
   "cell_type": "code",
   "execution_count": null,
   "id": "e46c3294",
   "metadata": {},
   "outputs": [],
   "source": [
    "SELECT p.first_name, \n",
    "       p.last_name, \n",
    "       e.instituition\n",
    "FROM education AS e RIGHT JOIN people AS p ON p.id=e.person_id;"
   ]
  },
  {
   "cell_type": "markdown",
   "id": "264ce245",
   "metadata": {},
   "source": [
    "### Задание 12\n",
    "\n",
    "Для каждой компании найдите количество учебных заведений, которые окончили её сотрудники. Выведите название компании и число уникальных названий учебных заведений. Составьте топ-5 компаний по количеству университетов."
   ]
  },
  {
   "cell_type": "code",
   "execution_count": null,
   "id": "e49a0237",
   "metadata": {},
   "outputs": [],
   "source": [
    "SELECT c.name, \n",
    "       COUNT(DISTINCT e.instituition) AS count_instituition\n",
    "FROM company AS c LEFT JOIN people AS p ON c.id=p.company_id\n",
    "LEFT JOIN education AS e ON p.id=e.person_id\n",
    "WHERE company_id IS NOT null\n",
    "GROUP BY c.name\n",
    "ORDER BY count_instituition DESC\n",
    "LIMIT 5;"
   ]
  },
  {
   "cell_type": "markdown",
   "id": "4379bf11",
   "metadata": {},
   "source": [
    "### Задание 13\n",
    "Составьте список с уникальными названиями закрытых компаний, для которых первый раунд финансирования оказался последним."
   ]
  },
  {
   "cell_type": "code",
   "execution_count": null,
   "id": "026fa0a1",
   "metadata": {},
   "outputs": [],
   "source": [
    "SELECT DISTINCT c.name\n",
    "FROM \n",
    "    (SELECT * \n",
    "     FROM company \n",
    "     WHERE status like 'closed') AS c \n",
    "LEFT JOIN funding_round AS fr ON c.id=fr.company_id\n",
    "WHERE fr.is_last_round + fr.is_first_round = 2;"
   ]
  },
  {
   "cell_type": "markdown",
   "id": "bcb05fc4",
   "metadata": {},
   "source": [
    "### Задание 14\n",
    "Составьте список уникальных номеров сотрудников, которые работают в компаниях, отобранных в предыдущем задании."
   ]
  },
  {
   "cell_type": "code",
   "execution_count": null,
   "id": "dccead01",
   "metadata": {},
   "outputs": [],
   "source": [
    "SELECT DISTINCT p.id AS people_id\n",
    "FROM \n",
    "    (SELECT DISTINCT *\n",
    "     FROM \n",
    "         (SELECT c.id \n",
    "          FROM company AS c\n",
    "          WHERE status like 'closed') AS c \n",
    "LEFT JOIN funding_round AS fr ON c.id=fr.company_id\n",
    "WHERE fr.is_last_round + fr.is_first_round = 2) AS l \n",
    "INNER JOIN people AS p ON p.company_id=l.company_id;"
   ]
  },
  {
   "cell_type": "markdown",
   "id": "b8c13b30",
   "metadata": {},
   "source": [
    "### Задание 15\n",
    "Составьте таблицу, куда войдут уникальные пары с номерами сотрудников из предыдущей задачи и учебным заведением, которое окончил сотрудник."
   ]
  },
  {
   "cell_type": "code",
   "execution_count": null,
   "id": "7633598c",
   "metadata": {},
   "outputs": [],
   "source": [
    "SELECT pl.people_id,\n",
    "       e.instituition\n",
    "FROM\n",
    "    (SELECT DISTINCT p.id AS people_id\n",
    "     FROM \n",
    "         (SELECT DISTINCT *\n",
    "          FROM \n",
    "              (SELECT c.id \n",
    "               FROM company AS c\n",
    "               WHERE status like 'closed') AS c \n",
    "LEFT JOIN funding_round AS fr ON c.id=fr.company_id\n",
    "WHERE fr.is_last_round + fr.is_first_round = 2) AS l \n",
    "INNER JOIN people AS p ON p.company_id=l.company_id) AS pl\n",
    "INNER JOIN education AS e ON e.person_id=pl.people_id\n",
    "GROUP BY pl.people_id, e.instituition;"
   ]
  },
  {
   "cell_type": "markdown",
   "id": "55adbef4",
   "metadata": {},
   "source": [
    "### Задание 16\n",
    "Посчитайте количество учебных заведений для каждого сотрудника из предыдущего задания. При подсчёте учитывайте, что некоторые сотрудники могли окончить одно и то же заведение дважды."
   ]
  },
  {
   "cell_type": "code",
   "execution_count": null,
   "id": "fd8e95fb",
   "metadata": {},
   "outputs": [],
   "source": [
    "SELECT pl.people_id,\n",
    "     COUNT(e.instituition)\n",
    "FROM\n",
    "    (SELECT DISTINCT p.id AS people_id\n",
    "     FROM \n",
    "         (SELECT DISTINCT *\n",
    "          FROM \n",
    "              (SELECT c.id \n",
    "               FROM company AS c\n",
    "               WHERE status like 'closed') AS c \n",
    "LEFT JOIN funding_round AS fr ON c.id=fr.company_id\n",
    "WHERE fr.is_last_round + fr.is_first_round = 2) AS l \n",
    "INNER JOIN people AS p ON p.company_id=l.company_id) AS pl\n",
    "INNER JOIN education AS e ON e.person_id=pl.people_id\n",
    "GROUP BY pl.people_id;"
   ]
  },
  {
   "cell_type": "markdown",
   "id": "aa38bfb6",
   "metadata": {},
   "source": [
    "### Задание 17\n",
    "Дополните предыдущий запрос и выведите среднее число учебных заведений (всех, не только уникальных), которые окончили сотрудники разных компаний. Нужно вывести только одну запись, группировка здесь не понадобится."
   ]
  },
  {
   "cell_type": "code",
   "execution_count": null,
   "id": "679eb151",
   "metadata": {},
   "outputs": [],
   "source": [
    "SELECT AVG(ep.count)\n",
    "FROM(\n",
    "    SELECT pl.people_id,\n",
    "    COUNT(e.instituition)\n",
    "    FROM\n",
    "        (SELECT DISTINCT p.id AS people_id\n",
    "         FROM \n",
    "             (SELECT DISTINCT *\n",
    "              FROM \n",
    "                  (SELECT c.id \n",
    "                   FROM company AS c\n",
    "                   WHERE status LIKE 'closed') AS c \n",
    "LEFT JOIN funding_round AS fr ON c.id=fr.company_id\n",
    "WHERE fr.is_last_round + fr.is_first_round = 2) AS l \n",
    "INNER JOIN people AS p on p.company_id=l.company_id) AS pl\n",
    "INNER JOIN education AS e on e.person_id=pl.people_id\n",
    "GROUP BY pl.people_id) AS ep;"
   ]
  },
  {
   "cell_type": "markdown",
   "id": "b7c00e83",
   "metadata": {},
   "source": [
    "### Задание 18\n",
    "\n",
    "Напишите похожий запрос: выведите среднее число учебных заведений (всех, не только уникальных), которые окончили сотрудники Facebook*.\n",
    "*(сервис, запрещённый на территории РФ)"
   ]
  },
  {
   "cell_type": "code",
   "execution_count": null,
   "id": "d7e2d41c",
   "metadata": {},
   "outputs": [],
   "source": [
    "SELECT AVG(ep.count)\n",
    "FROM(\n",
    "    SELECT pl.people_id,\n",
    "         COUNT(e.instituition)\n",
    "    FROM\n",
    "        (SELECT distinct p.id AS people_id\n",
    "         FROM \n",
    "             (SELECT c.id \n",
    "              FROM company AS c\n",
    "              WHERE name like 'Facebook') AS c \n",
    "INNER JOIN people AS p ON c.id=p.company_id) AS pl\n",
    "INNER JOIN education AS e ON e.person_id=pl.people_id\n",
    "GROUP BY pl.people_id) AS ep;"
   ]
  },
  {
   "cell_type": "markdown",
   "id": "596f488c",
   "metadata": {},
   "source": [
    "### Задание 19\n",
    "Составьте таблицу из полей:\n",
    "- name_of_fund — название фонда;\n",
    "- name_of_company — название компании;\n",
    "- amount — сумма инвестиций, которую привлекла компания в раунде.\n",
    "В таблицу войдут данные о компаниях, в истории которых было больше шести важных этапов, а раунды финансирования проходили с 2012 по 2013 год включительно."
   ]
  },
  {
   "cell_type": "code",
   "execution_count": null,
   "id": "9d717516",
   "metadata": {},
   "outputs": [],
   "source": [
    "SELECT f.name AS name_of_fund,\n",
    "        c.name AS company_name,\n",
    "        fr.raised_amount AS amount\n",
    "FROM company AS c\n",
    "LEFT JOIN investment AS i on i.company_id=c.id\n",
    "LEFT JOIN fund AS f on i.fund_id=f.id\n",
    "INNER JOIN (SELECT * \n",
    "           FROM funding_round\n",
    "           WHERE EXTRACT(YEAR FROM funded_at) BETWEEN 2012 AND 2013) AS fr ON fr.id = i.funding_round_id\n",
    "WHERE c.milestones > 6\n",
    "GROUP BY name_of_fund, company_name, amount;"
   ]
  },
  {
   "cell_type": "markdown",
   "id": "a0ba3549",
   "metadata": {},
   "source": [
    "### Задание 20\n",
    "Выгрузите таблицу, в которой будут такие поля:\n",
    "- название компании-покупателя;\n",
    "- сумма сделки;\n",
    "- название компании, которую купили;\n",
    "- сумма инвестиций, вложенных в купленную компанию;\n",
    "- доля, которая отображает, во сколько раз сумма покупки превысила сумму вложенных в компанию инвестиций, округлённая до ближайшего целого числа.\n",
    "\n",
    "Не учитывайте те сделки, в которых сумма покупки равна нулю. Если сумма инвестиций в компанию равна нулю, исключите такую компанию из таблицы.\n",
    "Отсортируйте таблицу по сумме сделки от большей к меньшей, а затем по названию купленной компании в лексикографическом порядке. Ограничьте таблицу первыми десятью записями."
   ]
  },
  {
   "cell_type": "code",
   "execution_count": null,
   "id": "e15d9607",
   "metadata": {},
   "outputs": [],
   "source": [
    "SELECT c.name AS asquiring_company_name,\n",
    "        a.price_amount,\n",
    "        c_1.name AS asqiered_company_name,\n",
    "        c_1.funding_total,\n",
    "        ROUND(a.price_amount/c_1.funding_total) AS proportion\n",
    "FROM acquisition AS a \n",
    "LEFT JOIN company AS c ON a.acquiring_company_id=c.id\n",
    "LEFT JOIN company AS c_1 ON a.acquired_company_id=c_1.id\n",
    "WHERE a.price_amount<>0 AND c_1.funding_total<>0\n",
    "ORDER BY a.price_amount DESC, asqiered_company_name\n",
    "LIMIT 10;"
   ]
  },
  {
   "cell_type": "markdown",
   "id": "a6d026f7",
   "metadata": {},
   "source": [
    "### Задание 21\n",
    "Выгрузите таблицу, в которую войдут названия компаний из категории social, получившие финансирование с 2010 по 2013 год включительно. Проверьте, что сумма инвестиций не равна нулю. Выведите также номер месяца, в котором проходил раунд финансирования."
   ]
  },
  {
   "cell_type": "code",
   "execution_count": null,
   "id": "4fe60c08",
   "metadata": {},
   "outputs": [],
   "source": [
    "SELECT c.name,\n",
    "EXTRACT(MONTH FROM CAST(fr.funded_at AS date)) AS month\n",
    "FROM company AS c \n",
    "LEFT JOIN funding_round AS fr ON c.id=fr.company_id\n",
    "WHERE category_code LIKE 'social' \n",
    "AND EXTRACT(YEAR FROM cast(funded_at AS date)) BETWEEN 2010 AND 2013;"
   ]
  },
  {
   "cell_type": "markdown",
   "id": "125ca680",
   "metadata": {},
   "source": [
    "### Задание 22\n",
    "Отберите данные по месяцам с 2010 по 2013 год, когда проходили инвестиционные раунды. Сгруппируйте данные по номеру месяца и получите таблицу, в которой будут поля:\n",
    "- номер месяца, в котором проходили раунды;\n",
    "- количество уникальных названий фондов из США, которые инвестировали в этом месяце;\n",
    "- количество компаний, купленных за этот месяц;\n",
    "- общая сумма сделок по покупкам в этом месяце."
   ]
  },
  {
   "cell_type": "code",
   "execution_count": null,
   "id": "3286e61a",
   "metadata": {},
   "outputs": [],
   "source": [
    "WITH \n",
    "y AS (SELECT EXTRACT(MONTH FROM fr.funded_at) AS month,\n",
    "             COUNT(DISTINCT f.id) AS funds_count\n",
    "      FROM funding_round AS fr\n",
    "      LEFT JOIN investment AS i ON fr.id=i.funding_round_id\n",
    "      LEFT JOIN fund AS f ON i.fund_id=f.id\n",
    "      WHERE EXTRACT(YEAR FROM fr.funded_at) BETWEEN 2010 AND 2013\n",
    "      AND f.country_code like 'USA'\n",
    "      GROUP BY month),\n",
    "\n",
    "x AS (SELECT EXTRACT(MONTH FROM acquired_at) AS month,\n",
    "           COUNT(acquired_company_id) AS companies_count,\n",
    "           SUM(price_amount) AS sum_price_amount\n",
    "    FROM acquisition\n",
    "    WHERE EXTRACT(YEAR FROM acquired_at) BETWEEN 2010 AND 2013\n",
    "    GROUP BY EXTRACT(MONTH FROM acquired_at))\n",
    "    \n",
    "SELECT y.*, x.companies_count, \n",
    "    x.sum_price_amount\n",
    "FROM y LEFT JOIN x ON y.month=x.month\n",
    "ORDER BY y.month;"
   ]
  },
  {
   "cell_type": "markdown",
   "id": "a77d056d",
   "metadata": {},
   "source": [
    "### Задание 23\n",
    "Составьте сводную таблицу и выведите среднюю сумму инвестиций для стран, в которых есть стартапы, зарегистрированные в 2011, 2012 и 2013 годах. Данные за каждый год должны быть в отдельном поле. Отсортируйте таблицу по среднему значению инвестиций за 2011 год от большего к меньшему."
   ]
  },
  {
   "cell_type": "code",
   "execution_count": null,
   "id": "9154c017",
   "metadata": {},
   "outputs": [],
   "source": [
    "WITH\n",
    "c_1 AS (SELECT country_code,\n",
    "       AVG(funding_total) AS avg_funding_2011\n",
    "    FROM company \n",
    "    WHERE EXTRACT(YEAR FROM founded_at) = 2011\n",
    "    GROUP BY country_code),\n",
    "c_2 AS (SELECT country_code,\n",
    "       AVG(funding_total) AS avg_funding_2012\n",
    "       FROM company\n",
    "       WHERE EXTRACT(YEAR FROM founded_at) = 2012\n",
    "       GROUP BY country_code),\n",
    "c_3 AS (SELECT country_code,\n",
    "       AVG(funding_total) AS avg_funding_2013\n",
    "       FROM company\n",
    "       WHERE EXTRACT(YEAR FROM founded_at) = 2013\n",
    "       GROUP BY country_code)\n",
    "\n",
    "SELECT  c_1.country_code, \n",
    "        c_1.avg_funding_2011, \n",
    "        c_2.avg_funding_2012, \n",
    "        c_3.avg_funding_2013\n",
    "FROM c_1 INNER JOIN c_2 ON c_1.country_code=c_2.country_code \n",
    "INNER JOIN c_3 ON c_1.country_code=c_3.country_code \n",
    "ORDER BY c_1.avg_funding_2011 DESC;"
   ]
  }
 ],
 "metadata": {
  "kernelspec": {
   "display_name": "Python 3 (ipykernel)",
   "language": "python",
   "name": "python3"
  },
  "language_info": {
   "codemirror_mode": {
    "name": "ipython",
    "version": 3
   },
   "file_extension": ".py",
   "mimetype": "text/x-python",
   "name": "python",
   "nbconvert_exporter": "python",
   "pygments_lexer": "ipython3",
   "version": "3.9.12"
  }
 },
 "nbformat": 4,
 "nbformat_minor": 5
}
