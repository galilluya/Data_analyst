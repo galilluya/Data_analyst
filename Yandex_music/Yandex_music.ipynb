{
 "cells": [
  {
   "cell_type": "markdown",
   "metadata": {
    "id": "E0vqbgi9ay0H"
   },
   "source": [
    "# Яндекс.Музыка"
   ]
  },
  {
   "cell_type": "markdown",
   "metadata": {
    "id": "VUC88oWjTJw2"
   },
   "source": [
    "Сравнение Москвы и Петербурга окружено мифами. Например:\n",
    " * Москва — мегаполис, подчинённый жёсткому ритму рабочей недели;\n",
    " * Петербург — культурная столица, со своими вкусами.\n",
    "\n",
    "В данном проекте на основе данных Яндекс.Музыки произведено сравнение поведения пользователей двух столиц.\n",
    "\n",
    "**Цель исследования** — проверить три гипотезы:\n",
    "1. Активность пользователей зависит от дня недели. Причём в Москве и Петербурге это проявляется по-разному.\n",
    "2. В понедельник утром в Москве преобладают одни жанры, а в Петербурге — другие. Так же и вечером пятницы преобладают разные жанры — в зависимости от города. \n",
    "3. Москва и Петербург предпочитают разные жанры музыки. В Москве чаще слушают поп-музыку, в Петербурге — русский рэп."
   ]
  },
  {
   "cell_type": "markdown",
   "metadata": {
    "id": "Ml1hmfXC_Zcs"
   },
   "source": [
    "## Обзор данных\n"
   ]
  },
  {
   "cell_type": "code",
   "execution_count": 1,
   "metadata": {
    "id": "AXN7PHPN_Zcs"
   },
   "outputs": [],
   "source": [
    "# импорт библиотеки pandas\n",
    "import pandas as pd"
   ]
  },
  {
   "cell_type": "code",
   "execution_count": 2,
   "metadata": {
    "id": "fFVu7vqh_Zct"
   },
   "outputs": [],
   "source": [
    "# чтение файла с данными и сохранение в df\n",
    "import os\n",
    "pth1 = '/datasets/yandex_music_project.csv'\n",
    "pth2 = 'E:\\Файлы Галя\\Yandex_practicum\\Datasets\\yandex_music_project.csv'\n",
    "if os.path.exists(pth1):\n",
    "    df = pd.read_csv(pth1)\n",
    "elif os.path.exists(pth2):\n",
    "    df = pd.read_csv(pth2)\n",
    "else:\n",
    "    print(\"Проверьте правильность пути к датасету\")\n"
   ]
  },
  {
   "cell_type": "code",
   "execution_count": 3,
   "metadata": {
    "id": "oWTVX3gW_Zct"
   },
   "outputs": [
    {
     "data": {
      "text/html": [
       "<div>\n",
       "<style scoped>\n",
       "    .dataframe tbody tr th:only-of-type {\n",
       "        vertical-align: middle;\n",
       "    }\n",
       "\n",
       "    .dataframe tbody tr th {\n",
       "        vertical-align: top;\n",
       "    }\n",
       "\n",
       "    .dataframe thead th {\n",
       "        text-align: right;\n",
       "    }\n",
       "</style>\n",
       "<table border=\"1\" class=\"dataframe\">\n",
       "  <thead>\n",
       "    <tr style=\"text-align: right;\">\n",
       "      <th></th>\n",
       "      <th>userID</th>\n",
       "      <th>Track</th>\n",
       "      <th>artist</th>\n",
       "      <th>genre</th>\n",
       "      <th>City</th>\n",
       "      <th>time</th>\n",
       "      <th>Day</th>\n",
       "    </tr>\n",
       "  </thead>\n",
       "  <tbody>\n",
       "    <tr>\n",
       "      <th>0</th>\n",
       "      <td>FFB692EC</td>\n",
       "      <td>Kamigata To Boots</td>\n",
       "      <td>The Mass Missile</td>\n",
       "      <td>rock</td>\n",
       "      <td>Saint-Petersburg</td>\n",
       "      <td>20:28:33</td>\n",
       "      <td>Wednesday</td>\n",
       "    </tr>\n",
       "    <tr>\n",
       "      <th>1</th>\n",
       "      <td>55204538</td>\n",
       "      <td>Delayed Because of Accident</td>\n",
       "      <td>Andreas Rönnberg</td>\n",
       "      <td>rock</td>\n",
       "      <td>Moscow</td>\n",
       "      <td>14:07:09</td>\n",
       "      <td>Friday</td>\n",
       "    </tr>\n",
       "    <tr>\n",
       "      <th>2</th>\n",
       "      <td>20EC38</td>\n",
       "      <td>Funiculì funiculà</td>\n",
       "      <td>Mario Lanza</td>\n",
       "      <td>pop</td>\n",
       "      <td>Saint-Petersburg</td>\n",
       "      <td>20:58:07</td>\n",
       "      <td>Wednesday</td>\n",
       "    </tr>\n",
       "    <tr>\n",
       "      <th>3</th>\n",
       "      <td>A3DD03C9</td>\n",
       "      <td>Dragons in the Sunset</td>\n",
       "      <td>Fire + Ice</td>\n",
       "      <td>folk</td>\n",
       "      <td>Saint-Petersburg</td>\n",
       "      <td>08:37:09</td>\n",
       "      <td>Monday</td>\n",
       "    </tr>\n",
       "    <tr>\n",
       "      <th>4</th>\n",
       "      <td>E2DC1FAE</td>\n",
       "      <td>Soul People</td>\n",
       "      <td>Space Echo</td>\n",
       "      <td>dance</td>\n",
       "      <td>Moscow</td>\n",
       "      <td>08:34:34</td>\n",
       "      <td>Monday</td>\n",
       "    </tr>\n",
       "    <tr>\n",
       "      <th>5</th>\n",
       "      <td>842029A1</td>\n",
       "      <td>Преданная</td>\n",
       "      <td>IMPERVTOR</td>\n",
       "      <td>rusrap</td>\n",
       "      <td>Saint-Petersburg</td>\n",
       "      <td>13:09:41</td>\n",
       "      <td>Friday</td>\n",
       "    </tr>\n",
       "    <tr>\n",
       "      <th>6</th>\n",
       "      <td>4CB90AA5</td>\n",
       "      <td>True</td>\n",
       "      <td>Roman Messer</td>\n",
       "      <td>dance</td>\n",
       "      <td>Moscow</td>\n",
       "      <td>13:00:07</td>\n",
       "      <td>Wednesday</td>\n",
       "    </tr>\n",
       "    <tr>\n",
       "      <th>7</th>\n",
       "      <td>F03E1C1F</td>\n",
       "      <td>Feeling This Way</td>\n",
       "      <td>Polina Griffith</td>\n",
       "      <td>dance</td>\n",
       "      <td>Moscow</td>\n",
       "      <td>20:47:49</td>\n",
       "      <td>Wednesday</td>\n",
       "    </tr>\n",
       "    <tr>\n",
       "      <th>8</th>\n",
       "      <td>8FA1D3BE</td>\n",
       "      <td>И вновь продолжается бой</td>\n",
       "      <td>NaN</td>\n",
       "      <td>ruspop</td>\n",
       "      <td>Moscow</td>\n",
       "      <td>09:17:40</td>\n",
       "      <td>Friday</td>\n",
       "    </tr>\n",
       "    <tr>\n",
       "      <th>9</th>\n",
       "      <td>E772D5C0</td>\n",
       "      <td>Pessimist</td>\n",
       "      <td>NaN</td>\n",
       "      <td>dance</td>\n",
       "      <td>Saint-Petersburg</td>\n",
       "      <td>21:20:49</td>\n",
       "      <td>Wednesday</td>\n",
       "    </tr>\n",
       "  </tbody>\n",
       "</table>\n",
       "</div>"
      ],
      "text/plain": [
       "     userID                        Track            artist   genre  \\\n",
       "0  FFB692EC            Kamigata To Boots  The Mass Missile    rock   \n",
       "1  55204538  Delayed Because of Accident  Andreas Rönnberg    rock   \n",
       "2    20EC38            Funiculì funiculà       Mario Lanza     pop   \n",
       "3  A3DD03C9        Dragons in the Sunset        Fire + Ice    folk   \n",
       "4  E2DC1FAE                  Soul People        Space Echo   dance   \n",
       "5  842029A1                    Преданная         IMPERVTOR  rusrap   \n",
       "6  4CB90AA5                         True      Roman Messer   dance   \n",
       "7  F03E1C1F             Feeling This Way   Polina Griffith   dance   \n",
       "8  8FA1D3BE     И вновь продолжается бой               NaN  ruspop   \n",
       "9  E772D5C0                    Pessimist               NaN   dance   \n",
       "\n",
       "             City        time        Day  \n",
       "0  Saint-Petersburg  20:28:33  Wednesday  \n",
       "1            Moscow  14:07:09     Friday  \n",
       "2  Saint-Petersburg  20:58:07  Wednesday  \n",
       "3  Saint-Petersburg  08:37:09     Monday  \n",
       "4            Moscow  08:34:34     Monday  \n",
       "5  Saint-Petersburg  13:09:41     Friday  \n",
       "6            Moscow  13:00:07  Wednesday  \n",
       "7            Moscow  20:47:49  Wednesday  \n",
       "8            Moscow  09:17:40     Friday  \n",
       "9  Saint-Petersburg  21:20:49  Wednesday  "
      ]
     },
     "execution_count": 3,
     "metadata": {},
     "output_type": "execute_result"
    }
   ],
   "source": [
    "# получение первых 10 строк таблицы df\n",
    "df.head(10)"
   ]
  },
  {
   "cell_type": "code",
   "execution_count": 4,
   "metadata": {
    "id": "DSf2kIb-_Zct"
   },
   "outputs": [
    {
     "name": "stdout",
     "output_type": "stream",
     "text": [
      "<class 'pandas.core.frame.DataFrame'>\n",
      "RangeIndex: 65079 entries, 0 to 65078\n",
      "Data columns (total 7 columns):\n",
      " #   Column    Non-Null Count  Dtype \n",
      "---  ------    --------------  ----- \n",
      " 0     userID  65079 non-null  object\n",
      " 1   Track     63848 non-null  object\n",
      " 2   artist    57876 non-null  object\n",
      " 3   genre     63881 non-null  object\n",
      " 4     City    65079 non-null  object\n",
      " 5   time      65079 non-null  object\n",
      " 6   Day       65079 non-null  object\n",
      "dtypes: object(7)\n",
      "memory usage: 3.5+ MB\n"
     ]
    }
   ],
   "source": [
    "# получение общей информации о данных в таблице df\n",
    "df.info()"
   ]
  },
  {
   "cell_type": "markdown",
   "metadata": {
    "id": "TaQ2Iwbr_Zct"
   },
   "source": [
    "Итак, в таблице семь столбцов. Тип данных во всех столбцах — `object`.\n",
    "\n",
    "Согласно документации к данным:\n",
    "* `userID` — идентификатор пользователя;\n",
    "* `Track` — название трека;  \n",
    "* `artist` — имя исполнителя;\n",
    "* `genre` — название жанра;\n",
    "* `City` — город пользователя;\n",
    "* `time` — время начала прослушивания;\n",
    "* `Day` — день недели.\n",
    "\n",
    "В названиях колонок видны три нарушения стиля:\n",
    "1. Строчные буквы сочетаются с прописными.\n",
    "2. Встречаются пробелы.\n",
    "3. Нет разделения между словами, лучше использовать \"змеииный регистр\"\n",
    "\n",
    "\n",
    "\n",
    "Количество значений в столбцах различается. Значит, в данных есть пропущенные значения.\n"
   ]
  },
  {
   "cell_type": "markdown",
   "metadata": {
    "id": "MCB6-dXG_Zct"
   },
   "source": [
    "**Выводы**\n",
    "\n",
    "В каждой строке таблицы — данные о прослушанном треке. Часть колонок описывает саму композицию: название, исполнителя и жанр. Остальные данные рассказывают о пользователе: из какого он города, когда он слушал музыку. \n",
    "\n",
    "Предварительно можно утверждать, что, данных достаточно для проверки гипотез. Но встречаются пропуски в данных, а в названиях колонок — расхождения с хорошим стилем.\n",
    "\n",
    "Чтобы двигаться дальше, нужно устранить проблемы в данных."
   ]
  },
  {
   "cell_type": "markdown",
   "metadata": {
    "id": "SjYF6Ub9_Zct"
   },
   "source": [
    "## Предобработка данных"
   ]
  },
  {
   "cell_type": "code",
   "execution_count": 5,
   "metadata": {
    "id": "oKOTdF_Q_Zct"
   },
   "outputs": [
    {
     "data": {
      "text/plain": [
       "Index(['  userID', 'Track', 'artist', 'genre', '  City  ', 'time', 'Day'], dtype='object')"
      ]
     },
     "execution_count": 5,
     "metadata": {},
     "output_type": "execute_result"
    }
   ],
   "source": [
    "# перечень названий столбцов таблицы df\n",
    "df.columns"
   ]
  },
  {
   "cell_type": "markdown",
   "metadata": {
    "id": "zj5534cv_Zct"
   },
   "source": [
    "Исправление названий в соответствие с хорошим стилем:\n",
    "* все названия приведем к «змеиному_регистру»,\n",
    "* все символы сделайте строчными,\n",
    "* устраните пробелы.\n",
    "\n",
    "переименуем колонки:\n",
    "* `'  userID'` → `'user_id'`;\n",
    "* `'Track'` → `'track'`;\n",
    "* `'  City  '` → `'city'`;\n",
    "* `'Day'` → `'day'`."
   ]
  },
  {
   "cell_type": "code",
   "execution_count": 6,
   "metadata": {
    "id": "ISlFqs5y_Zct"
   },
   "outputs": [],
   "source": [
    "# переименование столбцов\n",
    "df = df.rename(columns={'  userID' : 'user_id',\n",
    "'Track' : 'track',\n",
    "'  City  ' : 'city',\n",
    "'Day' : 'day'})"
   ]
  },
  {
   "cell_type": "code",
   "execution_count": 7,
   "metadata": {
    "id": "d4NOAmTW_Zct"
   },
   "outputs": [
    {
     "data": {
      "text/plain": [
       "Index(['user_id', 'track', 'artist', 'genre', 'city', 'time', 'day'], dtype='object')"
      ]
     },
     "execution_count": 7,
     "metadata": {},
     "output_type": "execute_result"
    }
   ],
   "source": [
    "# проверка результатов - перечень названий столбцов\n",
    "df.columns"
   ]
  },
  {
   "cell_type": "markdown",
   "metadata": {
    "id": "5ISfbcfY_Zct"
   },
   "source": [
    "### Пропуски значений"
   ]
  },
  {
   "cell_type": "code",
   "execution_count": 8,
   "metadata": {
    "id": "RskX29qr_Zct"
   },
   "outputs": [
    {
     "data": {
      "text/plain": [
       "user_id       0\n",
       "track      1231\n",
       "artist     7203\n",
       "genre      1198\n",
       "city          0\n",
       "time          0\n",
       "day           0\n",
       "dtype: int64"
      ]
     },
     "execution_count": 8,
     "metadata": {},
     "output_type": "execute_result"
    }
   ],
   "source": [
    "# подсчёт пропусков\n",
    "df.isna().sum()"
   ]
  },
  {
   "cell_type": "markdown",
   "metadata": {
    "id": "qubhgnlO_Zct"
   },
   "source": [
    "Не все пропущенные значения влияют на исследование. Так в `track` и `artist` пропуски не важны для работы. Достаточно заменить их явными обозначениями.\n",
    "\n",
    "Но пропуски в `genre` могут помешать сравнению музыкальных вкусов в Москве и Санкт-Петербурге. Установить причину пропусков и восстановить данные в данном проекте не представляется возможным, поэтому придётся:\n",
    "* заполнить и эти пропуски явными обозначениями,\n",
    "* оценить, насколько они повредят расчётам. "
   ]
  },
  {
   "cell_type": "markdown",
   "metadata": {
    "id": "fSv2laPA_Zct"
   },
   "source": [
    "Заменим пропущенные значения в столбцах `track`, `artist` и `genre` на строку `'unknown'`. Для этого создадим список `columns_to_replace`, переберем его элементы циклом `for` и для каждого столбца выполним замену пропущенных значений:"
   ]
  },
  {
   "cell_type": "code",
   "execution_count": 9,
   "metadata": {
    "id": "KplB5qWs_Zct"
   },
   "outputs": [],
   "source": [
    "# перебор названий столбцов в цикле и замена пропущенных значений на 'unknown'\n",
    "columns_to_replace = ['track', 'artist', 'genre']\n",
    "for value in columns_to_replace:\n",
    "    df[value] = df[value].fillna('unknown')"
   ]
  },
  {
   "cell_type": "code",
   "execution_count": 10,
   "metadata": {
    "id": "Tq4nYRX4_Zct"
   },
   "outputs": [
    {
     "data": {
      "text/plain": [
       "user_id    0\n",
       "track      0\n",
       "artist     0\n",
       "genre      0\n",
       "city       0\n",
       "time       0\n",
       "day        0\n",
       "dtype: int64"
      ]
     },
     "execution_count": 10,
     "metadata": {},
     "output_type": "execute_result"
    }
   ],
   "source": [
    "# подсчёт пропусков\n",
    "df.isna().sum()"
   ]
  },
  {
   "cell_type": "markdown",
   "metadata": {
    "id": "BWKRtBJ3_Zct"
   },
   "source": [
    "### Дубликаты"
   ]
  },
  {
   "cell_type": "code",
   "execution_count": 11,
   "metadata": {
    "id": "36eES_S0_Zct"
   },
   "outputs": [
    {
     "data": {
      "text/plain": [
       "3826"
      ]
     },
     "execution_count": 11,
     "metadata": {},
     "output_type": "execute_result"
    }
   ],
   "source": [
    "# подсчёт явных дубликатов\n",
    "df.duplicated().sum()"
   ]
  },
  {
   "cell_type": "code",
   "execution_count": 12,
   "metadata": {
    "id": "exFHq6tt_Zct"
   },
   "outputs": [],
   "source": [
    "# удаление явных дубликатов (с удалением старых индексов и формированием новых)\n",
    "df = df.drop_duplicates().reset_index()"
   ]
  },
  {
   "cell_type": "code",
   "execution_count": 13,
   "metadata": {
    "id": "-8PuNWQ0_Zct"
   },
   "outputs": [
    {
     "data": {
      "text/plain": [
       "0"
      ]
     },
     "execution_count": 13,
     "metadata": {},
     "output_type": "execute_result"
    }
   ],
   "source": [
    "# проверка на отсутствие дубликатов\n",
    "df.duplicated().sum()"
   ]
  },
  {
   "cell_type": "markdown",
   "metadata": {},
   "source": [
    "От явных дубликатов избавились. Проерим теперь неявные дубликаты."
   ]
  },
  {
   "cell_type": "markdown",
   "metadata": {
    "id": "QlFBsxAr_Zct"
   },
   "source": [
    "Избавимся от неявных дубликатов в колонке `genre`. Например, название одного и того же жанра может быть записано немного по-разному."
   ]
  },
  {
   "cell_type": "code",
   "execution_count": 14,
   "metadata": {
    "id": "JIUcqzZN_Zct"
   },
   "outputs": [
    {
     "data": {
      "text/plain": [
       "array(['acid', 'acoustic', 'action', 'adult', 'africa', 'afrikaans',\n",
       "       'alternative', 'alternativepunk', 'ambient', 'americana',\n",
       "       'animated', 'anime', 'arabesk', 'arabic', 'arena',\n",
       "       'argentinetango', 'art', 'audiobook', 'author', 'avantgarde',\n",
       "       'axé', 'baile', 'balkan', 'beats', 'bigroom', 'black', 'bluegrass',\n",
       "       'blues', 'bollywood', 'bossa', 'brazilian', 'breakbeat', 'breaks',\n",
       "       'broadway', 'cantautori', 'cantopop', 'canzone', 'caribbean',\n",
       "       'caucasian', 'celtic', 'chamber', 'chanson', 'children', 'chill',\n",
       "       'chinese', 'choral', 'christian', 'christmas', 'classical',\n",
       "       'classicmetal', 'club', 'colombian', 'comedy', 'conjazz',\n",
       "       'contemporary', 'country', 'cuban', 'dance', 'dancehall',\n",
       "       'dancepop', 'dark', 'death', 'deep', 'deutschrock', 'deutschspr',\n",
       "       'dirty', 'disco', 'dnb', 'documentary', 'downbeat', 'downtempo',\n",
       "       'drum', 'dub', 'dubstep', 'eastern', 'easy', 'electronic',\n",
       "       'electropop', 'emo', 'entehno', 'epicmetal', 'estrada', 'ethnic',\n",
       "       'eurofolk', 'european', 'experimental', 'extrememetal', 'fado',\n",
       "       'fairytail', 'film', 'fitness', 'flamenco', 'folk', 'folklore',\n",
       "       'folkmetal', 'folkrock', 'folktronica', 'forró', 'frankreich',\n",
       "       'französisch', 'french', 'funk', 'future', 'gangsta', 'garage',\n",
       "       'german', 'ghazal', 'gitarre', 'glitch', 'gospel', 'gothic',\n",
       "       'grime', 'grunge', 'gypsy', 'handsup', \"hard'n'heavy\", 'hardcore',\n",
       "       'hardstyle', 'hardtechno', 'hip', 'hip-hop', 'hiphop',\n",
       "       'historisch', 'holiday', 'hop', 'horror', 'house', 'hymn', 'idm',\n",
       "       'independent', 'indian', 'indie', 'indipop', 'industrial',\n",
       "       'inspirational', 'instrumental', 'international', 'irish', 'jam',\n",
       "       'japanese', 'jazz', 'jewish', 'jpop', 'jungle', 'k-pop',\n",
       "       'karadeniz', 'karaoke', 'kayokyoku', 'korean', 'laiko', 'latin',\n",
       "       'latino', 'leftfield', 'local', 'lounge', 'loungeelectronic',\n",
       "       'lovers', 'malaysian', 'mandopop', 'marschmusik', 'meditative',\n",
       "       'mediterranean', 'melodic', 'metal', 'metalcore', 'mexican',\n",
       "       'middle', 'minimal', 'miscellaneous', 'modern', 'mood', 'mpb',\n",
       "       'muslim', 'native', 'neoklassik', 'neue', 'new', 'newage',\n",
       "       'newwave', 'nu', 'nujazz', 'numetal', 'oceania', 'old', 'opera',\n",
       "       'orchestral', 'other', 'piano', 'podcasts', 'pop', 'popdance',\n",
       "       'popelectronic', 'popeurodance', 'poprussian', 'post',\n",
       "       'posthardcore', 'postrock', 'power', 'progmetal', 'progressive',\n",
       "       'psychedelic', 'punjabi', 'punk', 'quebecois', 'ragga', 'ram',\n",
       "       'rancheras', 'rap', 'rave', 'reggae', 'reggaeton', 'regional',\n",
       "       'relax', 'religious', 'retro', 'rhythm', 'rnb', 'rnr', 'rock',\n",
       "       'rockabilly', 'rockalternative', 'rockindie', 'rockother',\n",
       "       'romance', 'roots', 'ruspop', 'rusrap', 'rusrock', 'russian',\n",
       "       'salsa', 'samba', 'scenic', 'schlager', 'self', 'sertanejo',\n",
       "       'shanson', 'shoegazing', 'showtunes', 'singer', 'ska', 'skarock',\n",
       "       'slow', 'smooth', 'soft', 'soul', 'soulful', 'sound', 'soundtrack',\n",
       "       'southern', 'specialty', 'speech', 'spiritual', 'sport',\n",
       "       'stonerrock', 'surf', 'swing', 'synthpop', 'synthrock',\n",
       "       'sängerportrait', 'tango', 'tanzorchester', 'taraftar', 'tatar',\n",
       "       'tech', 'techno', 'teen', 'thrash', 'top', 'traditional',\n",
       "       'tradjazz', 'trance', 'tribal', 'trip', 'triphop', 'tropical',\n",
       "       'türk', 'türkçe', 'ukrrock', 'unknown', 'urban', 'uzbek',\n",
       "       'variété', 'vi', 'videogame', 'vocal', 'western', 'world',\n",
       "       'worldbeat', 'ïîï', 'электроника'], dtype=object)"
      ]
     },
     "execution_count": 14,
     "metadata": {},
     "output_type": "execute_result"
    }
   ],
   "source": [
    "# Просмотр уникальных названий жанров\n",
    "df['genre'].sort_values().unique()"
   ]
  },
  {
   "cell_type": "markdown",
   "metadata": {
    "id": "qej-Qmuo_Zct"
   },
   "source": [
    "Видим дубликаты 'hip', 'hop', 'hip-hop', а также 'электроника', 'electronic', 'electropop', 'popelectronic' - исправим их."
   ]
  },
  {
   "cell_type": "code",
   "execution_count": 15,
   "metadata": {
    "id": "ErNDkmns_Zct"
   },
   "outputs": [],
   "source": [
    "# Функция для замены неявных дубликатов\n",
    "def replace_wrong_genres(wrong_genres, correct_genre):\n",
    "    for wrong_genre in wrong_genres:\n",
    "        df['genre'] = df['genre'].replace(wrong_genre, correct_genre)"
   ]
  },
  {
   "cell_type": "code",
   "execution_count": 16,
   "metadata": {
    "id": "YN5i2hpmSo09"
   },
   "outputs": [],
   "source": [
    "# Устранение неявных дубликатов\n",
    "duplicates = ['hip', 'hop', 'hip-hop']\n",
    "name = 'hiphop'\n",
    "replace_wrong_genres(duplicates, name)"
   ]
  },
  {
   "cell_type": "code",
   "execution_count": 17,
   "metadata": {},
   "outputs": [],
   "source": [
    "df['genre'] = df['genre'].replace('электроника', 'electronic')\n",
    "df['genre'] = df['genre'].replace('electropop', 'popelectronic')"
   ]
  },
  {
   "cell_type": "code",
   "execution_count": 18,
   "metadata": {
    "id": "wvixALnFG15m"
   },
   "outputs": [
    {
     "data": {
      "text/plain": [
       "array(['acid', 'acoustic', 'action', 'adult', 'africa', 'afrikaans',\n",
       "       'alternative', 'alternativepunk', 'ambient', 'americana',\n",
       "       'animated', 'anime', 'arabesk', 'arabic', 'arena',\n",
       "       'argentinetango', 'art', 'audiobook', 'author', 'avantgarde',\n",
       "       'axé', 'baile', 'balkan', 'beats', 'bigroom', 'black', 'bluegrass',\n",
       "       'blues', 'bollywood', 'bossa', 'brazilian', 'breakbeat', 'breaks',\n",
       "       'broadway', 'cantautori', 'cantopop', 'canzone', 'caribbean',\n",
       "       'caucasian', 'celtic', 'chamber', 'chanson', 'children', 'chill',\n",
       "       'chinese', 'choral', 'christian', 'christmas', 'classical',\n",
       "       'classicmetal', 'club', 'colombian', 'comedy', 'conjazz',\n",
       "       'contemporary', 'country', 'cuban', 'dance', 'dancehall',\n",
       "       'dancepop', 'dark', 'death', 'deep', 'deutschrock', 'deutschspr',\n",
       "       'dirty', 'disco', 'dnb', 'documentary', 'downbeat', 'downtempo',\n",
       "       'drum', 'dub', 'dubstep', 'eastern', 'easy', 'electronic', 'emo',\n",
       "       'entehno', 'epicmetal', 'estrada', 'ethnic', 'eurofolk',\n",
       "       'european', 'experimental', 'extrememetal', 'fado', 'fairytail',\n",
       "       'film', 'fitness', 'flamenco', 'folk', 'folklore', 'folkmetal',\n",
       "       'folkrock', 'folktronica', 'forró', 'frankreich', 'französisch',\n",
       "       'french', 'funk', 'future', 'gangsta', 'garage', 'german',\n",
       "       'ghazal', 'gitarre', 'glitch', 'gospel', 'gothic', 'grime',\n",
       "       'grunge', 'gypsy', 'handsup', \"hard'n'heavy\", 'hardcore',\n",
       "       'hardstyle', 'hardtechno', 'hiphop', 'historisch', 'holiday',\n",
       "       'horror', 'house', 'hymn', 'idm', 'independent', 'indian', 'indie',\n",
       "       'indipop', 'industrial', 'inspirational', 'instrumental',\n",
       "       'international', 'irish', 'jam', 'japanese', 'jazz', 'jewish',\n",
       "       'jpop', 'jungle', 'k-pop', 'karadeniz', 'karaoke', 'kayokyoku',\n",
       "       'korean', 'laiko', 'latin', 'latino', 'leftfield', 'local',\n",
       "       'lounge', 'loungeelectronic', 'lovers', 'malaysian', 'mandopop',\n",
       "       'marschmusik', 'meditative', 'mediterranean', 'melodic', 'metal',\n",
       "       'metalcore', 'mexican', 'middle', 'minimal', 'miscellaneous',\n",
       "       'modern', 'mood', 'mpb', 'muslim', 'native', 'neoklassik', 'neue',\n",
       "       'new', 'newage', 'newwave', 'nu', 'nujazz', 'numetal', 'oceania',\n",
       "       'old', 'opera', 'orchestral', 'other', 'piano', 'podcasts', 'pop',\n",
       "       'popdance', 'popelectronic', 'popeurodance', 'poprussian', 'post',\n",
       "       'posthardcore', 'postrock', 'power', 'progmetal', 'progressive',\n",
       "       'psychedelic', 'punjabi', 'punk', 'quebecois', 'ragga', 'ram',\n",
       "       'rancheras', 'rap', 'rave', 'reggae', 'reggaeton', 'regional',\n",
       "       'relax', 'religious', 'retro', 'rhythm', 'rnb', 'rnr', 'rock',\n",
       "       'rockabilly', 'rockalternative', 'rockindie', 'rockother',\n",
       "       'romance', 'roots', 'ruspop', 'rusrap', 'rusrock', 'russian',\n",
       "       'salsa', 'samba', 'scenic', 'schlager', 'self', 'sertanejo',\n",
       "       'shanson', 'shoegazing', 'showtunes', 'singer', 'ska', 'skarock',\n",
       "       'slow', 'smooth', 'soft', 'soul', 'soulful', 'sound', 'soundtrack',\n",
       "       'southern', 'specialty', 'speech', 'spiritual', 'sport',\n",
       "       'stonerrock', 'surf', 'swing', 'synthpop', 'synthrock',\n",
       "       'sängerportrait', 'tango', 'tanzorchester', 'taraftar', 'tatar',\n",
       "       'tech', 'techno', 'teen', 'thrash', 'top', 'traditional',\n",
       "       'tradjazz', 'trance', 'tribal', 'trip', 'triphop', 'tropical',\n",
       "       'türk', 'türkçe', 'ukrrock', 'unknown', 'urban', 'uzbek',\n",
       "       'variété', 'vi', 'videogame', 'vocal', 'western', 'world',\n",
       "       'worldbeat', 'ïîï'], dtype=object)"
      ]
     },
     "execution_count": 18,
     "metadata": {},
     "output_type": "execute_result"
    }
   ],
   "source": [
    "# Проверка на неявные дубликаты\n",
    "df['genre'].sort_values().unique()"
   ]
  },
  {
   "cell_type": "markdown",
   "metadata": {
    "id": "jz6a9-7HQUDd"
   },
   "source": [
    "**Выводы**\n",
    "\n",
    "Предобработка обнаружила три проблемы в данных:\n",
    "\n",
    "- нарушения в стиле заголовков,\n",
    "- пропущенные значения,\n",
    "- дубликаты — явные и неявные.\n",
    "\n",
    "Исправлены заголовки, чтобы упростить работу с таблицей. Без дубликатов исследование станет более точным.\n",
    "\n",
    "Пропущенные значения заменены на `'unknown'`. Ещё предстоит увидеть, не повредят ли исследованию пропуски в колонке `genre`.\n",
    "\n",
    "Теперь можно перейти к проверке гипотез. "
   ]
  },
  {
   "cell_type": "markdown",
   "metadata": {
    "id": "WttZHXH0SqKk"
   },
   "source": [
    "## Проверка гипотез"
   ]
  },
  {
   "cell_type": "markdown",
   "metadata": {
    "id": "Im936VVi_Zcu"
   },
   "source": [
    "### Сравнение поведения пользователей двух столиц"
   ]
  },
  {
   "cell_type": "markdown",
   "metadata": {
    "id": "nwt_MuaL_Zcu"
   },
   "source": [
    "Первая гипотеза утверждает, что пользователи по-разному слушают музыку в Москве и Санкт-Петербурге. Проверим это предположение по данным о трёх днях недели — понедельнике, среде и пятнице. Для этого:\n",
    "\n",
    "* Разделим пользователей Москвы и Санкт-Петербурга\n",
    "* Сравним, сколько треков послушала каждая группа пользователей в понедельник, среду и пятницу."
   ]
  },
  {
   "cell_type": "markdown",
   "metadata": {
    "id": "8Dw_YMmT_Zcu"
   },
   "source": [
    "Оценим активность пользователей в каждом городе. Сгруппируем данные по городу и посчитаем прослушивания в каждой группе."
   ]
  },
  {
   "cell_type": "code",
   "execution_count": 19,
   "metadata": {
    "id": "0_Qs96oh_Zcu"
   },
   "outputs": [
    {
     "data": {
      "text/plain": [
       "city\n",
       "Moscow              42741\n",
       "Saint-Petersburg    18512\n",
       "Name: user_id, dtype: int64"
      ]
     },
     "execution_count": 19,
     "metadata": {},
     "output_type": "execute_result"
    }
   ],
   "source": [
    "# Подсчёт прослушиваний в каждом городе\n",
    "df.groupby('city')['user_id'].count()"
   ]
  },
  {
   "cell_type": "markdown",
   "metadata": {
    "id": "dzli3w8o_Zcu"
   },
   "source": [
    "В Москве прослушиваний больше, чем в Петербурге. Из этого не следует, что московские пользователи чаще слушают музыку. Просто самих пользователей в Москве больше.\n",
    "\n",
    "Теперь сгруппируем данные по дню недели и подсчитаем прослушивания в понедельник, среду и пятницу. Учтем, что в данных есть информация о прослушиваниях только за эти дни."
   ]
  },
  {
   "cell_type": "code",
   "execution_count": 20,
   "metadata": {
    "id": "uZMKjiJz_Zcu"
   },
   "outputs": [
    {
     "data": {
      "text/plain": [
       "day\n",
       "Friday       21840\n",
       "Monday       21354\n",
       "Wednesday    18059\n",
       "Name: user_id, dtype: int64"
      ]
     },
     "execution_count": 20,
     "metadata": {},
     "output_type": "execute_result"
    }
   ],
   "source": [
    "# Подсчёт прослушиваний в каждый из трёх дней\n",
    "df.groupby('day')['user_id'].count()"
   ]
  },
  {
   "cell_type": "markdown",
   "metadata": {
    "id": "cC2tNrlL_Zcu"
   },
   "source": [
    "В среднем пользователи из двух городов менее активны по средам. Но картина может измениться, если рассмотреть каждый город в отдельности."
   ]
  },
  {
   "cell_type": "markdown",
   "metadata": {
    "id": "POzs8bGa_Zcu"
   },
   "source": [
    "Создадим функцию `number_tracks()`, которая посчитает прослушивания для заданного дня и города. Ей понадобятся два параметра:\n",
    "* день недели,\n",
    "* название города."
   ]
  },
  {
   "cell_type": "code",
   "execution_count": 21,
   "metadata": {
    "id": "Nz3GdQB1_Zcu"
   },
   "outputs": [],
   "source": [
    "# создание функции number_tracks()\n",
    "def number_tracks(day, city):\n",
    "    track_list = df[(df['day']==day) & (df['city']==city)]\n",
    "    track_list_count = track_list['user_id'].count()\n",
    "# Функция возвращает число - значение track_list_count.\n",
    "    return track_list_count"
   ]
  },
  {
   "cell_type": "code",
   "execution_count": 42,
   "metadata": {},
   "outputs": [
    {
     "data": {
      "text/html": [
       "<div>\n",
       "<style scoped>\n",
       "    .dataframe tbody tr th:only-of-type {\n",
       "        vertical-align: middle;\n",
       "    }\n",
       "\n",
       "    .dataframe tbody tr th {\n",
       "        vertical-align: top;\n",
       "    }\n",
       "\n",
       "    .dataframe thead th {\n",
       "        text-align: right;\n",
       "    }\n",
       "</style>\n",
       "<table border=\"1\" class=\"dataframe\">\n",
       "  <thead>\n",
       "    <tr style=\"text-align: right;\">\n",
       "      <th></th>\n",
       "      <th>city</th>\n",
       "      <th>monday</th>\n",
       "      <th>wednesday</th>\n",
       "      <th>friday</th>\n",
       "    </tr>\n",
       "  </thead>\n",
       "  <tbody>\n",
       "    <tr>\n",
       "      <th>0</th>\n",
       "      <td>Moscow</td>\n",
       "      <td>15740</td>\n",
       "      <td>11056</td>\n",
       "      <td>15945</td>\n",
       "    </tr>\n",
       "    <tr>\n",
       "      <th>1</th>\n",
       "      <td>Saint-Petersburg</td>\n",
       "      <td>5614</td>\n",
       "      <td>7003</td>\n",
       "      <td>5895</td>\n",
       "    </tr>\n",
       "  </tbody>\n",
       "</table>\n",
       "</div>"
      ],
      "text/plain": [
       "               city  monday  wednesday  friday\n",
       "0            Moscow   15740      11056   15945\n",
       "1  Saint-Petersburg    5614       7003    5895"
      ]
     },
     "execution_count": 42,
     "metadata": {},
     "output_type": "execute_result"
    }
   ],
   "source": [
    "#создадим таблицу с результатами вызова функции\n",
    "data = [['Moscow', number_tracks('Monday', 'Moscow'), number_tracks('Wednesday', 'Moscow'), number_tracks('Friday', 'Moscow')],\n",
    "        ['Saint-Petersburg', number_tracks('Monday', 'Saint-Petersburg'), number_tracks('Wednesday', 'Saint-Petersburg'), number_tracks('Friday', 'Saint-Petersburg')]]\n",
    "columns = ['city', 'monday', 'wednesday', 'friday']\n",
    "table = pd.DataFrame(data = data, columns = columns)\n",
    "table"
   ]
  },
  {
   "cell_type": "markdown",
   "metadata": {
    "id": "-EgPIHYu_Zcu"
   },
   "source": [
    "**Выводы**\n",
    "\n",
    "Данные показывают разницу поведения пользователей:\n",
    "\n",
    "- В Москве пик прослушиваний приходится на понедельник и пятницу, а в среду заметен спад.\n",
    "- В Петербурге, наоборот, больше слушают музыку по средам. Активность в понедельник и пятницу здесь почти в равной мере уступает среде.\n",
    "\n",
    "Значит, данные говорят в пользу первой гипотезы."
   ]
  },
  {
   "cell_type": "markdown",
   "metadata": {
    "id": "atZAxtq4_Zcu"
   },
   "source": [
    "### Музыка в начале и в конце недели"
   ]
  },
  {
   "cell_type": "markdown",
   "metadata": {
    "id": "eXrQqXFH_Zcu"
   },
   "source": [
    "Согласно второй гипотезе, утром в понедельник в Москве преобладают одни жанры, а в Петербурге — другие. Так же и вечером пятницы преобладают разные жанры — в зависимости от города."
   ]
  },
  {
   "cell_type": "markdown",
   "metadata": {
    "id": "S8UcW6Hw_Zcu"
   },
   "source": [
    "Сохраним таблицы с данными в две переменные:\n",
    "* по Москве — в `moscow_general`;\n",
    "* по Санкт-Петербургу — в `spb_general`."
   ]
  },
  {
   "cell_type": "code",
   "execution_count": 53,
   "metadata": {
    "id": "qeaFfM_P_Zcu"
   },
   "outputs": [
    {
     "data": {
      "text/html": [
       "<div>\n",
       "<style scoped>\n",
       "    .dataframe tbody tr th:only-of-type {\n",
       "        vertical-align: middle;\n",
       "    }\n",
       "\n",
       "    .dataframe tbody tr th {\n",
       "        vertical-align: top;\n",
       "    }\n",
       "\n",
       "    .dataframe thead th {\n",
       "        text-align: right;\n",
       "    }\n",
       "</style>\n",
       "<table border=\"1\" class=\"dataframe\">\n",
       "  <thead>\n",
       "    <tr style=\"text-align: right;\">\n",
       "      <th></th>\n",
       "      <th>index</th>\n",
       "      <th>user_id</th>\n",
       "      <th>track</th>\n",
       "      <th>artist</th>\n",
       "      <th>genre</th>\n",
       "      <th>city</th>\n",
       "      <th>time</th>\n",
       "      <th>day</th>\n",
       "    </tr>\n",
       "  </thead>\n",
       "  <tbody>\n",
       "    <tr>\n",
       "      <th>1</th>\n",
       "      <td>1</td>\n",
       "      <td>55204538</td>\n",
       "      <td>Delayed Because of Accident</td>\n",
       "      <td>Andreas Rönnberg</td>\n",
       "      <td>rock</td>\n",
       "      <td>Moscow</td>\n",
       "      <td>14:07:09</td>\n",
       "      <td>Friday</td>\n",
       "    </tr>\n",
       "    <tr>\n",
       "      <th>4</th>\n",
       "      <td>4</td>\n",
       "      <td>E2DC1FAE</td>\n",
       "      <td>Soul People</td>\n",
       "      <td>Space Echo</td>\n",
       "      <td>dance</td>\n",
       "      <td>Moscow</td>\n",
       "      <td>08:34:34</td>\n",
       "      <td>Monday</td>\n",
       "    </tr>\n",
       "    <tr>\n",
       "      <th>6</th>\n",
       "      <td>6</td>\n",
       "      <td>4CB90AA5</td>\n",
       "      <td>True</td>\n",
       "      <td>Roman Messer</td>\n",
       "      <td>dance</td>\n",
       "      <td>Moscow</td>\n",
       "      <td>13:00:07</td>\n",
       "      <td>Wednesday</td>\n",
       "    </tr>\n",
       "    <tr>\n",
       "      <th>7</th>\n",
       "      <td>7</td>\n",
       "      <td>F03E1C1F</td>\n",
       "      <td>Feeling This Way</td>\n",
       "      <td>Polina Griffith</td>\n",
       "      <td>dance</td>\n",
       "      <td>Moscow</td>\n",
       "      <td>20:47:49</td>\n",
       "      <td>Wednesday</td>\n",
       "    </tr>\n",
       "    <tr>\n",
       "      <th>8</th>\n",
       "      <td>8</td>\n",
       "      <td>8FA1D3BE</td>\n",
       "      <td>И вновь продолжается бой</td>\n",
       "      <td>unknown</td>\n",
       "      <td>ruspop</td>\n",
       "      <td>Moscow</td>\n",
       "      <td>09:17:40</td>\n",
       "      <td>Friday</td>\n",
       "    </tr>\n",
       "    <tr>\n",
       "      <th>10</th>\n",
       "      <td>10</td>\n",
       "      <td>BC5A3A29</td>\n",
       "      <td>Gool la Mita</td>\n",
       "      <td>Shireen Abdul Wahab</td>\n",
       "      <td>world</td>\n",
       "      <td>Moscow</td>\n",
       "      <td>14:08:42</td>\n",
       "      <td>Monday</td>\n",
       "    </tr>\n",
       "    <tr>\n",
       "      <th>11</th>\n",
       "      <td>11</td>\n",
       "      <td>8B5192C0</td>\n",
       "      <td>Is There Anybody Out There? (Panoramic Paralys...</td>\n",
       "      <td>Pink Floyd Floydhead</td>\n",
       "      <td>electronic</td>\n",
       "      <td>Moscow</td>\n",
       "      <td>13:47:49</td>\n",
       "      <td>Monday</td>\n",
       "    </tr>\n",
       "    <tr>\n",
       "      <th>12</th>\n",
       "      <td>12</td>\n",
       "      <td>FF3FD2BD</td>\n",
       "      <td>Мина син генэ кирэк</td>\n",
       "      <td>Ильдар Хакимов</td>\n",
       "      <td>pop</td>\n",
       "      <td>Moscow</td>\n",
       "      <td>09:19:49</td>\n",
       "      <td>Monday</td>\n",
       "    </tr>\n",
       "    <tr>\n",
       "      <th>13</th>\n",
       "      <td>13</td>\n",
       "      <td>CC782B0F</td>\n",
       "      <td>After School Special</td>\n",
       "      <td>Detroit Grand Pubahs</td>\n",
       "      <td>dance</td>\n",
       "      <td>Moscow</td>\n",
       "      <td>20:04:12</td>\n",
       "      <td>Friday</td>\n",
       "    </tr>\n",
       "    <tr>\n",
       "      <th>15</th>\n",
       "      <td>15</td>\n",
       "      <td>E3C5756F</td>\n",
       "      <td>unknown</td>\n",
       "      <td>unknown</td>\n",
       "      <td>unknown</td>\n",
       "      <td>Moscow</td>\n",
       "      <td>09:24:51</td>\n",
       "      <td>Monday</td>\n",
       "    </tr>\n",
       "    <tr>\n",
       "      <th>19</th>\n",
       "      <td>19</td>\n",
       "      <td>772F5B59</td>\n",
       "      <td>Sweetback</td>\n",
       "      <td>The Fabulous Three</td>\n",
       "      <td>rnb</td>\n",
       "      <td>Moscow</td>\n",
       "      <td>13:56:42</td>\n",
       "      <td>Wednesday</td>\n",
       "    </tr>\n",
       "    <tr>\n",
       "      <th>20</th>\n",
       "      <td>20</td>\n",
       "      <td>201CF2A8</td>\n",
       "      <td>Ya'll In Trouble</td>\n",
       "      <td>Lil Tee Chill Tank Young Buck Brother Mohammed...</td>\n",
       "      <td>hiphop</td>\n",
       "      <td>Moscow</td>\n",
       "      <td>08:46:03</td>\n",
       "      <td>Monday</td>\n",
       "    </tr>\n",
       "    <tr>\n",
       "      <th>21</th>\n",
       "      <td>21</td>\n",
       "      <td>44B8E869</td>\n",
       "      <td>Nanovirus</td>\n",
       "      <td>Exotype</td>\n",
       "      <td>rock</td>\n",
       "      <td>Moscow</td>\n",
       "      <td>21:36:40</td>\n",
       "      <td>Monday</td>\n",
       "    </tr>\n",
       "    <tr>\n",
       "      <th>23</th>\n",
       "      <td>23</td>\n",
       "      <td>A729591B</td>\n",
       "      <td>Gavotte</td>\n",
       "      <td>Hachidai Nakamura</td>\n",
       "      <td>jazz</td>\n",
       "      <td>Moscow</td>\n",
       "      <td>13:56:00</td>\n",
       "      <td>Monday</td>\n",
       "    </tr>\n",
       "    <tr>\n",
       "      <th>27</th>\n",
       "      <td>27</td>\n",
       "      <td>9CC6AA46</td>\n",
       "      <td>Mucho Corazón</td>\n",
       "      <td>Buena Vista Social Club</td>\n",
       "      <td>latin</td>\n",
       "      <td>Moscow</td>\n",
       "      <td>14:06:22</td>\n",
       "      <td>Monday</td>\n",
       "    </tr>\n",
       "    <tr>\n",
       "      <th>28</th>\n",
       "      <td>28</td>\n",
       "      <td>D8D698A9</td>\n",
       "      <td>Romantici</td>\n",
       "      <td>Viola Valentino</td>\n",
       "      <td>pop</td>\n",
       "      <td>Moscow</td>\n",
       "      <td>08:23:21</td>\n",
       "      <td>Wednesday</td>\n",
       "    </tr>\n",
       "    <tr>\n",
       "      <th>33</th>\n",
       "      <td>33</td>\n",
       "      <td>809CAFB1</td>\n",
       "      <td>Break Me Down</td>\n",
       "      <td>Steve Angello</td>\n",
       "      <td>dance</td>\n",
       "      <td>Moscow</td>\n",
       "      <td>14:42:31</td>\n",
       "      <td>Monday</td>\n",
       "    </tr>\n",
       "    <tr>\n",
       "      <th>34</th>\n",
       "      <td>34</td>\n",
       "      <td>B416A40F</td>\n",
       "      <td>Лучшая подруга</td>\n",
       "      <td>Супердетки</td>\n",
       "      <td>ruspop</td>\n",
       "      <td>Moscow</td>\n",
       "      <td>14:49:21</td>\n",
       "      <td>Friday</td>\n",
       "    </tr>\n",
       "    <tr>\n",
       "      <th>35</th>\n",
       "      <td>35</td>\n",
       "      <td>A8AE9169</td>\n",
       "      <td>unknown</td>\n",
       "      <td>unknown</td>\n",
       "      <td>unknown</td>\n",
       "      <td>Moscow</td>\n",
       "      <td>08:56:10</td>\n",
       "      <td>Monday</td>\n",
       "    </tr>\n",
       "    <tr>\n",
       "      <th>36</th>\n",
       "      <td>36</td>\n",
       "      <td>FCDF1C8E</td>\n",
       "      <td>Nasebanaru</td>\n",
       "      <td>Zen</td>\n",
       "      <td>reggae</td>\n",
       "      <td>Moscow</td>\n",
       "      <td>20:19:36</td>\n",
       "      <td>Wednesday</td>\n",
       "    </tr>\n",
       "  </tbody>\n",
       "</table>\n",
       "</div>"
      ],
      "text/plain": [
       "    index   user_id                                              track  \\\n",
       "1       1  55204538                        Delayed Because of Accident   \n",
       "4       4  E2DC1FAE                                        Soul People   \n",
       "6       6  4CB90AA5                                               True   \n",
       "7       7  F03E1C1F                                   Feeling This Way   \n",
       "8       8  8FA1D3BE                           И вновь продолжается бой   \n",
       "10     10  BC5A3A29                                       Gool la Mita   \n",
       "11     11  8B5192C0  Is There Anybody Out There? (Panoramic Paralys...   \n",
       "12     12  FF3FD2BD                                Мина син генэ кирэк   \n",
       "13     13  CC782B0F                               After School Special   \n",
       "15     15  E3C5756F                                            unknown   \n",
       "19     19  772F5B59                                          Sweetback   \n",
       "20     20  201CF2A8                                   Ya'll In Trouble   \n",
       "21     21  44B8E869                                          Nanovirus   \n",
       "23     23  A729591B                                            Gavotte   \n",
       "27     27  9CC6AA46                                      Mucho Corazón   \n",
       "28     28  D8D698A9                                          Romantici   \n",
       "33     33  809CAFB1                                      Break Me Down   \n",
       "34     34  B416A40F                                     Лучшая подруга   \n",
       "35     35  A8AE9169                                            unknown   \n",
       "36     36  FCDF1C8E                                         Nasebanaru   \n",
       "\n",
       "                                               artist       genre    city  \\\n",
       "1                                    Andreas Rönnberg        rock  Moscow   \n",
       "4                                          Space Echo       dance  Moscow   \n",
       "6                                        Roman Messer       dance  Moscow   \n",
       "7                                     Polina Griffith       dance  Moscow   \n",
       "8                                             unknown      ruspop  Moscow   \n",
       "10                                Shireen Abdul Wahab       world  Moscow   \n",
       "11                               Pink Floyd Floydhead  electronic  Moscow   \n",
       "12                                     Ильдар Хакимов         pop  Moscow   \n",
       "13                               Detroit Grand Pubahs       dance  Moscow   \n",
       "15                                            unknown     unknown  Moscow   \n",
       "19                                 The Fabulous Three         rnb  Moscow   \n",
       "20  Lil Tee Chill Tank Young Buck Brother Mohammed...      hiphop  Moscow   \n",
       "21                                            Exotype        rock  Moscow   \n",
       "23                                  Hachidai Nakamura        jazz  Moscow   \n",
       "27                            Buena Vista Social Club       latin  Moscow   \n",
       "28                                    Viola Valentino         pop  Moscow   \n",
       "33                                      Steve Angello       dance  Moscow   \n",
       "34                                         Супердетки      ruspop  Moscow   \n",
       "35                                            unknown     unknown  Moscow   \n",
       "36                                                Zen      reggae  Moscow   \n",
       "\n",
       "        time        day  \n",
       "1   14:07:09     Friday  \n",
       "4   08:34:34     Monday  \n",
       "6   13:00:07  Wednesday  \n",
       "7   20:47:49  Wednesday  \n",
       "8   09:17:40     Friday  \n",
       "10  14:08:42     Monday  \n",
       "11  13:47:49     Monday  \n",
       "12  09:19:49     Monday  \n",
       "13  20:04:12     Friday  \n",
       "15  09:24:51     Monday  \n",
       "19  13:56:42  Wednesday  \n",
       "20  08:46:03     Monday  \n",
       "21  21:36:40     Monday  \n",
       "23  13:56:00     Monday  \n",
       "27  14:06:22     Monday  \n",
       "28  08:23:21  Wednesday  \n",
       "33  14:42:31     Monday  \n",
       "34  14:49:21     Friday  \n",
       "35  08:56:10     Monday  \n",
       "36  20:19:36  Wednesday  "
      ]
     },
     "execution_count": 53,
     "metadata": {},
     "output_type": "execute_result"
    }
   ],
   "source": [
    "# получение таблицы moscow_general\n",
    "moscow_general = df[df['city'] == 'Moscow']\n",
    "moscow_general.head(20)"
   ]
  },
  {
   "cell_type": "code",
   "execution_count": 54,
   "metadata": {
    "id": "ORaVRKto_Zcu"
   },
   "outputs": [
    {
     "data": {
      "text/html": [
       "<div>\n",
       "<style scoped>\n",
       "    .dataframe tbody tr th:only-of-type {\n",
       "        vertical-align: middle;\n",
       "    }\n",
       "\n",
       "    .dataframe tbody tr th {\n",
       "        vertical-align: top;\n",
       "    }\n",
       "\n",
       "    .dataframe thead th {\n",
       "        text-align: right;\n",
       "    }\n",
       "</style>\n",
       "<table border=\"1\" class=\"dataframe\">\n",
       "  <thead>\n",
       "    <tr style=\"text-align: right;\">\n",
       "      <th></th>\n",
       "      <th>index</th>\n",
       "      <th>user_id</th>\n",
       "      <th>track</th>\n",
       "      <th>artist</th>\n",
       "      <th>genre</th>\n",
       "      <th>city</th>\n",
       "      <th>time</th>\n",
       "      <th>day</th>\n",
       "    </tr>\n",
       "  </thead>\n",
       "  <tbody>\n",
       "    <tr>\n",
       "      <th>0</th>\n",
       "      <td>0</td>\n",
       "      <td>FFB692EC</td>\n",
       "      <td>Kamigata To Boots</td>\n",
       "      <td>The Mass Missile</td>\n",
       "      <td>rock</td>\n",
       "      <td>Saint-Petersburg</td>\n",
       "      <td>20:28:33</td>\n",
       "      <td>Wednesday</td>\n",
       "    </tr>\n",
       "    <tr>\n",
       "      <th>2</th>\n",
       "      <td>2</td>\n",
       "      <td>20EC38</td>\n",
       "      <td>Funiculì funiculà</td>\n",
       "      <td>Mario Lanza</td>\n",
       "      <td>pop</td>\n",
       "      <td>Saint-Petersburg</td>\n",
       "      <td>20:58:07</td>\n",
       "      <td>Wednesday</td>\n",
       "    </tr>\n",
       "    <tr>\n",
       "      <th>3</th>\n",
       "      <td>3</td>\n",
       "      <td>A3DD03C9</td>\n",
       "      <td>Dragons in the Sunset</td>\n",
       "      <td>Fire + Ice</td>\n",
       "      <td>folk</td>\n",
       "      <td>Saint-Petersburg</td>\n",
       "      <td>08:37:09</td>\n",
       "      <td>Monday</td>\n",
       "    </tr>\n",
       "    <tr>\n",
       "      <th>5</th>\n",
       "      <td>5</td>\n",
       "      <td>842029A1</td>\n",
       "      <td>Преданная</td>\n",
       "      <td>IMPERVTOR</td>\n",
       "      <td>rusrap</td>\n",
       "      <td>Saint-Petersburg</td>\n",
       "      <td>13:09:41</td>\n",
       "      <td>Friday</td>\n",
       "    </tr>\n",
       "    <tr>\n",
       "      <th>9</th>\n",
       "      <td>9</td>\n",
       "      <td>E772D5C0</td>\n",
       "      <td>Pessimist</td>\n",
       "      <td>unknown</td>\n",
       "      <td>dance</td>\n",
       "      <td>Saint-Petersburg</td>\n",
       "      <td>21:20:49</td>\n",
       "      <td>Wednesday</td>\n",
       "    </tr>\n",
       "    <tr>\n",
       "      <th>14</th>\n",
       "      <td>14</td>\n",
       "      <td>94EB25C2</td>\n",
       "      <td>Make Love Whenever You Can</td>\n",
       "      <td>Arabesque</td>\n",
       "      <td>pop</td>\n",
       "      <td>Saint-Petersburg</td>\n",
       "      <td>13:22:08</td>\n",
       "      <td>Wednesday</td>\n",
       "    </tr>\n",
       "    <tr>\n",
       "      <th>16</th>\n",
       "      <td>16</td>\n",
       "      <td>81D05C7D</td>\n",
       "      <td>SLAVES OF FEAR</td>\n",
       "      <td>HEALTH</td>\n",
       "      <td>alternative</td>\n",
       "      <td>Saint-Petersburg</td>\n",
       "      <td>20:54:48</td>\n",
       "      <td>Monday</td>\n",
       "    </tr>\n",
       "    <tr>\n",
       "      <th>17</th>\n",
       "      <td>17</td>\n",
       "      <td>39DE290E</td>\n",
       "      <td>Веснянка</td>\n",
       "      <td>Веданъ Колодъ</td>\n",
       "      <td>folk</td>\n",
       "      <td>Saint-Petersburg</td>\n",
       "      <td>14:36:47</td>\n",
       "      <td>Monday</td>\n",
       "    </tr>\n",
       "    <tr>\n",
       "      <th>18</th>\n",
       "      <td>18</td>\n",
       "      <td>58AE138A</td>\n",
       "      <td>Pat-a-Cake</td>\n",
       "      <td>Mother Goose Club</td>\n",
       "      <td>children</td>\n",
       "      <td>Saint-Petersburg</td>\n",
       "      <td>20:04:56</td>\n",
       "      <td>Monday</td>\n",
       "    </tr>\n",
       "    <tr>\n",
       "      <th>22</th>\n",
       "      <td>22</td>\n",
       "      <td>B8E29C9C</td>\n",
       "      <td>Самота</td>\n",
       "      <td>unknown</td>\n",
       "      <td>folk</td>\n",
       "      <td>Saint-Petersburg</td>\n",
       "      <td>20:20:49</td>\n",
       "      <td>Wednesday</td>\n",
       "    </tr>\n",
       "    <tr>\n",
       "      <th>24</th>\n",
       "      <td>24</td>\n",
       "      <td>8BA8855</td>\n",
       "      <td>A Universal Weakness</td>\n",
       "      <td>Lowercase Noises</td>\n",
       "      <td>postrock</td>\n",
       "      <td>Saint-Petersburg</td>\n",
       "      <td>21:17:25</td>\n",
       "      <td>Wednesday</td>\n",
       "    </tr>\n",
       "    <tr>\n",
       "      <th>25</th>\n",
       "      <td>25</td>\n",
       "      <td>A4504035</td>\n",
       "      <td>Cradle in Bethlehem</td>\n",
       "      <td>Nat King Cole</td>\n",
       "      <td>jazz</td>\n",
       "      <td>Saint-Petersburg</td>\n",
       "      <td>09:23:01</td>\n",
       "      <td>Wednesday</td>\n",
       "    </tr>\n",
       "    <tr>\n",
       "      <th>26</th>\n",
       "      <td>26</td>\n",
       "      <td>982219FD</td>\n",
       "      <td>We Not Speak Americano</td>\n",
       "      <td>Genio Band</td>\n",
       "      <td>pop</td>\n",
       "      <td>Saint-Petersburg</td>\n",
       "      <td>20:03:03</td>\n",
       "      <td>Monday</td>\n",
       "    </tr>\n",
       "    <tr>\n",
       "      <th>29</th>\n",
       "      <td>29</td>\n",
       "      <td>5661F63E</td>\n",
       "      <td>Cюита из балета «Семь красавиц»: I. Вальс</td>\n",
       "      <td>Рауф Абдуллаев Азербайджанский государственный...</td>\n",
       "      <td>classical</td>\n",
       "      <td>Saint-Petersburg</td>\n",
       "      <td>08:33:58</td>\n",
       "      <td>Wednesday</td>\n",
       "    </tr>\n",
       "    <tr>\n",
       "      <th>30</th>\n",
       "      <td>30</td>\n",
       "      <td>EBA5A8B2</td>\n",
       "      <td>Päivän Nousu Nostajani</td>\n",
       "      <td>Värttinä</td>\n",
       "      <td>world</td>\n",
       "      <td>Saint-Petersburg</td>\n",
       "      <td>08:00:31</td>\n",
       "      <td>Friday</td>\n",
       "    </tr>\n",
       "    <tr>\n",
       "      <th>31</th>\n",
       "      <td>31</td>\n",
       "      <td>F6A44469</td>\n",
       "      <td>Veritas Universalis</td>\n",
       "      <td>Devathorn</td>\n",
       "      <td>metal</td>\n",
       "      <td>Saint-Petersburg</td>\n",
       "      <td>20:19:42</td>\n",
       "      <td>Friday</td>\n",
       "    </tr>\n",
       "    <tr>\n",
       "      <th>32</th>\n",
       "      <td>32</td>\n",
       "      <td>84AFC19A</td>\n",
       "      <td>Carry On</td>\n",
       "      <td>Young Rising Sons</td>\n",
       "      <td>alternative</td>\n",
       "      <td>Saint-Petersburg</td>\n",
       "      <td>20:24:51</td>\n",
       "      <td>Monday</td>\n",
       "    </tr>\n",
       "    <tr>\n",
       "      <th>38</th>\n",
       "      <td>38</td>\n",
       "      <td>14FBD1E5</td>\n",
       "      <td>Solteras</td>\n",
       "      <td>Beauty Brain</td>\n",
       "      <td>dance</td>\n",
       "      <td>Saint-Petersburg</td>\n",
       "      <td>20:33:11</td>\n",
       "      <td>Friday</td>\n",
       "    </tr>\n",
       "    <tr>\n",
       "      <th>39</th>\n",
       "      <td>39</td>\n",
       "      <td>2CF53316</td>\n",
       "      <td>Прочь от Земли</td>\n",
       "      <td>Космонавты</td>\n",
       "      <td>alternative</td>\n",
       "      <td>Saint-Petersburg</td>\n",
       "      <td>20:29:00</td>\n",
       "      <td>Wednesday</td>\n",
       "    </tr>\n",
       "    <tr>\n",
       "      <th>40</th>\n",
       "      <td>40</td>\n",
       "      <td>77979A66</td>\n",
       "      <td>Верните в моду любовь</td>\n",
       "      <td>Hazard</td>\n",
       "      <td>rusrap</td>\n",
       "      <td>Saint-Petersburg</td>\n",
       "      <td>08:45:43</td>\n",
       "      <td>Monday</td>\n",
       "    </tr>\n",
       "  </tbody>\n",
       "</table>\n",
       "</div>"
      ],
      "text/plain": [
       "    index   user_id                                      track  \\\n",
       "0       0  FFB692EC                          Kamigata To Boots   \n",
       "2       2    20EC38                          Funiculì funiculà   \n",
       "3       3  A3DD03C9                      Dragons in the Sunset   \n",
       "5       5  842029A1                                  Преданная   \n",
       "9       9  E772D5C0                                  Pessimist   \n",
       "14     14  94EB25C2                 Make Love Whenever You Can   \n",
       "16     16  81D05C7D                             SLAVES OF FEAR   \n",
       "17     17  39DE290E                                   Веснянка   \n",
       "18     18  58AE138A                                 Pat-a-Cake   \n",
       "22     22  B8E29C9C                                     Самота   \n",
       "24     24   8BA8855                       A Universal Weakness   \n",
       "25     25  A4504035                        Cradle in Bethlehem   \n",
       "26     26  982219FD                     We Not Speak Americano   \n",
       "29     29  5661F63E  Cюита из балета «Семь красавиц»: I. Вальс   \n",
       "30     30  EBA5A8B2                     Päivän Nousu Nostajani   \n",
       "31     31  F6A44469                        Veritas Universalis   \n",
       "32     32  84AFC19A                                   Carry On   \n",
       "38     38  14FBD1E5                                   Solteras   \n",
       "39     39  2CF53316                             Прочь от Земли   \n",
       "40     40  77979A66                      Верните в моду любовь   \n",
       "\n",
       "                                               artist        genre  \\\n",
       "0                                    The Mass Missile         rock   \n",
       "2                                         Mario Lanza          pop   \n",
       "3                                          Fire + Ice         folk   \n",
       "5                                           IMPERVTOR       rusrap   \n",
       "9                                             unknown        dance   \n",
       "14                                          Arabesque          pop   \n",
       "16                                             HEALTH  alternative   \n",
       "17                                      Веданъ Колодъ         folk   \n",
       "18                                  Mother Goose Club     children   \n",
       "22                                            unknown         folk   \n",
       "24                                   Lowercase Noises     postrock   \n",
       "25                                      Nat King Cole         jazz   \n",
       "26                                         Genio Band          pop   \n",
       "29  Рауф Абдуллаев Азербайджанский государственный...    classical   \n",
       "30                                          Värttinä        world   \n",
       "31                                          Devathorn        metal   \n",
       "32                                  Young Rising Sons  alternative   \n",
       "38                                       Beauty Brain        dance   \n",
       "39                                         Космонавты  alternative   \n",
       "40                                             Hazard       rusrap   \n",
       "\n",
       "                city      time        day  \n",
       "0   Saint-Petersburg  20:28:33  Wednesday  \n",
       "2   Saint-Petersburg  20:58:07  Wednesday  \n",
       "3   Saint-Petersburg  08:37:09     Monday  \n",
       "5   Saint-Petersburg  13:09:41     Friday  \n",
       "9   Saint-Petersburg  21:20:49  Wednesday  \n",
       "14  Saint-Petersburg  13:22:08  Wednesday  \n",
       "16  Saint-Petersburg  20:54:48     Monday  \n",
       "17  Saint-Petersburg  14:36:47     Monday  \n",
       "18  Saint-Petersburg  20:04:56     Monday  \n",
       "22  Saint-Petersburg  20:20:49  Wednesday  \n",
       "24  Saint-Petersburg  21:17:25  Wednesday  \n",
       "25  Saint-Petersburg  09:23:01  Wednesday  \n",
       "26  Saint-Petersburg  20:03:03     Monday  \n",
       "29  Saint-Petersburg  08:33:58  Wednesday  \n",
       "30  Saint-Petersburg  08:00:31     Friday  \n",
       "31  Saint-Petersburg  20:19:42     Friday  \n",
       "32  Saint-Petersburg  20:24:51     Monday  \n",
       "38  Saint-Petersburg  20:33:11     Friday  \n",
       "39  Saint-Petersburg  20:29:00  Wednesday  \n",
       "40  Saint-Petersburg  08:45:43     Monday  "
      ]
     },
     "execution_count": 54,
     "metadata": {},
     "output_type": "execute_result"
    }
   ],
   "source": [
    "# получение таблицы spb_general \n",
    "spb_general = df[df['city'] == 'Saint-Petersburg']\n",
    "spb_general.head(20)"
   ]
  },
  {
   "cell_type": "markdown",
   "metadata": {
    "id": "MEJV-CX2_Zcu"
   },
   "source": [
    "Создадим функцию `genre_weekday()` с четырьмя параметрами:\n",
    "* таблица (датафрейм) с данными,\n",
    "* день недели,\n",
    "* начальная временная метка в формате 'hh:mm', \n",
    "* последняя временная метка в формате 'hh:mm'.\n",
    "\n",
    "Функция вернет информацию о топ-10 жанров тех треков, которые прослушивали в указанный день, в промежутке между двумя отметками времени."
   ]
  },
  {
   "cell_type": "code",
   "execution_count": 43,
   "metadata": {
    "id": "laJT9BYl_Zcu"
   },
   "outputs": [],
   "source": [
    "# Объявление функции genre_weekday() с параметрами table, day, time1, time2,\n",
    "# которая возвращает информацию о самых популярных жанрах в указанный день в\n",
    "# заданное время:\n",
    "def genre_weekday(table, day, time1, time2):\n",
    "    genre_df = table[table['day'] == day]\n",
    "    genre_df = table[table['time'] >= time1]\n",
    "    genre_df = table[table['time'] <= time2]\n",
    "    genre_df_count = genre_df.groupby('genre')['genre'].count()\n",
    "    genre_df_sorted = genre_df_count.sort_values(ascending=False)\n",
    "    \n",
    "    return genre_df_sorted[:10]"
   ]
  },
  {
   "cell_type": "markdown",
   "metadata": {
    "id": "la2s2_PF_Zcu"
   },
   "source": [
    "Cравним результаты функции `genre_weekday()` для Москвы и Санкт-Петербурга в понедельник утром (с 7:00 до 11:00) и в пятницу вечером (с 17:00 до 23:00):"
   ]
  },
  {
   "cell_type": "code",
   "execution_count": 44,
   "metadata": {
    "id": "yz7itPUQ_Zcu"
   },
   "outputs": [
    {
     "data": {
      "text/plain": [
       "genre\n",
       "pop            2015\n",
       "dance          1444\n",
       "rock           1259\n",
       "electronic     1249\n",
       "hiphop          709\n",
       "ruspop          510\n",
       "classical       473\n",
       "world           439\n",
       "alternative     436\n",
       "rusrap          406\n",
       "Name: genre, dtype: int64"
      ]
     },
     "execution_count": 44,
     "metadata": {},
     "output_type": "execute_result"
    }
   ],
   "source": [
    "# вызов функции для утра понедельника в Москве (вместо df — таблица moscow_general)\n",
    "genre_weekday(moscow_general, 'Monday','07:00', '11:00')"
   ]
  },
  {
   "cell_type": "code",
   "execution_count": 45,
   "metadata": {
    "id": "kwUcHPdy_Zcu"
   },
   "outputs": [
    {
     "data": {
      "text/plain": [
       "genre\n",
       "pop            701\n",
       "dance          606\n",
       "rock           520\n",
       "electronic     520\n",
       "hiphop         288\n",
       "rusrap         195\n",
       "alternative    184\n",
       "ruspop         174\n",
       "classical      155\n",
       "world          130\n",
       "Name: genre, dtype: int64"
      ]
     },
     "execution_count": 45,
     "metadata": {},
     "output_type": "execute_result"
    }
   ],
   "source": [
    "# вызов функции для утра понедельника в Петербурге (вместо df — таблица spb_general)\n",
    "genre_weekday(spb_general, 'Monday','07:00', '11:00')"
   ]
  },
  {
   "cell_type": "code",
   "execution_count": 46,
   "metadata": {
    "id": "EzXVRE1o_Zcu"
   },
   "outputs": [
    {
     "data": {
      "text/plain": [
       "genre\n",
       "pop            5892\n",
       "dance          4435\n",
       "rock           3965\n",
       "electronic     3786\n",
       "hiphop         2096\n",
       "classical      1616\n",
       "world          1432\n",
       "alternative    1379\n",
       "ruspop         1372\n",
       "rusrap         1161\n",
       "Name: genre, dtype: int64"
      ]
     },
     "execution_count": 46,
     "metadata": {},
     "output_type": "execute_result"
    }
   ],
   "source": [
    "# вызов функции для вечера пятницы в Москве\n",
    "genre_weekday(moscow_general, 'Friday','17:00', '23:00')"
   ]
  },
  {
   "cell_type": "code",
   "execution_count": 47,
   "metadata": {
    "id": "JZaEKu5v_Zcu"
   },
   "outputs": [
    {
     "data": {
      "text/plain": [
       "genre\n",
       "pop            2431\n",
       "dance          1932\n",
       "rock           1879\n",
       "electronic     1737\n",
       "hiphop          960\n",
       "alternative     649\n",
       "classical       646\n",
       "rusrap          564\n",
       "ruspop          538\n",
       "world           515\n",
       "Name: genre, dtype: int64"
      ]
     },
     "execution_count": 47,
     "metadata": {},
     "output_type": "execute_result"
    }
   ],
   "source": [
    "# вызов функции для вечера пятницы в Петербурге\n",
    "genre_weekday(spb_general, 'Friday','17:00', '23:00')"
   ]
  },
  {
   "cell_type": "markdown",
   "metadata": {
    "id": "wrCe4MNX_Zcu"
   },
   "source": [
    "**Выводы**\n",
    "\n",
    "Если сравнить топ-10 жанров в понедельник утром, можно сделать такиой вывод:\n",
    "\n",
    "В Москве и Петербурге слушают похожую музыку. Единственное отличие — в петербургском рейтинге русский рэп занмимает более высокие позиции, что подтверждает звание Петербурга \"столица рэпа\".\n",
    "\n",
    "Вечер пятницы не меняет эту картину. Некоторые жанры поднимаются немного выше, другие спускаются, но в целом топ-10 остаётся тем же самым.\n",
    "\n",
    "Таким образом, вторая гипотеза подтвердилась:\n",
    "* Пользователи слушают похожую музыку в начале недели и в конце.\n",
    "* Разница между Москвой и Петербургом не слишком выражена, но в Петербурге русский рэп слушают чаще.\n"
   ]
  },
  {
   "cell_type": "markdown",
   "metadata": {
    "id": "JolODAqr_Zcu"
   },
   "source": [
    "### Жанровые предпочтения в Москве и Петербурге\n",
    "\n",
    "Гипотеза: Петербург — столица рэпа, музыку этого жанра там слушают чаще, чем в Москве.  А Москва — город контрастов, в котором, тем не менее, преобладает поп-музыка."
   ]
  },
  {
   "cell_type": "markdown",
   "metadata": {
    "id": "DlegSvaT_Zcu"
   },
   "source": [
    "Сгруппируем таблицу `moscow_general` по жанру и посчитаем прослушивания треков каждого жанра методом `count()`. Затем отсортируем результат в порядке убывания и сохраним его в таблице `moscow_genres`."
   ]
  },
  {
   "cell_type": "code",
   "execution_count": 49,
   "metadata": {
    "id": "r19lIPke_Zcu"
   },
   "outputs": [],
   "source": [
    "# сгруппируем таблицу moscow_genres\n",
    "moscow_genres = moscow_general.groupby('genre')['genre'].count().sort_values(ascending=False)"
   ]
  },
  {
   "cell_type": "code",
   "execution_count": 50,
   "metadata": {
    "id": "WhCSooF8_Zcv"
   },
   "outputs": [
    {
     "data": {
      "text/plain": [
       "genre\n",
       "pop            5892\n",
       "dance          4435\n",
       "rock           3965\n",
       "electronic     3786\n",
       "hiphop         2096\n",
       "classical      1616\n",
       "world          1432\n",
       "alternative    1379\n",
       "ruspop         1372\n",
       "rusrap         1161\n",
       "Name: genre, dtype: int64"
      ]
     },
     "execution_count": 50,
     "metadata": {},
     "output_type": "execute_result"
    }
   ],
   "source": [
    "# просмотр первых 10 строк moscow_genres\n",
    "moscow_genres.head(10)"
   ]
  },
  {
   "cell_type": "markdown",
   "metadata": {
    "id": "cnPG2vnN_Zcv"
   },
   "source": [
    "Теперь повторим то же и для Петербурга."
   ]
  },
  {
   "cell_type": "code",
   "execution_count": 51,
   "metadata": {
    "id": "gluLIpE7_Zcv"
   },
   "outputs": [],
   "source": [
    "spb_genres = spb_general.groupby('genre')['genre'].count().sort_values(ascending=False)"
   ]
  },
  {
   "cell_type": "code",
   "execution_count": 52,
   "metadata": {
    "id": "uaGJHjVU_Zcv"
   },
   "outputs": [
    {
     "data": {
      "text/plain": [
       "genre\n",
       "pop            2431\n",
       "dance          1932\n",
       "rock           1879\n",
       "electronic     1737\n",
       "hiphop          960\n",
       "alternative     649\n",
       "classical       646\n",
       "rusrap          564\n",
       "ruspop          538\n",
       "world           515\n",
       "Name: genre, dtype: int64"
      ]
     },
     "execution_count": 52,
     "metadata": {},
     "output_type": "execute_result"
    }
   ],
   "source": [
    "# просмотр первых 10 строк spb_genres\n",
    "spb_genres.head(10)"
   ]
  },
  {
   "cell_type": "markdown",
   "metadata": {
    "id": "RY51YJYu_Zcv"
   },
   "source": [
    "**Выводы**"
   ]
  },
  {
   "cell_type": "markdown",
   "metadata": {
    "id": "nVhnJEm__Zcv"
   },
   "source": [
    "Гипотеза частично подтвердилась:\n",
    "* Поп-музыка — самый популярный жанр в Москве, как и предполагала гипотеза. Более того, в топ-10 жанров встречается близкий жанр — русская популярная музыка.\n",
    "* Вопреки ожиданиям, рэп одинаково популярен в Москве и Петербурге. \n"
   ]
  },
  {
   "cell_type": "markdown",
   "metadata": {
    "id": "ykKQ0N65_Zcv"
   },
   "source": [
    "## Итоги исследования"
   ]
  },
  {
   "cell_type": "markdown",
   "metadata": {
    "id": "tjUwbHb3_Zcv"
   },
   "source": [
    "Были проверены три гипотезы и установлено:\n",
    "\n",
    "1. День недели по-разному влияет на активность пользователей в Москве и Петербурге. \n",
    "\n",
    "Первая гипотеза полностью подтвердилась.\n",
    "\n",
    "2. Музыкальные предпочтения не сильно меняются в течение недели — будь то Москва или Петербург. Небольшие различия заметны в начале недели, по понедельникам:\n",
    "* в Москве слушают музыку жанра “world”,\n",
    "* в Петербурге — джаз и классику.\n",
    "\n",
    "Таким образом, вторая гипотеза подтвердилась лишь отчасти. Этот результат мог оказаться иным, если бы не пропуски в данных.\n",
    "\n",
    "3. Во вкусах пользователей Москвы и Петербурга больше общего чем различий. Вопреки ожиданиям, предпочтения жанров в Петербурге напоминают московские.\n",
    "\n",
    "Третья гипотеза не подтвердилась. Если различия в предпочтениях и существуют, на основной массе пользователей они незаметны."
   ]
  }
 ],
 "metadata": {
  "ExecuteTimeLog": [
   {
    "duration": 373,
    "start_time": "2022-05-13T19:43:58.955Z"
   },
   {
    "duration": 116,
    "start_time": "2022-05-13T19:43:59.330Z"
   },
   {
    "duration": 0,
    "start_time": "2022-05-13T19:43:59.449Z"
   },
   {
    "duration": 0,
    "start_time": "2022-05-13T19:43:59.450Z"
   },
   {
    "duration": 0,
    "start_time": "2022-05-13T19:43:59.450Z"
   },
   {
    "duration": 0,
    "start_time": "2022-05-13T19:43:59.452Z"
   },
   {
    "duration": 0,
    "start_time": "2022-05-13T19:43:59.452Z"
   },
   {
    "duration": 0,
    "start_time": "2022-05-13T19:43:59.453Z"
   },
   {
    "duration": 0,
    "start_time": "2022-05-13T19:43:59.454Z"
   },
   {
    "duration": 0,
    "start_time": "2022-05-13T19:43:59.455Z"
   },
   {
    "duration": 0,
    "start_time": "2022-05-13T19:43:59.456Z"
   },
   {
    "duration": 0,
    "start_time": "2022-05-13T19:43:59.456Z"
   },
   {
    "duration": 0,
    "start_time": "2022-05-13T19:43:59.457Z"
   },
   {
    "duration": 0,
    "start_time": "2022-05-13T19:43:59.458Z"
   },
   {
    "duration": 0,
    "start_time": "2022-05-13T19:43:59.458Z"
   },
   {
    "duration": 0,
    "start_time": "2022-05-13T19:43:59.460Z"
   },
   {
    "duration": 0,
    "start_time": "2022-05-13T19:43:59.461Z"
   },
   {
    "duration": 0,
    "start_time": "2022-05-13T19:43:59.462Z"
   },
   {
    "duration": 1,
    "start_time": "2022-05-13T19:43:59.462Z"
   },
   {
    "duration": 0,
    "start_time": "2022-05-13T19:43:59.463Z"
   },
   {
    "duration": 0,
    "start_time": "2022-05-13T19:43:59.464Z"
   },
   {
    "duration": 0,
    "start_time": "2022-05-13T19:43:59.465Z"
   },
   {
    "duration": 0,
    "start_time": "2022-05-13T19:43:59.491Z"
   },
   {
    "duration": 0,
    "start_time": "2022-05-13T19:43:59.492Z"
   },
   {
    "duration": 0,
    "start_time": "2022-05-13T19:43:59.493Z"
   },
   {
    "duration": 0,
    "start_time": "2022-05-13T19:43:59.494Z"
   },
   {
    "duration": 0,
    "start_time": "2022-05-13T19:43:59.495Z"
   },
   {
    "duration": 0,
    "start_time": "2022-05-13T19:43:59.496Z"
   },
   {
    "duration": 0,
    "start_time": "2022-05-13T19:43:59.496Z"
   },
   {
    "duration": 0,
    "start_time": "2022-05-13T19:43:59.505Z"
   },
   {
    "duration": 0,
    "start_time": "2022-05-13T19:43:59.506Z"
   },
   {
    "duration": 0,
    "start_time": "2022-05-13T19:43:59.507Z"
   },
   {
    "duration": 0,
    "start_time": "2022-05-13T19:43:59.508Z"
   },
   {
    "duration": 0,
    "start_time": "2022-05-13T19:43:59.509Z"
   },
   {
    "duration": 0,
    "start_time": "2022-05-13T19:43:59.511Z"
   },
   {
    "duration": 0,
    "start_time": "2022-05-13T19:43:59.512Z"
   },
   {
    "duration": 0,
    "start_time": "2022-05-13T19:43:59.513Z"
   },
   {
    "duration": 0,
    "start_time": "2022-05-13T19:43:59.515Z"
   },
   {
    "duration": 711,
    "start_time": "2022-05-16T22:08:25.970Z"
   },
   {
    "duration": 291,
    "start_time": "2022-05-16T22:08:26.686Z"
   },
   {
    "duration": 60,
    "start_time": "2022-05-16T22:08:26.993Z"
   },
   {
    "duration": 54,
    "start_time": "2022-05-16T22:08:27.056Z"
   },
   {
    "duration": 6,
    "start_time": "2022-05-16T22:08:27.113Z"
   },
   {
    "duration": 41,
    "start_time": "2022-05-16T22:08:27.121Z"
   },
   {
    "duration": 10,
    "start_time": "2022-05-16T22:08:27.166Z"
   },
   {
    "duration": 72,
    "start_time": "2022-05-16T22:08:27.179Z"
   },
   {
    "duration": 30,
    "start_time": "2022-05-16T22:08:27.254Z"
   },
   {
    "duration": 35,
    "start_time": "2022-05-16T22:08:27.287Z"
   },
   {
    "duration": 126,
    "start_time": "2022-05-16T22:08:27.344Z"
   },
   {
    "duration": 149,
    "start_time": "2022-05-16T22:08:27.474Z"
   },
   {
    "duration": 135,
    "start_time": "2022-05-16T22:08:27.625Z"
   },
   {
    "duration": 12,
    "start_time": "2022-05-16T22:08:27.763Z"
   },
   {
    "duration": 11,
    "start_time": "2022-05-16T22:08:27.778Z"
   },
   {
    "duration": 36,
    "start_time": "2022-05-16T22:08:27.792Z"
   },
   {
    "duration": 92,
    "start_time": "2022-05-16T22:08:27.830Z"
   },
   {
    "duration": 69,
    "start_time": "2022-05-16T22:08:27.945Z"
   },
   {
    "duration": 86,
    "start_time": "2022-05-16T22:08:28.017Z"
   },
   {
    "duration": 6,
    "start_time": "2022-05-16T22:08:28.105Z"
   },
   {
    "duration": 48,
    "start_time": "2022-05-16T22:08:28.114Z"
   },
   {
    "duration": 30,
    "start_time": "2022-05-16T22:08:28.165Z"
   },
   {
    "duration": 51,
    "start_time": "2022-05-16T22:08:28.198Z"
   },
   {
    "duration": 25,
    "start_time": "2022-05-16T22:08:28.258Z"
   },
   {
    "duration": 23,
    "start_time": "2022-05-16T22:08:28.286Z"
   },
   {
    "duration": 58,
    "start_time": "2022-05-16T22:08:28.311Z"
   },
   {
    "duration": 18,
    "start_time": "2022-05-16T22:08:28.373Z"
   },
   {
    "duration": 34,
    "start_time": "2022-05-16T22:08:28.394Z"
   },
   {
    "duration": 38,
    "start_time": "2022-05-16T22:08:28.431Z"
   },
   {
    "duration": 11,
    "start_time": "2022-05-16T22:08:28.473Z"
   },
   {
    "duration": 87,
    "start_time": "2022-05-16T22:08:28.488Z"
   },
   {
    "duration": 34,
    "start_time": "2022-05-16T22:08:28.577Z"
   },
   {
    "duration": 88,
    "start_time": "2022-05-16T22:08:28.613Z"
   },
   {
    "duration": 54,
    "start_time": "2022-05-16T22:08:28.704Z"
   },
   {
    "duration": 15,
    "start_time": "2022-05-16T22:08:28.761Z"
   },
   {
    "duration": 8,
    "start_time": "2022-05-16T22:08:28.779Z"
   },
   {
    "duration": 23,
    "start_time": "2022-05-16T22:08:28.790Z"
   },
   {
    "duration": 32,
    "start_time": "2022-05-16T22:08:28.816Z"
   }
  ],
  "colab": {
   "collapsed_sections": [
    "E0vqbgi9ay0H",
    "VUC88oWjTJw2"
   ],
   "name": "yandex_music_project_2021.2.ipynb",
   "provenance": []
  },
  "kernelspec": {
   "display_name": "Python 3 (ipykernel)",
   "language": "python",
   "name": "python3"
  },
  "language_info": {
   "codemirror_mode": {
    "name": "ipython",
    "version": 3
   },
   "file_extension": ".py",
   "mimetype": "text/x-python",
   "name": "python",
   "nbconvert_exporter": "python",
   "pygments_lexer": "ipython3",
   "version": "3.9.12"
  },
  "toc": {
   "base_numbering": 1,
   "nav_menu": {},
   "number_sections": true,
   "sideBar": true,
   "skip_h1_title": true,
   "title_cell": "Table of Contents",
   "title_sidebar": "Contents",
   "toc_cell": false,
   "toc_position": {
    "height": "calc(100% - 180px)",
    "left": "10px",
    "top": "150px",
    "width": "192.682px"
   },
   "toc_section_display": true,
   "toc_window_display": true
  }
 },
 "nbformat": 4,
 "nbformat_minor": 1
}
