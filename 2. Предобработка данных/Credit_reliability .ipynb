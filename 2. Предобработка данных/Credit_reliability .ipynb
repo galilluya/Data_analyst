{
 "cells": [
  {
   "cell_type": "markdown",
   "id": "fbb4ab0d",
   "metadata": {},
   "source": [
    "# Исследование надежности заемщиков."
   ]
  },
  {
   "cell_type": "markdown",
   "id": "e03151e7",
   "metadata": {},
   "source": [
    "Заказчик — кредитный отдел банка. Нужно разобраться, влияет ли семейное положение и количество детей клиента на факт погашения кредита в срок. Входные данные от банка — статистика о платёжеспособности клиентов.\n",
    "\n",
    "Результаты исследования будут учтены при построении модели кредитного скоринга — специальной системы, которая оценивает способность потенциального заёмщика вернуть кредит банку."
   ]
  },
  {
   "cell_type": "markdown",
   "id": "2c830b10",
   "metadata": {},
   "source": [
    "**Описание данных:**\n",
    "- children — количество детей в семье\n",
    "- days_employed — общий трудовой стаж в днях\n",
    "- dob_years — возраст клиента в годах\n",
    "- education — уровень образования клиента\n",
    "- education_id — идентификатор уровня образования\n",
    "- family_status — семейное положение\n",
    "- family_status_id — идентификатор семейного положения\n",
    "- gender — пол клиента\n",
    "- income_type — тип занятости\n",
    "- debt — имел ли задолженность по возврату кредитов\n",
    "- total_income — ежемесячный доход\n",
    "- purpose — цель получения кредита"
   ]
  },
  {
   "cell_type": "markdown",
   "id": "e96f4e07",
   "metadata": {},
   "source": [
    "## Шаг 1. Обзор данных"
   ]
  },
  {
   "cell_type": "code",
   "execution_count": 1,
   "id": "bb33d7a3",
   "metadata": {},
   "outputs": [],
   "source": [
    "#импорт библиотеки Pandas\n",
    "import pandas as pd\n",
    "import numpy as np"
   ]
  },
  {
   "cell_type": "code",
   "execution_count": 2,
   "id": "e9ef22f8",
   "metadata": {},
   "outputs": [],
   "source": [
    "#чтение файла с данными\n",
    "import os\n",
    "pth1 = '/datasets/data.csv'\n",
    "pth2 = 'E:\\Файлы Галя\\Yandex_practicum\\Datasets\\data.csv'\n",
    "if os.path.exists(pth1):\n",
    "    df = pd.read_csv(pth1)\n",
    "elif os.path.exists(pth2):\n",
    "    df = pd.read_csv(pth2)\n",
    "else:\n",
    "    print(\"Проверьте правильность пути к датасету\")"
   ]
  },
  {
   "cell_type": "markdown",
   "id": "9efb095a",
   "metadata": {},
   "source": [
    "Выведем первые 10 строк таблицы, чтобы частично ознакомиться с данными и наглядно представлять, с какими данными имеем дело"
   ]
  },
  {
   "cell_type": "code",
   "execution_count": 3,
   "id": "4b447306",
   "metadata": {
    "scrolled": false
   },
   "outputs": [
    {
     "data": {
      "text/html": [
       "<div>\n",
       "<style scoped>\n",
       "    .dataframe tbody tr th:only-of-type {\n",
       "        vertical-align: middle;\n",
       "    }\n",
       "\n",
       "    .dataframe tbody tr th {\n",
       "        vertical-align: top;\n",
       "    }\n",
       "\n",
       "    .dataframe thead th {\n",
       "        text-align: right;\n",
       "    }\n",
       "</style>\n",
       "<table border=\"1\" class=\"dataframe\">\n",
       "  <thead>\n",
       "    <tr style=\"text-align: right;\">\n",
       "      <th></th>\n",
       "      <th>children</th>\n",
       "      <th>days_employed</th>\n",
       "      <th>dob_years</th>\n",
       "      <th>education</th>\n",
       "      <th>education_id</th>\n",
       "      <th>family_status</th>\n",
       "      <th>family_status_id</th>\n",
       "      <th>gender</th>\n",
       "      <th>income_type</th>\n",
       "      <th>debt</th>\n",
       "      <th>total_income</th>\n",
       "      <th>purpose</th>\n",
       "    </tr>\n",
       "  </thead>\n",
       "  <tbody>\n",
       "    <tr>\n",
       "      <th>0</th>\n",
       "      <td>1</td>\n",
       "      <td>-8437.673028</td>\n",
       "      <td>42</td>\n",
       "      <td>высшее</td>\n",
       "      <td>0</td>\n",
       "      <td>женат / замужем</td>\n",
       "      <td>0</td>\n",
       "      <td>F</td>\n",
       "      <td>сотрудник</td>\n",
       "      <td>0</td>\n",
       "      <td>253875.639453</td>\n",
       "      <td>покупка жилья</td>\n",
       "    </tr>\n",
       "    <tr>\n",
       "      <th>1</th>\n",
       "      <td>1</td>\n",
       "      <td>-4024.803754</td>\n",
       "      <td>36</td>\n",
       "      <td>среднее</td>\n",
       "      <td>1</td>\n",
       "      <td>женат / замужем</td>\n",
       "      <td>0</td>\n",
       "      <td>F</td>\n",
       "      <td>сотрудник</td>\n",
       "      <td>0</td>\n",
       "      <td>112080.014102</td>\n",
       "      <td>приобретение автомобиля</td>\n",
       "    </tr>\n",
       "    <tr>\n",
       "      <th>2</th>\n",
       "      <td>0</td>\n",
       "      <td>-5623.422610</td>\n",
       "      <td>33</td>\n",
       "      <td>Среднее</td>\n",
       "      <td>1</td>\n",
       "      <td>женат / замужем</td>\n",
       "      <td>0</td>\n",
       "      <td>M</td>\n",
       "      <td>сотрудник</td>\n",
       "      <td>0</td>\n",
       "      <td>145885.952297</td>\n",
       "      <td>покупка жилья</td>\n",
       "    </tr>\n",
       "    <tr>\n",
       "      <th>3</th>\n",
       "      <td>3</td>\n",
       "      <td>-4124.747207</td>\n",
       "      <td>32</td>\n",
       "      <td>среднее</td>\n",
       "      <td>1</td>\n",
       "      <td>женат / замужем</td>\n",
       "      <td>0</td>\n",
       "      <td>M</td>\n",
       "      <td>сотрудник</td>\n",
       "      <td>0</td>\n",
       "      <td>267628.550329</td>\n",
       "      <td>дополнительное образование</td>\n",
       "    </tr>\n",
       "    <tr>\n",
       "      <th>4</th>\n",
       "      <td>0</td>\n",
       "      <td>340266.072047</td>\n",
       "      <td>53</td>\n",
       "      <td>среднее</td>\n",
       "      <td>1</td>\n",
       "      <td>гражданский брак</td>\n",
       "      <td>1</td>\n",
       "      <td>F</td>\n",
       "      <td>пенсионер</td>\n",
       "      <td>0</td>\n",
       "      <td>158616.077870</td>\n",
       "      <td>сыграть свадьбу</td>\n",
       "    </tr>\n",
       "    <tr>\n",
       "      <th>5</th>\n",
       "      <td>0</td>\n",
       "      <td>-926.185831</td>\n",
       "      <td>27</td>\n",
       "      <td>высшее</td>\n",
       "      <td>0</td>\n",
       "      <td>гражданский брак</td>\n",
       "      <td>1</td>\n",
       "      <td>M</td>\n",
       "      <td>компаньон</td>\n",
       "      <td>0</td>\n",
       "      <td>255763.565419</td>\n",
       "      <td>покупка жилья</td>\n",
       "    </tr>\n",
       "    <tr>\n",
       "      <th>6</th>\n",
       "      <td>0</td>\n",
       "      <td>-2879.202052</td>\n",
       "      <td>43</td>\n",
       "      <td>высшее</td>\n",
       "      <td>0</td>\n",
       "      <td>женат / замужем</td>\n",
       "      <td>0</td>\n",
       "      <td>F</td>\n",
       "      <td>компаньон</td>\n",
       "      <td>0</td>\n",
       "      <td>240525.971920</td>\n",
       "      <td>операции с жильем</td>\n",
       "    </tr>\n",
       "    <tr>\n",
       "      <th>7</th>\n",
       "      <td>0</td>\n",
       "      <td>-152.779569</td>\n",
       "      <td>50</td>\n",
       "      <td>СРЕДНЕЕ</td>\n",
       "      <td>1</td>\n",
       "      <td>женат / замужем</td>\n",
       "      <td>0</td>\n",
       "      <td>M</td>\n",
       "      <td>сотрудник</td>\n",
       "      <td>0</td>\n",
       "      <td>135823.934197</td>\n",
       "      <td>образование</td>\n",
       "    </tr>\n",
       "    <tr>\n",
       "      <th>8</th>\n",
       "      <td>2</td>\n",
       "      <td>-6929.865299</td>\n",
       "      <td>35</td>\n",
       "      <td>ВЫСШЕЕ</td>\n",
       "      <td>0</td>\n",
       "      <td>гражданский брак</td>\n",
       "      <td>1</td>\n",
       "      <td>F</td>\n",
       "      <td>сотрудник</td>\n",
       "      <td>0</td>\n",
       "      <td>95856.832424</td>\n",
       "      <td>на проведение свадьбы</td>\n",
       "    </tr>\n",
       "    <tr>\n",
       "      <th>9</th>\n",
       "      <td>0</td>\n",
       "      <td>-2188.756445</td>\n",
       "      <td>41</td>\n",
       "      <td>среднее</td>\n",
       "      <td>1</td>\n",
       "      <td>женат / замужем</td>\n",
       "      <td>0</td>\n",
       "      <td>M</td>\n",
       "      <td>сотрудник</td>\n",
       "      <td>0</td>\n",
       "      <td>144425.938277</td>\n",
       "      <td>покупка жилья для семьи</td>\n",
       "    </tr>\n",
       "  </tbody>\n",
       "</table>\n",
       "</div>"
      ],
      "text/plain": [
       "   children  days_employed  dob_years education  education_id  \\\n",
       "0         1   -8437.673028         42    высшее             0   \n",
       "1         1   -4024.803754         36   среднее             1   \n",
       "2         0   -5623.422610         33   Среднее             1   \n",
       "3         3   -4124.747207         32   среднее             1   \n",
       "4         0  340266.072047         53   среднее             1   \n",
       "5         0    -926.185831         27    высшее             0   \n",
       "6         0   -2879.202052         43    высшее             0   \n",
       "7         0    -152.779569         50   СРЕДНЕЕ             1   \n",
       "8         2   -6929.865299         35    ВЫСШЕЕ             0   \n",
       "9         0   -2188.756445         41   среднее             1   \n",
       "\n",
       "      family_status  family_status_id gender income_type  debt   total_income  \\\n",
       "0   женат / замужем                 0      F   сотрудник     0  253875.639453   \n",
       "1   женат / замужем                 0      F   сотрудник     0  112080.014102   \n",
       "2   женат / замужем                 0      M   сотрудник     0  145885.952297   \n",
       "3   женат / замужем                 0      M   сотрудник     0  267628.550329   \n",
       "4  гражданский брак                 1      F   пенсионер     0  158616.077870   \n",
       "5  гражданский брак                 1      M   компаньон     0  255763.565419   \n",
       "6   женат / замужем                 0      F   компаньон     0  240525.971920   \n",
       "7   женат / замужем                 0      M   сотрудник     0  135823.934197   \n",
       "8  гражданский брак                 1      F   сотрудник     0   95856.832424   \n",
       "9   женат / замужем                 0      M   сотрудник     0  144425.938277   \n",
       "\n",
       "                      purpose  \n",
       "0               покупка жилья  \n",
       "1     приобретение автомобиля  \n",
       "2               покупка жилья  \n",
       "3  дополнительное образование  \n",
       "4             сыграть свадьбу  \n",
       "5               покупка жилья  \n",
       "6           операции с жильем  \n",
       "7                 образование  \n",
       "8       на проведение свадьбы  \n",
       "9     покупка жилья для семьи  "
      ]
     },
     "execution_count": 3,
     "metadata": {},
     "output_type": "execute_result"
    }
   ],
   "source": [
    "df.head(10)"
   ]
  },
  {
   "cell_type": "markdown",
   "id": "be9a40cb",
   "metadata": {},
   "source": [
    "На первый взгляд все понятно, но сразу видим, что в столбце **days_employed** странные отрицательные значения, а в столбце **education** видим наличие дубликатов, но с этим разберемся позже."
   ]
  },
  {
   "cell_type": "markdown",
   "id": "3b4b8f73",
   "metadata": {},
   "source": [
    "Выведем общую информацию о таблице с данными:"
   ]
  },
  {
   "cell_type": "code",
   "execution_count": 4,
   "id": "ece3d2a1",
   "metadata": {},
   "outputs": [
    {
     "name": "stdout",
     "output_type": "stream",
     "text": [
      "<class 'pandas.core.frame.DataFrame'>\n",
      "RangeIndex: 21525 entries, 0 to 21524\n",
      "Data columns (total 12 columns):\n",
      " #   Column            Non-Null Count  Dtype  \n",
      "---  ------            --------------  -----  \n",
      " 0   children          21525 non-null  int64  \n",
      " 1   days_employed     19351 non-null  float64\n",
      " 2   dob_years         21525 non-null  int64  \n",
      " 3   education         21525 non-null  object \n",
      " 4   education_id      21525 non-null  int64  \n",
      " 5   family_status     21525 non-null  object \n",
      " 6   family_status_id  21525 non-null  int64  \n",
      " 7   gender            21525 non-null  object \n",
      " 8   income_type       21525 non-null  object \n",
      " 9   debt              21525 non-null  int64  \n",
      " 10  total_income      19351 non-null  float64\n",
      " 11  purpose           21525 non-null  object \n",
      "dtypes: float64(2), int64(5), object(5)\n",
      "memory usage: 2.0+ MB\n"
     ]
    }
   ],
   "source": [
    "df.info()"
   ]
  },
  {
   "cell_type": "markdown",
   "id": "2c37e7e9",
   "metadata": {},
   "source": [
    "Из полученной информации видно, что имеются пропуски в столбцах **days_employed** и **total_income**, при этом они имеют одинаковое кол-во non-null, здесь скорее всего есть взаимосвязь. Возможно, это те, у кого еще нет стажа работы, и они еще не зарабатывают.\n",
    "\n",
    "Все названия столбцов в нормальном формате, значит, их обрабатывать не нужно. "
   ]
  },
  {
   "cell_type": "markdown",
   "id": "ec94b473",
   "metadata": {},
   "source": [
    "Проверим количество пропусков в столбцах **days_employed** и **total_income**:"
   ]
  },
  {
   "cell_type": "code",
   "execution_count": 5,
   "id": "f35d6eff",
   "metadata": {},
   "outputs": [
    {
     "name": "stdout",
     "output_type": "stream",
     "text": [
      "2174\n",
      "2174\n"
     ]
    }
   ],
   "source": [
    "print(df['total_income'].isna().sum())\n",
    "print(df['days_employed'].isna().sum())"
   ]
  },
  {
   "cell_type": "markdown",
   "id": "0d88c305",
   "metadata": {},
   "source": [
    "Nan - в обоих стобцах (days_employed, total_income) по 2174 значения"
   ]
  },
  {
   "cell_type": "markdown",
   "id": "af28debc",
   "metadata": {},
   "source": [
    "Найдем все строки с пропусками в столбце **total_income** и посмотрим первые пятнадцать, чтобы определить, есть ли зависимость пропущенных значений столбца **days_employed** с пропущенными значениями стобца **total_income**:"
   ]
  },
  {
   "cell_type": "code",
   "execution_count": 6,
   "id": "6ab65f65",
   "metadata": {},
   "outputs": [
    {
     "data": {
      "text/html": [
       "<div>\n",
       "<style scoped>\n",
       "    .dataframe tbody tr th:only-of-type {\n",
       "        vertical-align: middle;\n",
       "    }\n",
       "\n",
       "    .dataframe tbody tr th {\n",
       "        vertical-align: top;\n",
       "    }\n",
       "\n",
       "    .dataframe thead th {\n",
       "        text-align: right;\n",
       "    }\n",
       "</style>\n",
       "<table border=\"1\" class=\"dataframe\">\n",
       "  <thead>\n",
       "    <tr style=\"text-align: right;\">\n",
       "      <th></th>\n",
       "      <th>children</th>\n",
       "      <th>days_employed</th>\n",
       "      <th>dob_years</th>\n",
       "      <th>education</th>\n",
       "      <th>education_id</th>\n",
       "      <th>family_status</th>\n",
       "      <th>family_status_id</th>\n",
       "      <th>gender</th>\n",
       "      <th>income_type</th>\n",
       "      <th>debt</th>\n",
       "      <th>total_income</th>\n",
       "      <th>purpose</th>\n",
       "    </tr>\n",
       "  </thead>\n",
       "  <tbody>\n",
       "    <tr>\n",
       "      <th>12</th>\n",
       "      <td>0</td>\n",
       "      <td>NaN</td>\n",
       "      <td>65</td>\n",
       "      <td>среднее</td>\n",
       "      <td>1</td>\n",
       "      <td>гражданский брак</td>\n",
       "      <td>1</td>\n",
       "      <td>M</td>\n",
       "      <td>пенсионер</td>\n",
       "      <td>0</td>\n",
       "      <td>NaN</td>\n",
       "      <td>сыграть свадьбу</td>\n",
       "    </tr>\n",
       "    <tr>\n",
       "      <th>26</th>\n",
       "      <td>0</td>\n",
       "      <td>NaN</td>\n",
       "      <td>41</td>\n",
       "      <td>среднее</td>\n",
       "      <td>1</td>\n",
       "      <td>женат / замужем</td>\n",
       "      <td>0</td>\n",
       "      <td>M</td>\n",
       "      <td>госслужащий</td>\n",
       "      <td>0</td>\n",
       "      <td>NaN</td>\n",
       "      <td>образование</td>\n",
       "    </tr>\n",
       "    <tr>\n",
       "      <th>29</th>\n",
       "      <td>0</td>\n",
       "      <td>NaN</td>\n",
       "      <td>63</td>\n",
       "      <td>среднее</td>\n",
       "      <td>1</td>\n",
       "      <td>Не женат / не замужем</td>\n",
       "      <td>4</td>\n",
       "      <td>F</td>\n",
       "      <td>пенсионер</td>\n",
       "      <td>0</td>\n",
       "      <td>NaN</td>\n",
       "      <td>строительство жилой недвижимости</td>\n",
       "    </tr>\n",
       "    <tr>\n",
       "      <th>41</th>\n",
       "      <td>0</td>\n",
       "      <td>NaN</td>\n",
       "      <td>50</td>\n",
       "      <td>среднее</td>\n",
       "      <td>1</td>\n",
       "      <td>женат / замужем</td>\n",
       "      <td>0</td>\n",
       "      <td>F</td>\n",
       "      <td>госслужащий</td>\n",
       "      <td>0</td>\n",
       "      <td>NaN</td>\n",
       "      <td>сделка с подержанным автомобилем</td>\n",
       "    </tr>\n",
       "    <tr>\n",
       "      <th>55</th>\n",
       "      <td>0</td>\n",
       "      <td>NaN</td>\n",
       "      <td>54</td>\n",
       "      <td>среднее</td>\n",
       "      <td>1</td>\n",
       "      <td>гражданский брак</td>\n",
       "      <td>1</td>\n",
       "      <td>F</td>\n",
       "      <td>пенсионер</td>\n",
       "      <td>1</td>\n",
       "      <td>NaN</td>\n",
       "      <td>сыграть свадьбу</td>\n",
       "    </tr>\n",
       "    <tr>\n",
       "      <th>65</th>\n",
       "      <td>0</td>\n",
       "      <td>NaN</td>\n",
       "      <td>21</td>\n",
       "      <td>среднее</td>\n",
       "      <td>1</td>\n",
       "      <td>Не женат / не замужем</td>\n",
       "      <td>4</td>\n",
       "      <td>M</td>\n",
       "      <td>компаньон</td>\n",
       "      <td>0</td>\n",
       "      <td>NaN</td>\n",
       "      <td>операции с коммерческой недвижимостью</td>\n",
       "    </tr>\n",
       "    <tr>\n",
       "      <th>67</th>\n",
       "      <td>0</td>\n",
       "      <td>NaN</td>\n",
       "      <td>52</td>\n",
       "      <td>высшее</td>\n",
       "      <td>0</td>\n",
       "      <td>женат / замужем</td>\n",
       "      <td>0</td>\n",
       "      <td>F</td>\n",
       "      <td>пенсионер</td>\n",
       "      <td>0</td>\n",
       "      <td>NaN</td>\n",
       "      <td>покупка жилья для семьи</td>\n",
       "    </tr>\n",
       "    <tr>\n",
       "      <th>72</th>\n",
       "      <td>1</td>\n",
       "      <td>NaN</td>\n",
       "      <td>32</td>\n",
       "      <td>высшее</td>\n",
       "      <td>0</td>\n",
       "      <td>женат / замужем</td>\n",
       "      <td>0</td>\n",
       "      <td>M</td>\n",
       "      <td>госслужащий</td>\n",
       "      <td>0</td>\n",
       "      <td>NaN</td>\n",
       "      <td>операции с коммерческой недвижимостью</td>\n",
       "    </tr>\n",
       "    <tr>\n",
       "      <th>82</th>\n",
       "      <td>2</td>\n",
       "      <td>NaN</td>\n",
       "      <td>50</td>\n",
       "      <td>высшее</td>\n",
       "      <td>0</td>\n",
       "      <td>женат / замужем</td>\n",
       "      <td>0</td>\n",
       "      <td>F</td>\n",
       "      <td>сотрудник</td>\n",
       "      <td>0</td>\n",
       "      <td>NaN</td>\n",
       "      <td>жилье</td>\n",
       "    </tr>\n",
       "    <tr>\n",
       "      <th>83</th>\n",
       "      <td>0</td>\n",
       "      <td>NaN</td>\n",
       "      <td>52</td>\n",
       "      <td>среднее</td>\n",
       "      <td>1</td>\n",
       "      <td>женат / замужем</td>\n",
       "      <td>0</td>\n",
       "      <td>M</td>\n",
       "      <td>сотрудник</td>\n",
       "      <td>0</td>\n",
       "      <td>NaN</td>\n",
       "      <td>жилье</td>\n",
       "    </tr>\n",
       "  </tbody>\n",
       "</table>\n",
       "</div>"
      ],
      "text/plain": [
       "    children  days_employed  dob_years education  education_id  \\\n",
       "12         0            NaN         65   среднее             1   \n",
       "26         0            NaN         41   среднее             1   \n",
       "29         0            NaN         63   среднее             1   \n",
       "41         0            NaN         50   среднее             1   \n",
       "55         0            NaN         54   среднее             1   \n",
       "65         0            NaN         21   среднее             1   \n",
       "67         0            NaN         52    высшее             0   \n",
       "72         1            NaN         32    высшее             0   \n",
       "82         2            NaN         50    высшее             0   \n",
       "83         0            NaN         52   среднее             1   \n",
       "\n",
       "            family_status  family_status_id gender  income_type  debt  \\\n",
       "12       гражданский брак                 1      M    пенсионер     0   \n",
       "26        женат / замужем                 0      M  госслужащий     0   \n",
       "29  Не женат / не замужем                 4      F    пенсионер     0   \n",
       "41        женат / замужем                 0      F  госслужащий     0   \n",
       "55       гражданский брак                 1      F    пенсионер     1   \n",
       "65  Не женат / не замужем                 4      M    компаньон     0   \n",
       "67        женат / замужем                 0      F    пенсионер     0   \n",
       "72        женат / замужем                 0      M  госслужащий     0   \n",
       "82        женат / замужем                 0      F    сотрудник     0   \n",
       "83        женат / замужем                 0      M    сотрудник     0   \n",
       "\n",
       "    total_income                                purpose  \n",
       "12           NaN                        сыграть свадьбу  \n",
       "26           NaN                            образование  \n",
       "29           NaN       строительство жилой недвижимости  \n",
       "41           NaN       сделка с подержанным автомобилем  \n",
       "55           NaN                        сыграть свадьбу  \n",
       "65           NaN  операции с коммерческой недвижимостью  \n",
       "67           NaN                покупка жилья для семьи  \n",
       "72           NaN  операции с коммерческой недвижимостью  \n",
       "82           NaN                                  жилье  \n",
       "83           NaN                                  жилье  "
      ]
     },
     "execution_count": 6,
     "metadata": {},
     "output_type": "execute_result"
    }
   ],
   "source": [
    "df[df['total_income'].isna()].head(10)"
   ]
  },
  {
   "cell_type": "markdown",
   "id": "6a84ff54",
   "metadata": {},
   "source": [
    "Из представленных данных видно, что во всех строках, где пропущены значения в **days_employed**, так же пропущены значения в **total_income**, что указывает на связь данных в этих столбцах"
   ]
  },
  {
   "cell_type": "markdown",
   "id": "68b113d1",
   "metadata": {},
   "source": [
    "## Шаг 2. Проверка данных на аномалии и исправления."
   ]
  },
  {
   "cell_type": "markdown",
   "id": "d693834d",
   "metadata": {},
   "source": [
    "Проверим  и исправим данные в каждом столбце отдельно"
   ]
  },
  {
   "cell_type": "markdown",
   "id": "e0bb7c8e",
   "metadata": {},
   "source": [
    "### 1. Столбец *children*"
   ]
  },
  {
   "cell_type": "markdown",
   "id": "51d688ac",
   "metadata": {},
   "source": [
    "Узнаем количество уникальных значений в столбце **children**:"
   ]
  },
  {
   "cell_type": "code",
   "execution_count": 7,
   "id": "467c4dba",
   "metadata": {},
   "outputs": [
    {
     "data": {
      "text/plain": [
       " 0     14149\n",
       " 1      4818\n",
       " 2      2055\n",
       " 3       330\n",
       " 20       76\n",
       "-1        47\n",
       " 4        41\n",
       " 5         9\n",
       "Name: children, dtype: int64"
      ]
     },
     "execution_count": 7,
     "metadata": {},
     "output_type": "execute_result"
    }
   ],
   "source": [
    "df['children'].value_counts()"
   ]
  },
  {
   "cell_type": "markdown",
   "id": "8ce33bd5",
   "metadata": {},
   "source": [
    "Больше всего бездетных, затем люди, имеющие 1 и 2 ребенка. Выбивающиеся значения \"20\" и \"-1\" - очень странно, что таких значений достаточное клоличество, если бы это были бы просто опечатки, то вряд-ли бы их было больше пары штук, а здесь 76 и 47 соответственно. Нужно проверить в каких строках они встречаются, и если на результат не будут оказывать влияния, то можно их удалить (их незначительное количество - 123 из 21525 - меньше 0,6%)"
   ]
  },
  {
   "cell_type": "markdown",
   "id": "1a996e92",
   "metadata": {},
   "source": [
    "### Удаление строк с аномальными значениями"
   ]
  },
  {
   "cell_type": "markdown",
   "id": "9fa3af6f",
   "metadata": {},
   "source": [
    "Посмотрим, что в строках со значением \"-1\""
   ]
  },
  {
   "cell_type": "code",
   "execution_count": 8,
   "id": "56d0bf2e",
   "metadata": {},
   "outputs": [
    {
     "data": {
      "text/html": [
       "<div>\n",
       "<style scoped>\n",
       "    .dataframe tbody tr th:only-of-type {\n",
       "        vertical-align: middle;\n",
       "    }\n",
       "\n",
       "    .dataframe tbody tr th {\n",
       "        vertical-align: top;\n",
       "    }\n",
       "\n",
       "    .dataframe thead th {\n",
       "        text-align: right;\n",
       "    }\n",
       "</style>\n",
       "<table border=\"1\" class=\"dataframe\">\n",
       "  <thead>\n",
       "    <tr style=\"text-align: right;\">\n",
       "      <th></th>\n",
       "      <th>children</th>\n",
       "      <th>days_employed</th>\n",
       "      <th>dob_years</th>\n",
       "      <th>education</th>\n",
       "      <th>education_id</th>\n",
       "      <th>family_status</th>\n",
       "      <th>family_status_id</th>\n",
       "      <th>gender</th>\n",
       "      <th>income_type</th>\n",
       "      <th>debt</th>\n",
       "      <th>total_income</th>\n",
       "      <th>purpose</th>\n",
       "    </tr>\n",
       "  </thead>\n",
       "  <tbody>\n",
       "    <tr>\n",
       "      <th>291</th>\n",
       "      <td>-1</td>\n",
       "      <td>-4417.703588</td>\n",
       "      <td>46</td>\n",
       "      <td>среднее</td>\n",
       "      <td>1</td>\n",
       "      <td>гражданский брак</td>\n",
       "      <td>1</td>\n",
       "      <td>F</td>\n",
       "      <td>сотрудник</td>\n",
       "      <td>0</td>\n",
       "      <td>102816.346412</td>\n",
       "      <td>профильное образование</td>\n",
       "    </tr>\n",
       "    <tr>\n",
       "      <th>705</th>\n",
       "      <td>-1</td>\n",
       "      <td>-902.084528</td>\n",
       "      <td>50</td>\n",
       "      <td>среднее</td>\n",
       "      <td>1</td>\n",
       "      <td>женат / замужем</td>\n",
       "      <td>0</td>\n",
       "      <td>F</td>\n",
       "      <td>госслужащий</td>\n",
       "      <td>0</td>\n",
       "      <td>137882.899271</td>\n",
       "      <td>приобретение автомобиля</td>\n",
       "    </tr>\n",
       "    <tr>\n",
       "      <th>742</th>\n",
       "      <td>-1</td>\n",
       "      <td>-3174.456205</td>\n",
       "      <td>57</td>\n",
       "      <td>среднее</td>\n",
       "      <td>1</td>\n",
       "      <td>женат / замужем</td>\n",
       "      <td>0</td>\n",
       "      <td>F</td>\n",
       "      <td>сотрудник</td>\n",
       "      <td>0</td>\n",
       "      <td>64268.044444</td>\n",
       "      <td>дополнительное образование</td>\n",
       "    </tr>\n",
       "    <tr>\n",
       "      <th>800</th>\n",
       "      <td>-1</td>\n",
       "      <td>349987.852217</td>\n",
       "      <td>54</td>\n",
       "      <td>среднее</td>\n",
       "      <td>1</td>\n",
       "      <td>Не женат / не замужем</td>\n",
       "      <td>4</td>\n",
       "      <td>F</td>\n",
       "      <td>пенсионер</td>\n",
       "      <td>0</td>\n",
       "      <td>86293.724153</td>\n",
       "      <td>дополнительное образование</td>\n",
       "    </tr>\n",
       "    <tr>\n",
       "      <th>941</th>\n",
       "      <td>-1</td>\n",
       "      <td>NaN</td>\n",
       "      <td>57</td>\n",
       "      <td>Среднее</td>\n",
       "      <td>1</td>\n",
       "      <td>женат / замужем</td>\n",
       "      <td>0</td>\n",
       "      <td>F</td>\n",
       "      <td>пенсионер</td>\n",
       "      <td>0</td>\n",
       "      <td>NaN</td>\n",
       "      <td>на покупку своего автомобиля</td>\n",
       "    </tr>\n",
       "    <tr>\n",
       "      <th>1363</th>\n",
       "      <td>-1</td>\n",
       "      <td>-1195.264956</td>\n",
       "      <td>55</td>\n",
       "      <td>СРЕДНЕЕ</td>\n",
       "      <td>1</td>\n",
       "      <td>женат / замужем</td>\n",
       "      <td>0</td>\n",
       "      <td>F</td>\n",
       "      <td>компаньон</td>\n",
       "      <td>0</td>\n",
       "      <td>69550.699692</td>\n",
       "      <td>профильное образование</td>\n",
       "    </tr>\n",
       "    <tr>\n",
       "      <th>1929</th>\n",
       "      <td>-1</td>\n",
       "      <td>-1461.303336</td>\n",
       "      <td>38</td>\n",
       "      <td>среднее</td>\n",
       "      <td>1</td>\n",
       "      <td>Не женат / не замужем</td>\n",
       "      <td>4</td>\n",
       "      <td>M</td>\n",
       "      <td>сотрудник</td>\n",
       "      <td>0</td>\n",
       "      <td>109121.569013</td>\n",
       "      <td>покупка жилья</td>\n",
       "    </tr>\n",
       "    <tr>\n",
       "      <th>2073</th>\n",
       "      <td>-1</td>\n",
       "      <td>-2539.761232</td>\n",
       "      <td>42</td>\n",
       "      <td>среднее</td>\n",
       "      <td>1</td>\n",
       "      <td>в разводе</td>\n",
       "      <td>3</td>\n",
       "      <td>F</td>\n",
       "      <td>компаньон</td>\n",
       "      <td>0</td>\n",
       "      <td>162638.609373</td>\n",
       "      <td>покупка жилья</td>\n",
       "    </tr>\n",
       "    <tr>\n",
       "      <th>3814</th>\n",
       "      <td>-1</td>\n",
       "      <td>-3045.290443</td>\n",
       "      <td>26</td>\n",
       "      <td>Среднее</td>\n",
       "      <td>1</td>\n",
       "      <td>гражданский брак</td>\n",
       "      <td>1</td>\n",
       "      <td>F</td>\n",
       "      <td>госслужащий</td>\n",
       "      <td>0</td>\n",
       "      <td>131892.785435</td>\n",
       "      <td>на проведение свадьбы</td>\n",
       "    </tr>\n",
       "    <tr>\n",
       "      <th>4201</th>\n",
       "      <td>-1</td>\n",
       "      <td>-901.101738</td>\n",
       "      <td>41</td>\n",
       "      <td>среднее</td>\n",
       "      <td>1</td>\n",
       "      <td>женат / замужем</td>\n",
       "      <td>0</td>\n",
       "      <td>F</td>\n",
       "      <td>госслужащий</td>\n",
       "      <td>0</td>\n",
       "      <td>226375.766751</td>\n",
       "      <td>операции со своей недвижимостью</td>\n",
       "    </tr>\n",
       "  </tbody>\n",
       "</table>\n",
       "</div>"
      ],
      "text/plain": [
       "      children  days_employed  dob_years education  education_id  \\\n",
       "291         -1   -4417.703588         46   среднее             1   \n",
       "705         -1    -902.084528         50   среднее             1   \n",
       "742         -1   -3174.456205         57   среднее             1   \n",
       "800         -1  349987.852217         54   среднее             1   \n",
       "941         -1            NaN         57   Среднее             1   \n",
       "1363        -1   -1195.264956         55   СРЕДНЕЕ             1   \n",
       "1929        -1   -1461.303336         38   среднее             1   \n",
       "2073        -1   -2539.761232         42   среднее             1   \n",
       "3814        -1   -3045.290443         26   Среднее             1   \n",
       "4201        -1    -901.101738         41   среднее             1   \n",
       "\n",
       "              family_status  family_status_id gender  income_type  debt  \\\n",
       "291        гражданский брак                 1      F    сотрудник     0   \n",
       "705         женат / замужем                 0      F  госслужащий     0   \n",
       "742         женат / замужем                 0      F    сотрудник     0   \n",
       "800   Не женат / не замужем                 4      F    пенсионер     0   \n",
       "941         женат / замужем                 0      F    пенсионер     0   \n",
       "1363        женат / замужем                 0      F    компаньон     0   \n",
       "1929  Не женат / не замужем                 4      M    сотрудник     0   \n",
       "2073              в разводе                 3      F    компаньон     0   \n",
       "3814       гражданский брак                 1      F  госслужащий     0   \n",
       "4201        женат / замужем                 0      F  госслужащий     0   \n",
       "\n",
       "       total_income                          purpose  \n",
       "291   102816.346412           профильное образование  \n",
       "705   137882.899271          приобретение автомобиля  \n",
       "742    64268.044444       дополнительное образование  \n",
       "800    86293.724153       дополнительное образование  \n",
       "941             NaN     на покупку своего автомобиля  \n",
       "1363   69550.699692           профильное образование  \n",
       "1929  109121.569013                    покупка жилья  \n",
       "2073  162638.609373                    покупка жилья  \n",
       "3814  131892.785435            на проведение свадьбы  \n",
       "4201  226375.766751  операции со своей недвижимостью  "
      ]
     },
     "execution_count": 8,
     "metadata": {},
     "output_type": "execute_result"
    }
   ],
   "source": [
    "df[df['children']==-1].head(10)"
   ]
  },
  {
   "cell_type": "markdown",
   "id": "35094425",
   "metadata": {},
   "source": [
    "Посмотрим, что в строках со значением \"20\""
   ]
  },
  {
   "cell_type": "code",
   "execution_count": 9,
   "id": "cb08ee85",
   "metadata": {},
   "outputs": [
    {
     "data": {
      "text/html": [
       "<div>\n",
       "<style scoped>\n",
       "    .dataframe tbody tr th:only-of-type {\n",
       "        vertical-align: middle;\n",
       "    }\n",
       "\n",
       "    .dataframe tbody tr th {\n",
       "        vertical-align: top;\n",
       "    }\n",
       "\n",
       "    .dataframe thead th {\n",
       "        text-align: right;\n",
       "    }\n",
       "</style>\n",
       "<table border=\"1\" class=\"dataframe\">\n",
       "  <thead>\n",
       "    <tr style=\"text-align: right;\">\n",
       "      <th></th>\n",
       "      <th>children</th>\n",
       "      <th>days_employed</th>\n",
       "      <th>dob_years</th>\n",
       "      <th>education</th>\n",
       "      <th>education_id</th>\n",
       "      <th>family_status</th>\n",
       "      <th>family_status_id</th>\n",
       "      <th>gender</th>\n",
       "      <th>income_type</th>\n",
       "      <th>debt</th>\n",
       "      <th>total_income</th>\n",
       "      <th>purpose</th>\n",
       "    </tr>\n",
       "  </thead>\n",
       "  <tbody>\n",
       "    <tr>\n",
       "      <th>606</th>\n",
       "      <td>20</td>\n",
       "      <td>-880.221113</td>\n",
       "      <td>21</td>\n",
       "      <td>среднее</td>\n",
       "      <td>1</td>\n",
       "      <td>женат / замужем</td>\n",
       "      <td>0</td>\n",
       "      <td>M</td>\n",
       "      <td>компаньон</td>\n",
       "      <td>0</td>\n",
       "      <td>145334.865002</td>\n",
       "      <td>покупка жилья</td>\n",
       "    </tr>\n",
       "    <tr>\n",
       "      <th>720</th>\n",
       "      <td>20</td>\n",
       "      <td>-855.595512</td>\n",
       "      <td>44</td>\n",
       "      <td>среднее</td>\n",
       "      <td>1</td>\n",
       "      <td>женат / замужем</td>\n",
       "      <td>0</td>\n",
       "      <td>F</td>\n",
       "      <td>компаньон</td>\n",
       "      <td>0</td>\n",
       "      <td>112998.738649</td>\n",
       "      <td>покупка недвижимости</td>\n",
       "    </tr>\n",
       "    <tr>\n",
       "      <th>1074</th>\n",
       "      <td>20</td>\n",
       "      <td>-3310.411598</td>\n",
       "      <td>56</td>\n",
       "      <td>среднее</td>\n",
       "      <td>1</td>\n",
       "      <td>женат / замужем</td>\n",
       "      <td>0</td>\n",
       "      <td>F</td>\n",
       "      <td>сотрудник</td>\n",
       "      <td>1</td>\n",
       "      <td>229518.537004</td>\n",
       "      <td>получение образования</td>\n",
       "    </tr>\n",
       "    <tr>\n",
       "      <th>2510</th>\n",
       "      <td>20</td>\n",
       "      <td>-2714.161249</td>\n",
       "      <td>59</td>\n",
       "      <td>высшее</td>\n",
       "      <td>0</td>\n",
       "      <td>вдовец / вдова</td>\n",
       "      <td>2</td>\n",
       "      <td>F</td>\n",
       "      <td>сотрудник</td>\n",
       "      <td>0</td>\n",
       "      <td>264474.835577</td>\n",
       "      <td>операции с коммерческой недвижимостью</td>\n",
       "    </tr>\n",
       "    <tr>\n",
       "      <th>2941</th>\n",
       "      <td>20</td>\n",
       "      <td>-2161.591519</td>\n",
       "      <td>0</td>\n",
       "      <td>среднее</td>\n",
       "      <td>1</td>\n",
       "      <td>женат / замужем</td>\n",
       "      <td>0</td>\n",
       "      <td>F</td>\n",
       "      <td>сотрудник</td>\n",
       "      <td>0</td>\n",
       "      <td>199739.941398</td>\n",
       "      <td>на покупку автомобиля</td>\n",
       "    </tr>\n",
       "    <tr>\n",
       "      <th>3302</th>\n",
       "      <td>20</td>\n",
       "      <td>NaN</td>\n",
       "      <td>35</td>\n",
       "      <td>среднее</td>\n",
       "      <td>1</td>\n",
       "      <td>Не женат / не замужем</td>\n",
       "      <td>4</td>\n",
       "      <td>F</td>\n",
       "      <td>госслужащий</td>\n",
       "      <td>0</td>\n",
       "      <td>NaN</td>\n",
       "      <td>профильное образование</td>\n",
       "    </tr>\n",
       "    <tr>\n",
       "      <th>3396</th>\n",
       "      <td>20</td>\n",
       "      <td>NaN</td>\n",
       "      <td>56</td>\n",
       "      <td>высшее</td>\n",
       "      <td>0</td>\n",
       "      <td>женат / замужем</td>\n",
       "      <td>0</td>\n",
       "      <td>F</td>\n",
       "      <td>компаньон</td>\n",
       "      <td>0</td>\n",
       "      <td>NaN</td>\n",
       "      <td>высшее образование</td>\n",
       "    </tr>\n",
       "    <tr>\n",
       "      <th>3671</th>\n",
       "      <td>20</td>\n",
       "      <td>-913.161503</td>\n",
       "      <td>23</td>\n",
       "      <td>среднее</td>\n",
       "      <td>1</td>\n",
       "      <td>Не женат / не замужем</td>\n",
       "      <td>4</td>\n",
       "      <td>F</td>\n",
       "      <td>сотрудник</td>\n",
       "      <td>0</td>\n",
       "      <td>101255.492076</td>\n",
       "      <td>на покупку подержанного автомобиля</td>\n",
       "    </tr>\n",
       "    <tr>\n",
       "      <th>3697</th>\n",
       "      <td>20</td>\n",
       "      <td>-2907.910616</td>\n",
       "      <td>40</td>\n",
       "      <td>среднее</td>\n",
       "      <td>1</td>\n",
       "      <td>гражданский брак</td>\n",
       "      <td>1</td>\n",
       "      <td>M</td>\n",
       "      <td>сотрудник</td>\n",
       "      <td>0</td>\n",
       "      <td>115380.694664</td>\n",
       "      <td>на покупку подержанного автомобиля</td>\n",
       "    </tr>\n",
       "    <tr>\n",
       "      <th>3735</th>\n",
       "      <td>20</td>\n",
       "      <td>-805.044438</td>\n",
       "      <td>26</td>\n",
       "      <td>высшее</td>\n",
       "      <td>0</td>\n",
       "      <td>Не женат / не замужем</td>\n",
       "      <td>4</td>\n",
       "      <td>M</td>\n",
       "      <td>сотрудник</td>\n",
       "      <td>0</td>\n",
       "      <td>137200.646181</td>\n",
       "      <td>ремонт жилью</td>\n",
       "    </tr>\n",
       "  </tbody>\n",
       "</table>\n",
       "</div>"
      ],
      "text/plain": [
       "      children  days_employed  dob_years education  education_id  \\\n",
       "606         20    -880.221113         21   среднее             1   \n",
       "720         20    -855.595512         44   среднее             1   \n",
       "1074        20   -3310.411598         56   среднее             1   \n",
       "2510        20   -2714.161249         59    высшее             0   \n",
       "2941        20   -2161.591519          0   среднее             1   \n",
       "3302        20            NaN         35   среднее             1   \n",
       "3396        20            NaN         56    высшее             0   \n",
       "3671        20    -913.161503         23   среднее             1   \n",
       "3697        20   -2907.910616         40   среднее             1   \n",
       "3735        20    -805.044438         26    высшее             0   \n",
       "\n",
       "              family_status  family_status_id gender  income_type  debt  \\\n",
       "606         женат / замужем                 0      M    компаньон     0   \n",
       "720         женат / замужем                 0      F    компаньон     0   \n",
       "1074        женат / замужем                 0      F    сотрудник     1   \n",
       "2510         вдовец / вдова                 2      F    сотрудник     0   \n",
       "2941        женат / замужем                 0      F    сотрудник     0   \n",
       "3302  Не женат / не замужем                 4      F  госслужащий     0   \n",
       "3396        женат / замужем                 0      F    компаньон     0   \n",
       "3671  Не женат / не замужем                 4      F    сотрудник     0   \n",
       "3697       гражданский брак                 1      M    сотрудник     0   \n",
       "3735  Не женат / не замужем                 4      M    сотрудник     0   \n",
       "\n",
       "       total_income                                purpose  \n",
       "606   145334.865002                          покупка жилья  \n",
       "720   112998.738649                   покупка недвижимости  \n",
       "1074  229518.537004                  получение образования  \n",
       "2510  264474.835577  операции с коммерческой недвижимостью  \n",
       "2941  199739.941398                  на покупку автомобиля  \n",
       "3302            NaN                 профильное образование  \n",
       "3396            NaN                     высшее образование  \n",
       "3671  101255.492076     на покупку подержанного автомобиля  \n",
       "3697  115380.694664     на покупку подержанного автомобиля  \n",
       "3735  137200.646181                           ремонт жилью  "
      ]
     },
     "execution_count": 9,
     "metadata": {},
     "output_type": "execute_result"
    }
   ],
   "source": [
    "df[df['children']==20].head(10)"
   ]
  },
  {
   "cell_type": "markdown",
   "id": "c245c5fb",
   "metadata": {},
   "source": [
    "Зависимости с данными в других столбцах не наблюдается, поэтому можем удалить эти строки"
   ]
  },
  {
   "cell_type": "code",
   "execution_count": 10,
   "id": "147f1090",
   "metadata": {},
   "outputs": [
    {
     "name": "stdout",
     "output_type": "stream",
     "text": [
      "Удалено строк:  47\n",
      "Удалено строк:  76\n",
      "Всего осталось строк: 21279\n"
     ]
    }
   ],
   "source": [
    "#индексы строк, в которых значение -1\n",
    "one = df[df['children']==-1].index \n",
    "\n",
    "# индексы строк, в которых значение 20\n",
    "twenty = df[df['children']==20].index  \n",
    "\n",
    "#удаление строк, в которых значение -1\n",
    "drop_count_one = 0\n",
    "try:\n",
    "    for drop_str in one:\n",
    "        df = df.drop(drop_str)\n",
    "        drop_count_one+=1\n",
    "except:\n",
    "    print(\"Не удалось удалить строку: \")\n",
    "print(\"Удалено строк: \", drop_count_one)\n",
    "\n",
    "#удаление строк, в которых значение 20\n",
    "drop_count_twenty = 0\n",
    "try:\n",
    "    for drop_str in twenty:\n",
    "        df = df.drop(drop_str)\n",
    "        drop_count_twenty+=1\n",
    "except:\n",
    "    print(\"Не удалось удалить строку: \")    \n",
    "print(\"Удалено строк: \", drop_count_twenty)\n",
    "\n",
    "print(\"Всего осталось строк:\", len(df) - drop_count_one - drop_count_twenty)"
   ]
  },
  {
   "cell_type": "code",
   "execution_count": 11,
   "id": "35b876e8",
   "metadata": {},
   "outputs": [
    {
     "data": {
      "text/html": [
       "<div>\n",
       "<style scoped>\n",
       "    .dataframe tbody tr th:only-of-type {\n",
       "        vertical-align: middle;\n",
       "    }\n",
       "\n",
       "    .dataframe tbody tr th {\n",
       "        vertical-align: top;\n",
       "    }\n",
       "\n",
       "    .dataframe thead th {\n",
       "        text-align: right;\n",
       "    }\n",
       "</style>\n",
       "<table border=\"1\" class=\"dataframe\">\n",
       "  <thead>\n",
       "    <tr style=\"text-align: right;\">\n",
       "      <th></th>\n",
       "      <th>children</th>\n",
       "      <th>days_employed</th>\n",
       "      <th>dob_years</th>\n",
       "      <th>education</th>\n",
       "      <th>education_id</th>\n",
       "      <th>family_status</th>\n",
       "      <th>family_status_id</th>\n",
       "      <th>gender</th>\n",
       "      <th>income_type</th>\n",
       "      <th>debt</th>\n",
       "      <th>total_income</th>\n",
       "      <th>purpose</th>\n",
       "    </tr>\n",
       "  </thead>\n",
       "  <tbody>\n",
       "  </tbody>\n",
       "</table>\n",
       "</div>"
      ],
      "text/plain": [
       "Empty DataFrame\n",
       "Columns: [children, days_employed, dob_years, education, education_id, family_status, family_status_id, gender, income_type, debt, total_income, purpose]\n",
       "Index: []"
      ]
     },
     "execution_count": 11,
     "metadata": {},
     "output_type": "execute_result"
    }
   ],
   "source": [
    "#проверка\n",
    "df[df['children']==20]"
   ]
  },
  {
   "cell_type": "markdown",
   "id": "a32462ea",
   "metadata": {},
   "source": [
    "Таблица пустая, значит необходимые строки удалились"
   ]
  },
  {
   "cell_type": "code",
   "execution_count": 12,
   "id": "a1f332f1",
   "metadata": {},
   "outputs": [
    {
     "data": {
      "text/html": [
       "<div>\n",
       "<style scoped>\n",
       "    .dataframe tbody tr th:only-of-type {\n",
       "        vertical-align: middle;\n",
       "    }\n",
       "\n",
       "    .dataframe tbody tr th {\n",
       "        vertical-align: top;\n",
       "    }\n",
       "\n",
       "    .dataframe thead th {\n",
       "        text-align: right;\n",
       "    }\n",
       "</style>\n",
       "<table border=\"1\" class=\"dataframe\">\n",
       "  <thead>\n",
       "    <tr style=\"text-align: right;\">\n",
       "      <th></th>\n",
       "      <th>children</th>\n",
       "      <th>days_employed</th>\n",
       "      <th>dob_years</th>\n",
       "      <th>education</th>\n",
       "      <th>education_id</th>\n",
       "      <th>family_status</th>\n",
       "      <th>family_status_id</th>\n",
       "      <th>gender</th>\n",
       "      <th>income_type</th>\n",
       "      <th>debt</th>\n",
       "      <th>total_income</th>\n",
       "      <th>purpose</th>\n",
       "    </tr>\n",
       "  </thead>\n",
       "  <tbody>\n",
       "  </tbody>\n",
       "</table>\n",
       "</div>"
      ],
      "text/plain": [
       "Empty DataFrame\n",
       "Columns: [children, days_employed, dob_years, education, education_id, family_status, family_status_id, gender, income_type, debt, total_income, purpose]\n",
       "Index: []"
      ]
     },
     "execution_count": 12,
     "metadata": {},
     "output_type": "execute_result"
    }
   ],
   "source": [
    "#проверка\n",
    "df[df['children']==-1]"
   ]
  },
  {
   "cell_type": "markdown",
   "id": "da7b5d0e",
   "metadata": {},
   "source": [
    "Таблица пустая, значит необходимые строки удалились"
   ]
  },
  {
   "cell_type": "code",
   "execution_count": 13,
   "id": "0e0c113b",
   "metadata": {},
   "outputs": [],
   "source": [
    "#исправим индексы после удаления строк\n",
    "df = df.reset_index(drop=True)"
   ]
  },
  {
   "cell_type": "code",
   "execution_count": 14,
   "id": "fc0ab893",
   "metadata": {},
   "outputs": [
    {
     "name": "stdout",
     "output_type": "stream",
     "text": [
      "<class 'pandas.core.frame.DataFrame'>\n",
      "RangeIndex: 21402 entries, 0 to 21401\n",
      "Data columns (total 12 columns):\n",
      " #   Column            Non-Null Count  Dtype  \n",
      "---  ------            --------------  -----  \n",
      " 0   children          21402 non-null  int64  \n",
      " 1   days_employed     19240 non-null  float64\n",
      " 2   dob_years         21402 non-null  int64  \n",
      " 3   education         21402 non-null  object \n",
      " 4   education_id      21402 non-null  int64  \n",
      " 5   family_status     21402 non-null  object \n",
      " 6   family_status_id  21402 non-null  int64  \n",
      " 7   gender            21402 non-null  object \n",
      " 8   income_type       21402 non-null  object \n",
      " 9   debt              21402 non-null  int64  \n",
      " 10  total_income      19240 non-null  float64\n",
      " 11  purpose           21402 non-null  object \n",
      "dtypes: float64(2), int64(5), object(5)\n",
      "memory usage: 2.0+ MB\n"
     ]
    }
   ],
   "source": [
    "df.info()"
   ]
  },
  {
   "cell_type": "markdown",
   "id": "994fe33e",
   "metadata": {},
   "source": [
    "Теперь в таблице 21402 строки, было удалено 123 строки"
   ]
  },
  {
   "cell_type": "markdown",
   "id": "0f8062b2",
   "metadata": {},
   "source": [
    "### Столбец *days_employed*"
   ]
  },
  {
   "cell_type": "markdown",
   "id": "0d7f1ad6",
   "metadata": {},
   "source": [
    "### Изменение некорректных данных"
   ]
  },
  {
   "cell_type": "markdown",
   "id": "807fe3bd",
   "metadata": {},
   "source": [
    "В столбце **days_employed** были обнаружены отрицательные значения, посмотрим, какое общее количество они составляют:"
   ]
  },
  {
   "cell_type": "code",
   "execution_count": 15,
   "id": "3a6d8004",
   "metadata": {},
   "outputs": [
    {
     "name": "stdout",
     "output_type": "stream",
     "text": [
      "Отрицательные значения =  15809\n"
     ]
    }
   ],
   "source": [
    "print(\"Отрицательные значения = \",df[df['days_employed']<0]['days_employed'].count())"
   ]
  },
  {
   "cell_type": "markdown",
   "id": "63c4a437",
   "metadata": {},
   "source": [
    "Проведем оценку данных столбца **days_employed** с помощью метода *describe()*, округлив значения до тысячных:"
   ]
  },
  {
   "cell_type": "code",
   "execution_count": 16,
   "id": "0854b07c",
   "metadata": {},
   "outputs": [
    {
     "data": {
      "text/plain": [
       "count     19240.000\n",
       "mean      63159.821\n",
       "std      140928.943\n",
       "min      -18388.950\n",
       "25%       -2747.236\n",
       "50%       -1203.934\n",
       "75%        -289.740\n",
       "max      401755.400\n",
       "Name: days_employed, dtype: float64"
      ]
     },
     "execution_count": 16,
     "metadata": {},
     "output_type": "execute_result"
    }
   ],
   "source": [
    "df['days_employed'].describe().round(3)"
   ]
  },
  {
   "cell_type": "markdown",
   "id": "c12da7c5",
   "metadata": {},
   "source": [
    "Присутствуют слишком большие значения (возможно это стаж в часах, а не днях) и много отрицательных (возможно минус это дефис) - нужно исправить эти данные. Также можно уточнить информацию об этих данных у источника, чтобы удостовериться в верности предположений, выдвинутых выше. \n",
    "Примем, что предположения верны, поэтому заменим отрицательные значения на положительные."
   ]
  },
  {
   "cell_type": "code",
   "execution_count": 17,
   "id": "9eb1c6f0",
   "metadata": {},
   "outputs": [],
   "source": [
    "def negative_to_pozitive(value):\n",
    "    if value < 0:\n",
    "        value *= -1\n",
    "        return value\n",
    "    else:\n",
    "        return value\n",
    "df['days_employed'] = df['days_employed'].apply(negative_to_pozitive)"
   ]
  },
  {
   "cell_type": "code",
   "execution_count": 18,
   "id": "aafb7cbf",
   "metadata": {},
   "outputs": [
    {
     "data": {
      "text/html": [
       "<div>\n",
       "<style scoped>\n",
       "    .dataframe tbody tr th:only-of-type {\n",
       "        vertical-align: middle;\n",
       "    }\n",
       "\n",
       "    .dataframe tbody tr th {\n",
       "        vertical-align: top;\n",
       "    }\n",
       "\n",
       "    .dataframe thead th {\n",
       "        text-align: right;\n",
       "    }\n",
       "</style>\n",
       "<table border=\"1\" class=\"dataframe\">\n",
       "  <thead>\n",
       "    <tr style=\"text-align: right;\">\n",
       "      <th></th>\n",
       "      <th>children</th>\n",
       "      <th>days_employed</th>\n",
       "      <th>dob_years</th>\n",
       "      <th>education</th>\n",
       "      <th>education_id</th>\n",
       "      <th>family_status</th>\n",
       "      <th>family_status_id</th>\n",
       "      <th>gender</th>\n",
       "      <th>income_type</th>\n",
       "      <th>debt</th>\n",
       "      <th>total_income</th>\n",
       "      <th>purpose</th>\n",
       "    </tr>\n",
       "  </thead>\n",
       "  <tbody>\n",
       "    <tr>\n",
       "      <th>0</th>\n",
       "      <td>1</td>\n",
       "      <td>8437.673028</td>\n",
       "      <td>42</td>\n",
       "      <td>высшее</td>\n",
       "      <td>0</td>\n",
       "      <td>женат / замужем</td>\n",
       "      <td>0</td>\n",
       "      <td>F</td>\n",
       "      <td>сотрудник</td>\n",
       "      <td>0</td>\n",
       "      <td>253875.639453</td>\n",
       "      <td>покупка жилья</td>\n",
       "    </tr>\n",
       "    <tr>\n",
       "      <th>1</th>\n",
       "      <td>1</td>\n",
       "      <td>4024.803754</td>\n",
       "      <td>36</td>\n",
       "      <td>среднее</td>\n",
       "      <td>1</td>\n",
       "      <td>женат / замужем</td>\n",
       "      <td>0</td>\n",
       "      <td>F</td>\n",
       "      <td>сотрудник</td>\n",
       "      <td>0</td>\n",
       "      <td>112080.014102</td>\n",
       "      <td>приобретение автомобиля</td>\n",
       "    </tr>\n",
       "    <tr>\n",
       "      <th>2</th>\n",
       "      <td>0</td>\n",
       "      <td>5623.422610</td>\n",
       "      <td>33</td>\n",
       "      <td>Среднее</td>\n",
       "      <td>1</td>\n",
       "      <td>женат / замужем</td>\n",
       "      <td>0</td>\n",
       "      <td>M</td>\n",
       "      <td>сотрудник</td>\n",
       "      <td>0</td>\n",
       "      <td>145885.952297</td>\n",
       "      <td>покупка жилья</td>\n",
       "    </tr>\n",
       "    <tr>\n",
       "      <th>3</th>\n",
       "      <td>3</td>\n",
       "      <td>4124.747207</td>\n",
       "      <td>32</td>\n",
       "      <td>среднее</td>\n",
       "      <td>1</td>\n",
       "      <td>женат / замужем</td>\n",
       "      <td>0</td>\n",
       "      <td>M</td>\n",
       "      <td>сотрудник</td>\n",
       "      <td>0</td>\n",
       "      <td>267628.550329</td>\n",
       "      <td>дополнительное образование</td>\n",
       "    </tr>\n",
       "    <tr>\n",
       "      <th>4</th>\n",
       "      <td>0</td>\n",
       "      <td>340266.072047</td>\n",
       "      <td>53</td>\n",
       "      <td>среднее</td>\n",
       "      <td>1</td>\n",
       "      <td>гражданский брак</td>\n",
       "      <td>1</td>\n",
       "      <td>F</td>\n",
       "      <td>пенсионер</td>\n",
       "      <td>0</td>\n",
       "      <td>158616.077870</td>\n",
       "      <td>сыграть свадьбу</td>\n",
       "    </tr>\n",
       "    <tr>\n",
       "      <th>5</th>\n",
       "      <td>0</td>\n",
       "      <td>926.185831</td>\n",
       "      <td>27</td>\n",
       "      <td>высшее</td>\n",
       "      <td>0</td>\n",
       "      <td>гражданский брак</td>\n",
       "      <td>1</td>\n",
       "      <td>M</td>\n",
       "      <td>компаньон</td>\n",
       "      <td>0</td>\n",
       "      <td>255763.565419</td>\n",
       "      <td>покупка жилья</td>\n",
       "    </tr>\n",
       "    <tr>\n",
       "      <th>6</th>\n",
       "      <td>0</td>\n",
       "      <td>2879.202052</td>\n",
       "      <td>43</td>\n",
       "      <td>высшее</td>\n",
       "      <td>0</td>\n",
       "      <td>женат / замужем</td>\n",
       "      <td>0</td>\n",
       "      <td>F</td>\n",
       "      <td>компаньон</td>\n",
       "      <td>0</td>\n",
       "      <td>240525.971920</td>\n",
       "      <td>операции с жильем</td>\n",
       "    </tr>\n",
       "    <tr>\n",
       "      <th>7</th>\n",
       "      <td>0</td>\n",
       "      <td>152.779569</td>\n",
       "      <td>50</td>\n",
       "      <td>СРЕДНЕЕ</td>\n",
       "      <td>1</td>\n",
       "      <td>женат / замужем</td>\n",
       "      <td>0</td>\n",
       "      <td>M</td>\n",
       "      <td>сотрудник</td>\n",
       "      <td>0</td>\n",
       "      <td>135823.934197</td>\n",
       "      <td>образование</td>\n",
       "    </tr>\n",
       "    <tr>\n",
       "      <th>8</th>\n",
       "      <td>2</td>\n",
       "      <td>6929.865299</td>\n",
       "      <td>35</td>\n",
       "      <td>ВЫСШЕЕ</td>\n",
       "      <td>0</td>\n",
       "      <td>гражданский брак</td>\n",
       "      <td>1</td>\n",
       "      <td>F</td>\n",
       "      <td>сотрудник</td>\n",
       "      <td>0</td>\n",
       "      <td>95856.832424</td>\n",
       "      <td>на проведение свадьбы</td>\n",
       "    </tr>\n",
       "    <tr>\n",
       "      <th>9</th>\n",
       "      <td>0</td>\n",
       "      <td>2188.756445</td>\n",
       "      <td>41</td>\n",
       "      <td>среднее</td>\n",
       "      <td>1</td>\n",
       "      <td>женат / замужем</td>\n",
       "      <td>0</td>\n",
       "      <td>M</td>\n",
       "      <td>сотрудник</td>\n",
       "      <td>0</td>\n",
       "      <td>144425.938277</td>\n",
       "      <td>покупка жилья для семьи</td>\n",
       "    </tr>\n",
       "  </tbody>\n",
       "</table>\n",
       "</div>"
      ],
      "text/plain": [
       "   children  days_employed  dob_years education  education_id  \\\n",
       "0         1    8437.673028         42    высшее             0   \n",
       "1         1    4024.803754         36   среднее             1   \n",
       "2         0    5623.422610         33   Среднее             1   \n",
       "3         3    4124.747207         32   среднее             1   \n",
       "4         0  340266.072047         53   среднее             1   \n",
       "5         0     926.185831         27    высшее             0   \n",
       "6         0    2879.202052         43    высшее             0   \n",
       "7         0     152.779569         50   СРЕДНЕЕ             1   \n",
       "8         2    6929.865299         35    ВЫСШЕЕ             0   \n",
       "9         0    2188.756445         41   среднее             1   \n",
       "\n",
       "      family_status  family_status_id gender income_type  debt   total_income  \\\n",
       "0   женат / замужем                 0      F   сотрудник     0  253875.639453   \n",
       "1   женат / замужем                 0      F   сотрудник     0  112080.014102   \n",
       "2   женат / замужем                 0      M   сотрудник     0  145885.952297   \n",
       "3   женат / замужем                 0      M   сотрудник     0  267628.550329   \n",
       "4  гражданский брак                 1      F   пенсионер     0  158616.077870   \n",
       "5  гражданский брак                 1      M   компаньон     0  255763.565419   \n",
       "6   женат / замужем                 0      F   компаньон     0  240525.971920   \n",
       "7   женат / замужем                 0      M   сотрудник     0  135823.934197   \n",
       "8  гражданский брак                 1      F   сотрудник     0   95856.832424   \n",
       "9   женат / замужем                 0      M   сотрудник     0  144425.938277   \n",
       "\n",
       "                      purpose  \n",
       "0               покупка жилья  \n",
       "1     приобретение автомобиля  \n",
       "2               покупка жилья  \n",
       "3  дополнительное образование  \n",
       "4             сыграть свадьбу  \n",
       "5               покупка жилья  \n",
       "6           операции с жильем  \n",
       "7                 образование  \n",
       "8       на проведение свадьбы  \n",
       "9     покупка жилья для семьи  "
      ]
     },
     "execution_count": 18,
     "metadata": {},
     "output_type": "execute_result"
    }
   ],
   "source": [
    "df.head(10)"
   ]
  },
  {
   "cell_type": "markdown",
   "id": "8bf89503",
   "metadata": {},
   "source": [
    "Теперь снова проведем оценку данных в столбце **days_employed**:"
   ]
  },
  {
   "cell_type": "code",
   "execution_count": 19,
   "id": "820946fd",
   "metadata": {},
   "outputs": [
    {
     "data": {
      "text/plain": [
       "count     19240.000\n",
       "mean      67027.691\n",
       "std      139130.846\n",
       "min          24.142\n",
       "25%         927.984\n",
       "50%        2195.252\n",
       "75%        5556.372\n",
       "max      401755.400\n",
       "Name: days_employed, dtype: float64"
      ]
     },
     "execution_count": 19,
     "metadata": {},
     "output_type": "execute_result"
    }
   ],
   "source": [
    "df['days_employed'].describe().round(3)"
   ]
  },
  {
   "cell_type": "markdown",
   "id": "f8a87a33",
   "metadata": {},
   "source": [
    "Слишком большие значения максимума и стандартного отклонения, эти значения в **days_employed** игнорировать не можем, так как они могут повлиять на конечный результат. (Вообще тут по-хорошему нужно узнать у источника данных, в каком виде предоставлена информация о стаже (в днях или в часах).) "
   ]
  },
  {
   "cell_type": "markdown",
   "id": "d7c9f7b1",
   "metadata": {},
   "source": [
    "Определим максимальный возраст в столбце **dob_years**, чтобы понять, какой максимальный стаж может быть в днях:"
   ]
  },
  {
   "cell_type": "code",
   "execution_count": 20,
   "id": "a4376abc",
   "metadata": {},
   "outputs": [
    {
     "data": {
      "text/plain": [
       "75"
      ]
     },
     "execution_count": 20,
     "metadata": {},
     "output_type": "execute_result"
    }
   ],
   "source": [
    "df['dob_years'].max()"
   ]
  },
  {
   "cell_type": "markdown",
   "id": "c090317f",
   "metadata": {},
   "source": [
    "Теперь, зная максимальный возраст, можно определить, начиная с какого значения можно переводить данные в часы.\n",
    "Так как человек родился в СССР, то (по данным поиска в Яндексе) в то время работать можно было с 16 лет, а в особых случаях, по разрешению специальной комиссии, даже с 14 лет, поэтому примем, что максимальный стаж может быть 60-61 год.\n",
    "\n",
    "При учете, что в среднем при 8-часовом рабочем дне в году 247 рабочих дней, то нижняя граница для перевода стажа в часы будет примерно 15000 (так как вряд-ли люди моложе 75 лет могли работать 60 лет)"
   ]
  },
  {
   "cell_type": "markdown",
   "id": "858966b9",
   "metadata": {},
   "source": [
    "Посмотрим на строки с данными людей, которым 75 лет:"
   ]
  },
  {
   "cell_type": "code",
   "execution_count": 21,
   "id": "e0efa53c",
   "metadata": {},
   "outputs": [
    {
     "data": {
      "text/html": [
       "<div>\n",
       "<style scoped>\n",
       "    .dataframe tbody tr th:only-of-type {\n",
       "        vertical-align: middle;\n",
       "    }\n",
       "\n",
       "    .dataframe tbody tr th {\n",
       "        vertical-align: top;\n",
       "    }\n",
       "\n",
       "    .dataframe thead th {\n",
       "        text-align: right;\n",
       "    }\n",
       "</style>\n",
       "<table border=\"1\" class=\"dataframe\">\n",
       "  <thead>\n",
       "    <tr style=\"text-align: right;\">\n",
       "      <th></th>\n",
       "      <th>children</th>\n",
       "      <th>days_employed</th>\n",
       "      <th>dob_years</th>\n",
       "      <th>education</th>\n",
       "      <th>education_id</th>\n",
       "      <th>family_status</th>\n",
       "      <th>family_status_id</th>\n",
       "      <th>gender</th>\n",
       "      <th>income_type</th>\n",
       "      <th>debt</th>\n",
       "      <th>total_income</th>\n",
       "      <th>purpose</th>\n",
       "    </tr>\n",
       "  </thead>\n",
       "  <tbody>\n",
       "    <tr>\n",
       "      <th>8835</th>\n",
       "      <td>0</td>\n",
       "      <td>1678.969771</td>\n",
       "      <td>75</td>\n",
       "      <td>среднее</td>\n",
       "      <td>1</td>\n",
       "      <td>вдовец / вдова</td>\n",
       "      <td>2</td>\n",
       "      <td>F</td>\n",
       "      <td>госслужащий</td>\n",
       "      <td>0</td>\n",
       "      <td>153282.648133</td>\n",
       "      <td>заняться образованием</td>\n",
       "    </tr>\n",
       "  </tbody>\n",
       "</table>\n",
       "</div>"
      ],
      "text/plain": [
       "      children  days_employed  dob_years education  education_id  \\\n",
       "8835         0    1678.969771         75   среднее             1   \n",
       "\n",
       "       family_status  family_status_id gender  income_type  debt  \\\n",
       "8835  вдовец / вдова                 2      F  госслужащий     0   \n",
       "\n",
       "       total_income                purpose  \n",
       "8835  153282.648133  заняться образованием  "
      ]
     },
     "execution_count": 21,
     "metadata": {},
     "output_type": "execute_result"
    }
   ],
   "source": [
    "df[df['dob_years']==df['dob_years'].max()]"
   ]
  },
  {
   "cell_type": "markdown",
   "id": "dd391950",
   "metadata": {},
   "source": [
    "Оказалось, что 75 лет всего 1 человеку, и стаж не превышает 7 лет, если данные указаны в днях, что вполне вероятно (возможно этот человек работал на себя без оформления ИП, или же, так как это женщина, человек вел домашнее хозяйство).\n",
    "Даже учитывая этот факт, оставим 15000 как отправную точку для исправления данных в столбце **days_employe**:"
   ]
  },
  {
   "cell_type": "markdown",
   "id": "eaf845d9",
   "metadata": {},
   "source": [
    "Определим количество значений превышающих 15000:"
   ]
  },
  {
   "cell_type": "code",
   "execution_count": 22,
   "id": "4225c33e",
   "metadata": {},
   "outputs": [
    {
     "data": {
      "text/plain": [
       "children            3444\n",
       "days_employed       3444\n",
       "dob_years           3444\n",
       "education           3444\n",
       "education_id        3444\n",
       "family_status       3444\n",
       "family_status_id    3444\n",
       "gender              3444\n",
       "income_type         3444\n",
       "debt                3444\n",
       "total_income        3444\n",
       "purpose             3444\n",
       "dtype: int64"
      ]
     },
     "execution_count": 22,
     "metadata": {},
     "output_type": "execute_result"
    }
   ],
   "source": [
    "df[df['days_employed']>15000].count()"
   ]
  },
  {
   "cell_type": "markdown",
   "id": "60caf3c8",
   "metadata": {},
   "source": [
    "Удалять такое количество данных будет ошибкой, так как эти значения составляют 16% от общего числа.\n",
    "По этой причине сделаем перевод таких данных в дни, предполагая, что значения выше 15000 будут относиться к значениям в часах, а не днях"
   ]
  },
  {
   "cell_type": "code",
   "execution_count": 23,
   "id": "c9484eab",
   "metadata": {},
   "outputs": [],
   "source": [
    "df['days_employed'].where(~(df.days_employed >= 15000), other=df.days_employed/24, inplace=True)"
   ]
  },
  {
   "cell_type": "code",
   "execution_count": 24,
   "id": "97c94cb5",
   "metadata": {},
   "outputs": [
    {
     "data": {
      "text/html": [
       "<div>\n",
       "<style scoped>\n",
       "    .dataframe tbody tr th:only-of-type {\n",
       "        vertical-align: middle;\n",
       "    }\n",
       "\n",
       "    .dataframe tbody tr th {\n",
       "        vertical-align: top;\n",
       "    }\n",
       "\n",
       "    .dataframe thead th {\n",
       "        text-align: right;\n",
       "    }\n",
       "</style>\n",
       "<table border=\"1\" class=\"dataframe\">\n",
       "  <thead>\n",
       "    <tr style=\"text-align: right;\">\n",
       "      <th></th>\n",
       "      <th>children</th>\n",
       "      <th>days_employed</th>\n",
       "      <th>dob_years</th>\n",
       "      <th>education</th>\n",
       "      <th>education_id</th>\n",
       "      <th>family_status</th>\n",
       "      <th>family_status_id</th>\n",
       "      <th>gender</th>\n",
       "      <th>income_type</th>\n",
       "      <th>debt</th>\n",
       "      <th>total_income</th>\n",
       "      <th>purpose</th>\n",
       "    </tr>\n",
       "  </thead>\n",
       "  <tbody>\n",
       "    <tr>\n",
       "      <th>0</th>\n",
       "      <td>1</td>\n",
       "      <td>8437.673028</td>\n",
       "      <td>42</td>\n",
       "      <td>высшее</td>\n",
       "      <td>0</td>\n",
       "      <td>женат / замужем</td>\n",
       "      <td>0</td>\n",
       "      <td>F</td>\n",
       "      <td>сотрудник</td>\n",
       "      <td>0</td>\n",
       "      <td>253875.639453</td>\n",
       "      <td>покупка жилья</td>\n",
       "    </tr>\n",
       "    <tr>\n",
       "      <th>1</th>\n",
       "      <td>1</td>\n",
       "      <td>4024.803754</td>\n",
       "      <td>36</td>\n",
       "      <td>среднее</td>\n",
       "      <td>1</td>\n",
       "      <td>женат / замужем</td>\n",
       "      <td>0</td>\n",
       "      <td>F</td>\n",
       "      <td>сотрудник</td>\n",
       "      <td>0</td>\n",
       "      <td>112080.014102</td>\n",
       "      <td>приобретение автомобиля</td>\n",
       "    </tr>\n",
       "    <tr>\n",
       "      <th>2</th>\n",
       "      <td>0</td>\n",
       "      <td>5623.422610</td>\n",
       "      <td>33</td>\n",
       "      <td>Среднее</td>\n",
       "      <td>1</td>\n",
       "      <td>женат / замужем</td>\n",
       "      <td>0</td>\n",
       "      <td>M</td>\n",
       "      <td>сотрудник</td>\n",
       "      <td>0</td>\n",
       "      <td>145885.952297</td>\n",
       "      <td>покупка жилья</td>\n",
       "    </tr>\n",
       "    <tr>\n",
       "      <th>3</th>\n",
       "      <td>3</td>\n",
       "      <td>4124.747207</td>\n",
       "      <td>32</td>\n",
       "      <td>среднее</td>\n",
       "      <td>1</td>\n",
       "      <td>женат / замужем</td>\n",
       "      <td>0</td>\n",
       "      <td>M</td>\n",
       "      <td>сотрудник</td>\n",
       "      <td>0</td>\n",
       "      <td>267628.550329</td>\n",
       "      <td>дополнительное образование</td>\n",
       "    </tr>\n",
       "    <tr>\n",
       "      <th>4</th>\n",
       "      <td>0</td>\n",
       "      <td>14177.753002</td>\n",
       "      <td>53</td>\n",
       "      <td>среднее</td>\n",
       "      <td>1</td>\n",
       "      <td>гражданский брак</td>\n",
       "      <td>1</td>\n",
       "      <td>F</td>\n",
       "      <td>пенсионер</td>\n",
       "      <td>0</td>\n",
       "      <td>158616.077870</td>\n",
       "      <td>сыграть свадьбу</td>\n",
       "    </tr>\n",
       "    <tr>\n",
       "      <th>5</th>\n",
       "      <td>0</td>\n",
       "      <td>926.185831</td>\n",
       "      <td>27</td>\n",
       "      <td>высшее</td>\n",
       "      <td>0</td>\n",
       "      <td>гражданский брак</td>\n",
       "      <td>1</td>\n",
       "      <td>M</td>\n",
       "      <td>компаньон</td>\n",
       "      <td>0</td>\n",
       "      <td>255763.565419</td>\n",
       "      <td>покупка жилья</td>\n",
       "    </tr>\n",
       "    <tr>\n",
       "      <th>6</th>\n",
       "      <td>0</td>\n",
       "      <td>2879.202052</td>\n",
       "      <td>43</td>\n",
       "      <td>высшее</td>\n",
       "      <td>0</td>\n",
       "      <td>женат / замужем</td>\n",
       "      <td>0</td>\n",
       "      <td>F</td>\n",
       "      <td>компаньон</td>\n",
       "      <td>0</td>\n",
       "      <td>240525.971920</td>\n",
       "      <td>операции с жильем</td>\n",
       "    </tr>\n",
       "    <tr>\n",
       "      <th>7</th>\n",
       "      <td>0</td>\n",
       "      <td>152.779569</td>\n",
       "      <td>50</td>\n",
       "      <td>СРЕДНЕЕ</td>\n",
       "      <td>1</td>\n",
       "      <td>женат / замужем</td>\n",
       "      <td>0</td>\n",
       "      <td>M</td>\n",
       "      <td>сотрудник</td>\n",
       "      <td>0</td>\n",
       "      <td>135823.934197</td>\n",
       "      <td>образование</td>\n",
       "    </tr>\n",
       "    <tr>\n",
       "      <th>8</th>\n",
       "      <td>2</td>\n",
       "      <td>6929.865299</td>\n",
       "      <td>35</td>\n",
       "      <td>ВЫСШЕЕ</td>\n",
       "      <td>0</td>\n",
       "      <td>гражданский брак</td>\n",
       "      <td>1</td>\n",
       "      <td>F</td>\n",
       "      <td>сотрудник</td>\n",
       "      <td>0</td>\n",
       "      <td>95856.832424</td>\n",
       "      <td>на проведение свадьбы</td>\n",
       "    </tr>\n",
       "    <tr>\n",
       "      <th>9</th>\n",
       "      <td>0</td>\n",
       "      <td>2188.756445</td>\n",
       "      <td>41</td>\n",
       "      <td>среднее</td>\n",
       "      <td>1</td>\n",
       "      <td>женат / замужем</td>\n",
       "      <td>0</td>\n",
       "      <td>M</td>\n",
       "      <td>сотрудник</td>\n",
       "      <td>0</td>\n",
       "      <td>144425.938277</td>\n",
       "      <td>покупка жилья для семьи</td>\n",
       "    </tr>\n",
       "    <tr>\n",
       "      <th>10</th>\n",
       "      <td>2</td>\n",
       "      <td>4171.483647</td>\n",
       "      <td>36</td>\n",
       "      <td>высшее</td>\n",
       "      <td>0</td>\n",
       "      <td>женат / замужем</td>\n",
       "      <td>0</td>\n",
       "      <td>M</td>\n",
       "      <td>компаньон</td>\n",
       "      <td>0</td>\n",
       "      <td>113943.491460</td>\n",
       "      <td>покупка недвижимости</td>\n",
       "    </tr>\n",
       "    <tr>\n",
       "      <th>11</th>\n",
       "      <td>0</td>\n",
       "      <td>792.701887</td>\n",
       "      <td>40</td>\n",
       "      <td>среднее</td>\n",
       "      <td>1</td>\n",
       "      <td>женат / замужем</td>\n",
       "      <td>0</td>\n",
       "      <td>F</td>\n",
       "      <td>сотрудник</td>\n",
       "      <td>0</td>\n",
       "      <td>77069.234271</td>\n",
       "      <td>покупка коммерческой недвижимости</td>\n",
       "    </tr>\n",
       "    <tr>\n",
       "      <th>12</th>\n",
       "      <td>0</td>\n",
       "      <td>NaN</td>\n",
       "      <td>65</td>\n",
       "      <td>среднее</td>\n",
       "      <td>1</td>\n",
       "      <td>гражданский брак</td>\n",
       "      <td>1</td>\n",
       "      <td>M</td>\n",
       "      <td>пенсионер</td>\n",
       "      <td>0</td>\n",
       "      <td>NaN</td>\n",
       "      <td>сыграть свадьбу</td>\n",
       "    </tr>\n",
       "    <tr>\n",
       "      <th>13</th>\n",
       "      <td>0</td>\n",
       "      <td>1846.641941</td>\n",
       "      <td>54</td>\n",
       "      <td>неоконченное высшее</td>\n",
       "      <td>2</td>\n",
       "      <td>женат / замужем</td>\n",
       "      <td>0</td>\n",
       "      <td>F</td>\n",
       "      <td>сотрудник</td>\n",
       "      <td>0</td>\n",
       "      <td>130458.228857</td>\n",
       "      <td>приобретение автомобиля</td>\n",
       "    </tr>\n",
       "    <tr>\n",
       "      <th>14</th>\n",
       "      <td>0</td>\n",
       "      <td>1844.956182</td>\n",
       "      <td>56</td>\n",
       "      <td>высшее</td>\n",
       "      <td>0</td>\n",
       "      <td>гражданский брак</td>\n",
       "      <td>1</td>\n",
       "      <td>F</td>\n",
       "      <td>компаньон</td>\n",
       "      <td>1</td>\n",
       "      <td>165127.911772</td>\n",
       "      <td>покупка жилой недвижимости</td>\n",
       "    </tr>\n",
       "  </tbody>\n",
       "</table>\n",
       "</div>"
      ],
      "text/plain": [
       "    children  days_employed  dob_years            education  education_id  \\\n",
       "0          1    8437.673028         42               высшее             0   \n",
       "1          1    4024.803754         36              среднее             1   \n",
       "2          0    5623.422610         33              Среднее             1   \n",
       "3          3    4124.747207         32              среднее             1   \n",
       "4          0   14177.753002         53              среднее             1   \n",
       "5          0     926.185831         27               высшее             0   \n",
       "6          0    2879.202052         43               высшее             0   \n",
       "7          0     152.779569         50              СРЕДНЕЕ             1   \n",
       "8          2    6929.865299         35               ВЫСШЕЕ             0   \n",
       "9          0    2188.756445         41              среднее             1   \n",
       "10         2    4171.483647         36               высшее             0   \n",
       "11         0     792.701887         40              среднее             1   \n",
       "12         0            NaN         65              среднее             1   \n",
       "13         0    1846.641941         54  неоконченное высшее             2   \n",
       "14         0    1844.956182         56               высшее             0   \n",
       "\n",
       "       family_status  family_status_id gender income_type  debt  \\\n",
       "0    женат / замужем                 0      F   сотрудник     0   \n",
       "1    женат / замужем                 0      F   сотрудник     0   \n",
       "2    женат / замужем                 0      M   сотрудник     0   \n",
       "3    женат / замужем                 0      M   сотрудник     0   \n",
       "4   гражданский брак                 1      F   пенсионер     0   \n",
       "5   гражданский брак                 1      M   компаньон     0   \n",
       "6    женат / замужем                 0      F   компаньон     0   \n",
       "7    женат / замужем                 0      M   сотрудник     0   \n",
       "8   гражданский брак                 1      F   сотрудник     0   \n",
       "9    женат / замужем                 0      M   сотрудник     0   \n",
       "10   женат / замужем                 0      M   компаньон     0   \n",
       "11   женат / замужем                 0      F   сотрудник     0   \n",
       "12  гражданский брак                 1      M   пенсионер     0   \n",
       "13   женат / замужем                 0      F   сотрудник     0   \n",
       "14  гражданский брак                 1      F   компаньон     1   \n",
       "\n",
       "     total_income                            purpose  \n",
       "0   253875.639453                      покупка жилья  \n",
       "1   112080.014102            приобретение автомобиля  \n",
       "2   145885.952297                      покупка жилья  \n",
       "3   267628.550329         дополнительное образование  \n",
       "4   158616.077870                    сыграть свадьбу  \n",
       "5   255763.565419                      покупка жилья  \n",
       "6   240525.971920                  операции с жильем  \n",
       "7   135823.934197                        образование  \n",
       "8    95856.832424              на проведение свадьбы  \n",
       "9   144425.938277            покупка жилья для семьи  \n",
       "10  113943.491460               покупка недвижимости  \n",
       "11   77069.234271  покупка коммерческой недвижимости  \n",
       "12            NaN                    сыграть свадьбу  \n",
       "13  130458.228857            приобретение автомобиля  \n",
       "14  165127.911772         покупка жилой недвижимости  "
      ]
     },
     "execution_count": 24,
     "metadata": {},
     "output_type": "execute_result"
    }
   ],
   "source": [
    "df.head(15)"
   ]
  },
  {
   "cell_type": "markdown",
   "id": "73613eca",
   "metadata": {},
   "source": [
    "Конечно, остались значения странные, например в пятой строке 14177, то есть при 40 часовой рабочей неделе это примерно 57 лет стажа, но преположим что этот человек работал больше 40 часов в неделю."
   ]
  },
  {
   "cell_type": "markdown",
   "id": "03311fa1",
   "metadata": {},
   "source": [
    "Теперь снова проверим информацию по столбцу **days_employed**:"
   ]
  },
  {
   "cell_type": "code",
   "execution_count": 25,
   "id": "e502995f",
   "metadata": {},
   "outputs": [
    {
     "data": {
      "text/plain": [
       "children            1946\n",
       "days_employed       1946\n",
       "dob_years           1946\n",
       "education           1946\n",
       "education_id        1946\n",
       "family_status       1946\n",
       "family_status_id    1946\n",
       "gender              1946\n",
       "income_type         1946\n",
       "debt                1946\n",
       "total_income        1946\n",
       "purpose             1946\n",
       "dtype: int64"
      ]
     },
     "execution_count": 25,
     "metadata": {},
     "output_type": "execute_result"
    }
   ],
   "source": [
    "#проверка, все ли значения исправлены\n",
    "df[df['days_employed']>15000].count()"
   ]
  },
  {
   "cell_type": "markdown",
   "id": "673f49ba",
   "metadata": {},
   "source": [
    "Этот столбец мы подготовили, перейдем к следующему."
   ]
  },
  {
   "cell_type": "markdown",
   "id": "30941b60",
   "metadata": {},
   "source": [
    "### Столбец *dob_years*"
   ]
  },
  {
   "cell_type": "code",
   "execution_count": 26,
   "id": "66d0c461",
   "metadata": {},
   "outputs": [
    {
     "name": "stdout",
     "output_type": "stream",
     "text": [
      "0     100\n",
      "19     14\n",
      "20     51\n",
      "21    110\n",
      "22    183\n",
      "23    252\n",
      "24    263\n",
      "25    356\n",
      "26    406\n",
      "27    490\n",
      "28    501\n",
      "29    543\n",
      "30    536\n",
      "31    556\n",
      "32    506\n",
      "33    577\n",
      "34    597\n",
      "35    614\n",
      "36    553\n",
      "37    531\n",
      "38    595\n",
      "39    572\n",
      "40    603\n",
      "41    603\n",
      "42    592\n",
      "43    510\n",
      "44    543\n",
      "45    494\n",
      "46    469\n",
      "47    480\n",
      "48    536\n",
      "49    505\n",
      "50    509\n",
      "51    446\n",
      "52    483\n",
      "53    457\n",
      "54    476\n",
      "55    441\n",
      "56    482\n",
      "57    457\n",
      "58    461\n",
      "59    441\n",
      "60    376\n",
      "61    353\n",
      "62    351\n",
      "63    268\n",
      "64    263\n",
      "65    194\n",
      "66    183\n",
      "67    167\n",
      "68     99\n",
      "69     83\n",
      "70     65\n",
      "71     58\n",
      "72     33\n",
      "73      8\n",
      "74      6\n",
      "75      1\n",
      "Name: dob_years, dtype: int64\n"
     ]
    }
   ],
   "source": [
    "print(df['dob_years'].value_counts().sort_index())"
   ]
  },
  {
   "cell_type": "markdown",
   "id": "165082d2",
   "metadata": {},
   "source": [
    "В этом столбце есть значение \"0\", что странно, так как возраст не может быть 0. Нужно проверить в каких строках это значение  встречается, и если на результат не будет оказывать влияния, то можно их удалить (их незначительное количество: 101 из 21402 - меньше 0,5%)"
   ]
  },
  {
   "cell_type": "code",
   "execution_count": 27,
   "id": "757c4e50",
   "metadata": {},
   "outputs": [
    {
     "data": {
      "text/html": [
       "<div>\n",
       "<style scoped>\n",
       "    .dataframe tbody tr th:only-of-type {\n",
       "        vertical-align: middle;\n",
       "    }\n",
       "\n",
       "    .dataframe tbody tr th {\n",
       "        vertical-align: top;\n",
       "    }\n",
       "\n",
       "    .dataframe thead th {\n",
       "        text-align: right;\n",
       "    }\n",
       "</style>\n",
       "<table border=\"1\" class=\"dataframe\">\n",
       "  <thead>\n",
       "    <tr style=\"text-align: right;\">\n",
       "      <th></th>\n",
       "      <th>children</th>\n",
       "      <th>days_employed</th>\n",
       "      <th>dob_years</th>\n",
       "      <th>education</th>\n",
       "      <th>education_id</th>\n",
       "      <th>family_status</th>\n",
       "      <th>family_status_id</th>\n",
       "      <th>gender</th>\n",
       "      <th>income_type</th>\n",
       "      <th>debt</th>\n",
       "      <th>total_income</th>\n",
       "      <th>purpose</th>\n",
       "    </tr>\n",
       "  </thead>\n",
       "  <tbody>\n",
       "    <tr>\n",
       "      <th>99</th>\n",
       "      <td>0</td>\n",
       "      <td>14439.234121</td>\n",
       "      <td>0</td>\n",
       "      <td>Среднее</td>\n",
       "      <td>1</td>\n",
       "      <td>женат / замужем</td>\n",
       "      <td>0</td>\n",
       "      <td>F</td>\n",
       "      <td>пенсионер</td>\n",
       "      <td>0</td>\n",
       "      <td>71291.522491</td>\n",
       "      <td>автомобиль</td>\n",
       "    </tr>\n",
       "    <tr>\n",
       "      <th>149</th>\n",
       "      <td>0</td>\n",
       "      <td>2664.273168</td>\n",
       "      <td>0</td>\n",
       "      <td>среднее</td>\n",
       "      <td>1</td>\n",
       "      <td>в разводе</td>\n",
       "      <td>3</td>\n",
       "      <td>F</td>\n",
       "      <td>сотрудник</td>\n",
       "      <td>0</td>\n",
       "      <td>70176.435951</td>\n",
       "      <td>операции с жильем</td>\n",
       "    </tr>\n",
       "    <tr>\n",
       "      <th>270</th>\n",
       "      <td>3</td>\n",
       "      <td>1872.663186</td>\n",
       "      <td>0</td>\n",
       "      <td>среднее</td>\n",
       "      <td>1</td>\n",
       "      <td>женат / замужем</td>\n",
       "      <td>0</td>\n",
       "      <td>F</td>\n",
       "      <td>сотрудник</td>\n",
       "      <td>0</td>\n",
       "      <td>102166.458894</td>\n",
       "      <td>ремонт жилью</td>\n",
       "    </tr>\n",
       "    <tr>\n",
       "      <th>577</th>\n",
       "      <td>0</td>\n",
       "      <td>16577.356876</td>\n",
       "      <td>0</td>\n",
       "      <td>среднее</td>\n",
       "      <td>1</td>\n",
       "      <td>женат / замужем</td>\n",
       "      <td>0</td>\n",
       "      <td>F</td>\n",
       "      <td>пенсионер</td>\n",
       "      <td>0</td>\n",
       "      <td>97620.687042</td>\n",
       "      <td>строительство собственной недвижимости</td>\n",
       "    </tr>\n",
       "    <tr>\n",
       "      <th>1033</th>\n",
       "      <td>0</td>\n",
       "      <td>1158.029561</td>\n",
       "      <td>0</td>\n",
       "      <td>высшее</td>\n",
       "      <td>0</td>\n",
       "      <td>в разводе</td>\n",
       "      <td>3</td>\n",
       "      <td>F</td>\n",
       "      <td>компаньон</td>\n",
       "      <td>0</td>\n",
       "      <td>303994.134987</td>\n",
       "      <td>свой автомобиль</td>\n",
       "    </tr>\n",
       "    <tr>\n",
       "      <th>...</th>\n",
       "      <td>...</td>\n",
       "      <td>...</td>\n",
       "      <td>...</td>\n",
       "      <td>...</td>\n",
       "      <td>...</td>\n",
       "      <td>...</td>\n",
       "      <td>...</td>\n",
       "      <td>...</td>\n",
       "      <td>...</td>\n",
       "      <td>...</td>\n",
       "      <td>...</td>\n",
       "      <td>...</td>\n",
       "    </tr>\n",
       "    <tr>\n",
       "      <th>19716</th>\n",
       "      <td>0</td>\n",
       "      <td>NaN</td>\n",
       "      <td>0</td>\n",
       "      <td>среднее</td>\n",
       "      <td>1</td>\n",
       "      <td>женат / замужем</td>\n",
       "      <td>0</td>\n",
       "      <td>F</td>\n",
       "      <td>сотрудник</td>\n",
       "      <td>0</td>\n",
       "      <td>NaN</td>\n",
       "      <td>жилье</td>\n",
       "    </tr>\n",
       "    <tr>\n",
       "      <th>20346</th>\n",
       "      <td>0</td>\n",
       "      <td>14113.952856</td>\n",
       "      <td>0</td>\n",
       "      <td>среднее</td>\n",
       "      <td>1</td>\n",
       "      <td>женат / замужем</td>\n",
       "      <td>0</td>\n",
       "      <td>F</td>\n",
       "      <td>пенсионер</td>\n",
       "      <td>0</td>\n",
       "      <td>259193.920299</td>\n",
       "      <td>покупка своего жилья</td>\n",
       "    </tr>\n",
       "    <tr>\n",
       "      <th>20461</th>\n",
       "      <td>0</td>\n",
       "      <td>13822.552977</td>\n",
       "      <td>0</td>\n",
       "      <td>среднее</td>\n",
       "      <td>1</td>\n",
       "      <td>Не женат / не замужем</td>\n",
       "      <td>4</td>\n",
       "      <td>F</td>\n",
       "      <td>пенсионер</td>\n",
       "      <td>0</td>\n",
       "      <td>129788.762899</td>\n",
       "      <td>недвижимость</td>\n",
       "    </tr>\n",
       "    <tr>\n",
       "      <th>21060</th>\n",
       "      <td>2</td>\n",
       "      <td>108.967042</td>\n",
       "      <td>0</td>\n",
       "      <td>высшее</td>\n",
       "      <td>0</td>\n",
       "      <td>женат / замужем</td>\n",
       "      <td>0</td>\n",
       "      <td>M</td>\n",
       "      <td>компаньон</td>\n",
       "      <td>0</td>\n",
       "      <td>240702.007382</td>\n",
       "      <td>строительство жилой недвижимости</td>\n",
       "    </tr>\n",
       "    <tr>\n",
       "      <th>21194</th>\n",
       "      <td>0</td>\n",
       "      <td>1268.487728</td>\n",
       "      <td>0</td>\n",
       "      <td>среднее</td>\n",
       "      <td>1</td>\n",
       "      <td>Не женат / не замужем</td>\n",
       "      <td>4</td>\n",
       "      <td>M</td>\n",
       "      <td>сотрудник</td>\n",
       "      <td>0</td>\n",
       "      <td>152419.184851</td>\n",
       "      <td>операции с жильем</td>\n",
       "    </tr>\n",
       "  </tbody>\n",
       "</table>\n",
       "<p>100 rows × 12 columns</p>\n",
       "</div>"
      ],
      "text/plain": [
       "       children  days_employed  dob_years education  education_id  \\\n",
       "99            0   14439.234121          0   Среднее             1   \n",
       "149           0    2664.273168          0   среднее             1   \n",
       "270           3    1872.663186          0   среднее             1   \n",
       "577           0   16577.356876          0   среднее             1   \n",
       "1033          0    1158.029561          0    высшее             0   \n",
       "...         ...            ...        ...       ...           ...   \n",
       "19716         0            NaN          0   среднее             1   \n",
       "20346         0   14113.952856          0   среднее             1   \n",
       "20461         0   13822.552977          0   среднее             1   \n",
       "21060         2     108.967042          0    высшее             0   \n",
       "21194         0    1268.487728          0   среднее             1   \n",
       "\n",
       "               family_status  family_status_id gender income_type  debt  \\\n",
       "99           женат / замужем                 0      F   пенсионер     0   \n",
       "149                в разводе                 3      F   сотрудник     0   \n",
       "270          женат / замужем                 0      F   сотрудник     0   \n",
       "577          женат / замужем                 0      F   пенсионер     0   \n",
       "1033               в разводе                 3      F   компаньон     0   \n",
       "...                      ...               ...    ...         ...   ...   \n",
       "19716        женат / замужем                 0      F   сотрудник     0   \n",
       "20346        женат / замужем                 0      F   пенсионер     0   \n",
       "20461  Не женат / не замужем                 4      F   пенсионер     0   \n",
       "21060        женат / замужем                 0      M   компаньон     0   \n",
       "21194  Не женат / не замужем                 4      M   сотрудник     0   \n",
       "\n",
       "        total_income                                 purpose  \n",
       "99      71291.522491                              автомобиль  \n",
       "149     70176.435951                       операции с жильем  \n",
       "270    102166.458894                            ремонт жилью  \n",
       "577     97620.687042  строительство собственной недвижимости  \n",
       "1033   303994.134987                         свой автомобиль  \n",
       "...              ...                                     ...  \n",
       "19716            NaN                                   жилье  \n",
       "20346  259193.920299                    покупка своего жилья  \n",
       "20461  129788.762899                            недвижимость  \n",
       "21060  240702.007382        строительство жилой недвижимости  \n",
       "21194  152419.184851                       операции с жильем  \n",
       "\n",
       "[100 rows x 12 columns]"
      ]
     },
     "execution_count": 27,
     "metadata": {},
     "output_type": "execute_result"
    }
   ],
   "source": [
    "df[df['dob_years'] == 0]"
   ]
  },
  {
   "cell_type": "markdown",
   "id": "1f56ae0f",
   "metadata": {},
   "source": [
    "Закономерности не прослеживаатся, поэтому удалим эти строки:"
   ]
  },
  {
   "cell_type": "markdown",
   "id": "68c47c91",
   "metadata": {},
   "source": [
    "### Удаление строк с аномальными значениями"
   ]
  },
  {
   "cell_type": "code",
   "execution_count": 28,
   "id": "28bc7d49",
   "metadata": {},
   "outputs": [
    {
     "name": "stdout",
     "output_type": "stream",
     "text": [
      "Удалено строк:  100\n",
      "Всего осталось строк: 21302\n"
     ]
    }
   ],
   "source": [
    "#индексы строк со значением возраста \"0\"\n",
    "zeroes = df[df['dob_years']==0].index\n",
    "\n",
    "#удаляем строки с помощью цикла\n",
    "drop_zeroes = 0\n",
    "try:\n",
    "    for drop_str in zeroes:\n",
    "        df = df.drop(drop_str)\n",
    "        drop_zeroes+=1\n",
    "except:\n",
    "    print(\"Не удалось удалить строку\")\n",
    "print(\"Удалено строк: \", drop_zeroes)\n",
    "\n",
    "print(\"Всего осталось строк:\", len(df))"
   ]
  },
  {
   "cell_type": "code",
   "execution_count": 29,
   "id": "0bc71225",
   "metadata": {},
   "outputs": [],
   "source": [
    "#исправим индексы после удаления строк\n",
    "df = df.reset_index(drop=True)"
   ]
  },
  {
   "cell_type": "code",
   "execution_count": 30,
   "id": "3c8a14c3",
   "metadata": {},
   "outputs": [
    {
     "name": "stdout",
     "output_type": "stream",
     "text": [
      "<class 'pandas.core.frame.DataFrame'>\n",
      "RangeIndex: 21302 entries, 0 to 21301\n",
      "Data columns (total 12 columns):\n",
      " #   Column            Non-Null Count  Dtype  \n",
      "---  ------            --------------  -----  \n",
      " 0   children          21302 non-null  int64  \n",
      " 1   days_employed     19150 non-null  float64\n",
      " 2   dob_years         21302 non-null  int64  \n",
      " 3   education         21302 non-null  object \n",
      " 4   education_id      21302 non-null  int64  \n",
      " 5   family_status     21302 non-null  object \n",
      " 6   family_status_id  21302 non-null  int64  \n",
      " 7   gender            21302 non-null  object \n",
      " 8   income_type       21302 non-null  object \n",
      " 9   debt              21302 non-null  int64  \n",
      " 10  total_income      19150 non-null  float64\n",
      " 11  purpose           21302 non-null  object \n",
      "dtypes: float64(2), int64(5), object(5)\n",
      "memory usage: 2.0+ MB\n"
     ]
    }
   ],
   "source": [
    "df.info()"
   ]
  },
  {
   "cell_type": "markdown",
   "id": "ef39bc52",
   "metadata": {},
   "source": [
    "Теперь в таблице осталось 21302 строки с данными."
   ]
  },
  {
   "cell_type": "markdown",
   "id": "5ebb5311",
   "metadata": {},
   "source": [
    "### Столбцы *education* и *education_id*"
   ]
  },
  {
   "cell_type": "code",
   "execution_count": 31,
   "id": "e89d49ac",
   "metadata": {},
   "outputs": [
    {
     "data": {
      "text/plain": [
       "среднее                13609\n",
       "высшее                  4666\n",
       "СРЕДНЕЕ                  764\n",
       "Среднее                  700\n",
       "неоконченное высшее      663\n",
       "ВЫСШЕЕ                   270\n",
       "Высшее                   266\n",
       "начальное                250\n",
       "Неоконченное высшее       47\n",
       "НЕОКОНЧЕННОЕ ВЫСШЕЕ       29\n",
       "НАЧАЛЬНОЕ                 17\n",
       "Начальное                 15\n",
       "ученая степень             4\n",
       "Ученая степень             1\n",
       "УЧЕНАЯ СТЕПЕНЬ             1\n",
       "Name: education, dtype: int64"
      ]
     },
     "execution_count": 31,
     "metadata": {},
     "output_type": "execute_result"
    }
   ],
   "source": [
    "df['education'].value_counts()"
   ]
  },
  {
   "cell_type": "markdown",
   "id": "eefa1a06",
   "metadata": {},
   "source": [
    "Здесь видим дубликаты, которые нужно привести к одному регистру."
   ]
  },
  {
   "cell_type": "code",
   "execution_count": 32,
   "id": "736e4dd3",
   "metadata": {},
   "outputs": [
    {
     "data": {
      "text/plain": [
       "1    15073\n",
       "0     5202\n",
       "2      739\n",
       "3      282\n",
       "4        6\n",
       "Name: education_id, dtype: int64"
      ]
     },
     "execution_count": 32,
     "metadata": {},
     "output_type": "execute_result"
    }
   ],
   "source": [
    "df['education_id'].value_counts()"
   ]
  },
  {
   "cell_type": "markdown",
   "id": "9e761a72",
   "metadata": {},
   "source": [
    "По столбцу **education_id** видно, что существует 5 типов образования. В столбце **education** стоят одни и теже категории, но с разными регистрами, надо эти дубликаты исправить"
   ]
  },
  {
   "cell_type": "markdown",
   "id": "6ff4515c",
   "metadata": {},
   "source": [
    "### Устранение дубликатов"
   ]
  },
  {
   "cell_type": "code",
   "execution_count": 33,
   "id": "154a6ecf",
   "metadata": {},
   "outputs": [],
   "source": [
    "df['education'] = df['education'].str.lower()"
   ]
  },
  {
   "cell_type": "markdown",
   "id": "6eea1f09",
   "metadata": {},
   "source": [
    "Проверим, исправился ли регистр:"
   ]
  },
  {
   "cell_type": "code",
   "execution_count": 34,
   "id": "dbfc821d",
   "metadata": {},
   "outputs": [
    {
     "data": {
      "text/plain": [
       "среднее                15073\n",
       "высшее                  5202\n",
       "неоконченное высшее      739\n",
       "начальное                282\n",
       "ученая степень             6\n",
       "Name: education, dtype: int64"
      ]
     },
     "execution_count": 34,
     "metadata": {},
     "output_type": "execute_result"
    }
   ],
   "source": [
    "df['education'].value_counts()"
   ]
  },
  {
   "cell_type": "markdown",
   "id": "44456b9d",
   "metadata": {},
   "source": [
    "Теперь пять типов образования, что соответствует количеству id"
   ]
  },
  {
   "cell_type": "code",
   "execution_count": 35,
   "id": "92c395df",
   "metadata": {},
   "outputs": [
    {
     "data": {
      "text/plain": [
       "71"
      ]
     },
     "execution_count": 35,
     "metadata": {},
     "output_type": "execute_result"
    }
   ],
   "source": [
    "df.duplicated().sum()"
   ]
  },
  {
   "cell_type": "code",
   "execution_count": 36,
   "id": "adf4d706",
   "metadata": {},
   "outputs": [
    {
     "data": {
      "text/html": [
       "<div>\n",
       "<style scoped>\n",
       "    .dataframe tbody tr th:only-of-type {\n",
       "        vertical-align: middle;\n",
       "    }\n",
       "\n",
       "    .dataframe tbody tr th {\n",
       "        vertical-align: top;\n",
       "    }\n",
       "\n",
       "    .dataframe thead th {\n",
       "        text-align: right;\n",
       "    }\n",
       "</style>\n",
       "<table border=\"1\" class=\"dataframe\">\n",
       "  <thead>\n",
       "    <tr style=\"text-align: right;\">\n",
       "      <th></th>\n",
       "      <th>children</th>\n",
       "      <th>days_employed</th>\n",
       "      <th>dob_years</th>\n",
       "      <th>education</th>\n",
       "      <th>education_id</th>\n",
       "      <th>family_status</th>\n",
       "      <th>family_status_id</th>\n",
       "      <th>gender</th>\n",
       "      <th>income_type</th>\n",
       "      <th>debt</th>\n",
       "      <th>total_income</th>\n",
       "      <th>purpose</th>\n",
       "    </tr>\n",
       "  </thead>\n",
       "  <tbody>\n",
       "    <tr>\n",
       "      <th>2823</th>\n",
       "      <td>0</td>\n",
       "      <td>NaN</td>\n",
       "      <td>41</td>\n",
       "      <td>среднее</td>\n",
       "      <td>1</td>\n",
       "      <td>женат / замужем</td>\n",
       "      <td>0</td>\n",
       "      <td>F</td>\n",
       "      <td>сотрудник</td>\n",
       "      <td>0</td>\n",
       "      <td>NaN</td>\n",
       "      <td>покупка жилья для семьи</td>\n",
       "    </tr>\n",
       "    <tr>\n",
       "      <th>3260</th>\n",
       "      <td>0</td>\n",
       "      <td>NaN</td>\n",
       "      <td>58</td>\n",
       "      <td>среднее</td>\n",
       "      <td>1</td>\n",
       "      <td>гражданский брак</td>\n",
       "      <td>1</td>\n",
       "      <td>F</td>\n",
       "      <td>пенсионер</td>\n",
       "      <td>0</td>\n",
       "      <td>NaN</td>\n",
       "      <td>сыграть свадьбу</td>\n",
       "    </tr>\n",
       "    <tr>\n",
       "      <th>4142</th>\n",
       "      <td>1</td>\n",
       "      <td>NaN</td>\n",
       "      <td>34</td>\n",
       "      <td>высшее</td>\n",
       "      <td>0</td>\n",
       "      <td>гражданский брак</td>\n",
       "      <td>1</td>\n",
       "      <td>F</td>\n",
       "      <td>сотрудник</td>\n",
       "      <td>0</td>\n",
       "      <td>NaN</td>\n",
       "      <td>свадьба</td>\n",
       "    </tr>\n",
       "    <tr>\n",
       "      <th>4808</th>\n",
       "      <td>0</td>\n",
       "      <td>NaN</td>\n",
       "      <td>60</td>\n",
       "      <td>среднее</td>\n",
       "      <td>1</td>\n",
       "      <td>гражданский брак</td>\n",
       "      <td>1</td>\n",
       "      <td>F</td>\n",
       "      <td>пенсионер</td>\n",
       "      <td>0</td>\n",
       "      <td>NaN</td>\n",
       "      <td>свадьба</td>\n",
       "    </tr>\n",
       "    <tr>\n",
       "      <th>5506</th>\n",
       "      <td>0</td>\n",
       "      <td>NaN</td>\n",
       "      <td>58</td>\n",
       "      <td>среднее</td>\n",
       "      <td>1</td>\n",
       "      <td>гражданский брак</td>\n",
       "      <td>1</td>\n",
       "      <td>F</td>\n",
       "      <td>пенсионер</td>\n",
       "      <td>0</td>\n",
       "      <td>NaN</td>\n",
       "      <td>сыграть свадьбу</td>\n",
       "    </tr>\n",
       "    <tr>\n",
       "      <th>6258</th>\n",
       "      <td>0</td>\n",
       "      <td>NaN</td>\n",
       "      <td>30</td>\n",
       "      <td>среднее</td>\n",
       "      <td>1</td>\n",
       "      <td>женат / замужем</td>\n",
       "      <td>0</td>\n",
       "      <td>M</td>\n",
       "      <td>сотрудник</td>\n",
       "      <td>0</td>\n",
       "      <td>NaN</td>\n",
       "      <td>строительство жилой недвижимости</td>\n",
       "    </tr>\n",
       "    <tr>\n",
       "      <th>7732</th>\n",
       "      <td>0</td>\n",
       "      <td>NaN</td>\n",
       "      <td>57</td>\n",
       "      <td>среднее</td>\n",
       "      <td>1</td>\n",
       "      <td>гражданский брак</td>\n",
       "      <td>1</td>\n",
       "      <td>F</td>\n",
       "      <td>пенсионер</td>\n",
       "      <td>0</td>\n",
       "      <td>NaN</td>\n",
       "      <td>на проведение свадьбы</td>\n",
       "    </tr>\n",
       "    <tr>\n",
       "      <th>7845</th>\n",
       "      <td>0</td>\n",
       "      <td>NaN</td>\n",
       "      <td>64</td>\n",
       "      <td>высшее</td>\n",
       "      <td>0</td>\n",
       "      <td>гражданский брак</td>\n",
       "      <td>1</td>\n",
       "      <td>F</td>\n",
       "      <td>пенсионер</td>\n",
       "      <td>0</td>\n",
       "      <td>NaN</td>\n",
       "      <td>на проведение свадьбы</td>\n",
       "    </tr>\n",
       "    <tr>\n",
       "      <th>7862</th>\n",
       "      <td>0</td>\n",
       "      <td>NaN</td>\n",
       "      <td>71</td>\n",
       "      <td>среднее</td>\n",
       "      <td>1</td>\n",
       "      <td>гражданский брак</td>\n",
       "      <td>1</td>\n",
       "      <td>F</td>\n",
       "      <td>пенсионер</td>\n",
       "      <td>0</td>\n",
       "      <td>NaN</td>\n",
       "      <td>на проведение свадьбы</td>\n",
       "    </tr>\n",
       "    <tr>\n",
       "      <th>8499</th>\n",
       "      <td>0</td>\n",
       "      <td>NaN</td>\n",
       "      <td>58</td>\n",
       "      <td>высшее</td>\n",
       "      <td>0</td>\n",
       "      <td>Не женат / не замужем</td>\n",
       "      <td>4</td>\n",
       "      <td>F</td>\n",
       "      <td>пенсионер</td>\n",
       "      <td>0</td>\n",
       "      <td>NaN</td>\n",
       "      <td>дополнительное образование</td>\n",
       "    </tr>\n",
       "  </tbody>\n",
       "</table>\n",
       "</div>"
      ],
      "text/plain": [
       "      children  days_employed  dob_years education  education_id  \\\n",
       "2823         0            NaN         41   среднее             1   \n",
       "3260         0            NaN         58   среднее             1   \n",
       "4142         1            NaN         34    высшее             0   \n",
       "4808         0            NaN         60   среднее             1   \n",
       "5506         0            NaN         58   среднее             1   \n",
       "6258         0            NaN         30   среднее             1   \n",
       "7732         0            NaN         57   среднее             1   \n",
       "7845         0            NaN         64    высшее             0   \n",
       "7862         0            NaN         71   среднее             1   \n",
       "8499         0            NaN         58    высшее             0   \n",
       "\n",
       "              family_status  family_status_id gender income_type  debt  \\\n",
       "2823        женат / замужем                 0      F   сотрудник     0   \n",
       "3260       гражданский брак                 1      F   пенсионер     0   \n",
       "4142       гражданский брак                 1      F   сотрудник     0   \n",
       "4808       гражданский брак                 1      F   пенсионер     0   \n",
       "5506       гражданский брак                 1      F   пенсионер     0   \n",
       "6258        женат / замужем                 0      M   сотрудник     0   \n",
       "7732       гражданский брак                 1      F   пенсионер     0   \n",
       "7845       гражданский брак                 1      F   пенсионер     0   \n",
       "7862       гражданский брак                 1      F   пенсионер     0   \n",
       "8499  Не женат / не замужем                 4      F   пенсионер     0   \n",
       "\n",
       "      total_income                           purpose  \n",
       "2823           NaN           покупка жилья для семьи  \n",
       "3260           NaN                   сыграть свадьбу  \n",
       "4142           NaN                           свадьба  \n",
       "4808           NaN                           свадьба  \n",
       "5506           NaN                   сыграть свадьбу  \n",
       "6258           NaN  строительство жилой недвижимости  \n",
       "7732           NaN             на проведение свадьбы  \n",
       "7845           NaN             на проведение свадьбы  \n",
       "7862           NaN             на проведение свадьбы  \n",
       "8499           NaN        дополнительное образование  "
      ]
     },
     "execution_count": 36,
     "metadata": {},
     "output_type": "execute_result"
    }
   ],
   "source": [
    "duplicated_df = df[df.duplicated()].head(10)\n",
    "duplicated_df"
   ]
  },
  {
   "cell_type": "code",
   "execution_count": 37,
   "id": "0d1094cf",
   "metadata": {},
   "outputs": [],
   "source": [
    "df = df.drop_duplicates().reset_index(drop=True)"
   ]
  },
  {
   "cell_type": "markdown",
   "id": "3ff730c7",
   "metadata": {},
   "source": [
    "### Столбцы *family_status* и *family_status_id*"
   ]
  },
  {
   "cell_type": "code",
   "execution_count": 38,
   "id": "f02aa747",
   "metadata": {},
   "outputs": [
    {
     "data": {
      "text/plain": [
       "женат / замужем          12213\n",
       "гражданский брак          4113\n",
       "Не женат / не замужем     2780\n",
       "в разводе                 1179\n",
       "вдовец / вдова             946\n",
       "Name: family_status, dtype: int64"
      ]
     },
     "execution_count": 38,
     "metadata": {},
     "output_type": "execute_result"
    }
   ],
   "source": [
    "df['family_status'].value_counts()\n"
   ]
  },
  {
   "cell_type": "code",
   "execution_count": 39,
   "id": "4e2dd7e5",
   "metadata": {},
   "outputs": [
    {
     "data": {
      "text/plain": [
       "0    12213\n",
       "1     4113\n",
       "4     2780\n",
       "3     1179\n",
       "2      946\n",
       "Name: family_status_id, dtype: int64"
      ]
     },
     "execution_count": 39,
     "metadata": {},
     "output_type": "execute_result"
    }
   ],
   "source": [
    "df['family_status_id'].value_counts()"
   ]
  },
  {
   "cell_type": "markdown",
   "id": "325a3668",
   "metadata": {},
   "source": [
    "Количество совпадает. Оба столбца корректны."
   ]
  },
  {
   "cell_type": "markdown",
   "id": "2554360a",
   "metadata": {},
   "source": [
    "### Столбец *gender*"
   ]
  },
  {
   "cell_type": "code",
   "execution_count": 40,
   "id": "8b14f8f1",
   "metadata": {},
   "outputs": [
    {
     "data": {
      "text/plain": [
       "F      14021\n",
       "M       7209\n",
       "XNA        1\n",
       "Name: gender, dtype: int64"
      ]
     },
     "execution_count": 40,
     "metadata": {},
     "output_type": "execute_result"
    }
   ],
   "source": [
    "df['gender'].value_counts()"
   ]
  },
  {
   "cell_type": "markdown",
   "id": "69980584",
   "metadata": {},
   "source": [
    "Здесь видим, что женщин больше мужчин, а также появилось какое-то значение с XNA, так как оно одно, то можно его удалить, так как на результат это не повлияет."
   ]
  },
  {
   "cell_type": "code",
   "execution_count": 41,
   "id": "ee92cb26",
   "metadata": {},
   "outputs": [],
   "source": [
    "df = df.drop(np.where(df['gender'] == 'XNA')[0])"
   ]
  },
  {
   "cell_type": "code",
   "execution_count": 42,
   "id": "7123ad44",
   "metadata": {},
   "outputs": [],
   "source": [
    "#неверное решение\n",
    "#df[df['gender']=='XNA']\n",
    "#df.drop(10595)"
   ]
  },
  {
   "cell_type": "code",
   "execution_count": 43,
   "id": "eed99232",
   "metadata": {},
   "outputs": [],
   "source": [
    "#исправим индексы после удаления строк\n",
    "df = df.reset_index(drop=True)"
   ]
  },
  {
   "cell_type": "code",
   "execution_count": 44,
   "id": "2dc6e8f6",
   "metadata": {},
   "outputs": [
    {
     "name": "stdout",
     "output_type": "stream",
     "text": [
      "<class 'pandas.core.frame.DataFrame'>\n",
      "RangeIndex: 21230 entries, 0 to 21229\n",
      "Data columns (total 12 columns):\n",
      " #   Column            Non-Null Count  Dtype  \n",
      "---  ------            --------------  -----  \n",
      " 0   children          21230 non-null  int64  \n",
      " 1   days_employed     19149 non-null  float64\n",
      " 2   dob_years         21230 non-null  int64  \n",
      " 3   education         21230 non-null  object \n",
      " 4   education_id      21230 non-null  int64  \n",
      " 5   family_status     21230 non-null  object \n",
      " 6   family_status_id  21230 non-null  int64  \n",
      " 7   gender            21230 non-null  object \n",
      " 8   income_type       21230 non-null  object \n",
      " 9   debt              21230 non-null  int64  \n",
      " 10  total_income      19149 non-null  float64\n",
      " 11  purpose           21230 non-null  object \n",
      "dtypes: float64(2), int64(5), object(5)\n",
      "memory usage: 1.9+ MB\n"
     ]
    }
   ],
   "source": [
    "df.info()"
   ]
  },
  {
   "cell_type": "markdown",
   "id": "ddb02477",
   "metadata": {},
   "source": [
    "Теперь осталось 21301 строка с данными"
   ]
  },
  {
   "cell_type": "code",
   "execution_count": 45,
   "id": "a3a683ee",
   "metadata": {},
   "outputs": [
    {
     "data": {
      "text/plain": [
       "F    14021\n",
       "M     7209\n",
       "Name: gender, dtype: int64"
      ]
     },
     "execution_count": 45,
     "metadata": {},
     "output_type": "execute_result"
    }
   ],
   "source": [
    "#код ревьюера\n",
    "df.gender.value_counts()"
   ]
  },
  {
   "cell_type": "markdown",
   "id": "a9fce040",
   "metadata": {},
   "source": [
    "### Столбец *Income_type*"
   ]
  },
  {
   "cell_type": "code",
   "execution_count": 46,
   "id": "63fe94cd",
   "metadata": {},
   "outputs": [
    {
     "data": {
      "text/plain": [
       "сотрудник          10961\n",
       "компаньон           5026\n",
       "пенсионер           3792\n",
       "госслужащий         1445\n",
       "безработный            2\n",
       "предприниматель        2\n",
       "студент                1\n",
       "в декрете              1\n",
       "Name: income_type, dtype: int64"
      ]
     },
     "execution_count": 46,
     "metadata": {},
     "output_type": "execute_result"
    }
   ],
   "source": [
    "df['income_type'].value_counts()"
   ]
  },
  {
   "cell_type": "markdown",
   "id": "79d59dc7",
   "metadata": {},
   "source": [
    "Со столбцом все в порядке, оставим как есть."
   ]
  },
  {
   "cell_type": "markdown",
   "id": "3ed01836",
   "metadata": {},
   "source": [
    "### Столбец *debt*"
   ]
  },
  {
   "cell_type": "code",
   "execution_count": 47,
   "id": "94e44137",
   "metadata": {},
   "outputs": [
    {
     "data": {
      "text/plain": [
       "0    19506\n",
       "1     1724\n",
       "Name: debt, dtype: int64"
      ]
     },
     "execution_count": 47,
     "metadata": {},
     "output_type": "execute_result"
    }
   ],
   "source": [
    "df['debt'].value_counts()"
   ]
  },
  {
   "cell_type": "markdown",
   "id": "5e2eab2e",
   "metadata": {},
   "source": [
    "Все корректно."
   ]
  },
  {
   "cell_type": "markdown",
   "id": "2e40d212",
   "metadata": {},
   "source": [
    "### Столбец *total_income*"
   ]
  },
  {
   "cell_type": "code",
   "execution_count": 48,
   "id": "8517388c",
   "metadata": {},
   "outputs": [
    {
     "data": {
      "text/plain": [
       "count    1.914900e+04\n",
       "mean     1.674919e+05\n",
       "std      1.032220e+05\n",
       "min      2.066726e+04\n",
       "25%      1.030283e+05\n",
       "50%      1.450179e+05\n",
       "75%      2.033535e+05\n",
       "max      2.265604e+06\n",
       "Name: total_income, dtype: float64"
      ]
     },
     "execution_count": 48,
     "metadata": {},
     "output_type": "execute_result"
    }
   ],
   "source": [
    "df['total_income'].describe()"
   ]
  },
  {
   "cell_type": "code",
   "execution_count": 49,
   "id": "103c94fa",
   "metadata": {},
   "outputs": [
    {
     "data": {
      "text/html": [
       "<div>\n",
       "<style scoped>\n",
       "    .dataframe tbody tr th:only-of-type {\n",
       "        vertical-align: middle;\n",
       "    }\n",
       "\n",
       "    .dataframe tbody tr th {\n",
       "        vertical-align: top;\n",
       "    }\n",
       "\n",
       "    .dataframe thead th {\n",
       "        text-align: right;\n",
       "    }\n",
       "</style>\n",
       "<table border=\"1\" class=\"dataframe\">\n",
       "  <thead>\n",
       "    <tr style=\"text-align: right;\">\n",
       "      <th></th>\n",
       "      <th>children</th>\n",
       "      <th>days_employed</th>\n",
       "      <th>dob_years</th>\n",
       "      <th>education</th>\n",
       "      <th>education_id</th>\n",
       "      <th>family_status</th>\n",
       "      <th>family_status_id</th>\n",
       "      <th>gender</th>\n",
       "      <th>income_type</th>\n",
       "      <th>debt</th>\n",
       "      <th>total_income</th>\n",
       "      <th>purpose</th>\n",
       "    </tr>\n",
       "  </thead>\n",
       "  <tbody>\n",
       "    <tr>\n",
       "      <th>12</th>\n",
       "      <td>0</td>\n",
       "      <td>NaN</td>\n",
       "      <td>65</td>\n",
       "      <td>среднее</td>\n",
       "      <td>1</td>\n",
       "      <td>гражданский брак</td>\n",
       "      <td>1</td>\n",
       "      <td>M</td>\n",
       "      <td>пенсионер</td>\n",
       "      <td>0</td>\n",
       "      <td>NaN</td>\n",
       "      <td>сыграть свадьбу</td>\n",
       "    </tr>\n",
       "    <tr>\n",
       "      <th>26</th>\n",
       "      <td>0</td>\n",
       "      <td>NaN</td>\n",
       "      <td>41</td>\n",
       "      <td>среднее</td>\n",
       "      <td>1</td>\n",
       "      <td>женат / замужем</td>\n",
       "      <td>0</td>\n",
       "      <td>M</td>\n",
       "      <td>госслужащий</td>\n",
       "      <td>0</td>\n",
       "      <td>NaN</td>\n",
       "      <td>образование</td>\n",
       "    </tr>\n",
       "    <tr>\n",
       "      <th>29</th>\n",
       "      <td>0</td>\n",
       "      <td>NaN</td>\n",
       "      <td>63</td>\n",
       "      <td>среднее</td>\n",
       "      <td>1</td>\n",
       "      <td>Не женат / не замужем</td>\n",
       "      <td>4</td>\n",
       "      <td>F</td>\n",
       "      <td>пенсионер</td>\n",
       "      <td>0</td>\n",
       "      <td>NaN</td>\n",
       "      <td>строительство жилой недвижимости</td>\n",
       "    </tr>\n",
       "    <tr>\n",
       "      <th>41</th>\n",
       "      <td>0</td>\n",
       "      <td>NaN</td>\n",
       "      <td>50</td>\n",
       "      <td>среднее</td>\n",
       "      <td>1</td>\n",
       "      <td>женат / замужем</td>\n",
       "      <td>0</td>\n",
       "      <td>F</td>\n",
       "      <td>госслужащий</td>\n",
       "      <td>0</td>\n",
       "      <td>NaN</td>\n",
       "      <td>сделка с подержанным автомобилем</td>\n",
       "    </tr>\n",
       "    <tr>\n",
       "      <th>55</th>\n",
       "      <td>0</td>\n",
       "      <td>NaN</td>\n",
       "      <td>54</td>\n",
       "      <td>среднее</td>\n",
       "      <td>1</td>\n",
       "      <td>гражданский брак</td>\n",
       "      <td>1</td>\n",
       "      <td>F</td>\n",
       "      <td>пенсионер</td>\n",
       "      <td>1</td>\n",
       "      <td>NaN</td>\n",
       "      <td>сыграть свадьбу</td>\n",
       "    </tr>\n",
       "    <tr>\n",
       "      <th>65</th>\n",
       "      <td>0</td>\n",
       "      <td>NaN</td>\n",
       "      <td>21</td>\n",
       "      <td>среднее</td>\n",
       "      <td>1</td>\n",
       "      <td>Не женат / не замужем</td>\n",
       "      <td>4</td>\n",
       "      <td>M</td>\n",
       "      <td>компаньон</td>\n",
       "      <td>0</td>\n",
       "      <td>NaN</td>\n",
       "      <td>операции с коммерческой недвижимостью</td>\n",
       "    </tr>\n",
       "    <tr>\n",
       "      <th>67</th>\n",
       "      <td>0</td>\n",
       "      <td>NaN</td>\n",
       "      <td>52</td>\n",
       "      <td>высшее</td>\n",
       "      <td>0</td>\n",
       "      <td>женат / замужем</td>\n",
       "      <td>0</td>\n",
       "      <td>F</td>\n",
       "      <td>пенсионер</td>\n",
       "      <td>0</td>\n",
       "      <td>NaN</td>\n",
       "      <td>покупка жилья для семьи</td>\n",
       "    </tr>\n",
       "    <tr>\n",
       "      <th>72</th>\n",
       "      <td>1</td>\n",
       "      <td>NaN</td>\n",
       "      <td>32</td>\n",
       "      <td>высшее</td>\n",
       "      <td>0</td>\n",
       "      <td>женат / замужем</td>\n",
       "      <td>0</td>\n",
       "      <td>M</td>\n",
       "      <td>госслужащий</td>\n",
       "      <td>0</td>\n",
       "      <td>NaN</td>\n",
       "      <td>операции с коммерческой недвижимостью</td>\n",
       "    </tr>\n",
       "    <tr>\n",
       "      <th>82</th>\n",
       "      <td>2</td>\n",
       "      <td>NaN</td>\n",
       "      <td>50</td>\n",
       "      <td>высшее</td>\n",
       "      <td>0</td>\n",
       "      <td>женат / замужем</td>\n",
       "      <td>0</td>\n",
       "      <td>F</td>\n",
       "      <td>сотрудник</td>\n",
       "      <td>0</td>\n",
       "      <td>NaN</td>\n",
       "      <td>жилье</td>\n",
       "    </tr>\n",
       "    <tr>\n",
       "      <th>83</th>\n",
       "      <td>0</td>\n",
       "      <td>NaN</td>\n",
       "      <td>52</td>\n",
       "      <td>среднее</td>\n",
       "      <td>1</td>\n",
       "      <td>женат / замужем</td>\n",
       "      <td>0</td>\n",
       "      <td>M</td>\n",
       "      <td>сотрудник</td>\n",
       "      <td>0</td>\n",
       "      <td>NaN</td>\n",
       "      <td>жилье</td>\n",
       "    </tr>\n",
       "  </tbody>\n",
       "</table>\n",
       "</div>"
      ],
      "text/plain": [
       "    children  days_employed  dob_years education  education_id  \\\n",
       "12         0            NaN         65   среднее             1   \n",
       "26         0            NaN         41   среднее             1   \n",
       "29         0            NaN         63   среднее             1   \n",
       "41         0            NaN         50   среднее             1   \n",
       "55         0            NaN         54   среднее             1   \n",
       "65         0            NaN         21   среднее             1   \n",
       "67         0            NaN         52    высшее             0   \n",
       "72         1            NaN         32    высшее             0   \n",
       "82         2            NaN         50    высшее             0   \n",
       "83         0            NaN         52   среднее             1   \n",
       "\n",
       "            family_status  family_status_id gender  income_type  debt  \\\n",
       "12       гражданский брак                 1      M    пенсионер     0   \n",
       "26        женат / замужем                 0      M  госслужащий     0   \n",
       "29  Не женат / не замужем                 4      F    пенсионер     0   \n",
       "41        женат / замужем                 0      F  госслужащий     0   \n",
       "55       гражданский брак                 1      F    пенсионер     1   \n",
       "65  Не женат / не замужем                 4      M    компаньон     0   \n",
       "67        женат / замужем                 0      F    пенсионер     0   \n",
       "72        женат / замужем                 0      M  госслужащий     0   \n",
       "82        женат / замужем                 0      F    сотрудник     0   \n",
       "83        женат / замужем                 0      M    сотрудник     0   \n",
       "\n",
       "    total_income                                purpose  \n",
       "12           NaN                        сыграть свадьбу  \n",
       "26           NaN                            образование  \n",
       "29           NaN       строительство жилой недвижимости  \n",
       "41           NaN       сделка с подержанным автомобилем  \n",
       "55           NaN                        сыграть свадьбу  \n",
       "65           NaN  операции с коммерческой недвижимостью  \n",
       "67           NaN                покупка жилья для семьи  \n",
       "72           NaN  операции с коммерческой недвижимостью  \n",
       "82           NaN                                  жилье  \n",
       "83           NaN                                  жилье  "
      ]
     },
     "execution_count": 49,
     "metadata": {},
     "output_type": "execute_result"
    }
   ],
   "source": [
    "df[df['total_income'].isnull()].head(10)"
   ]
  },
  {
   "cell_type": "markdown",
   "id": "d1094962",
   "metadata": {},
   "source": [
    "Похоже что нет закономерности в появлении пропусков с другими столбцами т.к. везде разные значения."
   ]
  },
  {
   "cell_type": "markdown",
   "id": "1d09bb1e",
   "metadata": {},
   "source": [
    "### Заполнение пропусков"
   ]
  },
  {
   "cell_type": "code",
   "execution_count": 50,
   "id": "e466a0c5",
   "metadata": {},
   "outputs": [
    {
     "data": {
      "text/plain": [
       "8437.673028     1\n",
       "3507.818775     1\n",
       "14770.850661    1\n",
       "769.717438      1\n",
       "3963.590317     1\n",
       "               ..\n",
       "16282.044543    1\n",
       "14219.893165    1\n",
       "14533.281067    1\n",
       "2128.237967     1\n",
       "1984.507589     1\n",
       "Name: days_employed, Length: 19149, dtype: int64"
      ]
     },
     "execution_count": 50,
     "metadata": {},
     "output_type": "execute_result"
    }
   ],
   "source": [
    "df['days_employed'].value_counts()"
   ]
  },
  {
   "cell_type": "code",
   "execution_count": 51,
   "id": "12ce23ec",
   "metadata": {},
   "outputs": [
    {
     "name": "stdout",
     "output_type": "stream",
     "text": [
      "Кол-во значений отсутствующих одновременно в обоих столбцах:  2081\n"
     ]
    },
    {
     "data": {
      "text/html": [
       "<div>\n",
       "<style scoped>\n",
       "    .dataframe tbody tr th:only-of-type {\n",
       "        vertical-align: middle;\n",
       "    }\n",
       "\n",
       "    .dataframe tbody tr th {\n",
       "        vertical-align: top;\n",
       "    }\n",
       "\n",
       "    .dataframe thead th {\n",
       "        text-align: right;\n",
       "    }\n",
       "</style>\n",
       "<table border=\"1\" class=\"dataframe\">\n",
       "  <thead>\n",
       "    <tr style=\"text-align: right;\">\n",
       "      <th></th>\n",
       "      <th>children</th>\n",
       "      <th>days_employed</th>\n",
       "      <th>dob_years</th>\n",
       "      <th>education</th>\n",
       "      <th>education_id</th>\n",
       "      <th>family_status</th>\n",
       "      <th>family_status_id</th>\n",
       "      <th>gender</th>\n",
       "      <th>income_type</th>\n",
       "      <th>debt</th>\n",
       "      <th>total_income</th>\n",
       "      <th>purpose</th>\n",
       "    </tr>\n",
       "  </thead>\n",
       "  <tbody>\n",
       "    <tr>\n",
       "      <th>12</th>\n",
       "      <td>0</td>\n",
       "      <td>NaN</td>\n",
       "      <td>65</td>\n",
       "      <td>среднее</td>\n",
       "      <td>1</td>\n",
       "      <td>гражданский брак</td>\n",
       "      <td>1</td>\n",
       "      <td>M</td>\n",
       "      <td>пенсионер</td>\n",
       "      <td>0</td>\n",
       "      <td>NaN</td>\n",
       "      <td>сыграть свадьбу</td>\n",
       "    </tr>\n",
       "    <tr>\n",
       "      <th>26</th>\n",
       "      <td>0</td>\n",
       "      <td>NaN</td>\n",
       "      <td>41</td>\n",
       "      <td>среднее</td>\n",
       "      <td>1</td>\n",
       "      <td>женат / замужем</td>\n",
       "      <td>0</td>\n",
       "      <td>M</td>\n",
       "      <td>госслужащий</td>\n",
       "      <td>0</td>\n",
       "      <td>NaN</td>\n",
       "      <td>образование</td>\n",
       "    </tr>\n",
       "    <tr>\n",
       "      <th>29</th>\n",
       "      <td>0</td>\n",
       "      <td>NaN</td>\n",
       "      <td>63</td>\n",
       "      <td>среднее</td>\n",
       "      <td>1</td>\n",
       "      <td>Не женат / не замужем</td>\n",
       "      <td>4</td>\n",
       "      <td>F</td>\n",
       "      <td>пенсионер</td>\n",
       "      <td>0</td>\n",
       "      <td>NaN</td>\n",
       "      <td>строительство жилой недвижимости</td>\n",
       "    </tr>\n",
       "    <tr>\n",
       "      <th>41</th>\n",
       "      <td>0</td>\n",
       "      <td>NaN</td>\n",
       "      <td>50</td>\n",
       "      <td>среднее</td>\n",
       "      <td>1</td>\n",
       "      <td>женат / замужем</td>\n",
       "      <td>0</td>\n",
       "      <td>F</td>\n",
       "      <td>госслужащий</td>\n",
       "      <td>0</td>\n",
       "      <td>NaN</td>\n",
       "      <td>сделка с подержанным автомобилем</td>\n",
       "    </tr>\n",
       "    <tr>\n",
       "      <th>55</th>\n",
       "      <td>0</td>\n",
       "      <td>NaN</td>\n",
       "      <td>54</td>\n",
       "      <td>среднее</td>\n",
       "      <td>1</td>\n",
       "      <td>гражданский брак</td>\n",
       "      <td>1</td>\n",
       "      <td>F</td>\n",
       "      <td>пенсионер</td>\n",
       "      <td>1</td>\n",
       "      <td>NaN</td>\n",
       "      <td>сыграть свадьбу</td>\n",
       "    </tr>\n",
       "    <tr>\n",
       "      <th>65</th>\n",
       "      <td>0</td>\n",
       "      <td>NaN</td>\n",
       "      <td>21</td>\n",
       "      <td>среднее</td>\n",
       "      <td>1</td>\n",
       "      <td>Не женат / не замужем</td>\n",
       "      <td>4</td>\n",
       "      <td>M</td>\n",
       "      <td>компаньон</td>\n",
       "      <td>0</td>\n",
       "      <td>NaN</td>\n",
       "      <td>операции с коммерческой недвижимостью</td>\n",
       "    </tr>\n",
       "    <tr>\n",
       "      <th>67</th>\n",
       "      <td>0</td>\n",
       "      <td>NaN</td>\n",
       "      <td>52</td>\n",
       "      <td>высшее</td>\n",
       "      <td>0</td>\n",
       "      <td>женат / замужем</td>\n",
       "      <td>0</td>\n",
       "      <td>F</td>\n",
       "      <td>пенсионер</td>\n",
       "      <td>0</td>\n",
       "      <td>NaN</td>\n",
       "      <td>покупка жилья для семьи</td>\n",
       "    </tr>\n",
       "    <tr>\n",
       "      <th>72</th>\n",
       "      <td>1</td>\n",
       "      <td>NaN</td>\n",
       "      <td>32</td>\n",
       "      <td>высшее</td>\n",
       "      <td>0</td>\n",
       "      <td>женат / замужем</td>\n",
       "      <td>0</td>\n",
       "      <td>M</td>\n",
       "      <td>госслужащий</td>\n",
       "      <td>0</td>\n",
       "      <td>NaN</td>\n",
       "      <td>операции с коммерческой недвижимостью</td>\n",
       "    </tr>\n",
       "    <tr>\n",
       "      <th>82</th>\n",
       "      <td>2</td>\n",
       "      <td>NaN</td>\n",
       "      <td>50</td>\n",
       "      <td>высшее</td>\n",
       "      <td>0</td>\n",
       "      <td>женат / замужем</td>\n",
       "      <td>0</td>\n",
       "      <td>F</td>\n",
       "      <td>сотрудник</td>\n",
       "      <td>0</td>\n",
       "      <td>NaN</td>\n",
       "      <td>жилье</td>\n",
       "    </tr>\n",
       "    <tr>\n",
       "      <th>83</th>\n",
       "      <td>0</td>\n",
       "      <td>NaN</td>\n",
       "      <td>52</td>\n",
       "      <td>среднее</td>\n",
       "      <td>1</td>\n",
       "      <td>женат / замужем</td>\n",
       "      <td>0</td>\n",
       "      <td>M</td>\n",
       "      <td>сотрудник</td>\n",
       "      <td>0</td>\n",
       "      <td>NaN</td>\n",
       "      <td>жилье</td>\n",
       "    </tr>\n",
       "  </tbody>\n",
       "</table>\n",
       "</div>"
      ],
      "text/plain": [
       "    children  days_employed  dob_years education  education_id  \\\n",
       "12         0            NaN         65   среднее             1   \n",
       "26         0            NaN         41   среднее             1   \n",
       "29         0            NaN         63   среднее             1   \n",
       "41         0            NaN         50   среднее             1   \n",
       "55         0            NaN         54   среднее             1   \n",
       "65         0            NaN         21   среднее             1   \n",
       "67         0            NaN         52    высшее             0   \n",
       "72         1            NaN         32    высшее             0   \n",
       "82         2            NaN         50    высшее             0   \n",
       "83         0            NaN         52   среднее             1   \n",
       "\n",
       "            family_status  family_status_id gender  income_type  debt  \\\n",
       "12       гражданский брак                 1      M    пенсионер     0   \n",
       "26        женат / замужем                 0      M  госслужащий     0   \n",
       "29  Не женат / не замужем                 4      F    пенсионер     0   \n",
       "41        женат / замужем                 0      F  госслужащий     0   \n",
       "55       гражданский брак                 1      F    пенсионер     1   \n",
       "65  Не женат / не замужем                 4      M    компаньон     0   \n",
       "67        женат / замужем                 0      F    пенсионер     0   \n",
       "72        женат / замужем                 0      M  госслужащий     0   \n",
       "82        женат / замужем                 0      F    сотрудник     0   \n",
       "83        женат / замужем                 0      M    сотрудник     0   \n",
       "\n",
       "    total_income                                purpose  \n",
       "12           NaN                        сыграть свадьбу  \n",
       "26           NaN                            образование  \n",
       "29           NaN       строительство жилой недвижимости  \n",
       "41           NaN       сделка с подержанным автомобилем  \n",
       "55           NaN                        сыграть свадьбу  \n",
       "65           NaN  операции с коммерческой недвижимостью  \n",
       "67           NaN                покупка жилья для семьи  \n",
       "72           NaN  операции с коммерческой недвижимостью  \n",
       "82           NaN                                  жилье  \n",
       "83           NaN                                  жилье  "
      ]
     },
     "execution_count": 51,
     "metadata": {},
     "output_type": "execute_result"
    }
   ],
   "source": [
    "null = df.loc[(df['days_employed'].isnull()) & (df['total_income'].isnull()),'dob_years'].count()\n",
    "print(\"Кол-во значений отсутствующих одновременно в обоих столбцах: \", null)\n",
    "df.loc[(df['days_employed'].isnull()) & (df['total_income'].isnull())].head(10)"
   ]
  },
  {
   "cell_type": "markdown",
   "id": "beee9d40",
   "metadata": {},
   "source": [
    "Вывод первых 10 строчек с условием, что столбцы **total_income** и **days_employed** одновременно имеют пропуски показал, что возраст клиентов варьируется от 21 до 65. Значит предположение, что это никогда неработавшие клиенты, не является верным. \n",
    "\n",
    "Во всех остальных столбцах тоже стоят разные значения, поэтому будем заполнять **total_income** и **days_employed** медианными значениями. Разница между максимальными и минимальными значениями существенна и среднее значение по этой причине не подходит для заполнения отсутствующих значений, так как это завысит статистику. "
   ]
  },
  {
   "cell_type": "code",
   "execution_count": 52,
   "id": "0c3d0b92",
   "metadata": {},
   "outputs": [
    {
     "name": "stdout",
     "output_type": "stream",
     "text": [
      "Медианное значение days_employed:  2192.155977727033\n",
      "Медианное значение total_income:  145017.93753253992\n"
     ]
    }
   ],
   "source": [
    "days_employed_median = df['days_employed'].median()\n",
    "print(\"Медианное значение days_employed: \", days_employed_median)\n",
    "total_income_median = df['total_income'].median()\n",
    "print(\"Медианное значение total_income: \", total_income_median)"
   ]
  },
  {
   "cell_type": "code",
   "execution_count": 53,
   "id": "a4f5f932",
   "metadata": {},
   "outputs": [],
   "source": [
    "df['days_employed'] = df['days_employed'].fillna(days_employed_median)\n",
    "df['total_income'] = df['total_income'].fillna(total_income_median)"
   ]
  },
  {
   "cell_type": "code",
   "execution_count": 54,
   "id": "3b23a2df",
   "metadata": {},
   "outputs": [
    {
     "data": {
      "text/html": [
       "<div>\n",
       "<style scoped>\n",
       "    .dataframe tbody tr th:only-of-type {\n",
       "        vertical-align: middle;\n",
       "    }\n",
       "\n",
       "    .dataframe tbody tr th {\n",
       "        vertical-align: top;\n",
       "    }\n",
       "\n",
       "    .dataframe thead th {\n",
       "        text-align: right;\n",
       "    }\n",
       "</style>\n",
       "<table border=\"1\" class=\"dataframe\">\n",
       "  <thead>\n",
       "    <tr style=\"text-align: right;\">\n",
       "      <th></th>\n",
       "      <th>children</th>\n",
       "      <th>days_employed</th>\n",
       "      <th>dob_years</th>\n",
       "      <th>education</th>\n",
       "      <th>education_id</th>\n",
       "      <th>family_status</th>\n",
       "      <th>family_status_id</th>\n",
       "      <th>gender</th>\n",
       "      <th>income_type</th>\n",
       "      <th>debt</th>\n",
       "      <th>total_income</th>\n",
       "      <th>purpose</th>\n",
       "    </tr>\n",
       "  </thead>\n",
       "  <tbody>\n",
       "    <tr>\n",
       "      <th>0</th>\n",
       "      <td>1</td>\n",
       "      <td>8437.673028</td>\n",
       "      <td>42</td>\n",
       "      <td>высшее</td>\n",
       "      <td>0</td>\n",
       "      <td>женат / замужем</td>\n",
       "      <td>0</td>\n",
       "      <td>F</td>\n",
       "      <td>сотрудник</td>\n",
       "      <td>0</td>\n",
       "      <td>253875.639453</td>\n",
       "      <td>покупка жилья</td>\n",
       "    </tr>\n",
       "    <tr>\n",
       "      <th>1</th>\n",
       "      <td>1</td>\n",
       "      <td>4024.803754</td>\n",
       "      <td>36</td>\n",
       "      <td>среднее</td>\n",
       "      <td>1</td>\n",
       "      <td>женат / замужем</td>\n",
       "      <td>0</td>\n",
       "      <td>F</td>\n",
       "      <td>сотрудник</td>\n",
       "      <td>0</td>\n",
       "      <td>112080.014102</td>\n",
       "      <td>приобретение автомобиля</td>\n",
       "    </tr>\n",
       "    <tr>\n",
       "      <th>2</th>\n",
       "      <td>0</td>\n",
       "      <td>5623.422610</td>\n",
       "      <td>33</td>\n",
       "      <td>среднее</td>\n",
       "      <td>1</td>\n",
       "      <td>женат / замужем</td>\n",
       "      <td>0</td>\n",
       "      <td>M</td>\n",
       "      <td>сотрудник</td>\n",
       "      <td>0</td>\n",
       "      <td>145885.952297</td>\n",
       "      <td>покупка жилья</td>\n",
       "    </tr>\n",
       "    <tr>\n",
       "      <th>3</th>\n",
       "      <td>3</td>\n",
       "      <td>4124.747207</td>\n",
       "      <td>32</td>\n",
       "      <td>среднее</td>\n",
       "      <td>1</td>\n",
       "      <td>женат / замужем</td>\n",
       "      <td>0</td>\n",
       "      <td>M</td>\n",
       "      <td>сотрудник</td>\n",
       "      <td>0</td>\n",
       "      <td>267628.550329</td>\n",
       "      <td>дополнительное образование</td>\n",
       "    </tr>\n",
       "    <tr>\n",
       "      <th>4</th>\n",
       "      <td>0</td>\n",
       "      <td>14177.753002</td>\n",
       "      <td>53</td>\n",
       "      <td>среднее</td>\n",
       "      <td>1</td>\n",
       "      <td>гражданский брак</td>\n",
       "      <td>1</td>\n",
       "      <td>F</td>\n",
       "      <td>пенсионер</td>\n",
       "      <td>0</td>\n",
       "      <td>158616.077870</td>\n",
       "      <td>сыграть свадьбу</td>\n",
       "    </tr>\n",
       "    <tr>\n",
       "      <th>5</th>\n",
       "      <td>0</td>\n",
       "      <td>926.185831</td>\n",
       "      <td>27</td>\n",
       "      <td>высшее</td>\n",
       "      <td>0</td>\n",
       "      <td>гражданский брак</td>\n",
       "      <td>1</td>\n",
       "      <td>M</td>\n",
       "      <td>компаньон</td>\n",
       "      <td>0</td>\n",
       "      <td>255763.565419</td>\n",
       "      <td>покупка жилья</td>\n",
       "    </tr>\n",
       "    <tr>\n",
       "      <th>6</th>\n",
       "      <td>0</td>\n",
       "      <td>2879.202052</td>\n",
       "      <td>43</td>\n",
       "      <td>высшее</td>\n",
       "      <td>0</td>\n",
       "      <td>женат / замужем</td>\n",
       "      <td>0</td>\n",
       "      <td>F</td>\n",
       "      <td>компаньон</td>\n",
       "      <td>0</td>\n",
       "      <td>240525.971920</td>\n",
       "      <td>операции с жильем</td>\n",
       "    </tr>\n",
       "    <tr>\n",
       "      <th>7</th>\n",
       "      <td>0</td>\n",
       "      <td>152.779569</td>\n",
       "      <td>50</td>\n",
       "      <td>среднее</td>\n",
       "      <td>1</td>\n",
       "      <td>женат / замужем</td>\n",
       "      <td>0</td>\n",
       "      <td>M</td>\n",
       "      <td>сотрудник</td>\n",
       "      <td>0</td>\n",
       "      <td>135823.934197</td>\n",
       "      <td>образование</td>\n",
       "    </tr>\n",
       "    <tr>\n",
       "      <th>8</th>\n",
       "      <td>2</td>\n",
       "      <td>6929.865299</td>\n",
       "      <td>35</td>\n",
       "      <td>высшее</td>\n",
       "      <td>0</td>\n",
       "      <td>гражданский брак</td>\n",
       "      <td>1</td>\n",
       "      <td>F</td>\n",
       "      <td>сотрудник</td>\n",
       "      <td>0</td>\n",
       "      <td>95856.832424</td>\n",
       "      <td>на проведение свадьбы</td>\n",
       "    </tr>\n",
       "    <tr>\n",
       "      <th>9</th>\n",
       "      <td>0</td>\n",
       "      <td>2188.756445</td>\n",
       "      <td>41</td>\n",
       "      <td>среднее</td>\n",
       "      <td>1</td>\n",
       "      <td>женат / замужем</td>\n",
       "      <td>0</td>\n",
       "      <td>M</td>\n",
       "      <td>сотрудник</td>\n",
       "      <td>0</td>\n",
       "      <td>144425.938277</td>\n",
       "      <td>покупка жилья для семьи</td>\n",
       "    </tr>\n",
       "    <tr>\n",
       "      <th>10</th>\n",
       "      <td>2</td>\n",
       "      <td>4171.483647</td>\n",
       "      <td>36</td>\n",
       "      <td>высшее</td>\n",
       "      <td>0</td>\n",
       "      <td>женат / замужем</td>\n",
       "      <td>0</td>\n",
       "      <td>M</td>\n",
       "      <td>компаньон</td>\n",
       "      <td>0</td>\n",
       "      <td>113943.491460</td>\n",
       "      <td>покупка недвижимости</td>\n",
       "    </tr>\n",
       "    <tr>\n",
       "      <th>11</th>\n",
       "      <td>0</td>\n",
       "      <td>792.701887</td>\n",
       "      <td>40</td>\n",
       "      <td>среднее</td>\n",
       "      <td>1</td>\n",
       "      <td>женат / замужем</td>\n",
       "      <td>0</td>\n",
       "      <td>F</td>\n",
       "      <td>сотрудник</td>\n",
       "      <td>0</td>\n",
       "      <td>77069.234271</td>\n",
       "      <td>покупка коммерческой недвижимости</td>\n",
       "    </tr>\n",
       "    <tr>\n",
       "      <th>12</th>\n",
       "      <td>0</td>\n",
       "      <td>2192.155978</td>\n",
       "      <td>65</td>\n",
       "      <td>среднее</td>\n",
       "      <td>1</td>\n",
       "      <td>гражданский брак</td>\n",
       "      <td>1</td>\n",
       "      <td>M</td>\n",
       "      <td>пенсионер</td>\n",
       "      <td>0</td>\n",
       "      <td>145017.937533</td>\n",
       "      <td>сыграть свадьбу</td>\n",
       "    </tr>\n",
       "    <tr>\n",
       "      <th>13</th>\n",
       "      <td>0</td>\n",
       "      <td>1846.641941</td>\n",
       "      <td>54</td>\n",
       "      <td>неоконченное высшее</td>\n",
       "      <td>2</td>\n",
       "      <td>женат / замужем</td>\n",
       "      <td>0</td>\n",
       "      <td>F</td>\n",
       "      <td>сотрудник</td>\n",
       "      <td>0</td>\n",
       "      <td>130458.228857</td>\n",
       "      <td>приобретение автомобиля</td>\n",
       "    </tr>\n",
       "    <tr>\n",
       "      <th>14</th>\n",
       "      <td>0</td>\n",
       "      <td>1844.956182</td>\n",
       "      <td>56</td>\n",
       "      <td>высшее</td>\n",
       "      <td>0</td>\n",
       "      <td>гражданский брак</td>\n",
       "      <td>1</td>\n",
       "      <td>F</td>\n",
       "      <td>компаньон</td>\n",
       "      <td>1</td>\n",
       "      <td>165127.911772</td>\n",
       "      <td>покупка жилой недвижимости</td>\n",
       "    </tr>\n",
       "  </tbody>\n",
       "</table>\n",
       "</div>"
      ],
      "text/plain": [
       "    children  days_employed  dob_years            education  education_id  \\\n",
       "0          1    8437.673028         42               высшее             0   \n",
       "1          1    4024.803754         36              среднее             1   \n",
       "2          0    5623.422610         33              среднее             1   \n",
       "3          3    4124.747207         32              среднее             1   \n",
       "4          0   14177.753002         53              среднее             1   \n",
       "5          0     926.185831         27               высшее             0   \n",
       "6          0    2879.202052         43               высшее             0   \n",
       "7          0     152.779569         50              среднее             1   \n",
       "8          2    6929.865299         35               высшее             0   \n",
       "9          0    2188.756445         41              среднее             1   \n",
       "10         2    4171.483647         36               высшее             0   \n",
       "11         0     792.701887         40              среднее             1   \n",
       "12         0    2192.155978         65              среднее             1   \n",
       "13         0    1846.641941         54  неоконченное высшее             2   \n",
       "14         0    1844.956182         56               высшее             0   \n",
       "\n",
       "       family_status  family_status_id gender income_type  debt  \\\n",
       "0    женат / замужем                 0      F   сотрудник     0   \n",
       "1    женат / замужем                 0      F   сотрудник     0   \n",
       "2    женат / замужем                 0      M   сотрудник     0   \n",
       "3    женат / замужем                 0      M   сотрудник     0   \n",
       "4   гражданский брак                 1      F   пенсионер     0   \n",
       "5   гражданский брак                 1      M   компаньон     0   \n",
       "6    женат / замужем                 0      F   компаньон     0   \n",
       "7    женат / замужем                 0      M   сотрудник     0   \n",
       "8   гражданский брак                 1      F   сотрудник     0   \n",
       "9    женат / замужем                 0      M   сотрудник     0   \n",
       "10   женат / замужем                 0      M   компаньон     0   \n",
       "11   женат / замужем                 0      F   сотрудник     0   \n",
       "12  гражданский брак                 1      M   пенсионер     0   \n",
       "13   женат / замужем                 0      F   сотрудник     0   \n",
       "14  гражданский брак                 1      F   компаньон     1   \n",
       "\n",
       "     total_income                            purpose  \n",
       "0   253875.639453                      покупка жилья  \n",
       "1   112080.014102            приобретение автомобиля  \n",
       "2   145885.952297                      покупка жилья  \n",
       "3   267628.550329         дополнительное образование  \n",
       "4   158616.077870                    сыграть свадьбу  \n",
       "5   255763.565419                      покупка жилья  \n",
       "6   240525.971920                  операции с жильем  \n",
       "7   135823.934197                        образование  \n",
       "8    95856.832424              на проведение свадьбы  \n",
       "9   144425.938277            покупка жилья для семьи  \n",
       "10  113943.491460               покупка недвижимости  \n",
       "11   77069.234271  покупка коммерческой недвижимости  \n",
       "12  145017.937533                    сыграть свадьбу  \n",
       "13  130458.228857            приобретение автомобиля  \n",
       "14  165127.911772         покупка жилой недвижимости  "
      ]
     },
     "execution_count": 54,
     "metadata": {},
     "output_type": "execute_result"
    }
   ],
   "source": [
    "df.head(15)"
   ]
  },
  {
   "cell_type": "markdown",
   "id": "0931a697",
   "metadata": {},
   "source": [
    "Проверим, остались ли пропуски"
   ]
  },
  {
   "cell_type": "code",
   "execution_count": 55,
   "id": "bbe251a4",
   "metadata": {},
   "outputs": [
    {
     "name": "stdout",
     "output_type": "stream",
     "text": [
      "0\n",
      "0\n"
     ]
    }
   ],
   "source": [
    "print(df['total_income'].isna().sum())\n",
    "print(df['days_employed'].isna().sum())"
   ]
  },
  {
   "cell_type": "markdown",
   "id": "525c8ca8",
   "metadata": {},
   "source": [
    "Все пропущенные значения заменили на медианные."
   ]
  },
  {
   "cell_type": "markdown",
   "id": "6842991d",
   "metadata": {},
   "source": [
    "### Изменение типов данных"
   ]
  },
  {
   "cell_type": "code",
   "execution_count": 56,
   "id": "0e1c76b4",
   "metadata": {},
   "outputs": [],
   "source": [
    "df['days_employed'] = df['days_employed'].astype('int')\n",
    "df['total_income'] = df['total_income'].astype('int')"
   ]
  },
  {
   "cell_type": "markdown",
   "id": "a86bd009",
   "metadata": {},
   "source": [
    "В стаже и доходе стояли значения типа float - заменили их на int."
   ]
  },
  {
   "cell_type": "markdown",
   "id": "f8d0f450",
   "metadata": {},
   "source": [
    "### Столбец *purpose*"
   ]
  },
  {
   "cell_type": "code",
   "execution_count": 57,
   "id": "37f11805",
   "metadata": {},
   "outputs": [
    {
     "data": {
      "text/plain": [
       "свадьба                                   785\n",
       "на проведение свадьбы                     759\n",
       "сыграть свадьбу                           755\n",
       "операции с недвижимостью                  669\n",
       "покупка коммерческой недвижимости         655\n",
       "покупка жилья для сдачи                   647\n",
       "операции с коммерческой недвижимостью     643\n",
       "операции с жильем                         641\n",
       "покупка жилья для семьи                   636\n",
       "жилье                                     635\n",
       "покупка жилья                             634\n",
       "недвижимость                              627\n",
       "строительство собственной недвижимости    626\n",
       "операции со своей недвижимостью           623\n",
       "строительство недвижимости                619\n",
       "покупка своего жилья                      618\n",
       "строительство жилой недвижимости          617\n",
       "покупка недвижимости                      612\n",
       "ремонт жилью                              602\n",
       "покупка жилой недвижимости                599\n",
       "на покупку своего автомобиля              501\n",
       "заняться высшим образованием              493\n",
       "автомобиль                                487\n",
       "сделка с подержанным автомобилем          479\n",
       "автомобили                                474\n",
       "на покупку подержанного автомобиля        471\n",
       "свой автомобиль                           470\n",
       "на покупку автомобиля                     465\n",
       "приобретение автомобиля                   457\n",
       "сделка с автомобилем                      454\n",
       "дополнительное образование                453\n",
       "высшее образование                        443\n",
       "получение дополнительного образования     442\n",
       "получение образования                     439\n",
       "образование                               439\n",
       "профильное образование                    431\n",
       "получение высшего образования             423\n",
       "заняться образованием                     407\n",
       "Name: purpose, dtype: int64"
      ]
     },
     "execution_count": 57,
     "metadata": {},
     "output_type": "execute_result"
    }
   ],
   "source": [
    "df['purpose'].value_counts()"
   ]
  },
  {
   "cell_type": "markdown",
   "id": "9f32ee22",
   "metadata": {},
   "source": [
    "Столбец корректный, но много совпадающих целей кредита - нужно совпадающие привести к одному названию"
   ]
  },
  {
   "cell_type": "markdown",
   "id": "f98adcfe",
   "metadata": {},
   "source": [
    "### Устранение дубликатов и категоризация данных столбца purpose"
   ]
  },
  {
   "cell_type": "code",
   "execution_count": 58,
   "id": "2daa9cd4",
   "metadata": {},
   "outputs": [
    {
     "data": {
      "text/plain": [
       "21192"
      ]
     },
     "execution_count": 58,
     "metadata": {},
     "output_type": "execute_result"
    }
   ],
   "source": [
    "# удаление дубликатов\n",
    "df['purpose'].duplicated().sum()"
   ]
  },
  {
   "cell_type": "code",
   "execution_count": 59,
   "id": "5c6de1ce",
   "metadata": {},
   "outputs": [],
   "source": [
    "# функция для категоризации данных\n",
    "def replace_wrong_values(wrong_values, correct_value):\n",
    "    for wrong_value in wrong_values:\n",
    "        df['purpose'] = df['purpose'].replace(wrong_value, correct_value)\n",
    "duplicates_one = ['на проведение свадьбы', 'сыграть свадьбу']\n",
    "name_one = 'свадьба'\n",
    "replace_wrong_values(duplicates_one, name_one)\n",
    "\n",
    "duplicates_two = ['операции с недвижимостью', 'покупка коммерческой недвижимости', 'покупка жилья для сдачи', 'операции с коммерческой недвижимостью',\n",
    "                  'операции с жильем', 'покупка жилья для семьи', 'жилье', 'покупка жилья', 'операции со своей недвижимостью',\n",
    "                  'строительство собственной недвижимости', 'строительство недвижимости', 'строительство жилой недвижимости',\n",
    "                  'покупка своего жилья', 'покупка недвижимости', 'ремонт жилью', 'покупка жилой недвижимости']\n",
    "name_two = 'недвижимость'\n",
    "replace_wrong_values(duplicates_two, name_two)\n",
    "\n",
    "duplicates_three = ['на покупку своего автомобиля', 'сделка с подержанным автомобилем', 'автомобили', 'на покупку подержанного автомобиля', \n",
    "                    'свой автомобиль', 'на покупку автомобиля', 'приобретение автомобиля', 'сделка с автомобилем']\n",
    "name_three = 'автомобиль'\n",
    "replace_wrong_values(duplicates_three, name_three)\n",
    "\n",
    "duplicates_four = ['заняться высшим образованием', 'дополнительное образование', 'высшее образование', 'получение дополнительного образования',\n",
    "                   'получение образования', 'профильное образование', 'получение высшего образования' , 'заняться образованием']\n",
    "name_four = 'образование'\n",
    "replace_wrong_values(duplicates_four, name_four)"
   ]
  },
  {
   "cell_type": "code",
   "execution_count": 79,
   "id": "9ea28ac7",
   "metadata": {},
   "outputs": [
    {
     "data": {
      "text/plain": [
       "недвижимость    10703\n",
       "автомобиль       4258\n",
       "образование      3970\n",
       "свадьба          2299\n",
       "Name: purpose, dtype: int64"
      ]
     },
     "execution_count": 79,
     "metadata": {},
     "output_type": "execute_result"
    }
   ],
   "source": [
    "# проверим\n",
    "df['purpose'].value_counts()"
   ]
  },
  {
   "cell_type": "markdown",
   "id": "28d81dad",
   "metadata": {},
   "source": [
    "## Шаг 3. Формирование дополнительных датафреймов словарей, декомпозиция исходного датафрейма."
   ]
  },
  {
   "cell_type": "code",
   "execution_count": 61,
   "id": "b9b8a1c6",
   "metadata": {},
   "outputs": [
    {
     "data": {
      "text/html": [
       "<div>\n",
       "<style scoped>\n",
       "    .dataframe tbody tr th:only-of-type {\n",
       "        vertical-align: middle;\n",
       "    }\n",
       "\n",
       "    .dataframe tbody tr th {\n",
       "        vertical-align: top;\n",
       "    }\n",
       "\n",
       "    .dataframe thead th {\n",
       "        text-align: right;\n",
       "    }\n",
       "</style>\n",
       "<table border=\"1\" class=\"dataframe\">\n",
       "  <thead>\n",
       "    <tr style=\"text-align: right;\">\n",
       "      <th></th>\n",
       "      <th>education_id</th>\n",
       "      <th>education</th>\n",
       "    </tr>\n",
       "  </thead>\n",
       "  <tbody>\n",
       "    <tr>\n",
       "      <th>0</th>\n",
       "      <td>0</td>\n",
       "      <td>высшее</td>\n",
       "    </tr>\n",
       "    <tr>\n",
       "      <th>1</th>\n",
       "      <td>1</td>\n",
       "      <td>среднее</td>\n",
       "    </tr>\n",
       "    <tr>\n",
       "      <th>2</th>\n",
       "      <td>1</td>\n",
       "      <td>среднее</td>\n",
       "    </tr>\n",
       "    <tr>\n",
       "      <th>3</th>\n",
       "      <td>1</td>\n",
       "      <td>среднее</td>\n",
       "    </tr>\n",
       "    <tr>\n",
       "      <th>4</th>\n",
       "      <td>1</td>\n",
       "      <td>среднее</td>\n",
       "    </tr>\n",
       "    <tr>\n",
       "      <th>5</th>\n",
       "      <td>0</td>\n",
       "      <td>высшее</td>\n",
       "    </tr>\n",
       "    <tr>\n",
       "      <th>6</th>\n",
       "      <td>0</td>\n",
       "      <td>высшее</td>\n",
       "    </tr>\n",
       "    <tr>\n",
       "      <th>7</th>\n",
       "      <td>1</td>\n",
       "      <td>среднее</td>\n",
       "    </tr>\n",
       "    <tr>\n",
       "      <th>8</th>\n",
       "      <td>0</td>\n",
       "      <td>высшее</td>\n",
       "    </tr>\n",
       "    <tr>\n",
       "      <th>9</th>\n",
       "      <td>1</td>\n",
       "      <td>среднее</td>\n",
       "    </tr>\n",
       "    <tr>\n",
       "      <th>10</th>\n",
       "      <td>0</td>\n",
       "      <td>высшее</td>\n",
       "    </tr>\n",
       "    <tr>\n",
       "      <th>11</th>\n",
       "      <td>1</td>\n",
       "      <td>среднее</td>\n",
       "    </tr>\n",
       "    <tr>\n",
       "      <th>12</th>\n",
       "      <td>1</td>\n",
       "      <td>среднее</td>\n",
       "    </tr>\n",
       "    <tr>\n",
       "      <th>13</th>\n",
       "      <td>2</td>\n",
       "      <td>неоконченное высшее</td>\n",
       "    </tr>\n",
       "    <tr>\n",
       "      <th>14</th>\n",
       "      <td>0</td>\n",
       "      <td>высшее</td>\n",
       "    </tr>\n",
       "  </tbody>\n",
       "</table>\n",
       "</div>"
      ],
      "text/plain": [
       "    education_id            education\n",
       "0              0               высшее\n",
       "1              1              среднее\n",
       "2              1              среднее\n",
       "3              1              среднее\n",
       "4              1              среднее\n",
       "5              0               высшее\n",
       "6              0               высшее\n",
       "7              1              среднее\n",
       "8              0               высшее\n",
       "9              1              среднее\n",
       "10             0               высшее\n",
       "11             1              среднее\n",
       "12             1              среднее\n",
       "13             2  неоконченное высшее\n",
       "14             0               высшее"
      ]
     },
     "execution_count": 61,
     "metadata": {},
     "output_type": "execute_result"
    }
   ],
   "source": [
    "# таблица с данными об образование\n",
    "education_table = df[['education_id', 'education']]\n",
    "education_table.head(15)"
   ]
  },
  {
   "cell_type": "code",
   "execution_count": 62,
   "id": "4f95d228",
   "metadata": {},
   "outputs": [
    {
     "data": {
      "text/html": [
       "<div>\n",
       "<style scoped>\n",
       "    .dataframe tbody tr th:only-of-type {\n",
       "        vertical-align: middle;\n",
       "    }\n",
       "\n",
       "    .dataframe tbody tr th {\n",
       "        vertical-align: top;\n",
       "    }\n",
       "\n",
       "    .dataframe thead th {\n",
       "        text-align: right;\n",
       "    }\n",
       "</style>\n",
       "<table border=\"1\" class=\"dataframe\">\n",
       "  <thead>\n",
       "    <tr style=\"text-align: right;\">\n",
       "      <th></th>\n",
       "      <th>family_status_id</th>\n",
       "      <th>family_status</th>\n",
       "    </tr>\n",
       "  </thead>\n",
       "  <tbody>\n",
       "    <tr>\n",
       "      <th>0</th>\n",
       "      <td>0</td>\n",
       "      <td>женат / замужем</td>\n",
       "    </tr>\n",
       "    <tr>\n",
       "      <th>1</th>\n",
       "      <td>0</td>\n",
       "      <td>женат / замужем</td>\n",
       "    </tr>\n",
       "    <tr>\n",
       "      <th>2</th>\n",
       "      <td>0</td>\n",
       "      <td>женат / замужем</td>\n",
       "    </tr>\n",
       "    <tr>\n",
       "      <th>3</th>\n",
       "      <td>0</td>\n",
       "      <td>женат / замужем</td>\n",
       "    </tr>\n",
       "    <tr>\n",
       "      <th>4</th>\n",
       "      <td>1</td>\n",
       "      <td>гражданский брак</td>\n",
       "    </tr>\n",
       "    <tr>\n",
       "      <th>5</th>\n",
       "      <td>1</td>\n",
       "      <td>гражданский брак</td>\n",
       "    </tr>\n",
       "    <tr>\n",
       "      <th>6</th>\n",
       "      <td>0</td>\n",
       "      <td>женат / замужем</td>\n",
       "    </tr>\n",
       "    <tr>\n",
       "      <th>7</th>\n",
       "      <td>0</td>\n",
       "      <td>женат / замужем</td>\n",
       "    </tr>\n",
       "    <tr>\n",
       "      <th>8</th>\n",
       "      <td>1</td>\n",
       "      <td>гражданский брак</td>\n",
       "    </tr>\n",
       "    <tr>\n",
       "      <th>9</th>\n",
       "      <td>0</td>\n",
       "      <td>женат / замужем</td>\n",
       "    </tr>\n",
       "    <tr>\n",
       "      <th>10</th>\n",
       "      <td>0</td>\n",
       "      <td>женат / замужем</td>\n",
       "    </tr>\n",
       "    <tr>\n",
       "      <th>11</th>\n",
       "      <td>0</td>\n",
       "      <td>женат / замужем</td>\n",
       "    </tr>\n",
       "    <tr>\n",
       "      <th>12</th>\n",
       "      <td>1</td>\n",
       "      <td>гражданский брак</td>\n",
       "    </tr>\n",
       "    <tr>\n",
       "      <th>13</th>\n",
       "      <td>0</td>\n",
       "      <td>женат / замужем</td>\n",
       "    </tr>\n",
       "    <tr>\n",
       "      <th>14</th>\n",
       "      <td>1</td>\n",
       "      <td>гражданский брак</td>\n",
       "    </tr>\n",
       "  </tbody>\n",
       "</table>\n",
       "</div>"
      ],
      "text/plain": [
       "    family_status_id     family_status\n",
       "0                  0   женат / замужем\n",
       "1                  0   женат / замужем\n",
       "2                  0   женат / замужем\n",
       "3                  0   женат / замужем\n",
       "4                  1  гражданский брак\n",
       "5                  1  гражданский брак\n",
       "6                  0   женат / замужем\n",
       "7                  0   женат / замужем\n",
       "8                  1  гражданский брак\n",
       "9                  0   женат / замужем\n",
       "10                 0   женат / замужем\n",
       "11                 0   женат / замужем\n",
       "12                 1  гражданский брак\n",
       "13                 0   женат / замужем\n",
       "14                 1  гражданский брак"
      ]
     },
     "execution_count": 62,
     "metadata": {},
     "output_type": "execute_result"
    }
   ],
   "source": [
    "# таблица с данными о семейном положении\n",
    "family_table = df[['family_status_id', 'family_status']]\n",
    "family_table.head(15)"
   ]
  },
  {
   "cell_type": "code",
   "execution_count": 63,
   "id": "3e728c61",
   "metadata": {},
   "outputs": [
    {
     "data": {
      "text/html": [
       "<div>\n",
       "<style scoped>\n",
       "    .dataframe tbody tr th:only-of-type {\n",
       "        vertical-align: middle;\n",
       "    }\n",
       "\n",
       "    .dataframe tbody tr th {\n",
       "        vertical-align: top;\n",
       "    }\n",
       "\n",
       "    .dataframe thead th {\n",
       "        text-align: right;\n",
       "    }\n",
       "</style>\n",
       "<table border=\"1\" class=\"dataframe\">\n",
       "  <thead>\n",
       "    <tr style=\"text-align: right;\">\n",
       "      <th></th>\n",
       "      <th>children</th>\n",
       "      <th>days_employed</th>\n",
       "      <th>dob_years</th>\n",
       "      <th>education_id</th>\n",
       "      <th>family_status_id</th>\n",
       "      <th>gender</th>\n",
       "      <th>income_type</th>\n",
       "      <th>debt</th>\n",
       "      <th>total_income</th>\n",
       "      <th>purpose</th>\n",
       "    </tr>\n",
       "  </thead>\n",
       "  <tbody>\n",
       "    <tr>\n",
       "      <th>0</th>\n",
       "      <td>1</td>\n",
       "      <td>8437</td>\n",
       "      <td>42</td>\n",
       "      <td>0</td>\n",
       "      <td>0</td>\n",
       "      <td>F</td>\n",
       "      <td>сотрудник</td>\n",
       "      <td>0</td>\n",
       "      <td>253875</td>\n",
       "      <td>недвижимость</td>\n",
       "    </tr>\n",
       "    <tr>\n",
       "      <th>1</th>\n",
       "      <td>1</td>\n",
       "      <td>4024</td>\n",
       "      <td>36</td>\n",
       "      <td>1</td>\n",
       "      <td>0</td>\n",
       "      <td>F</td>\n",
       "      <td>сотрудник</td>\n",
       "      <td>0</td>\n",
       "      <td>112080</td>\n",
       "      <td>автомобиль</td>\n",
       "    </tr>\n",
       "    <tr>\n",
       "      <th>2</th>\n",
       "      <td>0</td>\n",
       "      <td>5623</td>\n",
       "      <td>33</td>\n",
       "      <td>1</td>\n",
       "      <td>0</td>\n",
       "      <td>M</td>\n",
       "      <td>сотрудник</td>\n",
       "      <td>0</td>\n",
       "      <td>145885</td>\n",
       "      <td>недвижимость</td>\n",
       "    </tr>\n",
       "    <tr>\n",
       "      <th>3</th>\n",
       "      <td>3</td>\n",
       "      <td>4124</td>\n",
       "      <td>32</td>\n",
       "      <td>1</td>\n",
       "      <td>0</td>\n",
       "      <td>M</td>\n",
       "      <td>сотрудник</td>\n",
       "      <td>0</td>\n",
       "      <td>267628</td>\n",
       "      <td>образование</td>\n",
       "    </tr>\n",
       "    <tr>\n",
       "      <th>4</th>\n",
       "      <td>0</td>\n",
       "      <td>14177</td>\n",
       "      <td>53</td>\n",
       "      <td>1</td>\n",
       "      <td>1</td>\n",
       "      <td>F</td>\n",
       "      <td>пенсионер</td>\n",
       "      <td>0</td>\n",
       "      <td>158616</td>\n",
       "      <td>свадьба</td>\n",
       "    </tr>\n",
       "    <tr>\n",
       "      <th>5</th>\n",
       "      <td>0</td>\n",
       "      <td>926</td>\n",
       "      <td>27</td>\n",
       "      <td>0</td>\n",
       "      <td>1</td>\n",
       "      <td>M</td>\n",
       "      <td>компаньон</td>\n",
       "      <td>0</td>\n",
       "      <td>255763</td>\n",
       "      <td>недвижимость</td>\n",
       "    </tr>\n",
       "    <tr>\n",
       "      <th>6</th>\n",
       "      <td>0</td>\n",
       "      <td>2879</td>\n",
       "      <td>43</td>\n",
       "      <td>0</td>\n",
       "      <td>0</td>\n",
       "      <td>F</td>\n",
       "      <td>компаньон</td>\n",
       "      <td>0</td>\n",
       "      <td>240525</td>\n",
       "      <td>недвижимость</td>\n",
       "    </tr>\n",
       "    <tr>\n",
       "      <th>7</th>\n",
       "      <td>0</td>\n",
       "      <td>152</td>\n",
       "      <td>50</td>\n",
       "      <td>1</td>\n",
       "      <td>0</td>\n",
       "      <td>M</td>\n",
       "      <td>сотрудник</td>\n",
       "      <td>0</td>\n",
       "      <td>135823</td>\n",
       "      <td>образование</td>\n",
       "    </tr>\n",
       "    <tr>\n",
       "      <th>8</th>\n",
       "      <td>2</td>\n",
       "      <td>6929</td>\n",
       "      <td>35</td>\n",
       "      <td>0</td>\n",
       "      <td>1</td>\n",
       "      <td>F</td>\n",
       "      <td>сотрудник</td>\n",
       "      <td>0</td>\n",
       "      <td>95856</td>\n",
       "      <td>свадьба</td>\n",
       "    </tr>\n",
       "    <tr>\n",
       "      <th>9</th>\n",
       "      <td>0</td>\n",
       "      <td>2188</td>\n",
       "      <td>41</td>\n",
       "      <td>1</td>\n",
       "      <td>0</td>\n",
       "      <td>M</td>\n",
       "      <td>сотрудник</td>\n",
       "      <td>0</td>\n",
       "      <td>144425</td>\n",
       "      <td>недвижимость</td>\n",
       "    </tr>\n",
       "  </tbody>\n",
       "</table>\n",
       "</div>"
      ],
      "text/plain": [
       "   children  days_employed  dob_years  education_id  family_status_id gender  \\\n",
       "0         1           8437         42             0                 0      F   \n",
       "1         1           4024         36             1                 0      F   \n",
       "2         0           5623         33             1                 0      M   \n",
       "3         3           4124         32             1                 0      M   \n",
       "4         0          14177         53             1                 1      F   \n",
       "5         0            926         27             0                 1      M   \n",
       "6         0           2879         43             0                 0      F   \n",
       "7         0            152         50             1                 0      M   \n",
       "8         2           6929         35             0                 1      F   \n",
       "9         0           2188         41             1                 0      M   \n",
       "\n",
       "  income_type  debt  total_income       purpose  \n",
       "0   сотрудник     0        253875  недвижимость  \n",
       "1   сотрудник     0        112080    автомобиль  \n",
       "2   сотрудник     0        145885  недвижимость  \n",
       "3   сотрудник     0        267628   образование  \n",
       "4   пенсионер     0        158616       свадьба  \n",
       "5   компаньон     0        255763  недвижимость  \n",
       "6   компаньон     0        240525  недвижимость  \n",
       "7   сотрудник     0        135823   образование  \n",
       "8   сотрудник     0         95856       свадьба  \n",
       "9   сотрудник     0        144425  недвижимость  "
      ]
     },
     "execution_count": 63,
     "metadata": {},
     "output_type": "execute_result"
    }
   ],
   "source": [
    "# удалим столбцы с образованием и семейным положением, оставим только их id\n",
    "df = df.drop(columns=['education', 'family_status'])\n",
    "df.head(10)"
   ]
  },
  {
   "cell_type": "code",
   "execution_count": 64,
   "id": "e07dd4cf",
   "metadata": {},
   "outputs": [
    {
     "data": {
      "text/html": [
       "<div>\n",
       "<style scoped>\n",
       "    .dataframe tbody tr th:only-of-type {\n",
       "        vertical-align: middle;\n",
       "    }\n",
       "\n",
       "    .dataframe tbody tr th {\n",
       "        vertical-align: top;\n",
       "    }\n",
       "\n",
       "    .dataframe thead th {\n",
       "        text-align: right;\n",
       "    }\n",
       "</style>\n",
       "<table border=\"1\" class=\"dataframe\">\n",
       "  <thead>\n",
       "    <tr style=\"text-align: right;\">\n",
       "      <th></th>\n",
       "      <th>family_ststus_id</th>\n",
       "      <th>family_status</th>\n",
       "    </tr>\n",
       "  </thead>\n",
       "  <tbody>\n",
       "    <tr>\n",
       "      <th>0</th>\n",
       "      <td>0</td>\n",
       "      <td>женат / замужем</td>\n",
       "    </tr>\n",
       "    <tr>\n",
       "      <th>1</th>\n",
       "      <td>1</td>\n",
       "      <td>гражданский брак</td>\n",
       "    </tr>\n",
       "    <tr>\n",
       "      <th>2</th>\n",
       "      <td>2</td>\n",
       "      <td>Не женат / не замужем</td>\n",
       "    </tr>\n",
       "    <tr>\n",
       "      <th>3</th>\n",
       "      <td>3</td>\n",
       "      <td>в разводе</td>\n",
       "    </tr>\n",
       "    <tr>\n",
       "      <th>4</th>\n",
       "      <td>4</td>\n",
       "      <td>вдовец / вдова</td>\n",
       "    </tr>\n",
       "  </tbody>\n",
       "</table>\n",
       "</div>"
      ],
      "text/plain": [
       "  family_ststus_id          family_status\n",
       "0                0       женат / замужем \n",
       "1                1       гражданский брак\n",
       "2                2  Не женат / не замужем\n",
       "3                3              в разводе\n",
       "4                4         вдовец / вдова"
      ]
     },
     "execution_count": 64,
     "metadata": {},
     "output_type": "execute_result"
    }
   ],
   "source": [
    "#для наглядности выыведем таблицу с id семейного положения\n",
    "columns = ['family_ststus_id', 'family_status']\n",
    "data = [['0','женат / замужем '], ['1','гражданский брак'], ['2','Не женат / не замужем'], ['3','в разводе'], ['4','вдовец / вдова']]\n",
    "purpose_category_table = pd.DataFrame(data=data, columns=columns)\n",
    "purpose_category_table"
   ]
  },
  {
   "cell_type": "markdown",
   "id": "3b4a2dc8",
   "metadata": {},
   "source": [
    "## Шаг 4. Категоризация дохода."
   ]
  },
  {
   "cell_type": "markdown",
   "id": "9c2edda3",
   "metadata": {},
   "source": [
    "Оценивать числа, особенно, когда они все разные и большие, достаточно сложно, поэтому лучше категоризировать доходы в зависимости от их размера от D до A."
   ]
  },
  {
   "cell_type": "code",
   "execution_count": 65,
   "id": "50e60d04",
   "metadata": {},
   "outputs": [
    {
     "data": {
      "text/html": [
       "<div>\n",
       "<style scoped>\n",
       "    .dataframe tbody tr th:only-of-type {\n",
       "        vertical-align: middle;\n",
       "    }\n",
       "\n",
       "    .dataframe tbody tr th {\n",
       "        vertical-align: top;\n",
       "    }\n",
       "\n",
       "    .dataframe thead th {\n",
       "        text-align: right;\n",
       "    }\n",
       "</style>\n",
       "<table border=\"1\" class=\"dataframe\">\n",
       "  <thead>\n",
       "    <tr style=\"text-align: right;\">\n",
       "      <th></th>\n",
       "      <th>children</th>\n",
       "      <th>days_employed</th>\n",
       "      <th>dob_years</th>\n",
       "      <th>education_id</th>\n",
       "      <th>family_status_id</th>\n",
       "      <th>gender</th>\n",
       "      <th>income_type</th>\n",
       "      <th>debt</th>\n",
       "      <th>total_income</th>\n",
       "      <th>purpose</th>\n",
       "      <th>total_income_category</th>\n",
       "    </tr>\n",
       "  </thead>\n",
       "  <tbody>\n",
       "    <tr>\n",
       "      <th>0</th>\n",
       "      <td>1</td>\n",
       "      <td>8437</td>\n",
       "      <td>42</td>\n",
       "      <td>0</td>\n",
       "      <td>0</td>\n",
       "      <td>F</td>\n",
       "      <td>сотрудник</td>\n",
       "      <td>0</td>\n",
       "      <td>253875</td>\n",
       "      <td>недвижимость</td>\n",
       "      <td>B</td>\n",
       "    </tr>\n",
       "    <tr>\n",
       "      <th>1</th>\n",
       "      <td>1</td>\n",
       "      <td>4024</td>\n",
       "      <td>36</td>\n",
       "      <td>1</td>\n",
       "      <td>0</td>\n",
       "      <td>F</td>\n",
       "      <td>сотрудник</td>\n",
       "      <td>0</td>\n",
       "      <td>112080</td>\n",
       "      <td>автомобиль</td>\n",
       "      <td>C</td>\n",
       "    </tr>\n",
       "    <tr>\n",
       "      <th>2</th>\n",
       "      <td>0</td>\n",
       "      <td>5623</td>\n",
       "      <td>33</td>\n",
       "      <td>1</td>\n",
       "      <td>0</td>\n",
       "      <td>M</td>\n",
       "      <td>сотрудник</td>\n",
       "      <td>0</td>\n",
       "      <td>145885</td>\n",
       "      <td>недвижимость</td>\n",
       "      <td>C</td>\n",
       "    </tr>\n",
       "    <tr>\n",
       "      <th>3</th>\n",
       "      <td>3</td>\n",
       "      <td>4124</td>\n",
       "      <td>32</td>\n",
       "      <td>1</td>\n",
       "      <td>0</td>\n",
       "      <td>M</td>\n",
       "      <td>сотрудник</td>\n",
       "      <td>0</td>\n",
       "      <td>267628</td>\n",
       "      <td>образование</td>\n",
       "      <td>B</td>\n",
       "    </tr>\n",
       "    <tr>\n",
       "      <th>4</th>\n",
       "      <td>0</td>\n",
       "      <td>14177</td>\n",
       "      <td>53</td>\n",
       "      <td>1</td>\n",
       "      <td>1</td>\n",
       "      <td>F</td>\n",
       "      <td>пенсионер</td>\n",
       "      <td>0</td>\n",
       "      <td>158616</td>\n",
       "      <td>свадьба</td>\n",
       "      <td>C</td>\n",
       "    </tr>\n",
       "    <tr>\n",
       "      <th>5</th>\n",
       "      <td>0</td>\n",
       "      <td>926</td>\n",
       "      <td>27</td>\n",
       "      <td>0</td>\n",
       "      <td>1</td>\n",
       "      <td>M</td>\n",
       "      <td>компаньон</td>\n",
       "      <td>0</td>\n",
       "      <td>255763</td>\n",
       "      <td>недвижимость</td>\n",
       "      <td>B</td>\n",
       "    </tr>\n",
       "    <tr>\n",
       "      <th>6</th>\n",
       "      <td>0</td>\n",
       "      <td>2879</td>\n",
       "      <td>43</td>\n",
       "      <td>0</td>\n",
       "      <td>0</td>\n",
       "      <td>F</td>\n",
       "      <td>компаньон</td>\n",
       "      <td>0</td>\n",
       "      <td>240525</td>\n",
       "      <td>недвижимость</td>\n",
       "      <td>B</td>\n",
       "    </tr>\n",
       "    <tr>\n",
       "      <th>7</th>\n",
       "      <td>0</td>\n",
       "      <td>152</td>\n",
       "      <td>50</td>\n",
       "      <td>1</td>\n",
       "      <td>0</td>\n",
       "      <td>M</td>\n",
       "      <td>сотрудник</td>\n",
       "      <td>0</td>\n",
       "      <td>135823</td>\n",
       "      <td>образование</td>\n",
       "      <td>C</td>\n",
       "    </tr>\n",
       "    <tr>\n",
       "      <th>8</th>\n",
       "      <td>2</td>\n",
       "      <td>6929</td>\n",
       "      <td>35</td>\n",
       "      <td>0</td>\n",
       "      <td>1</td>\n",
       "      <td>F</td>\n",
       "      <td>сотрудник</td>\n",
       "      <td>0</td>\n",
       "      <td>95856</td>\n",
       "      <td>свадьба</td>\n",
       "      <td>C</td>\n",
       "    </tr>\n",
       "    <tr>\n",
       "      <th>9</th>\n",
       "      <td>0</td>\n",
       "      <td>2188</td>\n",
       "      <td>41</td>\n",
       "      <td>1</td>\n",
       "      <td>0</td>\n",
       "      <td>M</td>\n",
       "      <td>сотрудник</td>\n",
       "      <td>0</td>\n",
       "      <td>144425</td>\n",
       "      <td>недвижимость</td>\n",
       "      <td>C</td>\n",
       "    </tr>\n",
       "    <tr>\n",
       "      <th>10</th>\n",
       "      <td>2</td>\n",
       "      <td>4171</td>\n",
       "      <td>36</td>\n",
       "      <td>0</td>\n",
       "      <td>0</td>\n",
       "      <td>M</td>\n",
       "      <td>компаньон</td>\n",
       "      <td>0</td>\n",
       "      <td>113943</td>\n",
       "      <td>недвижимость</td>\n",
       "      <td>C</td>\n",
       "    </tr>\n",
       "    <tr>\n",
       "      <th>11</th>\n",
       "      <td>0</td>\n",
       "      <td>792</td>\n",
       "      <td>40</td>\n",
       "      <td>1</td>\n",
       "      <td>0</td>\n",
       "      <td>F</td>\n",
       "      <td>сотрудник</td>\n",
       "      <td>0</td>\n",
       "      <td>77069</td>\n",
       "      <td>недвижимость</td>\n",
       "      <td>C</td>\n",
       "    </tr>\n",
       "    <tr>\n",
       "      <th>12</th>\n",
       "      <td>0</td>\n",
       "      <td>2192</td>\n",
       "      <td>65</td>\n",
       "      <td>1</td>\n",
       "      <td>1</td>\n",
       "      <td>M</td>\n",
       "      <td>пенсионер</td>\n",
       "      <td>0</td>\n",
       "      <td>145017</td>\n",
       "      <td>свадьба</td>\n",
       "      <td>C</td>\n",
       "    </tr>\n",
       "    <tr>\n",
       "      <th>13</th>\n",
       "      <td>0</td>\n",
       "      <td>1846</td>\n",
       "      <td>54</td>\n",
       "      <td>2</td>\n",
       "      <td>0</td>\n",
       "      <td>F</td>\n",
       "      <td>сотрудник</td>\n",
       "      <td>0</td>\n",
       "      <td>130458</td>\n",
       "      <td>автомобиль</td>\n",
       "      <td>C</td>\n",
       "    </tr>\n",
       "    <tr>\n",
       "      <th>14</th>\n",
       "      <td>0</td>\n",
       "      <td>1844</td>\n",
       "      <td>56</td>\n",
       "      <td>0</td>\n",
       "      <td>1</td>\n",
       "      <td>F</td>\n",
       "      <td>компаньон</td>\n",
       "      <td>1</td>\n",
       "      <td>165127</td>\n",
       "      <td>недвижимость</td>\n",
       "      <td>C</td>\n",
       "    </tr>\n",
       "  </tbody>\n",
       "</table>\n",
       "</div>"
      ],
      "text/plain": [
       "    children  days_employed  dob_years  education_id  family_status_id gender  \\\n",
       "0          1           8437         42             0                 0      F   \n",
       "1          1           4024         36             1                 0      F   \n",
       "2          0           5623         33             1                 0      M   \n",
       "3          3           4124         32             1                 0      M   \n",
       "4          0          14177         53             1                 1      F   \n",
       "5          0            926         27             0                 1      M   \n",
       "6          0           2879         43             0                 0      F   \n",
       "7          0            152         50             1                 0      M   \n",
       "8          2           6929         35             0                 1      F   \n",
       "9          0           2188         41             1                 0      M   \n",
       "10         2           4171         36             0                 0      M   \n",
       "11         0            792         40             1                 0      F   \n",
       "12         0           2192         65             1                 1      M   \n",
       "13         0           1846         54             2                 0      F   \n",
       "14         0           1844         56             0                 1      F   \n",
       "\n",
       "   income_type  debt  total_income       purpose total_income_category  \n",
       "0    сотрудник     0        253875  недвижимость                     B  \n",
       "1    сотрудник     0        112080    автомобиль                     C  \n",
       "2    сотрудник     0        145885  недвижимость                     C  \n",
       "3    сотрудник     0        267628   образование                     B  \n",
       "4    пенсионер     0        158616       свадьба                     C  \n",
       "5    компаньон     0        255763  недвижимость                     B  \n",
       "6    компаньон     0        240525  недвижимость                     B  \n",
       "7    сотрудник     0        135823   образование                     C  \n",
       "8    сотрудник     0         95856       свадьба                     C  \n",
       "9    сотрудник     0        144425  недвижимость                     C  \n",
       "10   компаньон     0        113943  недвижимость                     C  \n",
       "11   сотрудник     0         77069  недвижимость                     C  \n",
       "12   пенсионер     0        145017       свадьба                     C  \n",
       "13   сотрудник     0        130458    автомобиль                     C  \n",
       "14   компаньон     1        165127  недвижимость                     C  "
      ]
     },
     "execution_count": 65,
     "metadata": {},
     "output_type": "execute_result"
    }
   ],
   "source": [
    "# функция для категоризации дохода\n",
    "def total_income_group(total_income):\n",
    "    if total_income <= 30000:\n",
    "        return 'E'\n",
    "    if total_income >= 30001 and total_income <= 50000:\n",
    "        return 'D'\n",
    "    if total_income >= 50001 and total_income <= 200000:\n",
    "        return 'C'\n",
    "    if total_income >= 200001 and total_income <= 1000000:\n",
    "        return 'B'\n",
    "    return 'A'\n",
    "\n",
    "\n",
    "\n",
    "df['total_income_category'] = df['total_income'].apply(total_income_group)\n",
    "df.head(15)"
   ]
  },
  {
   "cell_type": "code",
   "execution_count": 66,
   "id": "03ac0130",
   "metadata": {},
   "outputs": [
    {
     "data": {
      "text/html": [
       "<div>\n",
       "<style scoped>\n",
       "    .dataframe tbody tr th:only-of-type {\n",
       "        vertical-align: middle;\n",
       "    }\n",
       "\n",
       "    .dataframe tbody tr th {\n",
       "        vertical-align: top;\n",
       "    }\n",
       "\n",
       "    .dataframe thead th {\n",
       "        text-align: right;\n",
       "    }\n",
       "</style>\n",
       "<table border=\"1\" class=\"dataframe\">\n",
       "  <thead>\n",
       "    <tr style=\"text-align: right;\">\n",
       "      <th></th>\n",
       "      <th>purpose_category</th>\n",
       "      <th>purpose</th>\n",
       "    </tr>\n",
       "  </thead>\n",
       "  <tbody>\n",
       "    <tr>\n",
       "      <th>0</th>\n",
       "      <td>E</td>\n",
       "      <td>0-30000</td>\n",
       "    </tr>\n",
       "    <tr>\n",
       "      <th>1</th>\n",
       "      <td>D</td>\n",
       "      <td>30001-50000</td>\n",
       "    </tr>\n",
       "    <tr>\n",
       "      <th>2</th>\n",
       "      <td>C</td>\n",
       "      <td>50001-20000</td>\n",
       "    </tr>\n",
       "    <tr>\n",
       "      <th>3</th>\n",
       "      <td>B</td>\n",
       "      <td>200001-1000000</td>\n",
       "    </tr>\n",
       "    <tr>\n",
       "      <th>4</th>\n",
       "      <td>A</td>\n",
       "      <td>свыше 1 млн</td>\n",
       "    </tr>\n",
       "  </tbody>\n",
       "</table>\n",
       "</div>"
      ],
      "text/plain": [
       "  purpose_category         purpose\n",
       "0                E         0-30000\n",
       "1                D     30001-50000\n",
       "2                C     50001-20000\n",
       "3                B  200001-1000000\n",
       "4                A     свыше 1 млн"
      ]
     },
     "execution_count": 66,
     "metadata": {},
     "output_type": "execute_result"
    }
   ],
   "source": [
    "#для наглядности выведем таблицу с категориями доходов\n",
    "columns = ['purpose_category', 'purpose']\n",
    "data = [['E','0-30000'], ['D','30001-50000'], ['C','50001-20000'], ['B','200001-1000000'], ['A','свыше 1 млн']]\n",
    "purpose_category_table = pd.DataFrame(data=data, columns=columns)\n",
    "purpose_category_table"
   ]
  },
  {
   "cell_type": "markdown",
   "id": "80544b20",
   "metadata": {},
   "source": [
    "## Шаг 5. Категоризация целей кредита."
   ]
  },
  {
   "cell_type": "markdown",
   "id": "eb438b26",
   "metadata": {},
   "source": [
    "Так как в данных столбца **purpose** имеется достаточное количество дубликатов, также проведем их категоризацию, чтобы легче воспринимать информацию о цели кредита.  "
   ]
  },
  {
   "cell_type": "code",
   "execution_count": 67,
   "id": "91534b24",
   "metadata": {},
   "outputs": [
    {
     "data": {
      "text/html": [
       "<div>\n",
       "<style scoped>\n",
       "    .dataframe tbody tr th:only-of-type {\n",
       "        vertical-align: middle;\n",
       "    }\n",
       "\n",
       "    .dataframe tbody tr th {\n",
       "        vertical-align: top;\n",
       "    }\n",
       "\n",
       "    .dataframe thead th {\n",
       "        text-align: right;\n",
       "    }\n",
       "</style>\n",
       "<table border=\"1\" class=\"dataframe\">\n",
       "  <thead>\n",
       "    <tr style=\"text-align: right;\">\n",
       "      <th></th>\n",
       "      <th>children</th>\n",
       "      <th>days_employed</th>\n",
       "      <th>dob_years</th>\n",
       "      <th>education_id</th>\n",
       "      <th>family_status_id</th>\n",
       "      <th>gender</th>\n",
       "      <th>income_type</th>\n",
       "      <th>debt</th>\n",
       "      <th>total_income</th>\n",
       "      <th>purpose</th>\n",
       "      <th>total_income_category</th>\n",
       "      <th>purpose_category</th>\n",
       "    </tr>\n",
       "  </thead>\n",
       "  <tbody>\n",
       "    <tr>\n",
       "      <th>0</th>\n",
       "      <td>1</td>\n",
       "      <td>8437</td>\n",
       "      <td>42</td>\n",
       "      <td>0</td>\n",
       "      <td>0</td>\n",
       "      <td>F</td>\n",
       "      <td>сотрудник</td>\n",
       "      <td>0</td>\n",
       "      <td>253875</td>\n",
       "      <td>недвижимость</td>\n",
       "      <td>B</td>\n",
       "      <td>операции с недвижимостью</td>\n",
       "    </tr>\n",
       "    <tr>\n",
       "      <th>1</th>\n",
       "      <td>1</td>\n",
       "      <td>4024</td>\n",
       "      <td>36</td>\n",
       "      <td>1</td>\n",
       "      <td>0</td>\n",
       "      <td>F</td>\n",
       "      <td>сотрудник</td>\n",
       "      <td>0</td>\n",
       "      <td>112080</td>\n",
       "      <td>автомобиль</td>\n",
       "      <td>C</td>\n",
       "      <td>операции с автомобилем</td>\n",
       "    </tr>\n",
       "    <tr>\n",
       "      <th>2</th>\n",
       "      <td>0</td>\n",
       "      <td>5623</td>\n",
       "      <td>33</td>\n",
       "      <td>1</td>\n",
       "      <td>0</td>\n",
       "      <td>M</td>\n",
       "      <td>сотрудник</td>\n",
       "      <td>0</td>\n",
       "      <td>145885</td>\n",
       "      <td>недвижимость</td>\n",
       "      <td>C</td>\n",
       "      <td>операции с недвижимостью</td>\n",
       "    </tr>\n",
       "    <tr>\n",
       "      <th>3</th>\n",
       "      <td>3</td>\n",
       "      <td>4124</td>\n",
       "      <td>32</td>\n",
       "      <td>1</td>\n",
       "      <td>0</td>\n",
       "      <td>M</td>\n",
       "      <td>сотрудник</td>\n",
       "      <td>0</td>\n",
       "      <td>267628</td>\n",
       "      <td>образование</td>\n",
       "      <td>B</td>\n",
       "      <td>получение образования</td>\n",
       "    </tr>\n",
       "    <tr>\n",
       "      <th>4</th>\n",
       "      <td>0</td>\n",
       "      <td>14177</td>\n",
       "      <td>53</td>\n",
       "      <td>1</td>\n",
       "      <td>1</td>\n",
       "      <td>F</td>\n",
       "      <td>пенсионер</td>\n",
       "      <td>0</td>\n",
       "      <td>158616</td>\n",
       "      <td>свадьба</td>\n",
       "      <td>C</td>\n",
       "      <td>проведение свадьбы</td>\n",
       "    </tr>\n",
       "    <tr>\n",
       "      <th>5</th>\n",
       "      <td>0</td>\n",
       "      <td>926</td>\n",
       "      <td>27</td>\n",
       "      <td>0</td>\n",
       "      <td>1</td>\n",
       "      <td>M</td>\n",
       "      <td>компаньон</td>\n",
       "      <td>0</td>\n",
       "      <td>255763</td>\n",
       "      <td>недвижимость</td>\n",
       "      <td>B</td>\n",
       "      <td>операции с недвижимостью</td>\n",
       "    </tr>\n",
       "    <tr>\n",
       "      <th>6</th>\n",
       "      <td>0</td>\n",
       "      <td>2879</td>\n",
       "      <td>43</td>\n",
       "      <td>0</td>\n",
       "      <td>0</td>\n",
       "      <td>F</td>\n",
       "      <td>компаньон</td>\n",
       "      <td>0</td>\n",
       "      <td>240525</td>\n",
       "      <td>недвижимость</td>\n",
       "      <td>B</td>\n",
       "      <td>операции с недвижимостью</td>\n",
       "    </tr>\n",
       "    <tr>\n",
       "      <th>7</th>\n",
       "      <td>0</td>\n",
       "      <td>152</td>\n",
       "      <td>50</td>\n",
       "      <td>1</td>\n",
       "      <td>0</td>\n",
       "      <td>M</td>\n",
       "      <td>сотрудник</td>\n",
       "      <td>0</td>\n",
       "      <td>135823</td>\n",
       "      <td>образование</td>\n",
       "      <td>C</td>\n",
       "      <td>получение образования</td>\n",
       "    </tr>\n",
       "    <tr>\n",
       "      <th>8</th>\n",
       "      <td>2</td>\n",
       "      <td>6929</td>\n",
       "      <td>35</td>\n",
       "      <td>0</td>\n",
       "      <td>1</td>\n",
       "      <td>F</td>\n",
       "      <td>сотрудник</td>\n",
       "      <td>0</td>\n",
       "      <td>95856</td>\n",
       "      <td>свадьба</td>\n",
       "      <td>C</td>\n",
       "      <td>проведение свадьбы</td>\n",
       "    </tr>\n",
       "    <tr>\n",
       "      <th>9</th>\n",
       "      <td>0</td>\n",
       "      <td>2188</td>\n",
       "      <td>41</td>\n",
       "      <td>1</td>\n",
       "      <td>0</td>\n",
       "      <td>M</td>\n",
       "      <td>сотрудник</td>\n",
       "      <td>0</td>\n",
       "      <td>144425</td>\n",
       "      <td>недвижимость</td>\n",
       "      <td>C</td>\n",
       "      <td>операции с недвижимостью</td>\n",
       "    </tr>\n",
       "    <tr>\n",
       "      <th>10</th>\n",
       "      <td>2</td>\n",
       "      <td>4171</td>\n",
       "      <td>36</td>\n",
       "      <td>0</td>\n",
       "      <td>0</td>\n",
       "      <td>M</td>\n",
       "      <td>компаньон</td>\n",
       "      <td>0</td>\n",
       "      <td>113943</td>\n",
       "      <td>недвижимость</td>\n",
       "      <td>C</td>\n",
       "      <td>операции с недвижимостью</td>\n",
       "    </tr>\n",
       "    <tr>\n",
       "      <th>11</th>\n",
       "      <td>0</td>\n",
       "      <td>792</td>\n",
       "      <td>40</td>\n",
       "      <td>1</td>\n",
       "      <td>0</td>\n",
       "      <td>F</td>\n",
       "      <td>сотрудник</td>\n",
       "      <td>0</td>\n",
       "      <td>77069</td>\n",
       "      <td>недвижимость</td>\n",
       "      <td>C</td>\n",
       "      <td>операции с недвижимостью</td>\n",
       "    </tr>\n",
       "    <tr>\n",
       "      <th>12</th>\n",
       "      <td>0</td>\n",
       "      <td>2192</td>\n",
       "      <td>65</td>\n",
       "      <td>1</td>\n",
       "      <td>1</td>\n",
       "      <td>M</td>\n",
       "      <td>пенсионер</td>\n",
       "      <td>0</td>\n",
       "      <td>145017</td>\n",
       "      <td>свадьба</td>\n",
       "      <td>C</td>\n",
       "      <td>проведение свадьбы</td>\n",
       "    </tr>\n",
       "    <tr>\n",
       "      <th>13</th>\n",
       "      <td>0</td>\n",
       "      <td>1846</td>\n",
       "      <td>54</td>\n",
       "      <td>2</td>\n",
       "      <td>0</td>\n",
       "      <td>F</td>\n",
       "      <td>сотрудник</td>\n",
       "      <td>0</td>\n",
       "      <td>130458</td>\n",
       "      <td>автомобиль</td>\n",
       "      <td>C</td>\n",
       "      <td>операции с автомобилем</td>\n",
       "    </tr>\n",
       "    <tr>\n",
       "      <th>14</th>\n",
       "      <td>0</td>\n",
       "      <td>1844</td>\n",
       "      <td>56</td>\n",
       "      <td>0</td>\n",
       "      <td>1</td>\n",
       "      <td>F</td>\n",
       "      <td>компаньон</td>\n",
       "      <td>1</td>\n",
       "      <td>165127</td>\n",
       "      <td>недвижимость</td>\n",
       "      <td>C</td>\n",
       "      <td>операции с недвижимостью</td>\n",
       "    </tr>\n",
       "  </tbody>\n",
       "</table>\n",
       "</div>"
      ],
      "text/plain": [
       "    children  days_employed  dob_years  education_id  family_status_id gender  \\\n",
       "0          1           8437         42             0                 0      F   \n",
       "1          1           4024         36             1                 0      F   \n",
       "2          0           5623         33             1                 0      M   \n",
       "3          3           4124         32             1                 0      M   \n",
       "4          0          14177         53             1                 1      F   \n",
       "5          0            926         27             0                 1      M   \n",
       "6          0           2879         43             0                 0      F   \n",
       "7          0            152         50             1                 0      M   \n",
       "8          2           6929         35             0                 1      F   \n",
       "9          0           2188         41             1                 0      M   \n",
       "10         2           4171         36             0                 0      M   \n",
       "11         0            792         40             1                 0      F   \n",
       "12         0           2192         65             1                 1      M   \n",
       "13         0           1846         54             2                 0      F   \n",
       "14         0           1844         56             0                 1      F   \n",
       "\n",
       "   income_type  debt  total_income       purpose total_income_category  \\\n",
       "0    сотрудник     0        253875  недвижимость                     B   \n",
       "1    сотрудник     0        112080    автомобиль                     C   \n",
       "2    сотрудник     0        145885  недвижимость                     C   \n",
       "3    сотрудник     0        267628   образование                     B   \n",
       "4    пенсионер     0        158616       свадьба                     C   \n",
       "5    компаньон     0        255763  недвижимость                     B   \n",
       "6    компаньон     0        240525  недвижимость                     B   \n",
       "7    сотрудник     0        135823   образование                     C   \n",
       "8    сотрудник     0         95856       свадьба                     C   \n",
       "9    сотрудник     0        144425  недвижимость                     C   \n",
       "10   компаньон     0        113943  недвижимость                     C   \n",
       "11   сотрудник     0         77069  недвижимость                     C   \n",
       "12   пенсионер     0        145017       свадьба                     C   \n",
       "13   сотрудник     0        130458    автомобиль                     C   \n",
       "14   компаньон     1        165127  недвижимость                     C   \n",
       "\n",
       "            purpose_category  \n",
       "0   операции с недвижимостью  \n",
       "1     операции с автомобилем  \n",
       "2   операции с недвижимостью  \n",
       "3      получение образования  \n",
       "4         проведение свадьбы  \n",
       "5   операции с недвижимостью  \n",
       "6   операции с недвижимостью  \n",
       "7      получение образования  \n",
       "8         проведение свадьбы  \n",
       "9   операции с недвижимостью  \n",
       "10  операции с недвижимостью  \n",
       "11  операции с недвижимостью  \n",
       "12        проведение свадьбы  \n",
       "13    операции с автомобилем  \n",
       "14  операции с недвижимостью  "
      ]
     },
     "execution_count": 67,
     "metadata": {},
     "output_type": "execute_result"
    }
   ],
   "source": [
    "# функция для категоризации целей кредита\n",
    "def purpose_category_group(purpose):\n",
    "    if  'авто' in purpose:\n",
    "        return 'операции с автомобилем'\n",
    "    elif 'недвиж' in purpose or 'жиль' in purpose:\n",
    "        return 'операции с недвижимостью'\n",
    "    elif 'свадьб' in purpose:\n",
    "        return 'проведение свадьбы'\n",
    "    elif 'образо' in purpose:\n",
    "        return 'получение образования'\n",
    "\n",
    "df['purpose_category'] = df['purpose'].apply(purpose_category_group)\n",
    "df.head(15)"
   ]
  },
  {
   "cell_type": "markdown",
   "id": "c1f59ec5",
   "metadata": {},
   "source": [
    "### 1. Есть ли зависимость между количеством детей и возвратом кредита в срок?"
   ]
  },
  {
   "cell_type": "code",
   "execution_count": 68,
   "id": "bdc7c8df",
   "metadata": {},
   "outputs": [
    {
     "data": {
      "text/html": [
       "<div>\n",
       "<style scoped>\n",
       "    .dataframe tbody tr th:only-of-type {\n",
       "        vertical-align: middle;\n",
       "    }\n",
       "\n",
       "    .dataframe tbody tr th {\n",
       "        vertical-align: top;\n",
       "    }\n",
       "\n",
       "    .dataframe thead th {\n",
       "        text-align: right;\n",
       "    }\n",
       "</style>\n",
       "<table border=\"1\" class=\"dataframe\">\n",
       "  <thead>\n",
       "    <tr style=\"text-align: right;\">\n",
       "      <th>children</th>\n",
       "      <th>0</th>\n",
       "      <th>1</th>\n",
       "      <th>2</th>\n",
       "      <th>3</th>\n",
       "      <th>4</th>\n",
       "      <th>5</th>\n",
       "    </tr>\n",
       "    <tr>\n",
       "      <th>gender</th>\n",
       "      <th></th>\n",
       "      <th></th>\n",
       "      <th></th>\n",
       "      <th></th>\n",
       "      <th></th>\n",
       "      <th></th>\n",
       "    </tr>\n",
       "  </thead>\n",
       "  <tbody>\n",
       "    <tr>\n",
       "      <th>F</th>\n",
       "      <td>589</td>\n",
       "      <td>243</td>\n",
       "      <td>134</td>\n",
       "      <td>17</td>\n",
       "      <td>1</td>\n",
       "      <td>0</td>\n",
       "    </tr>\n",
       "    <tr>\n",
       "      <th>M</th>\n",
       "      <td>469</td>\n",
       "      <td>198</td>\n",
       "      <td>60</td>\n",
       "      <td>10</td>\n",
       "      <td>3</td>\n",
       "      <td>0</td>\n",
       "    </tr>\n",
       "  </tbody>\n",
       "</table>\n",
       "</div>"
      ],
      "text/plain": [
       "children    0    1    2   3  4  5\n",
       "gender                           \n",
       "F         589  243  134  17  1  0\n",
       "M         469  198   60  10  3  0"
      ]
     },
     "execution_count": 68,
     "metadata": {},
     "output_type": "execute_result"
    }
   ],
   "source": [
    "df_children_pivot = df.pivot_table(index=['gender'], columns='children', values='debt', aggfunc='sum')\n",
    "df_children_pivot"
   ]
  },
  {
   "cell_type": "markdown",
   "id": "ef33866f",
   "metadata": {},
   "source": [
    "**Вывод 1**\n",
    "\n",
    "Зависимость между количеством детей и возвратом кредита в срок есть. По сводной таблице видно, что с увеличением количества детей количество просрочек снижается, а те, кто имеет 5 детей, прросрочек вообще не имеют.\n",
    "\n",
    "Но! Все же лучше посмотреть не количество просрочек, а их долю, так как количество еще не отражает всей \"картины\". "
   ]
  },
  {
   "cell_type": "code",
   "execution_count": 69,
   "id": "65fd10d4",
   "metadata": {},
   "outputs": [
    {
     "data": {
      "text/html": [
       "<div>\n",
       "<style scoped>\n",
       "    .dataframe tbody tr th:only-of-type {\n",
       "        vertical-align: middle;\n",
       "    }\n",
       "\n",
       "    .dataframe tbody tr th {\n",
       "        vertical-align: top;\n",
       "    }\n",
       "\n",
       "    .dataframe thead th {\n",
       "        text-align: right;\n",
       "    }\n",
       "</style>\n",
       "<table border=\"1\" class=\"dataframe\">\n",
       "  <thead>\n",
       "    <tr style=\"text-align: right;\">\n",
       "      <th></th>\n",
       "      <th>count_children</th>\n",
       "      <th>sum_children</th>\n",
       "      <th>result_children, %</th>\n",
       "    </tr>\n",
       "    <tr>\n",
       "      <th>children</th>\n",
       "      <th></th>\n",
       "      <th></th>\n",
       "      <th></th>\n",
       "    </tr>\n",
       "  </thead>\n",
       "  <tbody>\n",
       "    <tr>\n",
       "      <th>0</th>\n",
       "      <td>14021</td>\n",
       "      <td>1058</td>\n",
       "      <td>7.55</td>\n",
       "    </tr>\n",
       "    <tr>\n",
       "      <th>1</th>\n",
       "      <td>4792</td>\n",
       "      <td>441</td>\n",
       "      <td>9.20</td>\n",
       "    </tr>\n",
       "    <tr>\n",
       "      <th>2</th>\n",
       "      <td>2039</td>\n",
       "      <td>194</td>\n",
       "      <td>9.51</td>\n",
       "    </tr>\n",
       "    <tr>\n",
       "      <th>3</th>\n",
       "      <td>328</td>\n",
       "      <td>27</td>\n",
       "      <td>8.23</td>\n",
       "    </tr>\n",
       "    <tr>\n",
       "      <th>4</th>\n",
       "      <td>41</td>\n",
       "      <td>4</td>\n",
       "      <td>9.76</td>\n",
       "    </tr>\n",
       "    <tr>\n",
       "      <th>5</th>\n",
       "      <td>9</td>\n",
       "      <td>0</td>\n",
       "      <td>0.00</td>\n",
       "    </tr>\n",
       "  </tbody>\n",
       "</table>\n",
       "</div>"
      ],
      "text/plain": [
       "          count_children  sum_children  result_children, %\n",
       "children                                                  \n",
       "0                  14021          1058                7.55\n",
       "1                   4792           441                9.20\n",
       "2                   2039           194                9.51\n",
       "3                    328            27                8.23\n",
       "4                     41             4                9.76\n",
       "5                      9             0                0.00"
      ]
     },
     "execution_count": 69,
     "metadata": {},
     "output_type": "execute_result"
    }
   ],
   "source": [
    "debt_children = pd.DataFrame()\n",
    "debt_children['count_children'] = df.groupby('children')['debt'].count()\n",
    "debt_children['sum_children'] = df.groupby('children')['debt'].sum()\n",
    "debt_children['result_children, %'] = ((debt_children['sum_children'] / debt_children['count_children']) * 100).round(2)\n",
    "debt_children"
   ]
  },
  {
   "cell_type": "markdown",
   "id": "7a65e65b",
   "metadata": {},
   "source": [
    "Результаты оказались такими: \n",
    "- У людей без детей доля просрочек наименьшая. Возможно это связано с тем, что бездетные люди имеют больше средств, так как они не обременены необходимостью ухода за ребенком/детьми.\n",
    "- У людей с 1, 2 и 4 детьми достаточно высокая доля просрочек. Скорее всего это связано с тем, что с появлением детей больше денег требуется на содержание ребенка/детей, хотя государство оказывает поддержку при рождении ребенка, но похоже это не очень помогает. Возможно также, что 1 и 2 ребенка имеют молодые семьи, которые пока имеют недостаточный доход. \n",
    "- При этом у людей с 3 детьми меньшая доля просрочек. В нашей стране семья с 3 детьми считается многодетной и имеет дополнительную финансовую поддержку от государства, возможно по этой причине доля просрочек ниже. А вот при появлении 4 ребенка финансов даже при поддержке государства возможно не хватает.\n",
    "- А вот 9 человек, имеющие 5 детей, всегда платили вовремя, но так как выборка людей с 5-ю детьми довольно небольшая, то будет немного голословно делать вывод, что *все* люди имеющие 5 детей возвращают кредит в срок, хоть таких людей в принципе не много."
   ]
  },
  {
   "cell_type": "markdown",
   "id": "4a1acd5f",
   "metadata": {},
   "source": [
    "**Вывод 2** \n",
    "\n",
    "Зависимость наличия задолженности от количества детей есть, но она не прямая. Тут играют роль социальные факторы, влияние которых довольно разнообразное и сложное, поэтому остановимся на выводе, что у людей, не имеющих детей, более низкий процент просрочек, чем у людей с детьми. "
   ]
  },
  {
   "cell_type": "markdown",
   "id": "366b00e3",
   "metadata": {},
   "source": [
    "### 2. Есть ли зависимость между семейным положением и возвратом кредита в срок?"
   ]
  },
  {
   "cell_type": "code",
   "execution_count": 70,
   "id": "b18280aa",
   "metadata": {},
   "outputs": [
    {
     "data": {
      "text/html": [
       "<div>\n",
       "<style scoped>\n",
       "    .dataframe tbody tr th:only-of-type {\n",
       "        vertical-align: middle;\n",
       "    }\n",
       "\n",
       "    .dataframe tbody tr th {\n",
       "        vertical-align: top;\n",
       "    }\n",
       "\n",
       "    .dataframe thead th {\n",
       "        text-align: right;\n",
       "    }\n",
       "</style>\n",
       "<table border=\"1\" class=\"dataframe\">\n",
       "  <thead>\n",
       "    <tr style=\"text-align: right;\">\n",
       "      <th>gender</th>\n",
       "      <th>F</th>\n",
       "      <th>M</th>\n",
       "    </tr>\n",
       "    <tr>\n",
       "      <th>family_status_id</th>\n",
       "      <th></th>\n",
       "      <th></th>\n",
       "    </tr>\n",
       "  </thead>\n",
       "  <tbody>\n",
       "    <tr>\n",
       "      <th>0</th>\n",
       "      <td>523</td>\n",
       "      <td>400</td>\n",
       "    </tr>\n",
       "    <tr>\n",
       "      <th>1</th>\n",
       "      <td>231</td>\n",
       "      <td>152</td>\n",
       "    </tr>\n",
       "    <tr>\n",
       "      <th>2</th>\n",
       "      <td>51</td>\n",
       "      <td>11</td>\n",
       "    </tr>\n",
       "    <tr>\n",
       "      <th>3</th>\n",
       "      <td>61</td>\n",
       "      <td>23</td>\n",
       "    </tr>\n",
       "    <tr>\n",
       "      <th>4</th>\n",
       "      <td>118</td>\n",
       "      <td>154</td>\n",
       "    </tr>\n",
       "  </tbody>\n",
       "</table>\n",
       "</div>"
      ],
      "text/plain": [
       "gender              F    M\n",
       "family_status_id          \n",
       "0                 523  400\n",
       "1                 231  152\n",
       "2                  51   11\n",
       "3                  61   23\n",
       "4                 118  154"
      ]
     },
     "execution_count": 70,
     "metadata": {},
     "output_type": "execute_result"
    }
   ],
   "source": [
    "df_family_status = df.pivot_table(index='family_status_id', columns='gender', values='debt', aggfunc='sum')\n",
    "df_family_status"
   ]
  },
  {
   "cell_type": "code",
   "execution_count": 71,
   "id": "596d5b0c",
   "metadata": {},
   "outputs": [
    {
     "data": {
      "text/html": [
       "<div>\n",
       "<style scoped>\n",
       "    .dataframe tbody tr th:only-of-type {\n",
       "        vertical-align: middle;\n",
       "    }\n",
       "\n",
       "    .dataframe tbody tr th {\n",
       "        vertical-align: top;\n",
       "    }\n",
       "\n",
       "    .dataframe thead th {\n",
       "        text-align: right;\n",
       "    }\n",
       "</style>\n",
       "<table border=\"1\" class=\"dataframe\">\n",
       "  <thead>\n",
       "    <tr style=\"text-align: right;\">\n",
       "      <th></th>\n",
       "      <th>family_ststus_id</th>\n",
       "      <th>family_status</th>\n",
       "    </tr>\n",
       "  </thead>\n",
       "  <tbody>\n",
       "    <tr>\n",
       "      <th>0</th>\n",
       "      <td>0</td>\n",
       "      <td>женат / замужем</td>\n",
       "    </tr>\n",
       "    <tr>\n",
       "      <th>1</th>\n",
       "      <td>1</td>\n",
       "      <td>гражданский брак</td>\n",
       "    </tr>\n",
       "    <tr>\n",
       "      <th>2</th>\n",
       "      <td>2</td>\n",
       "      <td>Не женат / не замужем</td>\n",
       "    </tr>\n",
       "    <tr>\n",
       "      <th>3</th>\n",
       "      <td>3</td>\n",
       "      <td>в разводе</td>\n",
       "    </tr>\n",
       "    <tr>\n",
       "      <th>4</th>\n",
       "      <td>4</td>\n",
       "      <td>вдовец / вдова</td>\n",
       "    </tr>\n",
       "  </tbody>\n",
       "</table>\n",
       "</div>"
      ],
      "text/plain": [
       "  family_ststus_id          family_status\n",
       "0                0       женат / замужем \n",
       "1                1       гражданский брак\n",
       "2                2  Не женат / не замужем\n",
       "3                3              в разводе\n",
       "4                4         вдовец / вдова"
      ]
     },
     "execution_count": 71,
     "metadata": {},
     "output_type": "execute_result"
    }
   ],
   "source": [
    "#для наглядности распечатаем таблицу с id семейного положения\n",
    "columns = ['family_ststus_id', 'family_status']\n",
    "data = [['0','женат / замужем '], ['1','гражданский брак'], ['2','Не женат / не замужем'], ['3','в разводе'], ['4','вдовец / вдова']]\n",
    "purpose_category_table = pd.DataFrame(data=data, columns=columns)\n",
    "purpose_category_table"
   ]
  },
  {
   "cell_type": "markdown",
   "id": "7aae1e48",
   "metadata": {},
   "source": [
    "**Вывод 1**\n",
    "\n",
    "По сводной таблице видим, что как мужчины, так и женщины в разводе или овдовевшие выплачивают кредит в срок чаще, чем не женатые или же состоящие в браке.\n",
    "\n",
    "Но все же проверим долю возврата кредитов, так как просто \"голое\" количество не столь информативно (может быть количество заемщиков в разводе или оводовевших меньше, чем остальных)."
   ]
  },
  {
   "cell_type": "code",
   "execution_count": 72,
   "id": "4d3bf5ff",
   "metadata": {},
   "outputs": [
    {
     "data": {
      "text/html": [
       "<div>\n",
       "<style scoped>\n",
       "    .dataframe tbody tr th:only-of-type {\n",
       "        vertical-align: middle;\n",
       "    }\n",
       "\n",
       "    .dataframe tbody tr th {\n",
       "        vertical-align: top;\n",
       "    }\n",
       "\n",
       "    .dataframe thead th {\n",
       "        text-align: right;\n",
       "    }\n",
       "</style>\n",
       "<table border=\"1\" class=\"dataframe\">\n",
       "  <thead>\n",
       "    <tr style=\"text-align: right;\">\n",
       "      <th></th>\n",
       "      <th>sum_family_status</th>\n",
       "      <th>count_family_status</th>\n",
       "      <th>result_family_status, %</th>\n",
       "    </tr>\n",
       "    <tr>\n",
       "      <th>family_status_id</th>\n",
       "      <th></th>\n",
       "      <th></th>\n",
       "      <th></th>\n",
       "    </tr>\n",
       "  </thead>\n",
       "  <tbody>\n",
       "    <tr>\n",
       "      <th>4</th>\n",
       "      <td>272</td>\n",
       "      <td>2780</td>\n",
       "      <td>9.78</td>\n",
       "    </tr>\n",
       "    <tr>\n",
       "      <th>1</th>\n",
       "      <td>383</td>\n",
       "      <td>4112</td>\n",
       "      <td>9.31</td>\n",
       "    </tr>\n",
       "    <tr>\n",
       "      <th>0</th>\n",
       "      <td>923</td>\n",
       "      <td>12213</td>\n",
       "      <td>7.56</td>\n",
       "    </tr>\n",
       "    <tr>\n",
       "      <th>3</th>\n",
       "      <td>84</td>\n",
       "      <td>1179</td>\n",
       "      <td>7.12</td>\n",
       "    </tr>\n",
       "    <tr>\n",
       "      <th>2</th>\n",
       "      <td>62</td>\n",
       "      <td>946</td>\n",
       "      <td>6.55</td>\n",
       "    </tr>\n",
       "  </tbody>\n",
       "</table>\n",
       "</div>"
      ],
      "text/plain": [
       "                  sum_family_status  count_family_status  \\\n",
       "family_status_id                                           \n",
       "4                               272                 2780   \n",
       "1                               383                 4112   \n",
       "0                               923                12213   \n",
       "3                                84                 1179   \n",
       "2                                62                  946   \n",
       "\n",
       "                  result_family_status, %  \n",
       "family_status_id                           \n",
       "4                                    9.78  \n",
       "1                                    9.31  \n",
       "0                                    7.56  \n",
       "3                                    7.12  \n",
       "2                                    6.55  "
      ]
     },
     "execution_count": 72,
     "metadata": {},
     "output_type": "execute_result"
    }
   ],
   "source": [
    "debt_family_status = pd.DataFrame()\n",
    "debt_family_status['sum_family_status'] = df.groupby('family_status_id')['debt'].sum()\n",
    "debt_family_status['count_family_status'] = df.groupby('family_status_id')['debt'].count()\n",
    "debt_family_status['result_family_status, %'] = ((debt_family_status['sum_family_status'] / debt_family_status['count_family_status']) * 100).round(2)\n",
    "debt_family_status.sort_values('result_family_status, %', ascending = False)"
   ]
  },
  {
   "cell_type": "code",
   "execution_count": 73,
   "id": "9f00f9ef",
   "metadata": {},
   "outputs": [
    {
     "data": {
      "text/html": [
       "<div>\n",
       "<style scoped>\n",
       "    .dataframe tbody tr th:only-of-type {\n",
       "        vertical-align: middle;\n",
       "    }\n",
       "\n",
       "    .dataframe tbody tr th {\n",
       "        vertical-align: top;\n",
       "    }\n",
       "\n",
       "    .dataframe thead th {\n",
       "        text-align: right;\n",
       "    }\n",
       "</style>\n",
       "<table border=\"1\" class=\"dataframe\">\n",
       "  <thead>\n",
       "    <tr style=\"text-align: right;\">\n",
       "      <th></th>\n",
       "      <th>family_ststus_id</th>\n",
       "      <th>family_status</th>\n",
       "    </tr>\n",
       "  </thead>\n",
       "  <tbody>\n",
       "    <tr>\n",
       "      <th>0</th>\n",
       "      <td>0</td>\n",
       "      <td>женат / замужем</td>\n",
       "    </tr>\n",
       "    <tr>\n",
       "      <th>1</th>\n",
       "      <td>1</td>\n",
       "      <td>гражданский брак</td>\n",
       "    </tr>\n",
       "    <tr>\n",
       "      <th>2</th>\n",
       "      <td>2</td>\n",
       "      <td>Не женат / не замужем</td>\n",
       "    </tr>\n",
       "    <tr>\n",
       "      <th>3</th>\n",
       "      <td>3</td>\n",
       "      <td>в разводе</td>\n",
       "    </tr>\n",
       "    <tr>\n",
       "      <th>4</th>\n",
       "      <td>4</td>\n",
       "      <td>вдовец / вдова</td>\n",
       "    </tr>\n",
       "  </tbody>\n",
       "</table>\n",
       "</div>"
      ],
      "text/plain": [
       "  family_ststus_id          family_status\n",
       "0                0       женат / замужем \n",
       "1                1       гражданский брак\n",
       "2                2  Не женат / не замужем\n",
       "3                3              в разводе\n",
       "4                4         вдовец / вдова"
      ]
     },
     "execution_count": 73,
     "metadata": {},
     "output_type": "execute_result"
    }
   ],
   "source": [
    "#для наглядности распечатаем таблицу с id семейного положения\n",
    "columns = ['family_ststus_id', 'family_status']\n",
    "data = [['0','женат / замужем '], ['1','гражданский брак'], ['2','Не женат / не замужем'], ['3','в разводе'], ['4','вдовец / вдова']]\n",
    "purpose_category_table = pd.DataFrame(data=data, columns=columns)\n",
    "purpose_category_table"
   ]
  },
  {
   "cell_type": "markdown",
   "id": "9feac09b",
   "metadata": {},
   "source": [
    "**Вывод 2**\n",
    "\n",
    "Теперь же видно, что доля просрочек в принципе соизмерима (от 6,55% до 9,77%), но наибольшая доля просрочек наблюдается у людей не в браке и у людей, состоящих в гражденском браке. В предыдущей сводной таблице на первом месте по количеству просрочек были женатые и замужние, а сейчас они на 3 месте по общему % задолженности. \n",
    "Наименьший процент просрочки по возврату кредита имеют вдовцы/вдовы.\n",
    "\n",
    "Таким образом, зависимость между семейным положением и возвратом кредита в срок наблюдается."
   ]
  },
  {
   "cell_type": "markdown",
   "id": "149905de",
   "metadata": {},
   "source": [
    "### 3. Есть ли зависимость между уровнем дохода и возвратом кредита в срок?"
   ]
  },
  {
   "cell_type": "code",
   "execution_count": 74,
   "id": "eb1accbd",
   "metadata": {},
   "outputs": [
    {
     "data": {
      "text/html": [
       "<div>\n",
       "<style scoped>\n",
       "    .dataframe tbody tr th:only-of-type {\n",
       "        vertical-align: middle;\n",
       "    }\n",
       "\n",
       "    .dataframe tbody tr th {\n",
       "        vertical-align: top;\n",
       "    }\n",
       "\n",
       "    .dataframe thead th {\n",
       "        text-align: right;\n",
       "    }\n",
       "</style>\n",
       "<table border=\"1\" class=\"dataframe\">\n",
       "  <thead>\n",
       "    <tr style=\"text-align: right;\">\n",
       "      <th>gender</th>\n",
       "      <th>F</th>\n",
       "      <th>M</th>\n",
       "    </tr>\n",
       "    <tr>\n",
       "      <th>total_income_category</th>\n",
       "      <th></th>\n",
       "      <th></th>\n",
       "    </tr>\n",
       "  </thead>\n",
       "  <tbody>\n",
       "    <tr>\n",
       "      <th>A</th>\n",
       "      <td>0</td>\n",
       "      <td>2</td>\n",
       "    </tr>\n",
       "    <tr>\n",
       "      <th>B</th>\n",
       "      <td>162</td>\n",
       "      <td>191</td>\n",
       "    </tr>\n",
       "    <tr>\n",
       "      <th>C</th>\n",
       "      <td>805</td>\n",
       "      <td>541</td>\n",
       "    </tr>\n",
       "    <tr>\n",
       "      <th>D</th>\n",
       "      <td>15</td>\n",
       "      <td>6</td>\n",
       "    </tr>\n",
       "    <tr>\n",
       "      <th>E</th>\n",
       "      <td>2</td>\n",
       "      <td>0</td>\n",
       "    </tr>\n",
       "  </tbody>\n",
       "</table>\n",
       "</div>"
      ],
      "text/plain": [
       "gender                   F    M\n",
       "total_income_category          \n",
       "A                        0    2\n",
       "B                      162  191\n",
       "C                      805  541\n",
       "D                       15    6\n",
       "E                        2    0"
      ]
     },
     "execution_count": 74,
     "metadata": {},
     "output_type": "execute_result"
    }
   ],
   "source": [
    "df_total_income = df.pivot_table(index='total_income_category', columns='gender', values='debt', aggfunc='sum')\n",
    "df_total_income "
   ]
  },
  {
   "cell_type": "markdown",
   "id": "e1b555cd",
   "metadata": {},
   "source": [
    "**Вывод 1**\n",
    "\n",
    "Люди с доходом от 50 тыс. до 1 млн. имеют большее количество задолженностей, чем люди с малым доходом или с доходом, превышающим 1 млн.\n",
    "\n",
    "Но проверим долю тех, кто не платит в срок, от общего количества по уровню дохода."
   ]
  },
  {
   "cell_type": "code",
   "execution_count": 75,
   "id": "d3b05b25",
   "metadata": {},
   "outputs": [
    {
     "data": {
      "text/html": [
       "<div>\n",
       "<style scoped>\n",
       "    .dataframe tbody tr th:only-of-type {\n",
       "        vertical-align: middle;\n",
       "    }\n",
       "\n",
       "    .dataframe tbody tr th {\n",
       "        vertical-align: top;\n",
       "    }\n",
       "\n",
       "    .dataframe thead th {\n",
       "        text-align: right;\n",
       "    }\n",
       "</style>\n",
       "<table border=\"1\" class=\"dataframe\">\n",
       "  <thead>\n",
       "    <tr style=\"text-align: right;\">\n",
       "      <th></th>\n",
       "      <th>sum_total_income_category</th>\n",
       "      <th>count_total_income_category</th>\n",
       "      <th>result_total_income_category, %</th>\n",
       "    </tr>\n",
       "    <tr>\n",
       "      <th>total_income_category</th>\n",
       "      <th></th>\n",
       "      <th></th>\n",
       "      <th></th>\n",
       "    </tr>\n",
       "  </thead>\n",
       "  <tbody>\n",
       "    <tr>\n",
       "      <th>E</th>\n",
       "      <td>2</td>\n",
       "      <td>22</td>\n",
       "      <td>9.09</td>\n",
       "    </tr>\n",
       "    <tr>\n",
       "      <th>C</th>\n",
       "      <td>1346</td>\n",
       "      <td>15850</td>\n",
       "      <td>8.49</td>\n",
       "    </tr>\n",
       "    <tr>\n",
       "      <th>A</th>\n",
       "      <td>2</td>\n",
       "      <td>25</td>\n",
       "      <td>8.00</td>\n",
       "    </tr>\n",
       "    <tr>\n",
       "      <th>B</th>\n",
       "      <td>353</td>\n",
       "      <td>4986</td>\n",
       "      <td>7.08</td>\n",
       "    </tr>\n",
       "    <tr>\n",
       "      <th>D</th>\n",
       "      <td>21</td>\n",
       "      <td>347</td>\n",
       "      <td>6.05</td>\n",
       "    </tr>\n",
       "  </tbody>\n",
       "</table>\n",
       "</div>"
      ],
      "text/plain": [
       "                       sum_total_income_category  count_total_income_category  \\\n",
       "total_income_category                                                           \n",
       "E                                              2                           22   \n",
       "C                                           1346                        15850   \n",
       "A                                              2                           25   \n",
       "B                                            353                         4986   \n",
       "D                                             21                          347   \n",
       "\n",
       "                       result_total_income_category, %  \n",
       "total_income_category                                   \n",
       "E                                                 9.09  \n",
       "C                                                 8.49  \n",
       "A                                                 8.00  \n",
       "B                                                 7.08  \n",
       "D                                                 6.05  "
      ]
     },
     "execution_count": 75,
     "metadata": {},
     "output_type": "execute_result"
    }
   ],
   "source": [
    "debt_total_income = pd.DataFrame()\n",
    "debt_total_income['sum_total_income_category'] = df.groupby('total_income_category')['debt'].sum()\n",
    "debt_total_income['count_total_income_category'] = df.groupby('total_income_category')['debt'].count()\n",
    "debt_total_income['result_total_income_category, %'] = ((debt_total_income['sum_total_income_category'] / debt_total_income['count_total_income_category']) * 100).round(2)\n",
    "debt_total_income.sort_values('result_total_income_category, %', ascending = False)"
   ]
  },
  {
   "cell_type": "code",
   "execution_count": 76,
   "id": "0eb2f62e",
   "metadata": {},
   "outputs": [
    {
     "data": {
      "text/html": [
       "<div>\n",
       "<style scoped>\n",
       "    .dataframe tbody tr th:only-of-type {\n",
       "        vertical-align: middle;\n",
       "    }\n",
       "\n",
       "    .dataframe tbody tr th {\n",
       "        vertical-align: top;\n",
       "    }\n",
       "\n",
       "    .dataframe thead th {\n",
       "        text-align: right;\n",
       "    }\n",
       "</style>\n",
       "<table border=\"1\" class=\"dataframe\">\n",
       "  <thead>\n",
       "    <tr style=\"text-align: right;\">\n",
       "      <th></th>\n",
       "      <th>purpose_category</th>\n",
       "      <th>purpose</th>\n",
       "    </tr>\n",
       "  </thead>\n",
       "  <tbody>\n",
       "    <tr>\n",
       "      <th>0</th>\n",
       "      <td>E</td>\n",
       "      <td>0-30000</td>\n",
       "    </tr>\n",
       "    <tr>\n",
       "      <th>1</th>\n",
       "      <td>D</td>\n",
       "      <td>30001-50000</td>\n",
       "    </tr>\n",
       "    <tr>\n",
       "      <th>2</th>\n",
       "      <td>C</td>\n",
       "      <td>50001-20000</td>\n",
       "    </tr>\n",
       "    <tr>\n",
       "      <th>3</th>\n",
       "      <td>B</td>\n",
       "      <td>200001-1000000</td>\n",
       "    </tr>\n",
       "    <tr>\n",
       "      <th>4</th>\n",
       "      <td>A</td>\n",
       "      <td>свыше 1 млн</td>\n",
       "    </tr>\n",
       "  </tbody>\n",
       "</table>\n",
       "</div>"
      ],
      "text/plain": [
       "  purpose_category         purpose\n",
       "0                E         0-30000\n",
       "1                D     30001-50000\n",
       "2                C     50001-20000\n",
       "3                B  200001-1000000\n",
       "4                A     свыше 1 млн"
      ]
     },
     "execution_count": 76,
     "metadata": {},
     "output_type": "execute_result"
    }
   ],
   "source": [
    "#для наглядности распечатаем таблицу с категориями доходов\n",
    "columns = ['purpose_category', 'purpose']\n",
    "data = [['E','0-30000'], ['D','30001-50000'], ['C','50001-20000'], ['B','200001-1000000'], ['A','свыше 1 млн']]\n",
    "purpose_category_table = pd.DataFrame(data=data, columns=columns)\n",
    "purpose_category_table"
   ]
  },
  {
   "cell_type": "markdown",
   "id": "83cea9ab",
   "metadata": {},
   "source": [
    "**Вывод 2**\n",
    "\n",
    "Теперь получаем наибольший процент просрочки у людей с меньшим доходом (менее 30 тыс.), что логично, так как людям с небольшим доходом сложно обеспечивать свою жизнь (или жизнь всей семьи) и при этом платить вовремя кредит. \n",
    "Наименьший процент просрочек у людей с доходами от 30 тыс. до 50 тыс., хотя казалось бы наименьший процент должен быть у людей с высокими доходами, но, возможно, люди с доходами 30-50 тыс. берут кредит на меньшие суммы (но это не точно)."
   ]
  },
  {
   "cell_type": "markdown",
   "id": "6c867aad",
   "metadata": {},
   "source": [
    "### 4. Как разные цели кредита влияют на его возврат в срок?"
   ]
  },
  {
   "cell_type": "code",
   "execution_count": 77,
   "id": "cf15b17e",
   "metadata": {},
   "outputs": [
    {
     "data": {
      "text/html": [
       "<div>\n",
       "<style scoped>\n",
       "    .dataframe tbody tr th:only-of-type {\n",
       "        vertical-align: middle;\n",
       "    }\n",
       "\n",
       "    .dataframe tbody tr th {\n",
       "        vertical-align: top;\n",
       "    }\n",
       "\n",
       "    .dataframe thead th {\n",
       "        text-align: right;\n",
       "    }\n",
       "</style>\n",
       "<table border=\"1\" class=\"dataframe\">\n",
       "  <thead>\n",
       "    <tr style=\"text-align: right;\">\n",
       "      <th>gender</th>\n",
       "      <th>F</th>\n",
       "      <th>M</th>\n",
       "    </tr>\n",
       "    <tr>\n",
       "      <th>purpose_category</th>\n",
       "      <th></th>\n",
       "      <th></th>\n",
       "    </tr>\n",
       "  </thead>\n",
       "  <tbody>\n",
       "    <tr>\n",
       "      <th>операции с автомобилем</th>\n",
       "      <td>229</td>\n",
       "      <td>168</td>\n",
       "    </tr>\n",
       "    <tr>\n",
       "      <th>операции с недвижимостью</th>\n",
       "      <td>443</td>\n",
       "      <td>334</td>\n",
       "    </tr>\n",
       "    <tr>\n",
       "      <th>получение образования</th>\n",
       "      <td>206</td>\n",
       "      <td>163</td>\n",
       "    </tr>\n",
       "    <tr>\n",
       "      <th>проведение свадьбы</th>\n",
       "      <td>106</td>\n",
       "      <td>75</td>\n",
       "    </tr>\n",
       "  </tbody>\n",
       "</table>\n",
       "</div>"
      ],
      "text/plain": [
       "gender                      F    M\n",
       "purpose_category                  \n",
       "операции с автомобилем    229  168\n",
       "операции с недвижимостью  443  334\n",
       "получение образования     206  163\n",
       "проведение свадьбы        106   75"
      ]
     },
     "execution_count": 77,
     "metadata": {},
     "output_type": "execute_result"
    }
   ],
   "source": [
    "df_purpose_category = df.pivot_table(index='purpose_category', columns='gender', values='debt', aggfunc='sum')\n",
    "df_purpose_category"
   ]
  },
  {
   "cell_type": "markdown",
   "id": "eb85b1b7",
   "metadata": {},
   "source": [
    "**Вывод 1**\n",
    "\n",
    "Больше всего просрочек при операциях с недвижимостью, что имеет свою логику, так как недвижимость имеет более высокий ценник, и, сооответственно, размер кредита в этой категории должен быть выше, поэтому погашать в срок достаточно большие суммы сложнее.\n",
    "\n",
    "Меньше просрочек в случае кредитов на свадьбу, так как свадьбы менее затратны (хоть и свадьбы бывают очень помпезными, но вряд-ли те, кто могут себе позволить шикарную дорогую свадьбу, будут брать кредит на это мероприятие).\n",
    "\n",
    "Но, опять же, для наглядности проверим долю тех, кто позволял себе просрочку погашения кредита, в каждой категории цели кредита."
   ]
  },
  {
   "cell_type": "code",
   "execution_count": 78,
   "id": "93d6a2fe",
   "metadata": {},
   "outputs": [
    {
     "data": {
      "text/html": [
       "<div>\n",
       "<style scoped>\n",
       "    .dataframe tbody tr th:only-of-type {\n",
       "        vertical-align: middle;\n",
       "    }\n",
       "\n",
       "    .dataframe tbody tr th {\n",
       "        vertical-align: top;\n",
       "    }\n",
       "\n",
       "    .dataframe thead th {\n",
       "        text-align: right;\n",
       "    }\n",
       "</style>\n",
       "<table border=\"1\" class=\"dataframe\">\n",
       "  <thead>\n",
       "    <tr style=\"text-align: right;\">\n",
       "      <th></th>\n",
       "      <th>sum_purpose_category</th>\n",
       "      <th>count_purpose_category</th>\n",
       "      <th>result_purpose_category, %</th>\n",
       "    </tr>\n",
       "    <tr>\n",
       "      <th>purpose_category</th>\n",
       "      <th></th>\n",
       "      <th></th>\n",
       "      <th></th>\n",
       "    </tr>\n",
       "  </thead>\n",
       "  <tbody>\n",
       "    <tr>\n",
       "      <th>операции с автомобилем</th>\n",
       "      <td>397</td>\n",
       "      <td>4258</td>\n",
       "      <td>9.32</td>\n",
       "    </tr>\n",
       "    <tr>\n",
       "      <th>получение образования</th>\n",
       "      <td>369</td>\n",
       "      <td>3970</td>\n",
       "      <td>9.29</td>\n",
       "    </tr>\n",
       "    <tr>\n",
       "      <th>проведение свадьбы</th>\n",
       "      <td>181</td>\n",
       "      <td>2299</td>\n",
       "      <td>7.87</td>\n",
       "    </tr>\n",
       "    <tr>\n",
       "      <th>операции с недвижимостью</th>\n",
       "      <td>777</td>\n",
       "      <td>10703</td>\n",
       "      <td>7.26</td>\n",
       "    </tr>\n",
       "  </tbody>\n",
       "</table>\n",
       "</div>"
      ],
      "text/plain": [
       "                          sum_purpose_category  count_purpose_category  \\\n",
       "purpose_category                                                         \n",
       "операции с автомобилем                     397                    4258   \n",
       "получение образования                      369                    3970   \n",
       "проведение свадьбы                         181                    2299   \n",
       "операции с недвижимостью                   777                   10703   \n",
       "\n",
       "                          result_purpose_category, %  \n",
       "purpose_category                                      \n",
       "операции с автомобилем                          9.32  \n",
       "получение образования                           9.29  \n",
       "проведение свадьбы                              7.87  \n",
       "операции с недвижимостью                        7.26  "
      ]
     },
     "execution_count": 78,
     "metadata": {},
     "output_type": "execute_result"
    }
   ],
   "source": [
    "debt_purpose_category = pd.DataFrame()\n",
    "debt_purpose_category['sum_purpose_category'] = df.groupby('purpose_category')['debt'].sum()\n",
    "debt_purpose_category['count_purpose_category'] = df.groupby('purpose_category')['debt'].count()\n",
    "debt_purpose_category['result_purpose_category, %'] = ((debt_purpose_category['sum_purpose_category'] / debt_purpose_category['count_purpose_category']) * 100).round(2)\n",
    "debt_purpose_category.sort_values('result_purpose_category, %', ascending = False)"
   ]
  },
  {
   "cell_type": "markdown",
   "id": "c42e3d9f",
   "metadata": {},
   "source": [
    "**Вывод 2**\n",
    "\n",
    "Итак, полученные данных в процентах показало, что наибольший процент просрочек в категории \"операции с автомобилем\" и почти наравне с ней \"получение образования\", а категория \"операции с недвижимостью\" имеет наименьший процент просрочек, что говорит нам о неверном первом выводе, основанном на сводной таблице. \n",
    "Скорее всего высокий процент просрочек по кредитам на недвижимость связан со страхом остаться без жилья (без автомобиля жить можно, а без дома остаться не хочет никто), а высокий процент по кредитам на образование может быить связан с тем, что учиться и работать одновременно, чтобы отдавать кредит за обучение - достаточно сложно. "
   ]
  },
  {
   "cell_type": "markdown",
   "id": "c229a98f",
   "metadata": {},
   "source": [
    "## Общий вывод:"
   ]
  },
  {
   "cell_type": "markdown",
   "id": "b30c8292",
   "metadata": {},
   "source": [
    "Проанализировав входные данные можно сделать вывод, что семейное положение и количество детей влияет на возврат кредита в срок: \n",
    "- клиенты, не состоящие в браке или состоящие в гражданском браке имеют большую долю просрочек по кредитам;\n",
    "- клиенты, не имеющие детей, или имеющие 3 или 5 детей чаще погашают кредит в срок, чем люди, имеющие 1, 2 или 4 ребенка;\n",
    "\n",
    "Также на возврат кредита в срок влияет цель оформления кредита и уровень доходов:\n",
    "- клиенты, которые оформляют кредит на операции с автомобилем или на образование, имеют более высокий процент просрочек, чем клиенты, целью оформления кредита которых является проведение свадьбы или операции с недвижимостью;\n",
    "- клиенты, имеющие доход ниже 30 тыс. чаще имеют проблемы с погашением кредита, чем люди с более высокими доходами, но при этом клиенты, чей доход составляет от 30 до 50 тыс. чаще погашают кредит в срок. "
   ]
  }
 ],
 "metadata": {
  "ExecuteTimeLog": [
   {
    "duration": 862,
    "start_time": "2022-05-22T16:23:28.424Z"
   },
   {
    "duration": 26,
    "start_time": "2022-05-22T16:23:29.527Z"
   },
   {
    "duration": 3,
    "start_time": "2022-05-22T16:23:33.017Z"
   },
   {
    "duration": 50,
    "start_time": "2022-05-22T16:23:34.905Z"
   },
   {
    "duration": 12,
    "start_time": "2022-05-22T16:23:40.057Z"
   },
   {
    "duration": 4,
    "start_time": "2022-05-22T16:23:41.509Z"
   },
   {
    "duration": 28,
    "start_time": "2022-05-22T16:23:50.734Z"
   },
   {
    "duration": 16,
    "start_time": "2022-05-22T16:24:18.877Z"
   },
   {
    "duration": 5,
    "start_time": "2022-05-22T16:24:24.368Z"
   },
   {
    "duration": 10,
    "start_time": "2022-05-22T16:24:35.037Z"
   },
   {
    "duration": 19,
    "start_time": "2022-05-22T16:24:42.361Z"
   },
   {
    "duration": 28,
    "start_time": "2022-05-22T16:24:51.920Z"
   },
   {
    "duration": 29,
    "start_time": "2022-05-22T16:24:54.437Z"
   },
   {
    "duration": 37,
    "start_time": "2022-05-22T16:24:58.373Z"
   },
   {
    "duration": 507,
    "start_time": "2022-05-28T16:39:20.257Z"
   },
   {
    "duration": 989,
    "start_time": "2022-05-28T16:39:20.766Z"
   },
   {
    "duration": 31,
    "start_time": "2022-05-28T16:39:21.764Z"
   },
   {
    "duration": 21,
    "start_time": "2022-05-28T16:39:21.798Z"
   },
   {
    "duration": 27,
    "start_time": "2022-05-28T16:39:21.822Z"
   },
   {
    "duration": 40,
    "start_time": "2022-05-28T16:39:21.852Z"
   },
   {
    "duration": 24,
    "start_time": "2022-05-28T16:39:21.894Z"
   },
   {
    "duration": 25,
    "start_time": "2022-05-28T16:39:21.920Z"
   },
   {
    "duration": 49,
    "start_time": "2022-05-28T16:39:21.947Z"
   },
   {
    "duration": 277,
    "start_time": "2022-05-28T16:39:21.998Z"
   },
   {
    "duration": 16,
    "start_time": "2022-05-28T16:39:22.278Z"
   },
   {
    "duration": 90,
    "start_time": "2022-05-28T16:39:22.300Z"
   },
   {
    "duration": 12,
    "start_time": "2022-05-28T16:39:22.395Z"
   },
   {
    "duration": 47,
    "start_time": "2022-05-28T16:39:22.411Z"
   },
   {
    "duration": 86,
    "start_time": "2022-05-28T16:39:22.465Z"
   },
   {
    "duration": 142,
    "start_time": "2022-05-28T16:39:22.557Z"
   },
   {
    "duration": 79,
    "start_time": "2022-05-28T16:39:22.705Z"
   },
   {
    "duration": 139,
    "start_time": "2022-05-28T16:39:22.791Z"
   },
   {
    "duration": 19,
    "start_time": "2022-05-28T16:39:22.942Z"
   },
   {
    "duration": 15,
    "start_time": "2022-05-28T16:39:22.963Z"
   },
   {
    "duration": 123,
    "start_time": "2022-05-28T16:39:22.980Z"
   },
   {
    "duration": 17,
    "start_time": "2022-05-28T16:39:23.105Z"
   },
   {
    "duration": 26,
    "start_time": "2022-05-28T16:39:23.125Z"
   },
   {
    "duration": 66,
    "start_time": "2022-05-28T16:39:23.154Z"
   },
   {
    "duration": 37,
    "start_time": "2022-05-28T16:39:23.222Z"
   },
   {
    "duration": 20,
    "start_time": "2022-05-28T16:39:23.271Z"
   },
   {
    "duration": 43,
    "start_time": "2022-05-28T16:39:23.294Z"
   },
   {
    "duration": 267,
    "start_time": "2022-05-28T16:39:23.339Z"
   },
   {
    "duration": 7,
    "start_time": "2022-05-28T16:39:23.609Z"
   },
   {
    "duration": 39,
    "start_time": "2022-05-28T16:39:23.619Z"
   },
   {
    "duration": 26,
    "start_time": "2022-05-28T16:39:23.672Z"
   },
   {
    "duration": 10,
    "start_time": "2022-05-28T16:39:23.701Z"
   },
   {
    "duration": 29,
    "start_time": "2022-05-28T16:39:23.713Z"
   },
   {
    "duration": 44,
    "start_time": "2022-05-28T16:39:23.748Z"
   },
   {
    "duration": 16,
    "start_time": "2022-05-28T16:39:23.794Z"
   },
   {
    "duration": 6,
    "start_time": "2022-05-28T16:39:23.812Z"
   },
   {
    "duration": 28,
    "start_time": "2022-05-28T16:39:23.820Z"
   },
   {
    "duration": 44,
    "start_time": "2022-05-28T16:39:23.857Z"
   },
   {
    "duration": 37,
    "start_time": "2022-05-28T16:39:23.903Z"
   },
   {
    "duration": 8,
    "start_time": "2022-05-28T16:39:23.946Z"
   },
   {
    "duration": 45,
    "start_time": "2022-05-28T16:39:23.963Z"
   },
   {
    "duration": 9,
    "start_time": "2022-05-28T16:39:24.010Z"
   },
   {
    "duration": 52,
    "start_time": "2022-05-28T16:39:24.021Z"
   },
   {
    "duration": 16,
    "start_time": "2022-05-28T16:39:24.080Z"
   },
   {
    "duration": 19,
    "start_time": "2022-05-28T16:39:24.098Z"
   },
   {
    "duration": 28,
    "start_time": "2022-05-28T16:39:24.119Z"
   },
   {
    "duration": 46,
    "start_time": "2022-05-28T16:39:24.149Z"
   },
   {
    "duration": 11,
    "start_time": "2022-05-28T16:39:24.197Z"
   },
   {
    "duration": 6,
    "start_time": "2022-05-28T16:39:24.209Z"
   },
   {
    "duration": 69,
    "start_time": "2022-05-28T16:39:24.217Z"
   },
   {
    "duration": 10,
    "start_time": "2022-05-28T16:39:24.288Z"
   },
   {
    "duration": 7,
    "start_time": "2022-05-28T16:39:24.300Z"
   },
   {
    "duration": 10,
    "start_time": "2022-05-28T16:39:24.309Z"
   },
   {
    "duration": 70,
    "start_time": "2022-05-28T16:39:24.322Z"
   },
   {
    "duration": 9,
    "start_time": "2022-05-28T16:39:24.403Z"
   },
   {
    "duration": 32,
    "start_time": "2022-05-28T16:39:24.413Z"
   },
   {
    "duration": 96,
    "start_time": "2022-05-28T16:39:24.447Z"
   },
   {
    "duration": 67,
    "start_time": "2022-05-28T16:39:24.545Z"
   },
   {
    "duration": 34,
    "start_time": "2022-05-28T16:39:24.615Z"
   },
   {
    "duration": 59,
    "start_time": "2022-05-28T16:39:24.651Z"
   },
   {
    "duration": 10,
    "start_time": "2022-05-28T16:39:24.713Z"
   },
   {
    "duration": 81,
    "start_time": "2022-05-28T16:39:24.725Z"
   },
   {
    "duration": 41,
    "start_time": "2022-05-28T16:39:24.808Z"
   },
   {
    "duration": 28,
    "start_time": "2022-05-28T16:39:24.851Z"
   },
   {
    "duration": 42,
    "start_time": "2022-05-28T16:39:24.881Z"
   },
   {
    "duration": 12,
    "start_time": "2022-05-28T16:39:24.925Z"
   },
   {
    "duration": 55,
    "start_time": "2022-05-28T16:39:24.939Z"
   },
   {
    "duration": 21,
    "start_time": "2022-05-28T16:39:24.997Z"
   },
   {
    "duration": 37,
    "start_time": "2022-05-28T16:39:25.020Z"
   },
   {
    "duration": 38,
    "start_time": "2022-05-28T16:39:25.062Z"
   },
   {
    "duration": 11,
    "start_time": "2022-05-28T16:39:25.102Z"
   },
   {
    "duration": 64,
    "start_time": "2022-05-28T16:39:25.116Z"
   },
   {
    "duration": 31,
    "start_time": "2022-05-28T16:39:25.183Z"
   },
   {
    "duration": 59,
    "start_time": "2022-05-28T16:39:51.384Z"
   },
   {
    "duration": 14,
    "start_time": "2022-05-28T16:41:28.272Z"
   },
   {
    "duration": 19,
    "start_time": "2022-05-28T16:41:40.747Z"
   },
   {
    "duration": 19,
    "start_time": "2022-05-28T16:42:24.254Z"
   },
   {
    "duration": 35,
    "start_time": "2022-05-28T16:42:51.021Z"
   },
   {
    "duration": 128,
    "start_time": "2022-05-28T16:43:19.384Z"
   },
   {
    "duration": 11,
    "start_time": "2022-05-28T16:43:26.799Z"
   },
   {
    "duration": 14,
    "start_time": "2022-05-28T16:43:38.112Z"
   },
   {
    "duration": 445,
    "start_time": "2022-05-30T08:02:16.380Z"
   },
   {
    "duration": 292,
    "start_time": "2022-05-30T08:02:16.827Z"
   },
   {
    "duration": 19,
    "start_time": "2022-05-30T08:02:17.121Z"
   },
   {
    "duration": 17,
    "start_time": "2022-05-30T08:02:17.141Z"
   },
   {
    "duration": 5,
    "start_time": "2022-05-30T08:02:17.160Z"
   },
   {
    "duration": 16,
    "start_time": "2022-05-30T08:02:17.166Z"
   },
   {
    "duration": 13,
    "start_time": "2022-05-30T08:02:17.184Z"
   },
   {
    "duration": 15,
    "start_time": "2022-05-30T08:02:17.198Z"
   },
   {
    "duration": 12,
    "start_time": "2022-05-30T08:02:17.214Z"
   },
   {
    "duration": 225,
    "start_time": "2022-05-30T08:02:17.228Z"
   },
   {
    "duration": 8,
    "start_time": "2022-05-30T08:02:17.455Z"
   },
   {
    "duration": 12,
    "start_time": "2022-05-30T08:02:17.464Z"
   },
   {
    "duration": 17,
    "start_time": "2022-05-30T08:02:17.477Z"
   },
   {
    "duration": 16,
    "start_time": "2022-05-30T08:02:17.498Z"
   },
   {
    "duration": 5,
    "start_time": "2022-05-30T08:02:17.516Z"
   },
   {
    "duration": 13,
    "start_time": "2022-05-30T08:02:17.523Z"
   },
   {
    "duration": 10,
    "start_time": "2022-05-30T08:02:17.538Z"
   },
   {
    "duration": 17,
    "start_time": "2022-05-30T08:02:17.550Z"
   },
   {
    "duration": 39,
    "start_time": "2022-05-30T08:02:17.569Z"
   },
   {
    "duration": 4,
    "start_time": "2022-05-30T08:02:17.610Z"
   },
   {
    "duration": 12,
    "start_time": "2022-05-30T08:02:17.615Z"
   },
   {
    "duration": 14,
    "start_time": "2022-05-30T08:02:17.629Z"
   },
   {
    "duration": 6,
    "start_time": "2022-05-30T08:02:17.645Z"
   },
   {
    "duration": 17,
    "start_time": "2022-05-30T08:02:17.652Z"
   },
   {
    "duration": 24,
    "start_time": "2022-05-30T08:02:17.671Z"
   },
   {
    "duration": 5,
    "start_time": "2022-05-30T08:02:17.697Z"
   },
   {
    "duration": 20,
    "start_time": "2022-05-30T08:02:17.704Z"
   },
   {
    "duration": 171,
    "start_time": "2022-05-30T08:02:17.726Z"
   },
   {
    "duration": 4,
    "start_time": "2022-05-30T08:02:17.898Z"
   },
   {
    "duration": 22,
    "start_time": "2022-05-30T08:02:17.903Z"
   },
   {
    "duration": 6,
    "start_time": "2022-05-30T08:02:17.927Z"
   },
   {
    "duration": 7,
    "start_time": "2022-05-30T08:02:17.935Z"
   },
   {
    "duration": 13,
    "start_time": "2022-05-30T08:02:17.944Z"
   },
   {
    "duration": 15,
    "start_time": "2022-05-30T08:02:17.959Z"
   },
   {
    "duration": 24,
    "start_time": "2022-05-30T08:02:17.975Z"
   },
   {
    "duration": 29,
    "start_time": "2022-05-30T08:02:18.001Z"
   },
   {
    "duration": 11,
    "start_time": "2022-05-30T08:02:18.031Z"
   },
   {
    "duration": 19,
    "start_time": "2022-05-30T08:02:18.043Z"
   },
   {
    "duration": 22,
    "start_time": "2022-05-30T08:02:18.064Z"
   },
   {
    "duration": 5,
    "start_time": "2022-05-30T08:02:18.088Z"
   },
   {
    "duration": 14,
    "start_time": "2022-05-30T08:02:18.097Z"
   },
   {
    "duration": 7,
    "start_time": "2022-05-30T08:02:18.112Z"
   },
   {
    "duration": 10,
    "start_time": "2022-05-30T08:02:18.120Z"
   },
   {
    "duration": 6,
    "start_time": "2022-05-30T08:02:18.132Z"
   },
   {
    "duration": 11,
    "start_time": "2022-05-30T08:02:18.140Z"
   },
   {
    "duration": 44,
    "start_time": "2022-05-30T08:02:18.152Z"
   },
   {
    "duration": 7,
    "start_time": "2022-05-30T08:02:18.198Z"
   },
   {
    "duration": 18,
    "start_time": "2022-05-30T08:02:18.206Z"
   },
   {
    "duration": 6,
    "start_time": "2022-05-30T08:02:18.225Z"
   },
   {
    "duration": 6,
    "start_time": "2022-05-30T08:02:18.232Z"
   },
   {
    "duration": 17,
    "start_time": "2022-05-30T08:02:18.239Z"
   },
   {
    "duration": 38,
    "start_time": "2022-05-30T08:02:18.258Z"
   },
   {
    "duration": 6,
    "start_time": "2022-05-30T08:02:18.298Z"
   },
   {
    "duration": 15,
    "start_time": "2022-05-30T08:02:18.306Z"
   },
   {
    "duration": 6,
    "start_time": "2022-05-30T08:02:18.323Z"
   },
   {
    "duration": 7,
    "start_time": "2022-05-30T08:02:18.331Z"
   },
   {
    "duration": 13,
    "start_time": "2022-05-30T08:02:18.340Z"
   },
   {
    "duration": 8,
    "start_time": "2022-05-30T08:02:18.355Z"
   },
   {
    "duration": 33,
    "start_time": "2022-05-30T08:02:18.364Z"
   },
   {
    "duration": 12,
    "start_time": "2022-05-30T08:02:18.399Z"
   },
   {
    "duration": 23,
    "start_time": "2022-05-30T08:02:18.412Z"
   },
   {
    "duration": 23,
    "start_time": "2022-05-30T08:02:18.436Z"
   },
   {
    "duration": 34,
    "start_time": "2022-05-30T08:02:18.461Z"
   },
   {
    "duration": 27,
    "start_time": "2022-05-30T08:02:18.497Z"
   },
   {
    "duration": 13,
    "start_time": "2022-05-30T08:02:18.526Z"
   },
   {
    "duration": 22,
    "start_time": "2022-05-30T08:02:18.540Z"
   },
   {
    "duration": 8,
    "start_time": "2022-05-30T08:02:18.564Z"
   },
   {
    "duration": 19,
    "start_time": "2022-05-30T08:02:18.595Z"
   },
   {
    "duration": 7,
    "start_time": "2022-05-30T08:02:18.616Z"
   },
   {
    "duration": 28,
    "start_time": "2022-05-30T08:02:18.625Z"
   },
   {
    "duration": 19,
    "start_time": "2022-05-30T08:02:18.655Z"
   },
   {
    "duration": 24,
    "start_time": "2022-05-30T08:02:18.675Z"
   },
   {
    "duration": 47,
    "start_time": "2022-05-30T08:02:18.700Z"
   },
   {
    "duration": 18,
    "start_time": "2022-05-30T08:02:18.749Z"
   },
   {
    "duration": 69,
    "start_time": "2022-05-30T08:09:44.185Z"
   },
   {
    "duration": 3,
    "start_time": "2022-05-30T08:10:04.537Z"
   },
   {
    "duration": 69,
    "start_time": "2022-05-30T08:10:10.049Z"
   },
   {
    "duration": 14,
    "start_time": "2022-05-30T08:10:10.656Z"
   },
   {
    "duration": 15,
    "start_time": "2022-05-30T08:10:11.545Z"
   },
   {
    "duration": 6,
    "start_time": "2022-05-30T08:10:12.504Z"
   },
   {
    "duration": 14,
    "start_time": "2022-05-30T08:10:13.240Z"
   },
   {
    "duration": 6,
    "start_time": "2022-05-30T08:10:15.497Z"
   },
   {
    "duration": 15,
    "start_time": "2022-05-30T08:10:18.296Z"
   },
   {
    "duration": 21,
    "start_time": "2022-05-30T08:10:19.018Z"
   },
   {
    "duration": 193,
    "start_time": "2022-05-30T08:10:21.527Z"
   },
   {
    "duration": 9,
    "start_time": "2022-05-30T08:10:21.985Z"
   },
   {
    "duration": 9,
    "start_time": "2022-05-30T08:10:29.544Z"
   },
   {
    "duration": 4,
    "start_time": "2022-05-30T08:10:30.841Z"
   },
   {
    "duration": 16,
    "start_time": "2022-05-30T08:10:31.264Z"
   },
   {
    "duration": 8,
    "start_time": "2022-05-30T08:10:34.308Z"
   },
   {
    "duration": 10,
    "start_time": "2022-05-30T08:10:35.216Z"
   },
   {
    "duration": 10,
    "start_time": "2022-05-30T08:10:37.412Z"
   },
   {
    "duration": 13,
    "start_time": "2022-05-30T08:10:38.153Z"
   },
   {
    "duration": 11,
    "start_time": "2022-05-30T08:10:40.300Z"
   },
   {
    "duration": 4,
    "start_time": "2022-05-30T08:10:43.944Z"
   },
   {
    "duration": 13,
    "start_time": "2022-05-30T08:10:45.007Z"
   },
   {
    "duration": 9,
    "start_time": "2022-05-30T08:10:47.187Z"
   },
   {
    "duration": 5,
    "start_time": "2022-05-30T08:10:47.538Z"
   },
   {
    "duration": 14,
    "start_time": "2022-05-30T08:10:47.752Z"
   },
   {
    "duration": 8,
    "start_time": "2022-05-30T08:10:49.864Z"
   },
   {
    "duration": 5,
    "start_time": "2022-05-30T08:10:54.962Z"
   },
   {
    "duration": 21,
    "start_time": "2022-05-30T08:10:57.100Z"
   },
   {
    "duration": 205,
    "start_time": "2022-05-30T08:10:59.647Z"
   },
   {
    "duration": 4,
    "start_time": "2022-05-30T08:11:00.496Z"
   },
   {
    "duration": 18,
    "start_time": "2022-05-30T08:11:00.910Z"
   },
   {
    "duration": 9,
    "start_time": "2022-05-30T08:11:10.613Z"
   },
   {
    "duration": 5,
    "start_time": "2022-05-30T08:11:11.118Z"
   },
   {
    "duration": 12,
    "start_time": "2022-05-30T08:11:12.251Z"
   },
   {
    "duration": 8,
    "start_time": "2022-05-30T08:11:14.247Z"
   },
   {
    "duration": 7,
    "start_time": "2022-05-30T08:11:20.232Z"
   },
   {
    "duration": 7,
    "start_time": "2022-05-30T08:11:20.504Z"
   },
   {
    "duration": 7,
    "start_time": "2022-05-30T08:11:24.016Z"
   },
   {
    "duration": 7,
    "start_time": "2022-05-30T08:11:25.530Z"
   },
   {
    "duration": 3,
    "start_time": "2022-05-30T08:11:43.544Z"
   },
   {
    "duration": 3,
    "start_time": "2022-05-30T08:11:44.036Z"
   },
   {
    "duration": 5,
    "start_time": "2022-05-30T08:11:45.264Z"
   },
   {
    "duration": 14,
    "start_time": "2022-05-30T08:11:46.440Z"
   },
   {
    "duration": 34,
    "start_time": "2022-05-30T08:14:32.653Z"
   },
   {
    "duration": 7,
    "start_time": "2022-05-30T08:14:45.942Z"
   },
   {
    "duration": 5,
    "start_time": "2022-05-30T08:14:50.205Z"
   },
   {
    "duration": 9,
    "start_time": "2022-05-30T08:14:51.529Z"
   },
   {
    "duration": 14,
    "start_time": "2022-05-30T08:14:52.076Z"
   },
   {
    "duration": 7,
    "start_time": "2022-05-30T08:14:55.692Z"
   },
   {
    "duration": 19,
    "start_time": "2022-05-30T08:14:56.638Z"
   },
   {
    "duration": 5,
    "start_time": "2022-05-30T08:14:59.221Z"
   },
   {
    "duration": 4,
    "start_time": "2022-05-30T08:14:59.762Z"
   },
   {
    "duration": 8,
    "start_time": "2022-05-30T08:16:24.657Z"
   },
   {
    "duration": 18,
    "start_time": "2022-05-30T08:16:26.332Z"
   },
   {
    "duration": 5,
    "start_time": "2022-05-30T08:16:39.101Z"
   },
   {
    "duration": 21,
    "start_time": "2022-05-30T08:16:39.864Z"
   },
   {
    "duration": 5,
    "start_time": "2022-05-30T08:16:50.740Z"
   },
   {
    "duration": 4,
    "start_time": "2022-05-30T08:16:54.493Z"
   },
   {
    "duration": 11,
    "start_time": "2022-05-30T08:16:59.367Z"
   },
   {
    "duration": 8,
    "start_time": "2022-05-30T08:17:56.967Z"
   },
   {
    "duration": 5,
    "start_time": "2022-05-30T08:18:11.154Z"
   },
   {
    "duration": 6,
    "start_time": "2022-05-30T08:19:22.209Z"
   },
   {
    "duration": 6,
    "start_time": "2022-05-30T08:21:09.113Z"
   },
   {
    "duration": 196,
    "start_time": "2022-05-30T08:22:08.361Z"
   },
   {
    "duration": 21,
    "start_time": "2022-05-30T08:22:17.632Z"
   },
   {
    "duration": 40,
    "start_time": "2022-05-30T08:22:56.418Z"
   },
   {
    "duration": 10,
    "start_time": "2022-05-30T08:22:57.238Z"
   },
   {
    "duration": 12,
    "start_time": "2022-05-30T08:24:59.723Z"
   },
   {
    "duration": 12,
    "start_time": "2022-05-30T08:25:01.247Z"
   },
   {
    "duration": 21,
    "start_time": "2022-05-30T08:25:01.470Z"
   },
   {
    "duration": 9,
    "start_time": "2022-05-30T08:25:02.113Z"
   },
   {
    "duration": 20,
    "start_time": "2022-05-30T08:25:04.924Z"
   },
   {
    "duration": 8,
    "start_time": "2022-05-30T08:25:08.152Z"
   },
   {
    "duration": 19,
    "start_time": "2022-05-30T08:25:12.726Z"
   },
   {
    "duration": 21,
    "start_time": "2022-05-30T08:25:25.319Z"
   },
   {
    "duration": 15,
    "start_time": "2022-05-30T08:25:27.246Z"
   },
   {
    "duration": 21,
    "start_time": "2022-05-30T08:25:32.111Z"
   },
   {
    "duration": 8,
    "start_time": "2022-05-30T08:25:33.518Z"
   },
   {
    "duration": 16,
    "start_time": "2022-05-30T08:25:36.135Z"
   },
   {
    "duration": 10,
    "start_time": "2022-05-30T08:25:36.903Z"
   },
   {
    "duration": 20,
    "start_time": "2022-05-30T08:26:30.798Z"
   },
   {
    "duration": 8,
    "start_time": "2022-05-30T08:26:31.310Z"
   },
   {
    "duration": 15,
    "start_time": "2022-05-30T08:26:38.597Z"
   },
   {
    "duration": 9,
    "start_time": "2022-05-30T08:26:41.009Z"
   },
   {
    "duration": 20,
    "start_time": "2022-05-30T08:27:05.020Z"
   },
   {
    "duration": 16,
    "start_time": "2022-05-30T08:27:21.116Z"
   },
   {
    "duration": 8,
    "start_time": "2022-05-30T08:27:21.960Z"
   },
   {
    "duration": 22,
    "start_time": "2022-05-30T08:27:41.093Z"
   },
   {
    "duration": 17,
    "start_time": "2022-05-30T08:27:43.527Z"
   },
   {
    "duration": 414,
    "start_time": "2022-05-30T16:36:49.781Z"
   },
   {
    "duration": 76,
    "start_time": "2022-05-30T16:36:50.196Z"
   },
   {
    "duration": 17,
    "start_time": "2022-05-30T16:36:50.273Z"
   },
   {
    "duration": 14,
    "start_time": "2022-05-30T16:36:50.292Z"
   },
   {
    "duration": 3,
    "start_time": "2022-05-30T16:36:50.308Z"
   },
   {
    "duration": 15,
    "start_time": "2022-05-30T16:36:50.313Z"
   },
   {
    "duration": 4,
    "start_time": "2022-05-30T16:36:50.330Z"
   },
   {
    "duration": 15,
    "start_time": "2022-05-30T16:36:50.335Z"
   },
   {
    "duration": 11,
    "start_time": "2022-05-30T16:36:50.351Z"
   },
   {
    "duration": 211,
    "start_time": "2022-05-30T16:36:50.364Z"
   },
   {
    "duration": 6,
    "start_time": "2022-05-30T16:36:50.577Z"
   },
   {
    "duration": 20,
    "start_time": "2022-05-30T16:36:50.584Z"
   },
   {
    "duration": 6,
    "start_time": "2022-05-30T16:36:50.605Z"
   },
   {
    "duration": 24,
    "start_time": "2022-05-30T16:36:50.614Z"
   },
   {
    "duration": 5,
    "start_time": "2022-05-30T16:36:50.639Z"
   },
   {
    "duration": 9,
    "start_time": "2022-05-30T16:36:50.646Z"
   },
   {
    "duration": 10,
    "start_time": "2022-05-30T16:36:50.656Z"
   },
   {
    "duration": 28,
    "start_time": "2022-05-30T16:36:50.667Z"
   },
   {
    "duration": 11,
    "start_time": "2022-05-30T16:36:50.697Z"
   },
   {
    "duration": 4,
    "start_time": "2022-05-30T16:36:50.709Z"
   },
   {
    "duration": 14,
    "start_time": "2022-05-30T16:36:50.715Z"
   },
   {
    "duration": 11,
    "start_time": "2022-05-30T16:36:50.730Z"
   },
   {
    "duration": 10,
    "start_time": "2022-05-30T16:36:50.742Z"
   },
   {
    "duration": 14,
    "start_time": "2022-05-30T16:36:50.754Z"
   },
   {
    "duration": 26,
    "start_time": "2022-05-30T16:36:50.769Z"
   },
   {
    "duration": 7,
    "start_time": "2022-05-30T16:36:50.796Z"
   },
   {
    "duration": 16,
    "start_time": "2022-05-30T16:36:50.804Z"
   },
   {
    "duration": 151,
    "start_time": "2022-05-30T16:36:50.821Z"
   },
   {
    "duration": 3,
    "start_time": "2022-05-30T16:36:50.973Z"
   },
   {
    "duration": 24,
    "start_time": "2022-05-30T16:36:50.978Z"
   },
   {
    "duration": 6,
    "start_time": "2022-05-30T16:36:51.003Z"
   },
   {
    "duration": 6,
    "start_time": "2022-05-30T16:36:51.010Z"
   },
   {
    "duration": 13,
    "start_time": "2022-05-30T16:36:51.017Z"
   },
   {
    "duration": 7,
    "start_time": "2022-05-30T16:36:51.031Z"
   },
   {
    "duration": 8,
    "start_time": "2022-05-30T16:36:51.039Z"
   },
   {
    "duration": 7,
    "start_time": "2022-05-30T16:36:51.048Z"
   },
   {
    "duration": 9,
    "start_time": "2022-05-30T16:36:51.057Z"
   },
   {
    "duration": 29,
    "start_time": "2022-05-30T16:36:51.067Z"
   },
   {
    "duration": 10,
    "start_time": "2022-05-30T16:36:51.097Z"
   },
   {
    "duration": 15,
    "start_time": "2022-05-30T16:36:51.108Z"
   },
   {
    "duration": 39,
    "start_time": "2022-05-30T16:36:51.129Z"
   },
   {
    "duration": 8,
    "start_time": "2022-05-30T16:36:51.170Z"
   },
   {
    "duration": 20,
    "start_time": "2022-05-30T16:36:51.180Z"
   },
   {
    "duration": 7,
    "start_time": "2022-05-30T16:36:51.202Z"
   },
   {
    "duration": 18,
    "start_time": "2022-05-30T16:36:51.211Z"
   },
   {
    "duration": 14,
    "start_time": "2022-05-30T16:36:51.231Z"
   },
   {
    "duration": 8,
    "start_time": "2022-05-30T16:36:51.247Z"
   },
   {
    "duration": 39,
    "start_time": "2022-05-30T16:36:51.257Z"
   },
   {
    "duration": 6,
    "start_time": "2022-05-30T16:36:51.297Z"
   },
   {
    "duration": 16,
    "start_time": "2022-05-30T16:36:51.305Z"
   },
   {
    "duration": 19,
    "start_time": "2022-05-30T16:36:51.323Z"
   },
   {
    "duration": 6,
    "start_time": "2022-05-30T16:36:51.343Z"
   },
   {
    "duration": 6,
    "start_time": "2022-05-30T16:36:51.350Z"
   },
   {
    "duration": 9,
    "start_time": "2022-05-30T16:36:51.357Z"
   },
   {
    "duration": 8,
    "start_time": "2022-05-30T16:36:51.367Z"
   },
   {
    "duration": 40,
    "start_time": "2022-05-30T16:36:51.377Z"
   },
   {
    "duration": 6,
    "start_time": "2022-05-30T16:36:51.418Z"
   },
   {
    "duration": 11,
    "start_time": "2022-05-30T16:36:51.425Z"
   },
   {
    "duration": 6,
    "start_time": "2022-05-30T16:36:51.437Z"
   },
   {
    "duration": 12,
    "start_time": "2022-05-30T16:36:51.445Z"
   },
   {
    "duration": 8,
    "start_time": "2022-05-30T16:36:51.459Z"
   },
   {
    "duration": 40,
    "start_time": "2022-05-30T16:36:51.468Z"
   },
   {
    "duration": 13,
    "start_time": "2022-05-30T16:36:51.509Z"
   },
   {
    "duration": 17,
    "start_time": "2022-05-30T16:36:51.524Z"
   },
   {
    "duration": 19,
    "start_time": "2022-05-30T16:36:51.543Z"
   },
   {
    "duration": 29,
    "start_time": "2022-05-30T16:36:51.563Z"
   },
   {
    "duration": 14,
    "start_time": "2022-05-30T16:36:51.594Z"
   },
   {
    "duration": 7,
    "start_time": "2022-05-30T16:36:51.610Z"
   },
   {
    "duration": 15,
    "start_time": "2022-05-30T16:36:51.618Z"
   },
   {
    "duration": 6,
    "start_time": "2022-05-30T16:36:51.635Z"
   },
   {
    "duration": 16,
    "start_time": "2022-05-30T16:36:51.643Z"
   },
   {
    "duration": 42,
    "start_time": "2022-05-30T16:36:51.660Z"
   },
   {
    "duration": 7,
    "start_time": "2022-05-30T16:36:51.703Z"
   },
   {
    "duration": 19,
    "start_time": "2022-05-30T16:36:51.711Z"
   },
   {
    "duration": 16,
    "start_time": "2022-05-30T16:36:51.732Z"
   },
   {
    "duration": 6,
    "start_time": "2022-05-30T16:37:21.858Z"
   },
   {
    "duration": 15,
    "start_time": "2022-05-30T16:37:55.981Z"
   },
   {
    "duration": 521,
    "start_time": "2022-05-31T08:37:20.757Z"
   },
   {
    "duration": 305,
    "start_time": "2022-05-31T08:37:21.280Z"
   },
   {
    "duration": 21,
    "start_time": "2022-05-31T08:37:21.587Z"
   },
   {
    "duration": 16,
    "start_time": "2022-05-31T08:37:21.610Z"
   },
   {
    "duration": 17,
    "start_time": "2022-05-31T08:37:21.628Z"
   },
   {
    "duration": 17,
    "start_time": "2022-05-31T08:37:21.647Z"
   },
   {
    "duration": 21,
    "start_time": "2022-05-31T08:37:21.666Z"
   },
   {
    "duration": 30,
    "start_time": "2022-05-31T08:37:21.689Z"
   },
   {
    "duration": 22,
    "start_time": "2022-05-31T08:37:21.721Z"
   },
   {
    "duration": 236,
    "start_time": "2022-05-31T08:37:21.746Z"
   },
   {
    "duration": 8,
    "start_time": "2022-05-31T08:37:21.984Z"
   },
   {
    "duration": 26,
    "start_time": "2022-05-31T08:37:21.993Z"
   },
   {
    "duration": 10,
    "start_time": "2022-05-31T08:37:22.021Z"
   },
   {
    "duration": 41,
    "start_time": "2022-05-31T08:37:22.032Z"
   },
   {
    "duration": 19,
    "start_time": "2022-05-31T08:37:22.076Z"
   },
   {
    "duration": 29,
    "start_time": "2022-05-31T08:37:22.097Z"
   },
   {
    "duration": 22,
    "start_time": "2022-05-31T08:37:22.127Z"
   },
   {
    "duration": 39,
    "start_time": "2022-05-31T08:37:22.151Z"
   },
   {
    "duration": 30,
    "start_time": "2022-05-31T08:37:22.197Z"
   },
   {
    "duration": 8,
    "start_time": "2022-05-31T08:37:22.228Z"
   },
   {
    "duration": 40,
    "start_time": "2022-05-31T08:37:22.238Z"
   },
   {
    "duration": 22,
    "start_time": "2022-05-31T08:37:22.280Z"
   },
   {
    "duration": 16,
    "start_time": "2022-05-31T08:37:22.304Z"
   },
   {
    "duration": 28,
    "start_time": "2022-05-31T08:37:22.322Z"
   },
   {
    "duration": 25,
    "start_time": "2022-05-31T08:37:22.352Z"
   },
   {
    "duration": 27,
    "start_time": "2022-05-31T08:37:22.379Z"
   },
   {
    "duration": 45,
    "start_time": "2022-05-31T08:37:22.408Z"
   },
   {
    "duration": 184,
    "start_time": "2022-05-31T08:37:22.457Z"
   },
   {
    "duration": 3,
    "start_time": "2022-05-31T08:37:22.643Z"
   },
   {
    "duration": 40,
    "start_time": "2022-05-31T08:37:22.647Z"
   },
   {
    "duration": 9,
    "start_time": "2022-05-31T08:37:22.689Z"
   },
   {
    "duration": 18,
    "start_time": "2022-05-31T08:37:22.700Z"
   },
   {
    "duration": 22,
    "start_time": "2022-05-31T08:37:22.720Z"
   },
   {
    "duration": 14,
    "start_time": "2022-05-31T08:37:22.744Z"
   },
   {
    "duration": 28,
    "start_time": "2022-05-31T08:37:22.760Z"
   },
   {
    "duration": 13,
    "start_time": "2022-05-31T08:37:22.790Z"
   },
   {
    "duration": 24,
    "start_time": "2022-05-31T08:37:22.804Z"
   },
   {
    "duration": 16,
    "start_time": "2022-05-31T08:37:22.830Z"
   },
   {
    "duration": 7,
    "start_time": "2022-05-31T08:37:22.847Z"
   },
   {
    "duration": 26,
    "start_time": "2022-05-31T08:37:22.855Z"
   },
   {
    "duration": 32,
    "start_time": "2022-05-31T08:37:22.882Z"
   },
   {
    "duration": 14,
    "start_time": "2022-05-31T08:37:22.916Z"
   },
   {
    "duration": 20,
    "start_time": "2022-05-31T08:37:22.932Z"
   },
   {
    "duration": 22,
    "start_time": "2022-05-31T08:37:22.954Z"
   },
   {
    "duration": 30,
    "start_time": "2022-05-31T08:37:22.978Z"
   },
   {
    "duration": 31,
    "start_time": "2022-05-31T08:37:23.009Z"
   },
   {
    "duration": 12,
    "start_time": "2022-05-31T08:37:23.042Z"
   },
   {
    "duration": 36,
    "start_time": "2022-05-31T08:37:23.055Z"
   },
   {
    "duration": 14,
    "start_time": "2022-05-31T08:37:23.093Z"
   },
   {
    "duration": 16,
    "start_time": "2022-05-31T08:37:23.108Z"
   },
   {
    "duration": 37,
    "start_time": "2022-05-31T08:37:23.126Z"
   },
   {
    "duration": 27,
    "start_time": "2022-05-31T08:37:23.165Z"
   },
   {
    "duration": 13,
    "start_time": "2022-05-31T08:37:23.194Z"
   },
   {
    "duration": 24,
    "start_time": "2022-05-31T08:37:23.209Z"
   },
   {
    "duration": 12,
    "start_time": "2022-05-31T08:37:23.235Z"
   },
   {
    "duration": 60,
    "start_time": "2022-05-31T08:37:23.249Z"
   },
   {
    "duration": 8,
    "start_time": "2022-05-31T08:37:23.311Z"
   },
   {
    "duration": 35,
    "start_time": "2022-05-31T08:37:23.321Z"
   },
   {
    "duration": 35,
    "start_time": "2022-05-31T08:37:23.357Z"
   },
   {
    "duration": 21,
    "start_time": "2022-05-31T08:37:23.394Z"
   },
   {
    "duration": 33,
    "start_time": "2022-05-31T08:37:23.417Z"
   },
   {
    "duration": 26,
    "start_time": "2022-05-31T08:37:23.452Z"
   },
   {
    "duration": 34,
    "start_time": "2022-05-31T08:37:23.480Z"
   },
   {
    "duration": 31,
    "start_time": "2022-05-31T08:37:23.516Z"
   },
   {
    "duration": 37,
    "start_time": "2022-05-31T08:37:23.549Z"
   },
   {
    "duration": 41,
    "start_time": "2022-05-31T08:37:23.588Z"
   },
   {
    "duration": 28,
    "start_time": "2022-05-31T08:37:23.631Z"
   },
   {
    "duration": 50,
    "start_time": "2022-05-31T08:37:23.660Z"
   },
   {
    "duration": 8,
    "start_time": "2022-05-31T08:37:23.712Z"
   },
   {
    "duration": 23,
    "start_time": "2022-05-31T08:37:23.722Z"
   },
   {
    "duration": 8,
    "start_time": "2022-05-31T08:37:23.747Z"
   },
   {
    "duration": 38,
    "start_time": "2022-05-31T08:37:23.757Z"
   },
   {
    "duration": 15,
    "start_time": "2022-05-31T08:37:23.797Z"
   },
   {
    "duration": 19,
    "start_time": "2022-05-31T08:37:23.814Z"
   },
   {
    "duration": 44,
    "start_time": "2022-05-31T08:37:23.835Z"
   },
   {
    "duration": 17,
    "start_time": "2022-05-31T08:37:23.881Z"
   },
   {
    "duration": 689,
    "start_time": "2022-05-31T08:38:54.014Z"
   },
   {
    "duration": 5,
    "start_time": "2022-05-31T08:38:59.750Z"
   },
   {
    "duration": 591,
    "start_time": "2022-05-31T08:42:23.297Z"
   },
   {
    "duration": 486,
    "start_time": "2022-05-31T08:42:41.637Z"
   },
   {
    "duration": 80,
    "start_time": "2022-05-31T08:42:42.124Z"
   },
   {
    "duration": 20,
    "start_time": "2022-05-31T08:42:42.206Z"
   },
   {
    "duration": 17,
    "start_time": "2022-05-31T08:42:42.229Z"
   },
   {
    "duration": 14,
    "start_time": "2022-05-31T08:42:42.265Z"
   },
   {
    "duration": 17,
    "start_time": "2022-05-31T08:42:42.280Z"
   },
   {
    "duration": 7,
    "start_time": "2022-05-31T08:42:42.299Z"
   },
   {
    "duration": 22,
    "start_time": "2022-05-31T08:42:42.308Z"
   },
   {
    "duration": 39,
    "start_time": "2022-05-31T08:42:42.332Z"
   },
   {
    "duration": 237,
    "start_time": "2022-05-31T08:42:42.378Z"
   },
   {
    "duration": 9,
    "start_time": "2022-05-31T08:42:42.617Z"
   },
   {
    "duration": 12,
    "start_time": "2022-05-31T08:42:42.628Z"
   },
   {
    "duration": 34,
    "start_time": "2022-05-31T08:42:42.642Z"
   },
   {
    "duration": 17,
    "start_time": "2022-05-31T08:42:42.677Z"
   },
   {
    "duration": 6,
    "start_time": "2022-05-31T08:42:42.695Z"
   },
   {
    "duration": 10,
    "start_time": "2022-05-31T08:42:42.702Z"
   },
   {
    "duration": 9,
    "start_time": "2022-05-31T08:42:42.714Z"
   },
   {
    "duration": 17,
    "start_time": "2022-05-31T08:42:42.726Z"
   },
   {
    "duration": 14,
    "start_time": "2022-05-31T08:42:42.768Z"
   },
   {
    "duration": 4,
    "start_time": "2022-05-31T08:42:42.783Z"
   },
   {
    "duration": 15,
    "start_time": "2022-05-31T08:42:42.788Z"
   },
   {
    "duration": 18,
    "start_time": "2022-05-31T08:42:42.804Z"
   },
   {
    "duration": 6,
    "start_time": "2022-05-31T08:42:42.823Z"
   },
   {
    "duration": 20,
    "start_time": "2022-05-31T08:42:42.830Z"
   },
   {
    "duration": 33,
    "start_time": "2022-05-31T08:42:42.852Z"
   },
   {
    "duration": 5,
    "start_time": "2022-05-31T08:42:42.887Z"
   },
   {
    "duration": 33,
    "start_time": "2022-05-31T08:42:42.893Z"
   },
   {
    "duration": 179,
    "start_time": "2022-05-31T08:42:42.930Z"
   },
   {
    "duration": 4,
    "start_time": "2022-05-31T08:42:43.111Z"
   },
   {
    "duration": 19,
    "start_time": "2022-05-31T08:42:43.116Z"
   },
   {
    "duration": 34,
    "start_time": "2022-05-31T08:42:43.137Z"
   },
   {
    "duration": 11,
    "start_time": "2022-05-31T08:42:43.174Z"
   },
   {
    "duration": 16,
    "start_time": "2022-05-31T08:42:43.187Z"
   },
   {
    "duration": 14,
    "start_time": "2022-05-31T08:42:43.204Z"
   },
   {
    "duration": 12,
    "start_time": "2022-05-31T08:42:43.220Z"
   },
   {
    "duration": 7,
    "start_time": "2022-05-31T08:42:43.234Z"
   },
   {
    "duration": 32,
    "start_time": "2022-05-31T08:42:43.243Z"
   },
   {
    "duration": 13,
    "start_time": "2022-05-31T08:42:43.276Z"
   },
   {
    "duration": 4,
    "start_time": "2022-05-31T08:42:43.291Z"
   },
   {
    "duration": 13,
    "start_time": "2022-05-31T08:42:43.296Z"
   },
   {
    "duration": 17,
    "start_time": "2022-05-31T08:42:43.311Z"
   },
   {
    "duration": 8,
    "start_time": "2022-05-31T08:42:43.330Z"
   },
   {
    "duration": 40,
    "start_time": "2022-05-31T08:42:43.339Z"
   },
   {
    "duration": 9,
    "start_time": "2022-05-31T08:42:43.381Z"
   },
   {
    "duration": 11,
    "start_time": "2022-05-31T08:42:43.392Z"
   },
   {
    "duration": 16,
    "start_time": "2022-05-31T08:42:43.404Z"
   },
   {
    "duration": 8,
    "start_time": "2022-05-31T08:42:43.422Z"
   },
   {
    "duration": 46,
    "start_time": "2022-05-31T08:42:43.432Z"
   },
   {
    "duration": 7,
    "start_time": "2022-05-31T08:42:43.480Z"
   },
   {
    "duration": 8,
    "start_time": "2022-05-31T08:42:43.489Z"
   },
   {
    "duration": 15,
    "start_time": "2022-05-31T08:42:43.498Z"
   },
   {
    "duration": 10,
    "start_time": "2022-05-31T08:42:43.515Z"
   },
   {
    "duration": 5,
    "start_time": "2022-05-31T08:42:43.526Z"
   },
   {
    "duration": 36,
    "start_time": "2022-05-31T08:42:43.532Z"
   },
   {
    "duration": 13,
    "start_time": "2022-05-31T08:42:43.574Z"
   },
   {
    "duration": 40,
    "start_time": "2022-05-31T08:42:43.589Z"
   },
   {
    "duration": 9,
    "start_time": "2022-05-31T08:42:43.631Z"
   },
   {
    "duration": 29,
    "start_time": "2022-05-31T08:42:43.642Z"
   },
   {
    "duration": 30,
    "start_time": "2022-05-31T08:42:43.673Z"
   },
   {
    "duration": 9,
    "start_time": "2022-05-31T08:42:43.705Z"
   },
   {
    "duration": 16,
    "start_time": "2022-05-31T08:42:43.716Z"
   },
   {
    "duration": 25,
    "start_time": "2022-05-31T08:42:43.733Z"
   },
   {
    "duration": 43,
    "start_time": "2022-05-31T08:42:43.760Z"
   },
   {
    "duration": 8,
    "start_time": "2022-05-31T08:42:43.805Z"
   },
   {
    "duration": 23,
    "start_time": "2022-05-31T08:42:43.815Z"
   },
   {
    "duration": 32,
    "start_time": "2022-05-31T08:42:43.840Z"
   },
   {
    "duration": 15,
    "start_time": "2022-05-31T08:42:43.876Z"
   },
   {
    "duration": 17,
    "start_time": "2022-05-31T08:42:43.893Z"
   },
   {
    "duration": 8,
    "start_time": "2022-05-31T08:42:43.912Z"
   },
   {
    "duration": 18,
    "start_time": "2022-05-31T08:42:43.922Z"
   },
   {
    "duration": 35,
    "start_time": "2022-05-31T08:42:43.942Z"
   },
   {
    "duration": 25,
    "start_time": "2022-05-31T08:42:43.979Z"
   },
   {
    "duration": 15,
    "start_time": "2022-05-31T08:42:44.006Z"
   },
   {
    "duration": 8,
    "start_time": "2022-05-31T08:42:44.023Z"
   },
   {
    "duration": 51,
    "start_time": "2022-05-31T08:42:44.033Z"
   },
   {
    "duration": 19,
    "start_time": "2022-05-31T08:42:44.086Z"
   },
   {
    "duration": 704,
    "start_time": "2022-05-31T08:44:18.379Z"
   },
   {
    "duration": 18,
    "start_time": "2022-05-31T08:49:16.194Z"
   },
   {
    "duration": 21,
    "start_time": "2022-05-31T08:49:51.261Z"
   },
   {
    "duration": 23,
    "start_time": "2022-05-31T08:50:06.829Z"
   },
   {
    "duration": 16,
    "start_time": "2022-05-31T08:50:44.785Z"
   },
   {
    "duration": 26,
    "start_time": "2022-05-31T08:50:55.875Z"
   },
   {
    "duration": 462,
    "start_time": "2022-05-31T08:53:46.731Z"
   },
   {
    "duration": 83,
    "start_time": "2022-05-31T08:53:47.195Z"
   },
   {
    "duration": 22,
    "start_time": "2022-05-31T08:53:47.280Z"
   },
   {
    "duration": 17,
    "start_time": "2022-05-31T08:53:47.304Z"
   },
   {
    "duration": 4,
    "start_time": "2022-05-31T08:53:47.323Z"
   },
   {
    "duration": 49,
    "start_time": "2022-05-31T08:53:47.330Z"
   },
   {
    "duration": 7,
    "start_time": "2022-05-31T08:53:47.381Z"
   },
   {
    "duration": 23,
    "start_time": "2022-05-31T08:53:47.390Z"
   },
   {
    "duration": 16,
    "start_time": "2022-05-31T08:53:47.415Z"
   },
   {
    "duration": 278,
    "start_time": "2022-05-31T08:53:47.434Z"
   },
   {
    "duration": 9,
    "start_time": "2022-05-31T08:53:47.713Z"
   },
   {
    "duration": 11,
    "start_time": "2022-05-31T08:53:47.724Z"
   },
   {
    "duration": 6,
    "start_time": "2022-05-31T08:53:47.736Z"
   },
   {
    "duration": 39,
    "start_time": "2022-05-31T08:53:47.743Z"
   },
   {
    "duration": 6,
    "start_time": "2022-05-31T08:53:47.784Z"
   },
   {
    "duration": 13,
    "start_time": "2022-05-31T08:53:47.792Z"
   },
   {
    "duration": 10,
    "start_time": "2022-05-31T08:53:47.807Z"
   },
   {
    "duration": 15,
    "start_time": "2022-05-31T08:53:47.818Z"
   },
   {
    "duration": 35,
    "start_time": "2022-05-31T08:53:47.835Z"
   },
   {
    "duration": 16,
    "start_time": "2022-05-31T08:53:47.874Z"
   },
   {
    "duration": 14,
    "start_time": "2022-05-31T08:53:47.891Z"
   },
   {
    "duration": 9,
    "start_time": "2022-05-31T08:53:47.907Z"
   },
   {
    "duration": 6,
    "start_time": "2022-05-31T08:53:47.918Z"
   },
   {
    "duration": 54,
    "start_time": "2022-05-31T08:53:47.926Z"
   },
   {
    "duration": 14,
    "start_time": "2022-05-31T08:53:47.982Z"
   },
   {
    "duration": 7,
    "start_time": "2022-05-31T08:53:47.998Z"
   },
   {
    "duration": 25,
    "start_time": "2022-05-31T08:53:48.007Z"
   },
   {
    "duration": 195,
    "start_time": "2022-05-31T08:53:48.037Z"
   },
   {
    "duration": 3,
    "start_time": "2022-05-31T08:53:48.234Z"
   },
   {
    "duration": 38,
    "start_time": "2022-05-31T08:53:48.239Z"
   },
   {
    "duration": 7,
    "start_time": "2022-05-31T08:53:48.279Z"
   },
   {
    "duration": 8,
    "start_time": "2022-05-31T08:53:48.288Z"
   },
   {
    "duration": 13,
    "start_time": "2022-05-31T08:53:48.297Z"
   },
   {
    "duration": 8,
    "start_time": "2022-05-31T08:53:48.312Z"
   },
   {
    "duration": 10,
    "start_time": "2022-05-31T08:53:48.322Z"
   },
   {
    "duration": 36,
    "start_time": "2022-05-31T08:53:48.334Z"
   },
   {
    "duration": 9,
    "start_time": "2022-05-31T08:53:48.372Z"
   },
   {
    "duration": 10,
    "start_time": "2022-05-31T08:53:48.383Z"
   },
   {
    "duration": 3,
    "start_time": "2022-05-31T08:53:48.395Z"
   },
   {
    "duration": 7,
    "start_time": "2022-05-31T08:53:48.400Z"
   },
   {
    "duration": 16,
    "start_time": "2022-05-31T08:53:48.409Z"
   },
   {
    "duration": 6,
    "start_time": "2022-05-31T08:53:48.427Z"
   },
   {
    "duration": 43,
    "start_time": "2022-05-31T08:53:48.435Z"
   },
   {
    "duration": 7,
    "start_time": "2022-05-31T08:53:48.480Z"
   },
   {
    "duration": 16,
    "start_time": "2022-05-31T08:53:48.488Z"
   },
   {
    "duration": 15,
    "start_time": "2022-05-31T08:53:48.506Z"
   },
   {
    "duration": 7,
    "start_time": "2022-05-31T08:53:48.523Z"
   },
   {
    "duration": 41,
    "start_time": "2022-05-31T08:53:48.532Z"
   },
   {
    "duration": 9,
    "start_time": "2022-05-31T08:53:48.574Z"
   },
   {
    "duration": 13,
    "start_time": "2022-05-31T08:53:48.584Z"
   },
   {
    "duration": 40,
    "start_time": "2022-05-31T08:53:48.599Z"
   },
   {
    "duration": 6,
    "start_time": "2022-05-31T08:53:48.641Z"
   },
   {
    "duration": 5,
    "start_time": "2022-05-31T08:53:48.649Z"
   },
   {
    "duration": 13,
    "start_time": "2022-05-31T08:53:48.655Z"
   },
   {
    "duration": 18,
    "start_time": "2022-05-31T08:53:48.669Z"
   },
   {
    "duration": 39,
    "start_time": "2022-05-31T08:53:48.689Z"
   },
   {
    "duration": 8,
    "start_time": "2022-05-31T08:53:48.730Z"
   },
   {
    "duration": 39,
    "start_time": "2022-05-31T08:53:48.740Z"
   },
   {
    "duration": 25,
    "start_time": "2022-05-31T08:53:48.781Z"
   },
   {
    "duration": 17,
    "start_time": "2022-05-31T08:53:48.808Z"
   },
   {
    "duration": 9,
    "start_time": "2022-05-31T08:53:48.827Z"
   },
   {
    "duration": 39,
    "start_time": "2022-05-31T08:53:48.847Z"
   },
   {
    "duration": 22,
    "start_time": "2022-05-31T08:53:48.888Z"
   },
   {
    "duration": 19,
    "start_time": "2022-05-31T08:53:48.912Z"
   },
   {
    "duration": 50,
    "start_time": "2022-05-31T08:53:48.933Z"
   },
   {
    "duration": 23,
    "start_time": "2022-05-31T08:53:48.986Z"
   },
   {
    "duration": 41,
    "start_time": "2022-05-31T08:53:49.011Z"
   },
   {
    "duration": 49,
    "start_time": "2022-05-31T08:53:49.055Z"
   },
   {
    "duration": 16,
    "start_time": "2022-05-31T08:53:49.106Z"
   },
   {
    "duration": 25,
    "start_time": "2022-05-31T08:53:49.124Z"
   },
   {
    "duration": 25,
    "start_time": "2022-05-31T08:53:49.151Z"
   },
   {
    "duration": 31,
    "start_time": "2022-05-31T08:53:49.182Z"
   },
   {
    "duration": 18,
    "start_time": "2022-05-31T08:53:49.215Z"
   },
   {
    "duration": 33,
    "start_time": "2022-05-31T08:53:49.235Z"
   },
   {
    "duration": 20,
    "start_time": "2022-05-31T08:53:49.270Z"
   },
   {
    "duration": 8,
    "start_time": "2022-05-31T08:53:49.291Z"
   },
   {
    "duration": 23,
    "start_time": "2022-05-31T08:53:49.301Z"
   },
   {
    "duration": 44,
    "start_time": "2022-05-31T08:53:49.326Z"
   },
   {
    "duration": 2,
    "start_time": "2022-05-31T08:56:31.412Z"
   },
   {
    "duration": 82,
    "start_time": "2022-05-31T08:56:31.638Z"
   },
   {
    "duration": 14,
    "start_time": "2022-05-31T08:56:32.638Z"
   },
   {
    "duration": 20,
    "start_time": "2022-05-31T08:56:34.593Z"
   },
   {
    "duration": 5,
    "start_time": "2022-05-31T08:56:36.513Z"
   },
   {
    "duration": 19,
    "start_time": "2022-05-31T08:56:38.191Z"
   },
   {
    "duration": 5,
    "start_time": "2022-05-31T08:56:43.060Z"
   },
   {
    "duration": 17,
    "start_time": "2022-05-31T08:56:45.555Z"
   },
   {
    "duration": 16,
    "start_time": "2022-05-31T08:56:47.026Z"
   },
   {
    "duration": 268,
    "start_time": "2022-05-31T08:56:48.763Z"
   },
   {
    "duration": 9,
    "start_time": "2022-05-31T08:56:52.979Z"
   },
   {
    "duration": 9,
    "start_time": "2022-05-31T08:56:54.894Z"
   },
   {
    "duration": 4,
    "start_time": "2022-05-31T08:56:56.698Z"
   },
   {
    "duration": 15,
    "start_time": "2022-05-31T08:56:57.317Z"
   },
   {
    "duration": 10,
    "start_time": "2022-05-31T08:57:06.759Z"
   },
   {
    "duration": 14,
    "start_time": "2022-05-31T08:57:08.033Z"
   },
   {
    "duration": 14,
    "start_time": "2022-05-31T08:57:11.955Z"
   },
   {
    "duration": 13,
    "start_time": "2022-05-31T08:57:13.091Z"
   },
   {
    "duration": 15,
    "start_time": "2022-05-31T08:57:20.460Z"
   },
   {
    "duration": 5,
    "start_time": "2022-05-31T08:57:40.228Z"
   },
   {
    "duration": 12,
    "start_time": "2022-05-31T08:58:23.902Z"
   },
   {
    "duration": 13,
    "start_time": "2022-05-31T08:58:26.778Z"
   },
   {
    "duration": 6,
    "start_time": "2022-05-31T08:58:35.927Z"
   },
   {
    "duration": 15,
    "start_time": "2022-05-31T08:58:38.076Z"
   },
   {
    "duration": 12,
    "start_time": "2022-05-31T08:59:01.974Z"
   },
   {
    "duration": 6,
    "start_time": "2022-05-31T08:59:06.933Z"
   },
   {
    "duration": 26,
    "start_time": "2022-05-31T08:59:08.901Z"
   },
   {
    "duration": 176,
    "start_time": "2022-05-31T08:59:15.432Z"
   },
   {
    "duration": 3,
    "start_time": "2022-05-31T08:59:16.497Z"
   },
   {
    "duration": 28,
    "start_time": "2022-05-31T08:59:19.561Z"
   },
   {
    "duration": 8,
    "start_time": "2022-05-31T08:59:24.877Z"
   },
   {
    "duration": 10,
    "start_time": "2022-05-31T08:59:29.463Z"
   },
   {
    "duration": 12,
    "start_time": "2022-05-31T08:59:34.933Z"
   },
   {
    "duration": 10,
    "start_time": "2022-05-31T08:59:36.476Z"
   },
   {
    "duration": 8,
    "start_time": "2022-05-31T08:59:40.976Z"
   },
   {
    "duration": 5,
    "start_time": "2022-05-31T08:59:41.776Z"
   },
   {
    "duration": 7,
    "start_time": "2022-05-31T08:59:45.680Z"
   },
   {
    "duration": 9,
    "start_time": "2022-05-31T08:59:51.599Z"
   },
   {
    "duration": 3,
    "start_time": "2022-05-31T08:59:52.655Z"
   },
   {
    "duration": 4,
    "start_time": "2022-05-31T08:59:54.010Z"
   },
   {
    "duration": 17,
    "start_time": "2022-05-31T08:59:59.875Z"
   },
   {
    "duration": 7,
    "start_time": "2022-05-31T09:00:04.919Z"
   },
   {
    "duration": 8,
    "start_time": "2022-05-31T09:00:07.875Z"
   },
   {
    "duration": 7,
    "start_time": "2022-05-31T09:00:09.926Z"
   },
   {
    "duration": 10,
    "start_time": "2022-05-31T09:00:13.108Z"
   },
   {
    "duration": 19,
    "start_time": "2022-05-31T09:00:14.217Z"
   },
   {
    "duration": 7,
    "start_time": "2022-05-31T09:00:20.281Z"
   },
   {
    "duration": 23,
    "start_time": "2022-05-31T09:00:24.558Z"
   },
   {
    "duration": 7,
    "start_time": "2022-05-31T09:00:29.536Z"
   },
   {
    "duration": 4,
    "start_time": "2022-05-31T09:00:31.949Z"
   },
   {
    "duration": 24,
    "start_time": "2022-05-31T09:20:34.760Z"
   },
   {
    "duration": 9,
    "start_time": "2022-05-31T09:20:44.756Z"
   },
   {
    "duration": 8,
    "start_time": "2022-05-31T09:24:27.140Z"
   },
   {
    "duration": 8,
    "start_time": "2022-05-31T09:24:28.104Z"
   },
   {
    "duration": 7,
    "start_time": "2022-05-31T09:24:45.493Z"
   },
   {
    "duration": 522,
    "start_time": "2022-05-31T09:25:07.755Z"
   },
   {
    "duration": 97,
    "start_time": "2022-05-31T09:25:08.283Z"
   },
   {
    "duration": 24,
    "start_time": "2022-05-31T09:25:08.382Z"
   },
   {
    "duration": 19,
    "start_time": "2022-05-31T09:25:08.408Z"
   },
   {
    "duration": 4,
    "start_time": "2022-05-31T09:25:08.429Z"
   },
   {
    "duration": 43,
    "start_time": "2022-05-31T09:25:08.435Z"
   },
   {
    "duration": 8,
    "start_time": "2022-05-31T09:25:08.481Z"
   },
   {
    "duration": 25,
    "start_time": "2022-05-31T09:25:08.491Z"
   },
   {
    "duration": 14,
    "start_time": "2022-05-31T09:25:08.519Z"
   },
   {
    "duration": 263,
    "start_time": "2022-05-31T09:25:08.537Z"
   },
   {
    "duration": 9,
    "start_time": "2022-05-31T09:25:08.802Z"
   },
   {
    "duration": 26,
    "start_time": "2022-05-31T09:25:08.813Z"
   },
   {
    "duration": 17,
    "start_time": "2022-05-31T09:25:08.841Z"
   },
   {
    "duration": 41,
    "start_time": "2022-05-31T09:25:08.860Z"
   },
   {
    "duration": 25,
    "start_time": "2022-05-31T09:25:08.903Z"
   },
   {
    "duration": 12,
    "start_time": "2022-05-31T09:25:08.930Z"
   },
   {
    "duration": 14,
    "start_time": "2022-05-31T09:25:08.944Z"
   },
   {
    "duration": 71,
    "start_time": "2022-05-31T09:25:08.960Z"
   },
   {
    "duration": 20,
    "start_time": "2022-05-31T09:25:09.034Z"
   },
   {
    "duration": 5,
    "start_time": "2022-05-31T09:25:09.056Z"
   },
   {
    "duration": 59,
    "start_time": "2022-05-31T09:25:09.063Z"
   },
   {
    "duration": 12,
    "start_time": "2022-05-31T09:25:09.125Z"
   },
   {
    "duration": 10,
    "start_time": "2022-05-31T09:25:09.139Z"
   },
   {
    "duration": 40,
    "start_time": "2022-05-31T09:25:09.151Z"
   },
   {
    "duration": 26,
    "start_time": "2022-05-31T09:25:09.193Z"
   },
   {
    "duration": 12,
    "start_time": "2022-05-31T09:25:09.221Z"
   },
   {
    "duration": 35,
    "start_time": "2022-05-31T09:25:09.236Z"
   },
   {
    "duration": 241,
    "start_time": "2022-05-31T09:25:09.276Z"
   },
   {
    "duration": 4,
    "start_time": "2022-05-31T09:25:09.519Z"
   },
   {
    "duration": 23,
    "start_time": "2022-05-31T09:25:09.525Z"
   },
   {
    "duration": 19,
    "start_time": "2022-05-31T09:25:09.550Z"
   },
   {
    "duration": 30,
    "start_time": "2022-05-31T09:25:09.570Z"
   },
   {
    "duration": 12,
    "start_time": "2022-05-31T09:25:09.602Z"
   },
   {
    "duration": 14,
    "start_time": "2022-05-31T09:25:09.615Z"
   },
   {
    "duration": 21,
    "start_time": "2022-05-31T09:25:09.631Z"
   },
   {
    "duration": 38,
    "start_time": "2022-05-31T09:25:09.653Z"
   },
   {
    "duration": 110,
    "start_time": "2022-05-31T09:25:09.694Z"
   },
   {
    "duration": 0,
    "start_time": "2022-05-31T09:25:09.806Z"
   },
   {
    "duration": 0,
    "start_time": "2022-05-31T09:25:09.808Z"
   },
   {
    "duration": 0,
    "start_time": "2022-05-31T09:25:09.810Z"
   },
   {
    "duration": 0,
    "start_time": "2022-05-31T09:25:09.811Z"
   },
   {
    "duration": 0,
    "start_time": "2022-05-31T09:25:09.813Z"
   },
   {
    "duration": 0,
    "start_time": "2022-05-31T09:25:09.814Z"
   },
   {
    "duration": 0,
    "start_time": "2022-05-31T09:25:09.816Z"
   },
   {
    "duration": 0,
    "start_time": "2022-05-31T09:25:09.817Z"
   },
   {
    "duration": 0,
    "start_time": "2022-05-31T09:25:09.818Z"
   },
   {
    "duration": 0,
    "start_time": "2022-05-31T09:25:09.819Z"
   },
   {
    "duration": 0,
    "start_time": "2022-05-31T09:25:09.821Z"
   },
   {
    "duration": 0,
    "start_time": "2022-05-31T09:25:09.822Z"
   },
   {
    "duration": 0,
    "start_time": "2022-05-31T09:25:09.823Z"
   },
   {
    "duration": 0,
    "start_time": "2022-05-31T09:25:09.824Z"
   },
   {
    "duration": 0,
    "start_time": "2022-05-31T09:25:09.825Z"
   },
   {
    "duration": 0,
    "start_time": "2022-05-31T09:25:09.826Z"
   },
   {
    "duration": 0,
    "start_time": "2022-05-31T09:25:09.827Z"
   },
   {
    "duration": 0,
    "start_time": "2022-05-31T09:25:09.828Z"
   },
   {
    "duration": 0,
    "start_time": "2022-05-31T09:25:09.829Z"
   },
   {
    "duration": 0,
    "start_time": "2022-05-31T09:25:09.830Z"
   },
   {
    "duration": 0,
    "start_time": "2022-05-31T09:25:09.831Z"
   },
   {
    "duration": 0,
    "start_time": "2022-05-31T09:25:09.832Z"
   },
   {
    "duration": 0,
    "start_time": "2022-05-31T09:25:09.877Z"
   },
   {
    "duration": 0,
    "start_time": "2022-05-31T09:25:09.878Z"
   },
   {
    "duration": 0,
    "start_time": "2022-05-31T09:25:09.878Z"
   },
   {
    "duration": 0,
    "start_time": "2022-05-31T09:25:09.879Z"
   },
   {
    "duration": 0,
    "start_time": "2022-05-31T09:25:09.879Z"
   },
   {
    "duration": 0,
    "start_time": "2022-05-31T09:25:09.880Z"
   },
   {
    "duration": 0,
    "start_time": "2022-05-31T09:25:09.885Z"
   },
   {
    "duration": 0,
    "start_time": "2022-05-31T09:25:09.886Z"
   },
   {
    "duration": 0,
    "start_time": "2022-05-31T09:25:09.887Z"
   },
   {
    "duration": 0,
    "start_time": "2022-05-31T09:25:09.888Z"
   },
   {
    "duration": 0,
    "start_time": "2022-05-31T09:25:09.889Z"
   },
   {
    "duration": 0,
    "start_time": "2022-05-31T09:25:09.892Z"
   },
   {
    "duration": 0,
    "start_time": "2022-05-31T09:25:09.893Z"
   },
   {
    "duration": 0,
    "start_time": "2022-05-31T09:25:09.895Z"
   },
   {
    "duration": 0,
    "start_time": "2022-05-31T09:25:09.896Z"
   },
   {
    "duration": 0,
    "start_time": "2022-05-31T09:25:09.897Z"
   },
   {
    "duration": 0,
    "start_time": "2022-05-31T09:25:09.899Z"
   },
   {
    "duration": 0,
    "start_time": "2022-05-31T09:25:09.900Z"
   },
   {
    "duration": 0,
    "start_time": "2022-05-31T09:25:09.902Z"
   },
   {
    "duration": 413,
    "start_time": "2022-05-31T15:53:30.379Z"
   },
   {
    "duration": 66,
    "start_time": "2022-05-31T15:53:30.795Z"
   },
   {
    "duration": 20,
    "start_time": "2022-05-31T15:53:30.863Z"
   },
   {
    "duration": 43,
    "start_time": "2022-05-31T15:53:30.885Z"
   },
   {
    "duration": 4,
    "start_time": "2022-05-31T15:53:30.930Z"
   },
   {
    "duration": 18,
    "start_time": "2022-05-31T15:53:30.935Z"
   },
   {
    "duration": 10,
    "start_time": "2022-05-31T15:53:30.954Z"
   },
   {
    "duration": 21,
    "start_time": "2022-05-31T15:53:30.966Z"
   },
   {
    "duration": 19,
    "start_time": "2022-05-31T15:53:30.988Z"
   },
   {
    "duration": 203,
    "start_time": "2022-05-31T15:53:31.009Z"
   },
   {
    "duration": 8,
    "start_time": "2022-05-31T15:53:31.213Z"
   },
   {
    "duration": 79,
    "start_time": "2022-05-31T15:53:31.222Z"
   },
   {
    "duration": 12,
    "start_time": "2022-05-31T15:53:31.303Z"
   },
   {
    "duration": 23,
    "start_time": "2022-05-31T15:53:31.317Z"
   },
   {
    "duration": 11,
    "start_time": "2022-05-31T15:53:31.341Z"
   },
   {
    "duration": 13,
    "start_time": "2022-05-31T15:53:31.353Z"
   },
   {
    "duration": 29,
    "start_time": "2022-05-31T15:53:31.368Z"
   },
   {
    "duration": 33,
    "start_time": "2022-05-31T15:53:31.399Z"
   },
   {
    "duration": 33,
    "start_time": "2022-05-31T15:53:31.433Z"
   },
   {
    "duration": 7,
    "start_time": "2022-05-31T15:53:31.468Z"
   },
   {
    "duration": 24,
    "start_time": "2022-05-31T15:53:31.477Z"
   },
   {
    "duration": 21,
    "start_time": "2022-05-31T15:53:31.502Z"
   },
   {
    "duration": 20,
    "start_time": "2022-05-31T15:53:31.524Z"
   },
   {
    "duration": 28,
    "start_time": "2022-05-31T15:53:31.545Z"
   },
   {
    "duration": 21,
    "start_time": "2022-05-31T15:53:31.575Z"
   },
   {
    "duration": 20,
    "start_time": "2022-05-31T15:53:31.597Z"
   },
   {
    "duration": 27,
    "start_time": "2022-05-31T15:53:31.619Z"
   },
   {
    "duration": 147,
    "start_time": "2022-05-31T15:53:31.647Z"
   },
   {
    "duration": 2,
    "start_time": "2022-05-31T15:53:31.796Z"
   },
   {
    "duration": 30,
    "start_time": "2022-05-31T15:53:31.800Z"
   },
   {
    "duration": 8,
    "start_time": "2022-05-31T15:53:31.832Z"
   },
   {
    "duration": 12,
    "start_time": "2022-05-31T15:53:31.841Z"
   },
   {
    "duration": 19,
    "start_time": "2022-05-31T15:53:31.854Z"
   },
   {
    "duration": 17,
    "start_time": "2022-05-31T15:53:31.875Z"
   },
   {
    "duration": 24,
    "start_time": "2022-05-31T15:53:31.893Z"
   },
   {
    "duration": 25,
    "start_time": "2022-05-31T15:53:31.919Z"
   },
   {
    "duration": 24,
    "start_time": "2022-05-31T15:53:31.946Z"
   },
   {
    "duration": 6,
    "start_time": "2022-05-31T15:53:31.972Z"
   },
   {
    "duration": 18,
    "start_time": "2022-05-31T15:53:31.980Z"
   },
   {
    "duration": 24,
    "start_time": "2022-05-31T15:53:31.999Z"
   },
   {
    "duration": 17,
    "start_time": "2022-05-31T15:53:32.028Z"
   },
   {
    "duration": 5,
    "start_time": "2022-05-31T15:53:32.047Z"
   },
   {
    "duration": 12,
    "start_time": "2022-05-31T15:53:32.054Z"
   },
   {
    "duration": 29,
    "start_time": "2022-05-31T15:53:32.068Z"
   },
   {
    "duration": 14,
    "start_time": "2022-05-31T15:53:32.099Z"
   },
   {
    "duration": 27,
    "start_time": "2022-05-31T15:53:32.115Z"
   },
   {
    "duration": 18,
    "start_time": "2022-05-31T15:53:32.144Z"
   },
   {
    "duration": 19,
    "start_time": "2022-05-31T15:53:32.164Z"
   },
   {
    "duration": 15,
    "start_time": "2022-05-31T15:53:32.184Z"
   },
   {
    "duration": 6,
    "start_time": "2022-05-31T15:53:32.200Z"
   },
   {
    "duration": 16,
    "start_time": "2022-05-31T15:53:32.208Z"
   },
   {
    "duration": 6,
    "start_time": "2022-05-31T15:53:32.225Z"
   },
   {
    "duration": 22,
    "start_time": "2022-05-31T15:53:32.232Z"
   },
   {
    "duration": 87,
    "start_time": "2022-05-31T15:53:32.256Z"
   },
   {
    "duration": 9,
    "start_time": "2022-05-31T15:53:32.344Z"
   },
   {
    "duration": 7,
    "start_time": "2022-05-31T15:53:32.355Z"
   },
   {
    "duration": 8,
    "start_time": "2022-05-31T15:53:32.364Z"
   },
   {
    "duration": 12,
    "start_time": "2022-05-31T15:53:32.374Z"
   },
   {
    "duration": 45,
    "start_time": "2022-05-31T15:53:32.388Z"
   },
   {
    "duration": 18,
    "start_time": "2022-05-31T15:53:32.435Z"
   },
   {
    "duration": 30,
    "start_time": "2022-05-31T15:53:32.454Z"
   },
   {
    "duration": 10,
    "start_time": "2022-05-31T15:53:32.486Z"
   },
   {
    "duration": 42,
    "start_time": "2022-05-31T15:53:32.497Z"
   },
   {
    "duration": 32,
    "start_time": "2022-05-31T15:53:32.541Z"
   },
   {
    "duration": 57,
    "start_time": "2022-05-31T15:53:32.575Z"
   },
   {
    "duration": 11,
    "start_time": "2022-05-31T15:53:32.634Z"
   },
   {
    "duration": 52,
    "start_time": "2022-05-31T15:53:32.647Z"
   },
   {
    "duration": 38,
    "start_time": "2022-05-31T15:53:32.701Z"
   },
   {
    "duration": 11,
    "start_time": "2022-05-31T15:53:32.741Z"
   },
   {
    "duration": 44,
    "start_time": "2022-05-31T15:53:32.754Z"
   },
   {
    "duration": 8,
    "start_time": "2022-05-31T15:53:32.799Z"
   },
   {
    "duration": 26,
    "start_time": "2022-05-31T15:53:32.808Z"
   },
   {
    "duration": 15,
    "start_time": "2022-05-31T15:53:32.836Z"
   },
   {
    "duration": 23,
    "start_time": "2022-05-31T15:53:32.852Z"
   },
   {
    "duration": 23,
    "start_time": "2022-05-31T15:53:32.876Z"
   },
   {
    "duration": 17,
    "start_time": "2022-05-31T15:53:32.900Z"
   },
   {
    "duration": 40,
    "start_time": "2022-05-31T15:53:32.919Z"
   },
   {
    "duration": 15,
    "start_time": "2022-05-31T15:53:32.961Z"
   }
  ],
  "kernelspec": {
   "display_name": "Python 3 (ipykernel)",
   "language": "python",
   "name": "python3"
  },
  "language_info": {
   "codemirror_mode": {
    "name": "ipython",
    "version": 3
   },
   "file_extension": ".py",
   "mimetype": "text/x-python",
   "name": "python",
   "nbconvert_exporter": "python",
   "pygments_lexer": "ipython3",
   "version": "3.9.12"
  },
  "toc": {
   "base_numbering": 1,
   "nav_menu": {},
   "number_sections": true,
   "sideBar": true,
   "skip_h1_title": true,
   "title_cell": "Table of Contents",
   "title_sidebar": "Contents",
   "toc_cell": false,
   "toc_position": {},
   "toc_section_display": true,
   "toc_window_display": false
  }
 },
 "nbformat": 4,
 "nbformat_minor": 5
}
