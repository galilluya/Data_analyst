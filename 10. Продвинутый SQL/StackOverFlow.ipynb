{
 "cells": [
  {
   "cell_type": "markdown",
   "metadata": {},
   "source": [
    "# Исследование базы данных вопросов и ответов StackOverflow"
   ]
  },
  {
   "cell_type": "markdown",
   "metadata": {
    "id": "sRW85nPMDWKb"
   },
   "source": [
    "Самостоятельная работа основана на базе данных `stackoverflow` — сервиса вопросов и ответов о программировании с данными о постах за 2008 год. Необходимо выполнить SQL-запросы согласно поставленным задачам."
   ]
  },
  {
   "cell_type": "code",
   "execution_count": 1,
   "metadata": {
    "id": "nlZBlglMDWKe"
   },
   "outputs": [],
   "source": [
    "import pandas as pd\n",
    "import matplotlib.pyplot as plt\n",
    "from sqlalchemy import create_engine \n",
    "from plotly import graph_objects as go\n",
    "import seaborn as sns"
   ]
  },
  {
   "cell_type": "markdown",
   "metadata": {
    "id": "XnOE3n28DWKg"
   },
   "source": [
    "### Конфигурация для подключения к базе данных `data-analyst-advanced-sql`\n",
    "Эта база данных содержит схему `stackoverflow`, с которой вы будете работать в проекте"
   ]
  },
  {
   "cell_type": "code",
   "execution_count": 2,
   "metadata": {
    "id": "6p-yGp7qDWKg"
   },
   "outputs": [],
   "source": [
    "db_config = {\n",
    "    'user': 'praktikum_student', # имя пользователя\n",
    "    'pwd': 'Sdf4$2;d-d30pp', # пароль\n",
    "    'host': 'rc1b-wcoijxj3yxfsf3fs.mdb.yandexcloud.net',\n",
    "    'port': 6432, # порт подключения\n",
    "    'db': 'data-analyst-advanced-sql' # название базы данных\n",
    "}  \n",
    "\n",
    "connection_string = 'postgresql://{}:{}@{}:{}/{}'.format(\n",
    "    db_config['user'],\n",
    "    db_config['pwd'],\n",
    "    db_config['host'],\n",
    "    db_config['port'],\n",
    "    db_config['db'],\n",
    ")"
   ]
  },
  {
   "cell_type": "markdown",
   "metadata": {
    "id": "2Rg8ZpS0DWKh"
   },
   "source": [
    "Создание подключения"
   ]
  },
  {
   "cell_type": "code",
   "execution_count": 3,
   "metadata": {
    "id": "DamCUTR6DWKi"
   },
   "outputs": [],
   "source": [
    "engine = create_engine(connection_string) "
   ]
  },
  {
   "cell_type": "markdown",
   "metadata": {},
   "source": [
    "## Часть 1"
   ]
  },
  {
   "cell_type": "markdown",
   "metadata": {},
   "source": [
    "### Задание 1\n",
    "Найдите количество вопросов, которые набрали больше 300 очков или как минимум 100 раз были добавлены в «Закладки»."
   ]
  },
  {
   "cell_type": "code",
   "execution_count": 4,
   "metadata": {},
   "outputs": [
    {
     "data": {
      "text/html": [
       "<div>\n",
       "<style scoped>\n",
       "    .dataframe tbody tr th:only-of-type {\n",
       "        vertical-align: middle;\n",
       "    }\n",
       "\n",
       "    .dataframe tbody tr th {\n",
       "        vertical-align: top;\n",
       "    }\n",
       "\n",
       "    .dataframe thead th {\n",
       "        text-align: right;\n",
       "    }\n",
       "</style>\n",
       "<table border=\"1\" class=\"dataframe\">\n",
       "  <thead>\n",
       "    <tr style=\"text-align: right;\">\n",
       "      <th></th>\n",
       "      <th>count</th>\n",
       "    </tr>\n",
       "  </thead>\n",
       "  <tbody>\n",
       "    <tr>\n",
       "      <th>0</th>\n",
       "      <td>1355</td>\n",
       "    </tr>\n",
       "  </tbody>\n",
       "</table>\n",
       "</div>"
      ],
      "text/plain": [
       "   count\n",
       "0   1355"
      ]
     },
     "execution_count": 4,
     "metadata": {},
     "output_type": "execute_result"
    }
   ],
   "source": [
    "query = '''\n",
    "SELECT count(distinct id)\n",
    "FROM stackoverflow.posts\n",
    "WHERE post_type_id = 1\n",
    "  AND (score > 300\n",
    "       OR favorites_count >=100);\n",
    "'''\n",
    "\n",
    "table = pd.read_sql_query(query, con = engine) \n",
    "table"
   ]
  },
  {
   "cell_type": "markdown",
   "metadata": {},
   "source": [
    "### Задание 2\n",
    "Сколько в среднем в день задавали вопросов с 1 по 18 ноября 2008 включительно? Результат округлите до целого числа."
   ]
  },
  {
   "cell_type": "code",
   "execution_count": 5,
   "metadata": {},
   "outputs": [
    {
     "data": {
      "text/html": [
       "<div>\n",
       "<style scoped>\n",
       "    .dataframe tbody tr th:only-of-type {\n",
       "        vertical-align: middle;\n",
       "    }\n",
       "\n",
       "    .dataframe tbody tr th {\n",
       "        vertical-align: top;\n",
       "    }\n",
       "\n",
       "    .dataframe thead th {\n",
       "        text-align: right;\n",
       "    }\n",
       "</style>\n",
       "<table border=\"1\" class=\"dataframe\">\n",
       "  <thead>\n",
       "    <tr style=\"text-align: right;\">\n",
       "      <th></th>\n",
       "      <th>round</th>\n",
       "    </tr>\n",
       "  </thead>\n",
       "  <tbody>\n",
       "    <tr>\n",
       "      <th>0</th>\n",
       "      <td>383.0</td>\n",
       "    </tr>\n",
       "  </tbody>\n",
       "</table>\n",
       "</div>"
      ],
      "text/plain": [
       "   round\n",
       "0  383.0"
      ]
     },
     "execution_count": 5,
     "metadata": {},
     "output_type": "execute_result"
    }
   ],
   "source": [
    "query = '''\n",
    "WITH average AS \n",
    "(\n",
    "    SELECT p.creation_date::DATE AS dt, COUNT(p.id)\n",
    "    FROM stackoverflow.posts p\n",
    "    WHERE p.post_type_id = 1 AND p.creation_date::DATE BETWEEN '2008-11-01' AND '2008-11-18'\n",
    "    GROUP BY dt)\n",
    "SELECT ROUND(AVG(count), 0)\n",
    "FROM average;\n",
    "'''\n",
    "\n",
    "table = pd.read_sql_query(query, con = engine) \n",
    "table"
   ]
  },
  {
   "cell_type": "markdown",
   "metadata": {},
   "source": [
    "### Задание 3\n",
    "Сколько пользователей получили значки сразу в день регистрации? Выведите количество уникальных пользователей."
   ]
  },
  {
   "cell_type": "code",
   "execution_count": 6,
   "metadata": {},
   "outputs": [
    {
     "data": {
      "text/html": [
       "<div>\n",
       "<style scoped>\n",
       "    .dataframe tbody tr th:only-of-type {\n",
       "        vertical-align: middle;\n",
       "    }\n",
       "\n",
       "    .dataframe tbody tr th {\n",
       "        vertical-align: top;\n",
       "    }\n",
       "\n",
       "    .dataframe thead th {\n",
       "        text-align: right;\n",
       "    }\n",
       "</style>\n",
       "<table border=\"1\" class=\"dataframe\">\n",
       "  <thead>\n",
       "    <tr style=\"text-align: right;\">\n",
       "      <th></th>\n",
       "      <th>count</th>\n",
       "    </tr>\n",
       "  </thead>\n",
       "  <tbody>\n",
       "    <tr>\n",
       "      <th>0</th>\n",
       "      <td>7047</td>\n",
       "    </tr>\n",
       "  </tbody>\n",
       "</table>\n",
       "</div>"
      ],
      "text/plain": [
       "   count\n",
       "0   7047"
      ]
     },
     "execution_count": 6,
     "metadata": {},
     "output_type": "execute_result"
    }
   ],
   "source": [
    "query = '''\n",
    "SELECT COUNT(DISTINCT u.id)\n",
    "FROM stackoverflow.users u JOIN stackoverflow.badges b ON u.id=b.user_id\n",
    "WHERE b.creation_date::DATE=u.creation_date::DATE;\n",
    "'''\n",
    "\n",
    "table = pd.read_sql_query(query, con = engine) \n",
    "table"
   ]
  },
  {
   "cell_type": "markdown",
   "metadata": {},
   "source": [
    "### Задание 4\n",
    "Сколько уникальных постов пользователя с именем Joel Coehoorn получили хотя бы один голос?"
   ]
  },
  {
   "cell_type": "code",
   "execution_count": 7,
   "metadata": {},
   "outputs": [
    {
     "data": {
      "text/html": [
       "<div>\n",
       "<style scoped>\n",
       "    .dataframe tbody tr th:only-of-type {\n",
       "        vertical-align: middle;\n",
       "    }\n",
       "\n",
       "    .dataframe tbody tr th {\n",
       "        vertical-align: top;\n",
       "    }\n",
       "\n",
       "    .dataframe thead th {\n",
       "        text-align: right;\n",
       "    }\n",
       "</style>\n",
       "<table border=\"1\" class=\"dataframe\">\n",
       "  <thead>\n",
       "    <tr style=\"text-align: right;\">\n",
       "      <th></th>\n",
       "      <th>count</th>\n",
       "    </tr>\n",
       "  </thead>\n",
       "  <tbody>\n",
       "    <tr>\n",
       "      <th>0</th>\n",
       "      <td>12</td>\n",
       "    </tr>\n",
       "  </tbody>\n",
       "</table>\n",
       "</div>"
      ],
      "text/plain": [
       "   count\n",
       "0     12"
      ]
     },
     "execution_count": 7,
     "metadata": {},
     "output_type": "execute_result"
    }
   ],
   "source": [
    "query = '''\n",
    "SELECT COUNT(DISTINCT p.id)\n",
    "FROM stackoverflow.posts p JOIN stackoverflow.users u ON p.user_id=u.id JOIN stackoverflow.votes v ON p.id=v.post_id\n",
    "WHERE u.display_name ='Joel Coehoorn';\n",
    "'''\n",
    "\n",
    "table = pd.read_sql_query(query, con = engine) \n",
    "table"
   ]
  },
  {
   "cell_type": "markdown",
   "metadata": {},
   "source": [
    "### Задание 5\n",
    "Выгрузите все поля таблицы vote_types. Добавьте к таблице поле rank, в которое войдут номера записей в обратном порядке. Таблица должна быть отсортирована по полю id."
   ]
  },
  {
   "cell_type": "code",
   "execution_count": 8,
   "metadata": {},
   "outputs": [
    {
     "data": {
      "text/html": [
       "<div>\n",
       "<style scoped>\n",
       "    .dataframe tbody tr th:only-of-type {\n",
       "        vertical-align: middle;\n",
       "    }\n",
       "\n",
       "    .dataframe tbody tr th {\n",
       "        vertical-align: top;\n",
       "    }\n",
       "\n",
       "    .dataframe thead th {\n",
       "        text-align: right;\n",
       "    }\n",
       "</style>\n",
       "<table border=\"1\" class=\"dataframe\">\n",
       "  <thead>\n",
       "    <tr style=\"text-align: right;\">\n",
       "      <th></th>\n",
       "      <th>id</th>\n",
       "      <th>name</th>\n",
       "      <th>rank</th>\n",
       "    </tr>\n",
       "  </thead>\n",
       "  <tbody>\n",
       "    <tr>\n",
       "      <th>0</th>\n",
       "      <td>1</td>\n",
       "      <td>AcceptedByOriginator</td>\n",
       "      <td>15</td>\n",
       "    </tr>\n",
       "    <tr>\n",
       "      <th>1</th>\n",
       "      <td>2</td>\n",
       "      <td>UpMod</td>\n",
       "      <td>14</td>\n",
       "    </tr>\n",
       "    <tr>\n",
       "      <th>2</th>\n",
       "      <td>3</td>\n",
       "      <td>DownMod</td>\n",
       "      <td>13</td>\n",
       "    </tr>\n",
       "    <tr>\n",
       "      <th>3</th>\n",
       "      <td>4</td>\n",
       "      <td>Offensive</td>\n",
       "      <td>12</td>\n",
       "    </tr>\n",
       "    <tr>\n",
       "      <th>4</th>\n",
       "      <td>5</td>\n",
       "      <td>Favorite</td>\n",
       "      <td>11</td>\n",
       "    </tr>\n",
       "    <tr>\n",
       "      <th>5</th>\n",
       "      <td>6</td>\n",
       "      <td>Close</td>\n",
       "      <td>10</td>\n",
       "    </tr>\n",
       "    <tr>\n",
       "      <th>6</th>\n",
       "      <td>7</td>\n",
       "      <td>Reopen</td>\n",
       "      <td>9</td>\n",
       "    </tr>\n",
       "    <tr>\n",
       "      <th>7</th>\n",
       "      <td>8</td>\n",
       "      <td>BountyStart</td>\n",
       "      <td>8</td>\n",
       "    </tr>\n",
       "    <tr>\n",
       "      <th>8</th>\n",
       "      <td>9</td>\n",
       "      <td>BountyClose</td>\n",
       "      <td>7</td>\n",
       "    </tr>\n",
       "    <tr>\n",
       "      <th>9</th>\n",
       "      <td>10</td>\n",
       "      <td>Deletion</td>\n",
       "      <td>6</td>\n",
       "    </tr>\n",
       "    <tr>\n",
       "      <th>10</th>\n",
       "      <td>11</td>\n",
       "      <td>Undeletion</td>\n",
       "      <td>5</td>\n",
       "    </tr>\n",
       "    <tr>\n",
       "      <th>11</th>\n",
       "      <td>12</td>\n",
       "      <td>Spam</td>\n",
       "      <td>4</td>\n",
       "    </tr>\n",
       "    <tr>\n",
       "      <th>12</th>\n",
       "      <td>13</td>\n",
       "      <td>InformModerator</td>\n",
       "      <td>3</td>\n",
       "    </tr>\n",
       "    <tr>\n",
       "      <th>13</th>\n",
       "      <td>14</td>\n",
       "      <td>ModeratorReview</td>\n",
       "      <td>2</td>\n",
       "    </tr>\n",
       "    <tr>\n",
       "      <th>14</th>\n",
       "      <td>15</td>\n",
       "      <td>ApproveEditSuggestion</td>\n",
       "      <td>1</td>\n",
       "    </tr>\n",
       "  </tbody>\n",
       "</table>\n",
       "</div>"
      ],
      "text/plain": [
       "    id                   name  rank\n",
       "0    1   AcceptedByOriginator    15\n",
       "1    2                  UpMod    14\n",
       "2    3                DownMod    13\n",
       "3    4              Offensive    12\n",
       "4    5               Favorite    11\n",
       "5    6                  Close    10\n",
       "6    7                 Reopen     9\n",
       "7    8            BountyStart     8\n",
       "8    9            BountyClose     7\n",
       "9   10               Deletion     6\n",
       "10  11             Undeletion     5\n",
       "11  12                   Spam     4\n",
       "12  13        InformModerator     3\n",
       "13  14        ModeratorReview     2\n",
       "14  15  ApproveEditSuggestion     1"
      ]
     },
     "execution_count": 8,
     "metadata": {},
     "output_type": "execute_result"
    }
   ],
   "source": [
    "query = '''\n",
    "SELECT *, ROW_NUMBER() OVER (ORDER BY id DESC) AS rank\n",
    "FROM stackoverflow.vote_types\n",
    "ORDER BY id;\n",
    "'''\n",
    "\n",
    "table = pd.read_sql_query(query, con = engine) \n",
    "table"
   ]
  },
  {
   "cell_type": "markdown",
   "metadata": {},
   "source": [
    "### Задание 6\n",
    "Отберите 10 пользователей, которые поставили больше всего голосов типа Close. Отобразите таблицу из двух полей: идентификатором пользователя и количеством голосов. Отсортируйте данные сначала по убыванию количества голосов, потом по убыванию значения идентификатора пользователя."
   ]
  },
  {
   "cell_type": "code",
   "execution_count": 9,
   "metadata": {},
   "outputs": [
    {
     "data": {
      "text/html": [
       "<div>\n",
       "<style scoped>\n",
       "    .dataframe tbody tr th:only-of-type {\n",
       "        vertical-align: middle;\n",
       "    }\n",
       "\n",
       "    .dataframe tbody tr th {\n",
       "        vertical-align: top;\n",
       "    }\n",
       "\n",
       "    .dataframe thead th {\n",
       "        text-align: right;\n",
       "    }\n",
       "</style>\n",
       "<table border=\"1\" class=\"dataframe\">\n",
       "  <thead>\n",
       "    <tr style=\"text-align: right;\">\n",
       "      <th></th>\n",
       "      <th>user_id</th>\n",
       "      <th>count_vote_id</th>\n",
       "    </tr>\n",
       "  </thead>\n",
       "  <tbody>\n",
       "    <tr>\n",
       "      <th>0</th>\n",
       "      <td>20646</td>\n",
       "      <td>36</td>\n",
       "    </tr>\n",
       "    <tr>\n",
       "      <th>1</th>\n",
       "      <td>14728</td>\n",
       "      <td>36</td>\n",
       "    </tr>\n",
       "    <tr>\n",
       "      <th>2</th>\n",
       "      <td>27163</td>\n",
       "      <td>29</td>\n",
       "    </tr>\n",
       "    <tr>\n",
       "      <th>3</th>\n",
       "      <td>41158</td>\n",
       "      <td>24</td>\n",
       "    </tr>\n",
       "    <tr>\n",
       "      <th>4</th>\n",
       "      <td>24820</td>\n",
       "      <td>23</td>\n",
       "    </tr>\n",
       "    <tr>\n",
       "      <th>5</th>\n",
       "      <td>9345</td>\n",
       "      <td>23</td>\n",
       "    </tr>\n",
       "    <tr>\n",
       "      <th>6</th>\n",
       "      <td>3241</td>\n",
       "      <td>23</td>\n",
       "    </tr>\n",
       "    <tr>\n",
       "      <th>7</th>\n",
       "      <td>44330</td>\n",
       "      <td>20</td>\n",
       "    </tr>\n",
       "    <tr>\n",
       "      <th>8</th>\n",
       "      <td>38426</td>\n",
       "      <td>19</td>\n",
       "    </tr>\n",
       "    <tr>\n",
       "      <th>9</th>\n",
       "      <td>19074</td>\n",
       "      <td>19</td>\n",
       "    </tr>\n",
       "  </tbody>\n",
       "</table>\n",
       "</div>"
      ],
      "text/plain": [
       "   user_id  count_vote_id\n",
       "0    20646             36\n",
       "1    14728             36\n",
       "2    27163             29\n",
       "3    41158             24\n",
       "4    24820             23\n",
       "5     9345             23\n",
       "6     3241             23\n",
       "7    44330             20\n",
       "8    38426             19\n",
       "9    19074             19"
      ]
     },
     "execution_count": 9,
     "metadata": {},
     "output_type": "execute_result"
    }
   ],
   "source": [
    "query = '''\n",
    "WITH vote_users AS (\n",
    "SELECT DISTINCT u.id AS user_id, vt.NAME AS vote_name, v.id AS vote_id\n",
    "FROM stackoverflow.users u \n",
    "    JOIN stackoverflow.votes v ON u.id=v.user_id \n",
    "    JOIN stackoverflow.vote_types vt ON v.vote_type_id=vt.id\n",
    "GROUP BY u.id, vt.NAME, v.id)\n",
    "SELECT user_id, COUNT(vote_id) AS count_vote_id\n",
    "FROM vote_users\n",
    "WHERE vote_name = 'Close'\n",
    "GROUP BY user_id\n",
    "ORDER BY count_vote_id DESC, user_id DESC\n",
    "LIMIT 10;\n",
    "'''\n",
    "\n",
    "table = pd.read_sql_query(query, con = engine) \n",
    "table"
   ]
  },
  {
   "cell_type": "markdown",
   "metadata": {},
   "source": [
    "### Задание 7\n",
    "\n",
    "Отберите 10 пользователей по количеству значков, полученных в период с 15 ноября по 15 декабря 2008 года включительно. \n",
    "\n",
    "Отобразите несколько полей:\n",
    "- идентификатор пользователя;\n",
    "- число значков;\n",
    "- место в рейтинге — чем больше значков, тем выше рейтинг.\n",
    "\n",
    "Пользователям, которые набрали одинаковое количество значков, присвойте одно и то же место в рейтинге.\n",
    "Отсортируйте записи по количеству значков по убыванию, а затем по возрастанию значения идентификатора пользователя."
   ]
  },
  {
   "cell_type": "code",
   "execution_count": 10,
   "metadata": {},
   "outputs": [
    {
     "data": {
      "text/html": [
       "<div>\n",
       "<style scoped>\n",
       "    .dataframe tbody tr th:only-of-type {\n",
       "        vertical-align: middle;\n",
       "    }\n",
       "\n",
       "    .dataframe tbody tr th {\n",
       "        vertical-align: top;\n",
       "    }\n",
       "\n",
       "    .dataframe thead th {\n",
       "        text-align: right;\n",
       "    }\n",
       "</style>\n",
       "<table border=\"1\" class=\"dataframe\">\n",
       "  <thead>\n",
       "    <tr style=\"text-align: right;\">\n",
       "      <th></th>\n",
       "      <th>user_id</th>\n",
       "      <th>count_badges</th>\n",
       "      <th>rank</th>\n",
       "    </tr>\n",
       "  </thead>\n",
       "  <tbody>\n",
       "    <tr>\n",
       "      <th>0</th>\n",
       "      <td>22656</td>\n",
       "      <td>149</td>\n",
       "      <td>1</td>\n",
       "    </tr>\n",
       "    <tr>\n",
       "      <th>1</th>\n",
       "      <td>34509</td>\n",
       "      <td>45</td>\n",
       "      <td>2</td>\n",
       "    </tr>\n",
       "    <tr>\n",
       "      <th>2</th>\n",
       "      <td>1288</td>\n",
       "      <td>40</td>\n",
       "      <td>3</td>\n",
       "    </tr>\n",
       "    <tr>\n",
       "      <th>3</th>\n",
       "      <td>5190</td>\n",
       "      <td>31</td>\n",
       "      <td>4</td>\n",
       "    </tr>\n",
       "    <tr>\n",
       "      <th>4</th>\n",
       "      <td>13913</td>\n",
       "      <td>30</td>\n",
       "      <td>5</td>\n",
       "    </tr>\n",
       "    <tr>\n",
       "      <th>5</th>\n",
       "      <td>893</td>\n",
       "      <td>28</td>\n",
       "      <td>6</td>\n",
       "    </tr>\n",
       "    <tr>\n",
       "      <th>6</th>\n",
       "      <td>10661</td>\n",
       "      <td>28</td>\n",
       "      <td>6</td>\n",
       "    </tr>\n",
       "    <tr>\n",
       "      <th>7</th>\n",
       "      <td>33213</td>\n",
       "      <td>25</td>\n",
       "      <td>7</td>\n",
       "    </tr>\n",
       "    <tr>\n",
       "      <th>8</th>\n",
       "      <td>12950</td>\n",
       "      <td>23</td>\n",
       "      <td>8</td>\n",
       "    </tr>\n",
       "    <tr>\n",
       "      <th>9</th>\n",
       "      <td>25222</td>\n",
       "      <td>20</td>\n",
       "      <td>9</td>\n",
       "    </tr>\n",
       "  </tbody>\n",
       "</table>\n",
       "</div>"
      ],
      "text/plain": [
       "   user_id  count_badges  rank\n",
       "0    22656           149     1\n",
       "1    34509            45     2\n",
       "2     1288            40     3\n",
       "3     5190            31     4\n",
       "4    13913            30     5\n",
       "5      893            28     6\n",
       "6    10661            28     6\n",
       "7    33213            25     7\n",
       "8    12950            23     8\n",
       "9    25222            20     9"
      ]
     },
     "execution_count": 10,
     "metadata": {},
     "output_type": "execute_result"
    }
   ],
   "source": [
    "query = '''\n",
    "SELECT DISTINCT u.id AS user_id, \n",
    "    COUNT(DISTINCT b.id) AS count_badges,\n",
    "    DENSE_RANK() OVER (ORDER BY COUNT(b.id) DESC) AS rank\n",
    "FROM stackoverflow.users u LEFT JOIN stackoverflow.badges b ON u.id=b.user_id\n",
    "WHERE b.creation_date::date BETWEEN '2008-11-15' AND '2008-12-15'\n",
    "GROUP BY u.id\n",
    "ORDER BY count_badges DESC, user_id\n",
    "LIMIT 10;\n",
    "'''\n",
    "\n",
    "table = pd.read_sql_query(query, con = engine) \n",
    "table"
   ]
  },
  {
   "cell_type": "markdown",
   "metadata": {},
   "source": [
    "### Задание 8\n",
    "\n",
    "Сколько в среднем очков получает пост каждого пользователя?\n",
    "\n",
    "Сформируйте таблицу из следующих полей:\n",
    "- заголовок поста;\n",
    "- идентификатор пользователя;\n",
    "- число очков поста;\n",
    "- среднее число очков пользователя за пост, округлённое до целого числа.\n",
    "\n",
    "Не учитывайте посты без заголовка, а также те, что набрали ноль очков."
   ]
  },
  {
   "cell_type": "code",
   "execution_count": 11,
   "metadata": {},
   "outputs": [
    {
     "data": {
      "text/html": [
       "<div>\n",
       "<style scoped>\n",
       "    .dataframe tbody tr th:only-of-type {\n",
       "        vertical-align: middle;\n",
       "    }\n",
       "\n",
       "    .dataframe tbody tr th {\n",
       "        vertical-align: top;\n",
       "    }\n",
       "\n",
       "    .dataframe thead th {\n",
       "        text-align: right;\n",
       "    }\n",
       "</style>\n",
       "<table border=\"1\" class=\"dataframe\">\n",
       "  <thead>\n",
       "    <tr style=\"text-align: right;\">\n",
       "      <th></th>\n",
       "      <th>post_title</th>\n",
       "      <th>user_id</th>\n",
       "      <th>score</th>\n",
       "      <th>avg_score</th>\n",
       "    </tr>\n",
       "  </thead>\n",
       "  <tbody>\n",
       "    <tr>\n",
       "      <th>0</th>\n",
       "      <td>Calculate relative time in C#</td>\n",
       "      <td>1</td>\n",
       "      <td>1348</td>\n",
       "      <td>573.0</td>\n",
       "    </tr>\n",
       "    <tr>\n",
       "      <th>1</th>\n",
       "      <td>Diagnosing Deadlocks in SQL Server 2005</td>\n",
       "      <td>1</td>\n",
       "      <td>82</td>\n",
       "      <td>573.0</td>\n",
       "    </tr>\n",
       "    <tr>\n",
       "      <th>2</th>\n",
       "      <td>Escaping Bracket [ in a CONTAINS() clause?</td>\n",
       "      <td>1</td>\n",
       "      <td>10</td>\n",
       "      <td>573.0</td>\n",
       "    </tr>\n",
       "    <tr>\n",
       "      <th>3</th>\n",
       "      <td>How do I calculate someone's age in C#?</td>\n",
       "      <td>1</td>\n",
       "      <td>1743</td>\n",
       "      <td>573.0</td>\n",
       "    </tr>\n",
       "    <tr>\n",
       "      <th>4</th>\n",
       "      <td>Parameterize an SQL IN clause</td>\n",
       "      <td>1</td>\n",
       "      <td>953</td>\n",
       "      <td>573.0</td>\n",
       "    </tr>\n",
       "    <tr>\n",
       "      <th>...</th>\n",
       "      <td>...</td>\n",
       "      <td>...</td>\n",
       "      <td>...</td>\n",
       "      <td>...</td>\n",
       "    </tr>\n",
       "    <tr>\n",
       "      <th>47349</th>\n",
       "      <td>Multi-lingual projects in Visual Studio</td>\n",
       "      <td>3742716</td>\n",
       "      <td>1</td>\n",
       "      <td>1.0</td>\n",
       "    </tr>\n",
       "    <tr>\n",
       "      <th>47350</th>\n",
       "      <td>Change datatype when importing Excel file into...</td>\n",
       "      <td>3930756</td>\n",
       "      <td>5</td>\n",
       "      <td>5.0</td>\n",
       "    </tr>\n",
       "    <tr>\n",
       "      <th>47351</th>\n",
       "      <td>How to host a Silverlight app in a Sharepoint ...</td>\n",
       "      <td>4020932</td>\n",
       "      <td>8</td>\n",
       "      <td>8.0</td>\n",
       "    </tr>\n",
       "    <tr>\n",
       "      <th>47352</th>\n",
       "      <td>Getting counts for a paged SQL search stored p...</td>\n",
       "      <td>5696608</td>\n",
       "      <td>2</td>\n",
       "      <td>2.0</td>\n",
       "    </tr>\n",
       "    <tr>\n",
       "      <th>47353</th>\n",
       "      <td>Reuse of SQL stored procedures across applicat...</td>\n",
       "      <td>5696608</td>\n",
       "      <td>2</td>\n",
       "      <td>2.0</td>\n",
       "    </tr>\n",
       "  </tbody>\n",
       "</table>\n",
       "<p>47354 rows × 4 columns</p>\n",
       "</div>"
      ],
      "text/plain": [
       "                                              post_title  user_id  score  \\\n",
       "0                          Calculate relative time in C#        1   1348   \n",
       "1                Diagnosing Deadlocks in SQL Server 2005        1     82   \n",
       "2             Escaping Bracket [ in a CONTAINS() clause?        1     10   \n",
       "3                How do I calculate someone's age in C#?        1   1743   \n",
       "4                          Parameterize an SQL IN clause        1    953   \n",
       "...                                                  ...      ...    ...   \n",
       "47349            Multi-lingual projects in Visual Studio  3742716      1   \n",
       "47350  Change datatype when importing Excel file into...  3930756      5   \n",
       "47351  How to host a Silverlight app in a Sharepoint ...  4020932      8   \n",
       "47352  Getting counts for a paged SQL search stored p...  5696608      2   \n",
       "47353  Reuse of SQL stored procedures across applicat...  5696608      2   \n",
       "\n",
       "       avg_score  \n",
       "0          573.0  \n",
       "1          573.0  \n",
       "2          573.0  \n",
       "3          573.0  \n",
       "4          573.0  \n",
       "...          ...  \n",
       "47349        1.0  \n",
       "47350        5.0  \n",
       "47351        8.0  \n",
       "47352        2.0  \n",
       "47353        2.0  \n",
       "\n",
       "[47354 rows x 4 columns]"
      ]
     },
     "execution_count": 11,
     "metadata": {},
     "output_type": "execute_result"
    }
   ],
   "source": [
    "query = '''\n",
    "SELECT p.title AS post_title,\n",
    "        u.id AS user_id, \n",
    "        p.score, \n",
    "ROUND((AVG(score) OVER (PARTITION BY u.id)), 0) AS avg_score\n",
    "FROM stackoverflow.posts p JOIN stackoverflow.users u ON u.id=p.user_id\n",
    "WHERE p.score <> 0 AND p.title IS NOT NULL\n",
    "GROUP BY u.id, p.title, p.score;\n",
    "'''\n",
    "\n",
    "table = pd.read_sql_query(query, con = engine) \n",
    "table"
   ]
  },
  {
   "cell_type": "markdown",
   "metadata": {},
   "source": [
    "### Задание 9\n",
    "Отобразите заголовки постов, которые были написаны пользователями, получившими более 1000 значков. Посты без заголовков не должны попасть в список."
   ]
  },
  {
   "cell_type": "code",
   "execution_count": 12,
   "metadata": {},
   "outputs": [
    {
     "data": {
      "text/html": [
       "<div>\n",
       "<style scoped>\n",
       "    .dataframe tbody tr th:only-of-type {\n",
       "        vertical-align: middle;\n",
       "    }\n",
       "\n",
       "    .dataframe tbody tr th {\n",
       "        vertical-align: top;\n",
       "    }\n",
       "\n",
       "    .dataframe thead th {\n",
       "        text-align: right;\n",
       "    }\n",
       "</style>\n",
       "<table border=\"1\" class=\"dataframe\">\n",
       "  <thead>\n",
       "    <tr style=\"text-align: right;\">\n",
       "      <th></th>\n",
       "      <th>title</th>\n",
       "    </tr>\n",
       "  </thead>\n",
       "  <tbody>\n",
       "    <tr>\n",
       "      <th>0</th>\n",
       "      <td>What's the hardest or most misunderstood aspec...</td>\n",
       "    </tr>\n",
       "    <tr>\n",
       "      <th>1</th>\n",
       "      <td>What's the strangest corner case you've seen i...</td>\n",
       "    </tr>\n",
       "    <tr>\n",
       "      <th>2</th>\n",
       "      <td>Project management to go with GitHub</td>\n",
       "    </tr>\n",
       "    <tr>\n",
       "      <th>3</th>\n",
       "      <td>What are the correct version numbers for C#?</td>\n",
       "    </tr>\n",
       "  </tbody>\n",
       "</table>\n",
       "</div>"
      ],
      "text/plain": [
       "                                               title\n",
       "0  What's the hardest or most misunderstood aspec...\n",
       "1  What's the strangest corner case you've seen i...\n",
       "2               Project management to go with GitHub\n",
       "3       What are the correct version numbers for C#?"
      ]
     },
     "execution_count": 12,
     "metadata": {},
     "output_type": "execute_result"
    }
   ],
   "source": [
    "query = '''\n",
    "WITH users_score AS (\n",
    " \n",
    "    SELECT u.id AS user_id, COUNT(b.id) AS count_badges\n",
    "    FROM stackoverflow.users u JOIN stackoverflow.badges b ON u.id=b.user_id \n",
    "    \n",
    "    GROUP BY u.id\n",
    "    HAVING COUNT(b.id) >1000\n",
    ")\n",
    "SELECT DISTINCT p.title\n",
    "FROM users_score us JOIN stackoverflow.posts p ON p.user_id=us.user_id\n",
    "WHERE title IS NOT NULL;\n",
    "'''\n",
    "\n",
    "table = pd.read_sql_query(query, con = engine) \n",
    "table"
   ]
  },
  {
   "cell_type": "markdown",
   "metadata": {},
   "source": [
    "### Задание 10\n",
    "Напишите запрос, который выгрузит данные о пользователях из Канады (англ. Canada). Разделите пользователей на три группы в зависимости от количества просмотров их профилей:\n",
    "- пользователям с числом просмотров больше либо равным 350 присвойте группу 1;\n",
    "- пользователям с числом просмотров меньше 350, но больше либо равно 100 — группу 2;\n",
    "- пользователям с числом просмотров меньше 100 — группу 3.\n",
    "\n",
    "Отобразите в итоговой таблице идентификатор пользователя, количество просмотров профиля и группу. Пользователи с нулевым количеством просмотров не должны войти в итоговую таблицу."
   ]
  },
  {
   "cell_type": "code",
   "execution_count": 13,
   "metadata": {},
   "outputs": [
    {
     "data": {
      "text/html": [
       "<div>\n",
       "<style scoped>\n",
       "    .dataframe tbody tr th:only-of-type {\n",
       "        vertical-align: middle;\n",
       "    }\n",
       "\n",
       "    .dataframe tbody tr th {\n",
       "        vertical-align: top;\n",
       "    }\n",
       "\n",
       "    .dataframe thead th {\n",
       "        text-align: right;\n",
       "    }\n",
       "</style>\n",
       "<table border=\"1\" class=\"dataframe\">\n",
       "  <thead>\n",
       "    <tr style=\"text-align: right;\">\n",
       "      <th></th>\n",
       "      <th>user_id</th>\n",
       "      <th>views</th>\n",
       "      <th>case</th>\n",
       "    </tr>\n",
       "  </thead>\n",
       "  <tbody>\n",
       "    <tr>\n",
       "      <th>0</th>\n",
       "      <td>22</td>\n",
       "      <td>1079</td>\n",
       "      <td>1</td>\n",
       "    </tr>\n",
       "    <tr>\n",
       "      <th>1</th>\n",
       "      <td>34</td>\n",
       "      <td>1707</td>\n",
       "      <td>1</td>\n",
       "    </tr>\n",
       "    <tr>\n",
       "      <th>2</th>\n",
       "      <td>37</td>\n",
       "      <td>757</td>\n",
       "      <td>1</td>\n",
       "    </tr>\n",
       "    <tr>\n",
       "      <th>3</th>\n",
       "      <td>41</td>\n",
       "      <td>174</td>\n",
       "      <td>2</td>\n",
       "    </tr>\n",
       "    <tr>\n",
       "      <th>4</th>\n",
       "      <td>42</td>\n",
       "      <td>1063</td>\n",
       "      <td>1</td>\n",
       "    </tr>\n",
       "    <tr>\n",
       "      <th>...</th>\n",
       "      <td>...</td>\n",
       "      <td>...</td>\n",
       "      <td>...</td>\n",
       "    </tr>\n",
       "    <tr>\n",
       "      <th>832</th>\n",
       "      <td>431315</td>\n",
       "      <td>103</td>\n",
       "      <td>2</td>\n",
       "    </tr>\n",
       "    <tr>\n",
       "      <th>833</th>\n",
       "      <td>266220</td>\n",
       "      <td>13</td>\n",
       "      <td>3</td>\n",
       "    </tr>\n",
       "    <tr>\n",
       "      <th>834</th>\n",
       "      <td>474548</td>\n",
       "      <td>24</td>\n",
       "      <td>3</td>\n",
       "    </tr>\n",
       "    <tr>\n",
       "      <th>835</th>\n",
       "      <td>455635</td>\n",
       "      <td>17</td>\n",
       "      <td>3</td>\n",
       "    </tr>\n",
       "    <tr>\n",
       "      <th>836</th>\n",
       "      <td>476101</td>\n",
       "      <td>107</td>\n",
       "      <td>2</td>\n",
       "    </tr>\n",
       "  </tbody>\n",
       "</table>\n",
       "<p>837 rows × 3 columns</p>\n",
       "</div>"
      ],
      "text/plain": [
       "     user_id  views  case\n",
       "0         22   1079     1\n",
       "1         34   1707     1\n",
       "2         37    757     1\n",
       "3         41    174     2\n",
       "4         42   1063     1\n",
       "..       ...    ...   ...\n",
       "832   431315    103     2\n",
       "833   266220     13     3\n",
       "834   474548     24     3\n",
       "835   455635     17     3\n",
       "836   476101    107     2\n",
       "\n",
       "[837 rows x 3 columns]"
      ]
     },
     "execution_count": 13,
     "metadata": {},
     "output_type": "execute_result"
    }
   ],
   "source": [
    "query = '''\n",
    "SELECT id AS user_id, \n",
    "        views,\n",
    "        (CASE \n",
    "            WHEN views >= 350 THEN 1\n",
    "            WHEN views <350 AND views >=100 THEN 2\n",
    "            ELSE 3\n",
    "        END)\n",
    "FROM stackoverflow.users\n",
    "WHERE views <> 0 AND location LIKE '%%Canada%%';\n",
    "'''\n",
    "\n",
    "table = pd.read_sql_query(query, con = engine) \n",
    "table"
   ]
  },
  {
   "cell_type": "markdown",
   "metadata": {},
   "source": [
    "### Задание 11\n",
    "Дополните предыдущий запрос. Отобразите лидеров каждой группы — пользователей, которые набрали максимальное число просмотров в своей группе. Выведите поля с идентификатором пользователя, группой и количеством просмотров. Отсортируйте таблицу по убыванию просмотров, а затем по возрастанию значения идентификатора."
   ]
  },
  {
   "cell_type": "code",
   "execution_count": 14,
   "metadata": {},
   "outputs": [
    {
     "data": {
      "text/html": [
       "<div>\n",
       "<style scoped>\n",
       "    .dataframe tbody tr th:only-of-type {\n",
       "        vertical-align: middle;\n",
       "    }\n",
       "\n",
       "    .dataframe tbody tr th {\n",
       "        vertical-align: top;\n",
       "    }\n",
       "\n",
       "    .dataframe thead th {\n",
       "        text-align: right;\n",
       "    }\n",
       "</style>\n",
       "<table border=\"1\" class=\"dataframe\">\n",
       "  <thead>\n",
       "    <tr style=\"text-align: right;\">\n",
       "      <th></th>\n",
       "      <th>user_id</th>\n",
       "      <th>group_id</th>\n",
       "      <th>max_views</th>\n",
       "    </tr>\n",
       "  </thead>\n",
       "  <tbody>\n",
       "    <tr>\n",
       "      <th>0</th>\n",
       "      <td>3153</td>\n",
       "      <td>1</td>\n",
       "      <td>21991</td>\n",
       "    </tr>\n",
       "    <tr>\n",
       "      <th>1</th>\n",
       "      <td>46981</td>\n",
       "      <td>2</td>\n",
       "      <td>349</td>\n",
       "    </tr>\n",
       "    <tr>\n",
       "      <th>2</th>\n",
       "      <td>3444</td>\n",
       "      <td>3</td>\n",
       "      <td>99</td>\n",
       "    </tr>\n",
       "    <tr>\n",
       "      <th>3</th>\n",
       "      <td>22273</td>\n",
       "      <td>3</td>\n",
       "      <td>99</td>\n",
       "    </tr>\n",
       "    <tr>\n",
       "      <th>4</th>\n",
       "      <td>190298</td>\n",
       "      <td>3</td>\n",
       "      <td>99</td>\n",
       "    </tr>\n",
       "  </tbody>\n",
       "</table>\n",
       "</div>"
      ],
      "text/plain": [
       "   user_id  group_id  max_views\n",
       "0     3153         1      21991\n",
       "1    46981         2        349\n",
       "2     3444         3         99\n",
       "3    22273         3         99\n",
       "4   190298         3         99"
      ]
     },
     "execution_count": 14,
     "metadata": {},
     "output_type": "execute_result"
    }
   ],
   "source": [
    "query = '''\n",
    "WITH fir_table AS \n",
    " \n",
    "    (SELECT id AS user_id, views,\n",
    "        (CASE \n",
    "            WHEN views >= 350 THEN 1\n",
    "            WHEN views <350 AND views >=100 THEN 2\n",
    "            ELSE 3\n",
    "        END) AS group_id\n",
    "    FROM stackoverflow.users\n",
    "    WHERE views <> 0 AND LOCATION LIKE '%%Canada%%'),\n",
    " \n",
    "sec_table AS \n",
    " \n",
    "    (SELECT user_id, views, MAX(views) OVER (PARTITION BY group_id) AS max_views, group_id\n",
    "    FROM fir_table)\n",
    " \n",
    "SELECT s.user_id, s.group_id, s.max_views \n",
    "FROM sec_table AS s JOIN fir_table AS f ON s.user_id=f.user_id\n",
    "WHERE s.views=s.max_views\n",
    "ORDER BY max_views DESC, user_id;\n",
    "'''\n",
    "\n",
    "table = pd.read_sql_query(query, con = engine) \n",
    "table"
   ]
  },
  {
   "cell_type": "markdown",
   "metadata": {},
   "source": [
    "### Задание 12\n",
    "Посчитайте ежедневный прирост новых пользователей в ноябре 2008 года. Сформируйте таблицу с полями:\n",
    "- номер дня;\n",
    "- число пользователей, зарегистрированных в этот день;\n",
    "- сумму пользователей с накоплением."
   ]
  },
  {
   "cell_type": "code",
   "execution_count": 15,
   "metadata": {},
   "outputs": [
    {
     "data": {
      "text/html": [
       "<div>\n",
       "<style scoped>\n",
       "    .dataframe tbody tr th:only-of-type {\n",
       "        vertical-align: middle;\n",
       "    }\n",
       "\n",
       "    .dataframe tbody tr th {\n",
       "        vertical-align: top;\n",
       "    }\n",
       "\n",
       "    .dataframe thead th {\n",
       "        text-align: right;\n",
       "    }\n",
       "</style>\n",
       "<table border=\"1\" class=\"dataframe\">\n",
       "  <thead>\n",
       "    <tr style=\"text-align: right;\">\n",
       "      <th></th>\n",
       "      <th>day_number</th>\n",
       "      <th>user_count</th>\n",
       "      <th>sum_user_count</th>\n",
       "    </tr>\n",
       "  </thead>\n",
       "  <tbody>\n",
       "    <tr>\n",
       "      <th>0</th>\n",
       "      <td>1.0</td>\n",
       "      <td>34</td>\n",
       "      <td>34.0</td>\n",
       "    </tr>\n",
       "    <tr>\n",
       "      <th>1</th>\n",
       "      <td>2.0</td>\n",
       "      <td>48</td>\n",
       "      <td>82.0</td>\n",
       "    </tr>\n",
       "    <tr>\n",
       "      <th>2</th>\n",
       "      <td>3.0</td>\n",
       "      <td>75</td>\n",
       "      <td>157.0</td>\n",
       "    </tr>\n",
       "    <tr>\n",
       "      <th>3</th>\n",
       "      <td>4.0</td>\n",
       "      <td>192</td>\n",
       "      <td>349.0</td>\n",
       "    </tr>\n",
       "    <tr>\n",
       "      <th>4</th>\n",
       "      <td>5.0</td>\n",
       "      <td>122</td>\n",
       "      <td>471.0</td>\n",
       "    </tr>\n",
       "    <tr>\n",
       "      <th>5</th>\n",
       "      <td>6.0</td>\n",
       "      <td>132</td>\n",
       "      <td>603.0</td>\n",
       "    </tr>\n",
       "    <tr>\n",
       "      <th>6</th>\n",
       "      <td>7.0</td>\n",
       "      <td>104</td>\n",
       "      <td>707.0</td>\n",
       "    </tr>\n",
       "    <tr>\n",
       "      <th>7</th>\n",
       "      <td>8.0</td>\n",
       "      <td>42</td>\n",
       "      <td>749.0</td>\n",
       "    </tr>\n",
       "    <tr>\n",
       "      <th>8</th>\n",
       "      <td>9.0</td>\n",
       "      <td>45</td>\n",
       "      <td>794.0</td>\n",
       "    </tr>\n",
       "    <tr>\n",
       "      <th>9</th>\n",
       "      <td>10.0</td>\n",
       "      <td>93</td>\n",
       "      <td>887.0</td>\n",
       "    </tr>\n",
       "    <tr>\n",
       "      <th>10</th>\n",
       "      <td>11.0</td>\n",
       "      <td>113</td>\n",
       "      <td>1000.0</td>\n",
       "    </tr>\n",
       "    <tr>\n",
       "      <th>11</th>\n",
       "      <td>12.0</td>\n",
       "      <td>113</td>\n",
       "      <td>1113.0</td>\n",
       "    </tr>\n",
       "    <tr>\n",
       "      <th>12</th>\n",
       "      <td>13.0</td>\n",
       "      <td>96</td>\n",
       "      <td>1209.0</td>\n",
       "    </tr>\n",
       "    <tr>\n",
       "      <th>13</th>\n",
       "      <td>14.0</td>\n",
       "      <td>89</td>\n",
       "      <td>1298.0</td>\n",
       "    </tr>\n",
       "    <tr>\n",
       "      <th>14</th>\n",
       "      <td>15.0</td>\n",
       "      <td>42</td>\n",
       "      <td>1340.0</td>\n",
       "    </tr>\n",
       "    <tr>\n",
       "      <th>15</th>\n",
       "      <td>16.0</td>\n",
       "      <td>32</td>\n",
       "      <td>1372.0</td>\n",
       "    </tr>\n",
       "    <tr>\n",
       "      <th>16</th>\n",
       "      <td>17.0</td>\n",
       "      <td>84</td>\n",
       "      <td>1456.0</td>\n",
       "    </tr>\n",
       "    <tr>\n",
       "      <th>17</th>\n",
       "      <td>18.0</td>\n",
       "      <td>89</td>\n",
       "      <td>1545.0</td>\n",
       "    </tr>\n",
       "    <tr>\n",
       "      <th>18</th>\n",
       "      <td>19.0</td>\n",
       "      <td>107</td>\n",
       "      <td>1652.0</td>\n",
       "    </tr>\n",
       "    <tr>\n",
       "      <th>19</th>\n",
       "      <td>20.0</td>\n",
       "      <td>95</td>\n",
       "      <td>1747.0</td>\n",
       "    </tr>\n",
       "    <tr>\n",
       "      <th>20</th>\n",
       "      <td>21.0</td>\n",
       "      <td>81</td>\n",
       "      <td>1828.0</td>\n",
       "    </tr>\n",
       "    <tr>\n",
       "      <th>21</th>\n",
       "      <td>22.0</td>\n",
       "      <td>40</td>\n",
       "      <td>1868.0</td>\n",
       "    </tr>\n",
       "    <tr>\n",
       "      <th>22</th>\n",
       "      <td>23.0</td>\n",
       "      <td>50</td>\n",
       "      <td>1918.0</td>\n",
       "    </tr>\n",
       "    <tr>\n",
       "      <th>23</th>\n",
       "      <td>24.0</td>\n",
       "      <td>84</td>\n",
       "      <td>2002.0</td>\n",
       "    </tr>\n",
       "    <tr>\n",
       "      <th>24</th>\n",
       "      <td>25.0</td>\n",
       "      <td>104</td>\n",
       "      <td>2106.0</td>\n",
       "    </tr>\n",
       "    <tr>\n",
       "      <th>25</th>\n",
       "      <td>26.0</td>\n",
       "      <td>98</td>\n",
       "      <td>2204.0</td>\n",
       "    </tr>\n",
       "    <tr>\n",
       "      <th>26</th>\n",
       "      <td>27.0</td>\n",
       "      <td>71</td>\n",
       "      <td>2275.0</td>\n",
       "    </tr>\n",
       "    <tr>\n",
       "      <th>27</th>\n",
       "      <td>28.0</td>\n",
       "      <td>56</td>\n",
       "      <td>2331.0</td>\n",
       "    </tr>\n",
       "    <tr>\n",
       "      <th>28</th>\n",
       "      <td>29.0</td>\n",
       "      <td>44</td>\n",
       "      <td>2375.0</td>\n",
       "    </tr>\n",
       "    <tr>\n",
       "      <th>29</th>\n",
       "      <td>30.0</td>\n",
       "      <td>33</td>\n",
       "      <td>2408.0</td>\n",
       "    </tr>\n",
       "  </tbody>\n",
       "</table>\n",
       "</div>"
      ],
      "text/plain": [
       "    day_number  user_count  sum_user_count\n",
       "0          1.0          34            34.0\n",
       "1          2.0          48            82.0\n",
       "2          3.0          75           157.0\n",
       "3          4.0         192           349.0\n",
       "4          5.0         122           471.0\n",
       "5          6.0         132           603.0\n",
       "6          7.0         104           707.0\n",
       "7          8.0          42           749.0\n",
       "8          9.0          45           794.0\n",
       "9         10.0          93           887.0\n",
       "10        11.0         113          1000.0\n",
       "11        12.0         113          1113.0\n",
       "12        13.0          96          1209.0\n",
       "13        14.0          89          1298.0\n",
       "14        15.0          42          1340.0\n",
       "15        16.0          32          1372.0\n",
       "16        17.0          84          1456.0\n",
       "17        18.0          89          1545.0\n",
       "18        19.0         107          1652.0\n",
       "19        20.0          95          1747.0\n",
       "20        21.0          81          1828.0\n",
       "21        22.0          40          1868.0\n",
       "22        23.0          50          1918.0\n",
       "23        24.0          84          2002.0\n",
       "24        25.0         104          2106.0\n",
       "25        26.0          98          2204.0\n",
       "26        27.0          71          2275.0\n",
       "27        28.0          56          2331.0\n",
       "28        29.0          44          2375.0\n",
       "29        30.0          33          2408.0"
      ]
     },
     "execution_count": 15,
     "metadata": {},
     "output_type": "execute_result"
    }
   ],
   "source": [
    "query = '''\n",
    "WITH first_table AS \n",
    "    (SELECT DISTINCT EXTRACT(DAY FROM creation_date::DATE) AS day_number, \n",
    "     COUNT(id) OVER (PARTITION BY EXTRACT(DAY FROM creation_date::DATE)) AS user_count\n",
    "    FROM stackoverflow.users\n",
    "    WHERE creation_date::DATE BETWEEN '2008-11-01' AND '2008-11-30') \n",
    " \n",
    "SELECT *, SUM(user_count) OVER (ORDER BY day_number ) AS sum_user_count\n",
    "FROM first_table;\n",
    "'''\n",
    "\n",
    "table = pd.read_sql_query(query, con = engine) \n",
    "table"
   ]
  },
  {
   "cell_type": "markdown",
   "metadata": {},
   "source": [
    "### Задание 13\n",
    "Для каждого пользователя, который написал хотя бы один пост, найдите интервал между регистрацией и временем создания первого поста. Отобразите:\n",
    "- идентификатор пользователя;\n",
    "- разницу во времени между регистрацией и первым постом."
   ]
  },
  {
   "cell_type": "code",
   "execution_count": 16,
   "metadata": {},
   "outputs": [
    {
     "data": {
      "text/html": [
       "<div>\n",
       "<style scoped>\n",
       "    .dataframe tbody tr th:only-of-type {\n",
       "        vertical-align: middle;\n",
       "    }\n",
       "\n",
       "    .dataframe tbody tr th {\n",
       "        vertical-align: top;\n",
       "    }\n",
       "\n",
       "    .dataframe thead th {\n",
       "        text-align: right;\n",
       "    }\n",
       "</style>\n",
       "<table border=\"1\" class=\"dataframe\">\n",
       "  <thead>\n",
       "    <tr style=\"text-align: right;\">\n",
       "      <th></th>\n",
       "      <th>user_id</th>\n",
       "      <th>delta</th>\n",
       "    </tr>\n",
       "  </thead>\n",
       "  <tbody>\n",
       "    <tr>\n",
       "      <th>0</th>\n",
       "      <td>1</td>\n",
       "      <td>0 days 09:18:29</td>\n",
       "    </tr>\n",
       "    <tr>\n",
       "      <th>1</th>\n",
       "      <td>2</td>\n",
       "      <td>0 days 14:37:03</td>\n",
       "    </tr>\n",
       "    <tr>\n",
       "      <th>2</th>\n",
       "      <td>3</td>\n",
       "      <td>3 days 16:17:09</td>\n",
       "    </tr>\n",
       "    <tr>\n",
       "      <th>3</th>\n",
       "      <td>4</td>\n",
       "      <td>15 days 05:44:22</td>\n",
       "    </tr>\n",
       "    <tr>\n",
       "      <th>4</th>\n",
       "      <td>5</td>\n",
       "      <td>1 days 14:57:51</td>\n",
       "    </tr>\n",
       "    <tr>\n",
       "      <th>...</th>\n",
       "      <td>...</td>\n",
       "      <td>...</td>\n",
       "    </tr>\n",
       "    <tr>\n",
       "      <th>18844</th>\n",
       "      <td>3644960</td>\n",
       "      <td>0 days 00:00:00</td>\n",
       "    </tr>\n",
       "    <tr>\n",
       "      <th>18845</th>\n",
       "      <td>3742716</td>\n",
       "      <td>66 days 21:15:48</td>\n",
       "    </tr>\n",
       "    <tr>\n",
       "      <th>18846</th>\n",
       "      <td>3930756</td>\n",
       "      <td>8 days 02:11:55</td>\n",
       "    </tr>\n",
       "    <tr>\n",
       "      <th>18847</th>\n",
       "      <td>4020932</td>\n",
       "      <td>47 days 18:30:34</td>\n",
       "    </tr>\n",
       "    <tr>\n",
       "      <th>18848</th>\n",
       "      <td>5696608</td>\n",
       "      <td>0 days 00:24:59</td>\n",
       "    </tr>\n",
       "  </tbody>\n",
       "</table>\n",
       "<p>18849 rows × 2 columns</p>\n",
       "</div>"
      ],
      "text/plain": [
       "       user_id            delta\n",
       "0            1  0 days 09:18:29\n",
       "1            2  0 days 14:37:03\n",
       "2            3  3 days 16:17:09\n",
       "3            4 15 days 05:44:22\n",
       "4            5  1 days 14:57:51\n",
       "...        ...              ...\n",
       "18844  3644960  0 days 00:00:00\n",
       "18845  3742716 66 days 21:15:48\n",
       "18846  3930756  8 days 02:11:55\n",
       "18847  4020932 47 days 18:30:34\n",
       "18848  5696608  0 days 00:24:59\n",
       "\n",
       "[18849 rows x 2 columns]"
      ]
     },
     "execution_count": 16,
     "metadata": {},
     "output_type": "execute_result"
    }
   ],
   "source": [
    "query = '''\n",
    "WITH first_table as \n",
    "\n",
    "    (\n",
    "     SELECT u.id AS user_id, \n",
    "            u.creation_date AS user_date, \n",
    "            p.creation_date AS post_date, \n",
    "            ROW_NUMBER() OVER(PARTITION BY u.id ORDER BY p.creation_date) AS rn\n",
    "     FROM stackoverflow.users u JOIN stackoverflow.posts p ON u.id=p.user_id\n",
    "     \n",
    "    )\n",
    "\n",
    "SELECT user_id, \n",
    "       post_date - user_date AS delta\n",
    "FROM first_table\n",
    "WHERE rn =1;\n",
    "'''\n",
    "\n",
    "table = pd.read_sql_query(query, con = engine) \n",
    "table"
   ]
  },
  {
   "cell_type": "markdown",
   "metadata": {
    "id": "gnBMXkDBDWKm"
   },
   "source": [
    "### Задание 1"
   ]
  },
  {
   "cell_type": "markdown",
   "metadata": {
    "id": "vHsfOrrNDWKn"
   },
   "source": [
    "Выведите общую сумму просмотров постов за каждый месяц 2008 года. Если данных за какой-либо месяц в базе нет, такой месяц можно пропустить. Результат отсортируйте по убыванию общего количества просмотров."
   ]
  },
  {
   "cell_type": "code",
   "execution_count": 17,
   "metadata": {
    "id": "eWvykcXTDWKo"
   },
   "outputs": [
    {
     "data": {
      "text/html": [
       "<div>\n",
       "<style scoped>\n",
       "    .dataframe tbody tr th:only-of-type {\n",
       "        vertical-align: middle;\n",
       "    }\n",
       "\n",
       "    .dataframe tbody tr th {\n",
       "        vertical-align: top;\n",
       "    }\n",
       "\n",
       "    .dataframe thead th {\n",
       "        text-align: right;\n",
       "    }\n",
       "</style>\n",
       "<table border=\"1\" class=\"dataframe\">\n",
       "  <thead>\n",
       "    <tr style=\"text-align: right;\">\n",
       "      <th></th>\n",
       "      <th>month_date</th>\n",
       "      <th>total_views</th>\n",
       "    </tr>\n",
       "  </thead>\n",
       "  <tbody>\n",
       "    <tr>\n",
       "      <th>0</th>\n",
       "      <td>2008-09-01</td>\n",
       "      <td>452928568</td>\n",
       "    </tr>\n",
       "    <tr>\n",
       "      <th>1</th>\n",
       "      <td>2008-10-01</td>\n",
       "      <td>365400138</td>\n",
       "    </tr>\n",
       "    <tr>\n",
       "      <th>2</th>\n",
       "      <td>2008-11-01</td>\n",
       "      <td>221759651</td>\n",
       "    </tr>\n",
       "    <tr>\n",
       "      <th>3</th>\n",
       "      <td>2008-12-01</td>\n",
       "      <td>197792841</td>\n",
       "    </tr>\n",
       "    <tr>\n",
       "      <th>4</th>\n",
       "      <td>2008-08-01</td>\n",
       "      <td>131367083</td>\n",
       "    </tr>\n",
       "    <tr>\n",
       "      <th>5</th>\n",
       "      <td>2008-07-01</td>\n",
       "      <td>669895</td>\n",
       "    </tr>\n",
       "  </tbody>\n",
       "</table>\n",
       "</div>"
      ],
      "text/plain": [
       "   month_date  total_views\n",
       "0  2008-09-01    452928568\n",
       "1  2008-10-01    365400138\n",
       "2  2008-11-01    221759651\n",
       "3  2008-12-01    197792841\n",
       "4  2008-08-01    131367083\n",
       "5  2008-07-01       669895"
      ]
     },
     "execution_count": 17,
     "metadata": {},
     "output_type": "execute_result"
    }
   ],
   "source": [
    "query = '''\n",
    " SELECT DATE_TRUNC('month', creation_date)::date AS month_date,\n",
    "         SUM(views_count) AS total_views\n",
    "    FROM stackoverflow.posts\n",
    "   WHERE EXTRACT (YEAR FROM creation_date) = '2008'\n",
    "GROUP BY month_date\n",
    "ORDER BY total_views DESC;\n",
    "'''\n",
    "\n",
    "table_1 = pd.read_sql_query(query, con = engine) \n",
    "table_1"
   ]
  },
  {
   "cell_type": "markdown",
   "metadata": {
    "id": "I_ZvhOxkDWKp"
   },
   "source": [
    "Проанализируйте итоговую таблицу. Отличаются ли данные за разные месяцы? С чем могут быть связаны отличия?"
   ]
  },
  {
   "cell_type": "markdown",
   "metadata": {},
   "source": [
    "В сентябре 2008 года наблюдается резкий скачок количества просмотров, по сравнению с июлем и августом. Возможно это связано с началом учебного года, когда студенты начинают пользоваться сервисом или же началом какого-то нового интересного проекта. "
   ]
  },
  {
   "cell_type": "markdown",
   "metadata": {
    "id": "FziIXkn5DWKr"
   },
   "source": [
    "### Задание 2"
   ]
  },
  {
   "cell_type": "markdown",
   "metadata": {
    "id": "fTGESZvYDWKr"
   },
   "source": [
    "Выведите имена самых активных пользователей, которые в первый месяц после регистрации (включая день регистрации) дали больше 100 ответов. Вопросы, которые задавали пользователи, не учитывайте. Для каждого имени пользователя выведите количество уникальных значений `user_id`. Отсортируйте результат по полю с именами в лексикографическом порядке."
   ]
  },
  {
   "cell_type": "code",
   "execution_count": 18,
   "metadata": {
    "id": "fIO-y-YjDWKt"
   },
   "outputs": [
    {
     "data": {
      "text/html": [
       "<div>\n",
       "<style scoped>\n",
       "    .dataframe tbody tr th:only-of-type {\n",
       "        vertical-align: middle;\n",
       "    }\n",
       "\n",
       "    .dataframe tbody tr th {\n",
       "        vertical-align: top;\n",
       "    }\n",
       "\n",
       "    .dataframe thead th {\n",
       "        text-align: right;\n",
       "    }\n",
       "</style>\n",
       "<table border=\"1\" class=\"dataframe\">\n",
       "  <thead>\n",
       "    <tr style=\"text-align: right;\">\n",
       "      <th></th>\n",
       "      <th>display_name</th>\n",
       "      <th>count</th>\n",
       "    </tr>\n",
       "  </thead>\n",
       "  <tbody>\n",
       "    <tr>\n",
       "      <th>0</th>\n",
       "      <td>1800 INFORMATION</td>\n",
       "      <td>1</td>\n",
       "    </tr>\n",
       "    <tr>\n",
       "      <th>1</th>\n",
       "      <td>Adam Bellaire</td>\n",
       "      <td>1</td>\n",
       "    </tr>\n",
       "    <tr>\n",
       "      <th>2</th>\n",
       "      <td>Adam Davis</td>\n",
       "      <td>1</td>\n",
       "    </tr>\n",
       "    <tr>\n",
       "      <th>3</th>\n",
       "      <td>Adam Liss</td>\n",
       "      <td>1</td>\n",
       "    </tr>\n",
       "    <tr>\n",
       "      <th>4</th>\n",
       "      <td>Alan</td>\n",
       "      <td>8</td>\n",
       "    </tr>\n",
       "    <tr>\n",
       "      <th>...</th>\n",
       "      <td>...</td>\n",
       "      <td>...</td>\n",
       "    </tr>\n",
       "    <tr>\n",
       "      <th>74</th>\n",
       "      <td>lomaxx</td>\n",
       "      <td>1</td>\n",
       "    </tr>\n",
       "    <tr>\n",
       "      <th>75</th>\n",
       "      <td>mattlant</td>\n",
       "      <td>1</td>\n",
       "    </tr>\n",
       "    <tr>\n",
       "      <th>76</th>\n",
       "      <td>paxdiablo</td>\n",
       "      <td>1</td>\n",
       "    </tr>\n",
       "    <tr>\n",
       "      <th>77</th>\n",
       "      <td>tvanfosson</td>\n",
       "      <td>1</td>\n",
       "    </tr>\n",
       "    <tr>\n",
       "      <th>78</th>\n",
       "      <td>tzot</td>\n",
       "      <td>1</td>\n",
       "    </tr>\n",
       "  </tbody>\n",
       "</table>\n",
       "<p>79 rows × 2 columns</p>\n",
       "</div>"
      ],
      "text/plain": [
       "        display_name  count\n",
       "0   1800 INFORMATION      1\n",
       "1      Adam Bellaire      1\n",
       "2         Adam Davis      1\n",
       "3          Adam Liss      1\n",
       "4               Alan      8\n",
       "..               ...    ...\n",
       "74            lomaxx      1\n",
       "75          mattlant      1\n",
       "76         paxdiablo      1\n",
       "77        tvanfosson      1\n",
       "78              tzot      1\n",
       "\n",
       "[79 rows x 2 columns]"
      ]
     },
     "execution_count": 18,
     "metadata": {},
     "output_type": "execute_result"
    }
   ],
   "source": [
    "query = '''\n",
    "  SELECT u.display_name,\n",
    "         COUNT(DISTINCT p.user_id)\n",
    "    FROM stackoverflow.users u\n",
    "    JOIN stackoverflow.posts p ON u.id = p.user_id\n",
    "    JOIN stackoverflow.post_types pt ON p.post_type_id = pt.id\n",
    "   WHERE p.creation_date::date BETWEEN u.creation_date::date AND u.creation_date::date + INTERVAL '1 month' AND pt.type = 'Answer'\n",
    "GROUP BY u.display_name\n",
    "  HAVING COUNT(DISTINCT p.id) > 100 \n",
    "'''\n",
    "\n",
    "table_2 = pd.read_sql_query(query, con = engine) \n",
    "table_2\n"
   ]
  },
  {
   "cell_type": "markdown",
   "metadata": {
    "id": "I3Wr82TplKpI"
   },
   "source": [
    "Какие аномалии наблюдаются в данных? О чём они говорят?"
   ]
  },
  {
   "cell_type": "markdown",
   "metadata": {},
   "source": [
    "Выведены имена самых активных пользователей, которые в первый месяц после регистрации дали больше 100 ответов. Однако если взглянуть на полный список, то можно заметить, что каждому имени пользователя не обязательно соответствует только одно уникальное значений user_id. Скорее всего на данном сервисе иимя пользователя не обязательно должно быть уникальным. Если отсортировать полученный результат по количеству user_id можно увидеть, что на имя Matt и Chris зарегестрировано по 29 пользователей."
   ]
  },
  {
   "cell_type": "code",
   "execution_count": 19,
   "metadata": {},
   "outputs": [
    {
     "data": {
      "text/html": [
       "<div>\n",
       "<style scoped>\n",
       "    .dataframe tbody tr th:only-of-type {\n",
       "        vertical-align: middle;\n",
       "    }\n",
       "\n",
       "    .dataframe tbody tr th {\n",
       "        vertical-align: top;\n",
       "    }\n",
       "\n",
       "    .dataframe thead th {\n",
       "        text-align: right;\n",
       "    }\n",
       "</style>\n",
       "<table border=\"1\" class=\"dataframe\">\n",
       "  <thead>\n",
       "    <tr style=\"text-align: right;\">\n",
       "      <th></th>\n",
       "      <th>display_name</th>\n",
       "      <th>count</th>\n",
       "    </tr>\n",
       "  </thead>\n",
       "  <tbody>\n",
       "    <tr>\n",
       "      <th>45</th>\n",
       "      <td>Matt</td>\n",
       "      <td>29</td>\n",
       "    </tr>\n",
       "    <tr>\n",
       "      <th>10</th>\n",
       "      <td>Chris</td>\n",
       "      <td>29</td>\n",
       "    </tr>\n",
       "    <tr>\n",
       "      <th>14</th>\n",
       "      <td>Dan</td>\n",
       "      <td>21</td>\n",
       "    </tr>\n",
       "    <tr>\n",
       "      <th>64</th>\n",
       "      <td>Tom</td>\n",
       "      <td>19</td>\n",
       "    </tr>\n",
       "    <tr>\n",
       "      <th>41</th>\n",
       "      <td>Mark</td>\n",
       "      <td>17</td>\n",
       "    </tr>\n",
       "    <tr>\n",
       "      <th>...</th>\n",
       "      <td>...</td>\n",
       "      <td>...</td>\n",
       "    </tr>\n",
       "    <tr>\n",
       "      <th>38</th>\n",
       "      <td>Lasse Vågsæther Karlsen</td>\n",
       "      <td>1</td>\n",
       "    </tr>\n",
       "    <tr>\n",
       "      <th>1</th>\n",
       "      <td>Adam Bellaire</td>\n",
       "      <td>1</td>\n",
       "    </tr>\n",
       "    <tr>\n",
       "      <th>40</th>\n",
       "      <td>Marc Gravell</td>\n",
       "      <td>1</td>\n",
       "    </tr>\n",
       "    <tr>\n",
       "      <th>42</th>\n",
       "      <td>Mark Cidade</td>\n",
       "      <td>1</td>\n",
       "    </tr>\n",
       "    <tr>\n",
       "      <th>78</th>\n",
       "      <td>tzot</td>\n",
       "      <td>1</td>\n",
       "    </tr>\n",
       "  </tbody>\n",
       "</table>\n",
       "<p>79 rows × 2 columns</p>\n",
       "</div>"
      ],
      "text/plain": [
       "               display_name  count\n",
       "45                     Matt     29\n",
       "10                    Chris     29\n",
       "14                      Dan     21\n",
       "64                      Tom     19\n",
       "41                     Mark     17\n",
       "..                      ...    ...\n",
       "38  Lasse Vågsæther Karlsen      1\n",
       "1             Adam Bellaire      1\n",
       "40             Marc Gravell      1\n",
       "42              Mark Cidade      1\n",
       "78                     tzot      1\n",
       "\n",
       "[79 rows x 2 columns]"
      ]
     },
     "execution_count": 19,
     "metadata": {},
     "output_type": "execute_result"
    }
   ],
   "source": [
    "table_2.sort_values(by='count', ascending=False)"
   ]
  },
  {
   "cell_type": "markdown",
   "metadata": {
    "id": "JhM2xXj5DWKu"
   },
   "source": [
    "### Задание 3"
   ]
  },
  {
   "cell_type": "markdown",
   "metadata": {
    "id": "IS6xPqyyDWKu"
   },
   "source": [
    "Выведите количество постов за 2008 год по месяцам. Отберите посты от пользователей, которые зарегистрировались в сентябре 2008 года и сделали хотя бы один пост в декабре того же года. Отсортируйте таблицу по значению месяца по убыванию."
   ]
  },
  {
   "cell_type": "code",
   "execution_count": 20,
   "metadata": {
    "id": "kVu0FB8WDWKv"
   },
   "outputs": [
    {
     "data": {
      "text/html": [
       "<div>\n",
       "<style scoped>\n",
       "    .dataframe tbody tr th:only-of-type {\n",
       "        vertical-align: middle;\n",
       "    }\n",
       "\n",
       "    .dataframe tbody tr th {\n",
       "        vertical-align: top;\n",
       "    }\n",
       "\n",
       "    .dataframe thead th {\n",
       "        text-align: right;\n",
       "    }\n",
       "</style>\n",
       "<table border=\"1\" class=\"dataframe\">\n",
       "  <thead>\n",
       "    <tr style=\"text-align: right;\">\n",
       "      <th></th>\n",
       "      <th>month</th>\n",
       "      <th>count</th>\n",
       "    </tr>\n",
       "  </thead>\n",
       "  <tbody>\n",
       "    <tr>\n",
       "      <th>0</th>\n",
       "      <td>2008-12-01</td>\n",
       "      <td>17641</td>\n",
       "    </tr>\n",
       "    <tr>\n",
       "      <th>1</th>\n",
       "      <td>2008-11-01</td>\n",
       "      <td>18294</td>\n",
       "    </tr>\n",
       "    <tr>\n",
       "      <th>2</th>\n",
       "      <td>2008-10-01</td>\n",
       "      <td>27171</td>\n",
       "    </tr>\n",
       "    <tr>\n",
       "      <th>3</th>\n",
       "      <td>2008-09-01</td>\n",
       "      <td>24870</td>\n",
       "    </tr>\n",
       "    <tr>\n",
       "      <th>4</th>\n",
       "      <td>2008-08-01</td>\n",
       "      <td>32</td>\n",
       "    </tr>\n",
       "  </tbody>\n",
       "</table>\n",
       "</div>"
      ],
      "text/plain": [
       "        month  count\n",
       "0  2008-12-01  17641\n",
       "1  2008-11-01  18294\n",
       "2  2008-10-01  27171\n",
       "3  2008-09-01  24870\n",
       "4  2008-08-01     32"
      ]
     },
     "execution_count": 20,
     "metadata": {},
     "output_type": "execute_result"
    }
   ],
   "source": [
    "query = '''\n",
    "  SELECT DATE_TRUNC('month', p.creation_date) :: date AS month,\n",
    "         COUNT (DISTINCT id)\n",
    "    FROM stackoverflow.posts AS p \n",
    "   WHERE user_id IN (\n",
    "                  SELECT DISTINCT u.id\n",
    "                    FROM stackoverflow.users AS u\n",
    "                    JOIN stackoverflow.posts AS p\n",
    "                      ON p.user_id = u.id\n",
    "                   WHERE u.creation_date :: date BETWEEN '2008-09-01' AND '2008-09-30'\n",
    "                     AND p.creation_date :: date BETWEEN '2008-12-01' AND '2008-12-31'\n",
    "                    )\n",
    "     AND p.creation_date :: date BETWEEN '2008-01-01' AND '2008-12-31'\n",
    "GROUP BY month\n",
    "ORDER BY month DESC\n",
    "\n",
    "'''\n",
    "\n",
    "table_3 = pd.read_sql_query(query, con = engine) \n",
    "table_3 "
   ]
  },
  {
   "cell_type": "markdown",
   "metadata": {
    "id": "Vnxn9DVHDWKx"
   },
   "source": [
    "Изучите данные: есть ли в них аномалии? Предположите, почему могли появиться аномальные значения."
   ]
  },
  {
   "cell_type": "markdown",
   "metadata": {},
   "source": [
    "В августе 2008 года имеется 32 поста, которые создали пользователи, зарегестрировавшиеся в сентябре 2008 года, что по логике вещей, они не могли сделать, так как еще не были зарегестрированы. Странная аномалия, которая могла возникнуть может быть из-за разницы часовых поясов, например, кто-то опубликовал пост из другого часового пояса, где уже был сентябрь, а в системе сервиса еще был август. "
   ]
  },
  {
   "cell_type": "markdown",
   "metadata": {
    "id": "5Pcizm0DDWKz"
   },
   "source": [
    "### Задание 4"
   ]
  },
  {
   "cell_type": "markdown",
   "metadata": {
    "id": "KUZPF6vHDWKz"
   },
   "source": [
    "Используя данные о постах, выведите несколько полей:\n",
    "\n",
    "- идентификатор пользователя, который написал пост;\n",
    "- дата создания поста;\n",
    "- количество просмотров у текущего поста;\n",
    "- сумму просмотров постов автора с накоплением.\n",
    "\n",
    "Данные в таблице должны быть отсортированы по возрастанию идентификаторов пользователей, а данные об одном и том же пользователе — по возрастанию даты создания поста."
   ]
  },
  {
   "cell_type": "code",
   "execution_count": 21,
   "metadata": {
    "id": "hDoJhMzfDWK0"
   },
   "outputs": [
    {
     "data": {
      "text/html": [
       "<div>\n",
       "<style scoped>\n",
       "    .dataframe tbody tr th:only-of-type {\n",
       "        vertical-align: middle;\n",
       "    }\n",
       "\n",
       "    .dataframe tbody tr th {\n",
       "        vertical-align: top;\n",
       "    }\n",
       "\n",
       "    .dataframe thead th {\n",
       "        text-align: right;\n",
       "    }\n",
       "</style>\n",
       "<table border=\"1\" class=\"dataframe\">\n",
       "  <thead>\n",
       "    <tr style=\"text-align: right;\">\n",
       "      <th></th>\n",
       "      <th>user_id</th>\n",
       "      <th>creation_date</th>\n",
       "      <th>views_count</th>\n",
       "      <th>cumulative_count</th>\n",
       "    </tr>\n",
       "  </thead>\n",
       "  <tbody>\n",
       "    <tr>\n",
       "      <th>0</th>\n",
       "      <td>1</td>\n",
       "      <td>2008-07-31 23:41:00</td>\n",
       "      <td>480476</td>\n",
       "      <td>480476</td>\n",
       "    </tr>\n",
       "    <tr>\n",
       "      <th>1</th>\n",
       "      <td>1</td>\n",
       "      <td>2008-07-31 23:55:38</td>\n",
       "      <td>136033</td>\n",
       "      <td>616509</td>\n",
       "    </tr>\n",
       "    <tr>\n",
       "      <th>2</th>\n",
       "      <td>1</td>\n",
       "      <td>2008-07-31 23:56:41</td>\n",
       "      <td>0</td>\n",
       "      <td>616509</td>\n",
       "    </tr>\n",
       "    <tr>\n",
       "      <th>3</th>\n",
       "      <td>1</td>\n",
       "      <td>2008-08-04 02:45:08</td>\n",
       "      <td>0</td>\n",
       "      <td>616509</td>\n",
       "    </tr>\n",
       "    <tr>\n",
       "      <th>4</th>\n",
       "      <td>1</td>\n",
       "      <td>2008-08-04 04:31:03</td>\n",
       "      <td>0</td>\n",
       "      <td>616509</td>\n",
       "    </tr>\n",
       "    <tr>\n",
       "      <th>...</th>\n",
       "      <td>...</td>\n",
       "      <td>...</td>\n",
       "      <td>...</td>\n",
       "      <td>...</td>\n",
       "    </tr>\n",
       "    <tr>\n",
       "      <th>243791</th>\n",
       "      <td>5696608</td>\n",
       "      <td>2008-12-23 16:00:37</td>\n",
       "      <td>0</td>\n",
       "      <td>2804</td>\n",
       "    </tr>\n",
       "    <tr>\n",
       "      <th>243792</th>\n",
       "      <td>5696608</td>\n",
       "      <td>2008-12-23 17:35:09</td>\n",
       "      <td>0</td>\n",
       "      <td>2804</td>\n",
       "    </tr>\n",
       "    <tr>\n",
       "      <th>243793</th>\n",
       "      <td>5696608</td>\n",
       "      <td>2008-12-24 01:02:48</td>\n",
       "      <td>0</td>\n",
       "      <td>2804</td>\n",
       "    </tr>\n",
       "    <tr>\n",
       "      <th>243794</th>\n",
       "      <td>5696608</td>\n",
       "      <td>2008-12-30 14:34:45</td>\n",
       "      <td>0</td>\n",
       "      <td>2804</td>\n",
       "    </tr>\n",
       "    <tr>\n",
       "      <th>243795</th>\n",
       "      <td>5696608</td>\n",
       "      <td>2008-12-30 16:32:12</td>\n",
       "      <td>0</td>\n",
       "      <td>2804</td>\n",
       "    </tr>\n",
       "  </tbody>\n",
       "</table>\n",
       "<p>243796 rows × 4 columns</p>\n",
       "</div>"
      ],
      "text/plain": [
       "        user_id       creation_date  views_count  cumulative_count\n",
       "0             1 2008-07-31 23:41:00       480476            480476\n",
       "1             1 2008-07-31 23:55:38       136033            616509\n",
       "2             1 2008-07-31 23:56:41            0            616509\n",
       "3             1 2008-08-04 02:45:08            0            616509\n",
       "4             1 2008-08-04 04:31:03            0            616509\n",
       "...         ...                 ...          ...               ...\n",
       "243791  5696608 2008-12-23 16:00:37            0              2804\n",
       "243792  5696608 2008-12-23 17:35:09            0              2804\n",
       "243793  5696608 2008-12-24 01:02:48            0              2804\n",
       "243794  5696608 2008-12-30 14:34:45            0              2804\n",
       "243795  5696608 2008-12-30 16:32:12            0              2804\n",
       "\n",
       "[243796 rows x 4 columns]"
      ]
     },
     "execution_count": 21,
     "metadata": {},
     "output_type": "execute_result"
    }
   ],
   "source": [
    "query = '''\n",
    "  SELECT user_id,\n",
    "         creation_date,\n",
    "         views_count,\n",
    "         SUM(views_count) OVER (PARTITION BY user_id ORDER BY creation_date) AS cumulative_count\n",
    "    FROM stackoverflow.posts \n",
    "ORDER BY user_id, \n",
    "         creation_date;\n",
    "'''\n",
    "\n",
    "table_4 = pd.read_sql_query(query, con = engine) \n",
    "table_4 "
   ]
  },
  {
   "cell_type": "markdown",
   "metadata": {
    "id": "toidOivXDWK1"
   },
   "source": [
    "<details>\n",
    "\n",
    "<summary>Подсказка</summary>\n",
    "Для подсчёта суммы с накоплением используйте оконную функцию.\n",
    "</details>"
   ]
  },
  {
   "cell_type": "markdown",
   "metadata": {
    "id": "N0kHRHvIDWK2"
   },
   "source": [
    "### Задание 5"
   ]
  },
  {
   "cell_type": "markdown",
   "metadata": {
    "id": "gBgvmPtODWK2"
   },
   "source": [
    "Найдите среднее количество постов пользователей в день за август 2008 года. Отберите данные о пользователях, которые опубликовали больше 120 постов за август. Дни без публикаций не учитывайте. \n",
    "\n",
    "Отсортируйте результат по возрастанию среднего количества постов. Значения можно не округлять."
   ]
  },
  {
   "cell_type": "code",
   "execution_count": 22,
   "metadata": {
    "id": "YFyPNz5GDWK3"
   },
   "outputs": [
    {
     "data": {
      "text/html": [
       "<div>\n",
       "<style scoped>\n",
       "    .dataframe tbody tr th:only-of-type {\n",
       "        vertical-align: middle;\n",
       "    }\n",
       "\n",
       "    .dataframe tbody tr th {\n",
       "        vertical-align: top;\n",
       "    }\n",
       "\n",
       "    .dataframe thead th {\n",
       "        text-align: right;\n",
       "    }\n",
       "</style>\n",
       "<table border=\"1\" class=\"dataframe\">\n",
       "  <thead>\n",
       "    <tr style=\"text-align: right;\">\n",
       "      <th></th>\n",
       "      <th>user_id</th>\n",
       "      <th>avg_daily</th>\n",
       "    </tr>\n",
       "  </thead>\n",
       "  <tbody>\n",
       "    <tr>\n",
       "      <th>0</th>\n",
       "      <td>116</td>\n",
       "      <td>4.777778</td>\n",
       "    </tr>\n",
       "    <tr>\n",
       "      <th>1</th>\n",
       "      <td>234</td>\n",
       "      <td>5.208333</td>\n",
       "    </tr>\n",
       "    <tr>\n",
       "      <th>2</th>\n",
       "      <td>91</td>\n",
       "      <td>5.681818</td>\n",
       "    </tr>\n",
       "    <tr>\n",
       "      <th>3</th>\n",
       "      <td>905</td>\n",
       "      <td>7.000000</td>\n",
       "    </tr>\n",
       "    <tr>\n",
       "      <th>4</th>\n",
       "      <td>383</td>\n",
       "      <td>7.277778</td>\n",
       "    </tr>\n",
       "  </tbody>\n",
       "</table>\n",
       "</div>"
      ],
      "text/plain": [
       "   user_id  avg_daily\n",
       "0      116   4.777778\n",
       "1      234   5.208333\n",
       "2       91   5.681818\n",
       "3      905   7.000000\n",
       "4      383   7.277778"
      ]
     },
     "execution_count": 22,
     "metadata": {},
     "output_type": "execute_result"
    }
   ],
   "source": [
    "query = '''\n",
    "WITH df AS\n",
    "    (SELECT user_id,\n",
    "            DATE_TRUNC('day', creation_date::DATE) AS dt,\n",
    "            COUNT(id) AS posts_count\n",
    "     FROM stackoverflow.posts\n",
    "     WHERE user_id IN (SELECT user_id\n",
    "                       FROM stackoverflow.posts\n",
    "                       WHERE creation_date >= '2008-08-01'\n",
    "                         AND creation_date <= '2008-08-31'\n",
    "                       GROUP BY 1\n",
    "                       HAVING COUNT(user_id) > 120)\n",
    "     GROUP BY 1, 2)\n",
    "SELECT user_id,\n",
    "       AVG(posts_count) AS avg_daily\n",
    "FROM df\n",
    "WHERE dt >= '2008-08-01'\n",
    "AND dt <= '2008-08-31'\n",
    "GROUP BY 1\n",
    "ORDER BY 2\n",
    "'''\n",
    "\n",
    "table_5 = pd.read_sql_query(query, con = engine) \n",
    "table_5 "
   ]
  },
  {
   "cell_type": "markdown",
   "metadata": {
    "id": "EQ0dcFH4DWK5"
   },
   "source": [
    "### Задание 6"
   ]
  },
  {
   "cell_type": "markdown",
   "metadata": {
    "id": "c7flfg_hDWK5"
   },
   "source": [
    "Сколько в среднем дней в период с 1 по 7 декабря 2008 года пользователи взаимодействовали с платформой? Для каждого пользователя отберите дни, в которые он или она опубликовали хотя бы один пост. Нужно получить одно целое число — не забудьте округлить результат. "
   ]
  },
  {
   "cell_type": "code",
   "execution_count": 23,
   "metadata": {
    "id": "kZ7LXTr6DWK6"
   },
   "outputs": [
    {
     "data": {
      "text/html": [
       "<div>\n",
       "<style scoped>\n",
       "    .dataframe tbody tr th:only-of-type {\n",
       "        vertical-align: middle;\n",
       "    }\n",
       "\n",
       "    .dataframe tbody tr th {\n",
       "        vertical-align: top;\n",
       "    }\n",
       "\n",
       "    .dataframe thead th {\n",
       "        text-align: right;\n",
       "    }\n",
       "</style>\n",
       "<table border=\"1\" class=\"dataframe\">\n",
       "  <thead>\n",
       "    <tr style=\"text-align: right;\">\n",
       "      <th></th>\n",
       "      <th>round</th>\n",
       "    </tr>\n",
       "  </thead>\n",
       "  <tbody>\n",
       "    <tr>\n",
       "      <th>0</th>\n",
       "      <td>2.0</td>\n",
       "    </tr>\n",
       "  </tbody>\n",
       "</table>\n",
       "</div>"
      ],
      "text/plain": [
       "   round\n",
       "0    2.0"
      ]
     },
     "execution_count": 23,
     "metadata": {},
     "output_type": "execute_result"
    }
   ],
   "source": [
    "query = '''\n",
    "SELECT ROUND(AVG (active_days))\n",
    "FROM (\n",
    "      SELECT user_id,\n",
    "             COUNT(DISTINCT creation_date :: date) AS active_days\n",
    "        FROM stackoverflow.posts \n",
    "       WHERE creation_date :: date BETWEEN '2008-12-01' AND '2008-12-07'\n",
    "    GROUP BY user_id \n",
    "    ) AS cnt;\n",
    "'''\n",
    "\n",
    "table_6 = pd.read_sql_query(query, con = engine) \n",
    "table_6 "
   ]
  },
  {
   "cell_type": "markdown",
   "metadata": {
    "id": "UJFtNNggDWK7"
   },
   "source": [
    "Проанализируйте итоговую таблицу — какие выводы можно сделать?"
   ]
  },
  {
   "cell_type": "markdown",
   "metadata": {},
   "source": [
    "В среднем пользователи взаимодествовали с платформой 2 дня в период с 1 по 7 декабря, в течение которых эти пользователи опубликовали хотя бы один пост. То есть можно сделать вывод, что активные пользователи (которые хотя бы один пост за неделю выкладывают) взаимодействуют с платформой в среднем 2 дня из 7."
   ]
  },
  {
   "cell_type": "markdown",
   "metadata": {
    "id": "wfOmqmfLDWK8"
   },
   "source": [
    "### Задание 7"
   ]
  },
  {
   "cell_type": "markdown",
   "metadata": {
    "id": "X4ARQimADWK9"
   },
   "source": [
    "Выведите историю активности каждого пользователя в таком виде: идентификатор пользователя, дата публикации поста. Отсортируйте вывод по возрастанию идентификаторов пользователей, а для каждого пользователя — по возрастанию даты публикации.\n",
    "\n",
    "Добавьте в таблицу новое поле: для каждого поста в нём будет указано название месяца предпоследней публикации пользователя относительно текущей. Если такой публикации нет, укажите `NULL`.  Python автоматически поменяет `NULL` на `None`, но дополнительно преобразовывать значения `None` вам не нужно.\n",
    "\n",
    "Посмотрите внимательно на образец таблицы: для первых двух постов предпоследней публикации нет, но, начиная с третьего поста, в новое поле входит нужный месяц. Для следующего пользователя в первые две записи поля `second_last_month` тоже войдёт `NULL`."
   ]
  },
  {
   "cell_type": "code",
   "execution_count": 24,
   "metadata": {
    "id": "HzI1vhaMDWK-"
   },
   "outputs": [
    {
     "data": {
      "text/html": [
       "<div>\n",
       "<style scoped>\n",
       "    .dataframe tbody tr th:only-of-type {\n",
       "        vertical-align: middle;\n",
       "    }\n",
       "\n",
       "    .dataframe tbody tr th {\n",
       "        vertical-align: top;\n",
       "    }\n",
       "\n",
       "    .dataframe thead th {\n",
       "        text-align: right;\n",
       "    }\n",
       "</style>\n",
       "<table border=\"1\" class=\"dataframe\">\n",
       "  <thead>\n",
       "    <tr style=\"text-align: right;\">\n",
       "      <th></th>\n",
       "      <th>user_id</th>\n",
       "      <th>creation_date</th>\n",
       "      <th>second_last_month</th>\n",
       "    </tr>\n",
       "  </thead>\n",
       "  <tbody>\n",
       "    <tr>\n",
       "      <th>0</th>\n",
       "      <td>1</td>\n",
       "      <td>2008-07-31 23:41:00</td>\n",
       "      <td>None</td>\n",
       "    </tr>\n",
       "    <tr>\n",
       "      <th>1</th>\n",
       "      <td>1</td>\n",
       "      <td>2008-07-31 23:55:38</td>\n",
       "      <td>None</td>\n",
       "    </tr>\n",
       "    <tr>\n",
       "      <th>2</th>\n",
       "      <td>1</td>\n",
       "      <td>2008-07-31 23:56:41</td>\n",
       "      <td>July</td>\n",
       "    </tr>\n",
       "    <tr>\n",
       "      <th>3</th>\n",
       "      <td>1</td>\n",
       "      <td>2008-08-04 02:45:08</td>\n",
       "      <td>July</td>\n",
       "    </tr>\n",
       "    <tr>\n",
       "      <th>4</th>\n",
       "      <td>1</td>\n",
       "      <td>2008-08-04 04:31:03</td>\n",
       "      <td>July</td>\n",
       "    </tr>\n",
       "    <tr>\n",
       "      <th>...</th>\n",
       "      <td>...</td>\n",
       "      <td>...</td>\n",
       "      <td>...</td>\n",
       "    </tr>\n",
       "    <tr>\n",
       "      <th>243791</th>\n",
       "      <td>5696608</td>\n",
       "      <td>2008-12-23 16:00:37</td>\n",
       "      <td>December</td>\n",
       "    </tr>\n",
       "    <tr>\n",
       "      <th>243792</th>\n",
       "      <td>5696608</td>\n",
       "      <td>2008-12-23 17:35:09</td>\n",
       "      <td>December</td>\n",
       "    </tr>\n",
       "    <tr>\n",
       "      <th>243793</th>\n",
       "      <td>5696608</td>\n",
       "      <td>2008-12-24 01:02:48</td>\n",
       "      <td>December</td>\n",
       "    </tr>\n",
       "    <tr>\n",
       "      <th>243794</th>\n",
       "      <td>5696608</td>\n",
       "      <td>2008-12-30 14:34:45</td>\n",
       "      <td>December</td>\n",
       "    </tr>\n",
       "    <tr>\n",
       "      <th>243795</th>\n",
       "      <td>5696608</td>\n",
       "      <td>2008-12-30 16:32:12</td>\n",
       "      <td>December</td>\n",
       "    </tr>\n",
       "  </tbody>\n",
       "</table>\n",
       "<p>243796 rows × 3 columns</p>\n",
       "</div>"
      ],
      "text/plain": [
       "        user_id       creation_date second_last_month\n",
       "0             1 2008-07-31 23:41:00              None\n",
       "1             1 2008-07-31 23:55:38              None\n",
       "2             1 2008-07-31 23:56:41         July     \n",
       "3             1 2008-08-04 02:45:08         July     \n",
       "4             1 2008-08-04 04:31:03         July     \n",
       "...         ...                 ...               ...\n",
       "243791  5696608 2008-12-23 16:00:37         December \n",
       "243792  5696608 2008-12-23 17:35:09         December \n",
       "243793  5696608 2008-12-24 01:02:48         December \n",
       "243794  5696608 2008-12-30 14:34:45         December \n",
       "243795  5696608 2008-12-30 16:32:12         December \n",
       "\n",
       "[243796 rows x 3 columns]"
      ]
     },
     "execution_count": 24,
     "metadata": {},
     "output_type": "execute_result"
    }
   ],
   "source": [
    "query = '''\n",
    "SELECT user_id,\n",
    "       creation_date,\n",
    "       TO_CHAR (DATE_TRUNC('month', LAG(creation_date, 2, NULL) OVER (PARTITION BY user_id ORDER BY creation_date)), 'Month') second_last_month\n",
    "FROM stackoverflow.posts\n",
    "ORDER BY user_id, creation_date\n",
    "\n",
    "'''\n",
    "\n",
    "table_7 = pd.read_sql_query(query, con = engine) \n",
    "table_7 "
   ]
  },
  {
   "cell_type": "markdown",
   "metadata": {
    "id": "tf9qq2yzDWK_"
   },
   "source": [
    "### Задание 8"
   ]
  },
  {
   "cell_type": "markdown",
   "metadata": {
    "id": "gfwLVXBYDWLA"
   },
   "source": [
    "Рассчитайте аналог Retention Rate по месяцам для пользователей StackOverflow. Объедините пользователей в когорты по месяцу их первого поста. Возвращение определяйте по наличию поста в текущем месяце. "
   ]
  },
  {
   "cell_type": "code",
   "execution_count": 25,
   "metadata": {
    "id": "LUgFmwmTDWLB"
   },
   "outputs": [
    {
     "data": {
      "text/html": [
       "<div>\n",
       "<style scoped>\n",
       "    .dataframe tbody tr th:only-of-type {\n",
       "        vertical-align: middle;\n",
       "    }\n",
       "\n",
       "    .dataframe tbody tr th {\n",
       "        vertical-align: top;\n",
       "    }\n",
       "\n",
       "    .dataframe thead th {\n",
       "        text-align: right;\n",
       "    }\n",
       "</style>\n",
       "<table border=\"1\" class=\"dataframe\">\n",
       "  <thead>\n",
       "    <tr style=\"text-align: right;\">\n",
       "      <th></th>\n",
       "      <th>cohort_dt</th>\n",
       "      <th>session_dt</th>\n",
       "      <th>users_cnt</th>\n",
       "      <th>cohort_users_cnt</th>\n",
       "      <th>retention_rate</th>\n",
       "    </tr>\n",
       "  </thead>\n",
       "  <tbody>\n",
       "    <tr>\n",
       "      <th>0</th>\n",
       "      <td>2008-07-01</td>\n",
       "      <td>2008-07-01</td>\n",
       "      <td>3</td>\n",
       "      <td>3</td>\n",
       "      <td>100.00</td>\n",
       "    </tr>\n",
       "    <tr>\n",
       "      <th>1</th>\n",
       "      <td>2008-07-01</td>\n",
       "      <td>2008-08-01</td>\n",
       "      <td>2</td>\n",
       "      <td>3</td>\n",
       "      <td>66.67</td>\n",
       "    </tr>\n",
       "    <tr>\n",
       "      <th>2</th>\n",
       "      <td>2008-07-01</td>\n",
       "      <td>2008-09-01</td>\n",
       "      <td>1</td>\n",
       "      <td>3</td>\n",
       "      <td>33.33</td>\n",
       "    </tr>\n",
       "    <tr>\n",
       "      <th>3</th>\n",
       "      <td>2008-07-01</td>\n",
       "      <td>2008-10-01</td>\n",
       "      <td>2</td>\n",
       "      <td>3</td>\n",
       "      <td>66.67</td>\n",
       "    </tr>\n",
       "    <tr>\n",
       "      <th>4</th>\n",
       "      <td>2008-07-01</td>\n",
       "      <td>2008-11-01</td>\n",
       "      <td>1</td>\n",
       "      <td>3</td>\n",
       "      <td>33.33</td>\n",
       "    </tr>\n",
       "    <tr>\n",
       "      <th>5</th>\n",
       "      <td>2008-07-01</td>\n",
       "      <td>2008-12-01</td>\n",
       "      <td>2</td>\n",
       "      <td>3</td>\n",
       "      <td>66.67</td>\n",
       "    </tr>\n",
       "    <tr>\n",
       "      <th>6</th>\n",
       "      <td>2008-08-01</td>\n",
       "      <td>2008-08-01</td>\n",
       "      <td>2151</td>\n",
       "      <td>2151</td>\n",
       "      <td>100.00</td>\n",
       "    </tr>\n",
       "    <tr>\n",
       "      <th>7</th>\n",
       "      <td>2008-08-01</td>\n",
       "      <td>2008-09-01</td>\n",
       "      <td>1571</td>\n",
       "      <td>2151</td>\n",
       "      <td>73.04</td>\n",
       "    </tr>\n",
       "    <tr>\n",
       "      <th>8</th>\n",
       "      <td>2008-08-01</td>\n",
       "      <td>2008-10-01</td>\n",
       "      <td>1275</td>\n",
       "      <td>2151</td>\n",
       "      <td>59.27</td>\n",
       "    </tr>\n",
       "    <tr>\n",
       "      <th>9</th>\n",
       "      <td>2008-08-01</td>\n",
       "      <td>2008-11-01</td>\n",
       "      <td>1050</td>\n",
       "      <td>2151</td>\n",
       "      <td>48.81</td>\n",
       "    </tr>\n",
       "    <tr>\n",
       "      <th>10</th>\n",
       "      <td>2008-08-01</td>\n",
       "      <td>2008-12-01</td>\n",
       "      <td>894</td>\n",
       "      <td>2151</td>\n",
       "      <td>41.56</td>\n",
       "    </tr>\n",
       "    <tr>\n",
       "      <th>11</th>\n",
       "      <td>2008-09-01</td>\n",
       "      <td>2008-09-01</td>\n",
       "      <td>7678</td>\n",
       "      <td>7678</td>\n",
       "      <td>100.00</td>\n",
       "    </tr>\n",
       "    <tr>\n",
       "      <th>12</th>\n",
       "      <td>2008-09-01</td>\n",
       "      <td>2008-10-01</td>\n",
       "      <td>4132</td>\n",
       "      <td>7678</td>\n",
       "      <td>53.82</td>\n",
       "    </tr>\n",
       "    <tr>\n",
       "      <th>13</th>\n",
       "      <td>2008-09-01</td>\n",
       "      <td>2008-11-01</td>\n",
       "      <td>2966</td>\n",
       "      <td>7678</td>\n",
       "      <td>38.63</td>\n",
       "    </tr>\n",
       "    <tr>\n",
       "      <th>14</th>\n",
       "      <td>2008-09-01</td>\n",
       "      <td>2008-12-01</td>\n",
       "      <td>2500</td>\n",
       "      <td>7678</td>\n",
       "      <td>32.56</td>\n",
       "    </tr>\n",
       "    <tr>\n",
       "      <th>15</th>\n",
       "      <td>2008-10-01</td>\n",
       "      <td>2008-10-01</td>\n",
       "      <td>3629</td>\n",
       "      <td>3629</td>\n",
       "      <td>100.00</td>\n",
       "    </tr>\n",
       "    <tr>\n",
       "      <th>16</th>\n",
       "      <td>2008-10-01</td>\n",
       "      <td>2008-11-01</td>\n",
       "      <td>1640</td>\n",
       "      <td>3629</td>\n",
       "      <td>45.19</td>\n",
       "    </tr>\n",
       "    <tr>\n",
       "      <th>17</th>\n",
       "      <td>2008-10-01</td>\n",
       "      <td>2008-12-01</td>\n",
       "      <td>1221</td>\n",
       "      <td>3629</td>\n",
       "      <td>33.65</td>\n",
       "    </tr>\n",
       "    <tr>\n",
       "      <th>18</th>\n",
       "      <td>2008-11-01</td>\n",
       "      <td>2008-11-01</td>\n",
       "      <td>2852</td>\n",
       "      <td>2852</td>\n",
       "      <td>100.00</td>\n",
       "    </tr>\n",
       "    <tr>\n",
       "      <th>19</th>\n",
       "      <td>2008-11-01</td>\n",
       "      <td>2008-12-01</td>\n",
       "      <td>1151</td>\n",
       "      <td>2852</td>\n",
       "      <td>40.36</td>\n",
       "    </tr>\n",
       "    <tr>\n",
       "      <th>20</th>\n",
       "      <td>2008-12-01</td>\n",
       "      <td>2008-12-01</td>\n",
       "      <td>2536</td>\n",
       "      <td>2536</td>\n",
       "      <td>100.00</td>\n",
       "    </tr>\n",
       "  </tbody>\n",
       "</table>\n",
       "</div>"
      ],
      "text/plain": [
       "    cohort_dt session_dt  users_cnt  cohort_users_cnt  retention_rate\n",
       "0  2008-07-01 2008-07-01          3                 3          100.00\n",
       "1  2008-07-01 2008-08-01          2                 3           66.67\n",
       "2  2008-07-01 2008-09-01          1                 3           33.33\n",
       "3  2008-07-01 2008-10-01          2                 3           66.67\n",
       "4  2008-07-01 2008-11-01          1                 3           33.33\n",
       "5  2008-07-01 2008-12-01          2                 3           66.67\n",
       "6  2008-08-01 2008-08-01       2151              2151          100.00\n",
       "7  2008-08-01 2008-09-01       1571              2151           73.04\n",
       "8  2008-08-01 2008-10-01       1275              2151           59.27\n",
       "9  2008-08-01 2008-11-01       1050              2151           48.81\n",
       "10 2008-08-01 2008-12-01        894              2151           41.56\n",
       "11 2008-09-01 2008-09-01       7678              7678          100.00\n",
       "12 2008-09-01 2008-10-01       4132              7678           53.82\n",
       "13 2008-09-01 2008-11-01       2966              7678           38.63\n",
       "14 2008-09-01 2008-12-01       2500              7678           32.56\n",
       "15 2008-10-01 2008-10-01       3629              3629          100.00\n",
       "16 2008-10-01 2008-11-01       1640              3629           45.19\n",
       "17 2008-10-01 2008-12-01       1221              3629           33.65\n",
       "18 2008-11-01 2008-11-01       2852              2852          100.00\n",
       "19 2008-11-01 2008-12-01       1151              2852           40.36\n",
       "20 2008-12-01 2008-12-01       2536              2536          100.00"
      ]
     },
     "execution_count": 25,
     "metadata": {},
     "output_type": "execute_result"
    }
   ],
   "source": [
    "query = '''\n",
    "  WITH profile AS\n",
    "  (SELECT id AS user_id,\n",
    "          DATE_TRUNC('month', T.start_dt) AS dt,\n",
    "          COUNT(*) OVER (PARTITION BY DATE_TRUNC('month', T.start_dt)) AS cohort_users_cnt\n",
    "   FROM\n",
    "     (SELECT u1.id,\n",
    "             DATE_TRUNC('month', p1.creation_date) AS creation_date,\n",
    "             MIN(p1.creation_date) OVER (PARTITION BY u1.id\n",
    "                                         ORDER BY p1.creation_date) AS start_dt\n",
    "      FROM stackoverflow.users u1\n",
    "      JOIN stackoverflow.posts p1 ON u1.id = p1.user_id) T\n",
    "   GROUP BY id,\n",
    "            dt),\n",
    "sessions AS\n",
    "  (SELECT user_id,\n",
    "          DATE_TRUNC('month', creation_date) AS session_dt\n",
    "   FROM stackoverflow.posts\n",
    "   GROUP BY user_id,\n",
    "            session_dt)\n",
    "SELECT p.dt AS cohort_dt,\n",
    "       s.session_dt,\n",
    "       COUNT(p.user_id) AS users_cnt,\n",
    "       p.cohort_users_cnt,\n",
    "       ROUND(COUNT(p.user_id) * 100.0 / cohort_users_cnt, 2) AS retention_rate\n",
    "FROM profile p\n",
    "JOIN sessions s ON p.user_id = s.user_id\n",
    "GROUP BY 1,\n",
    "         2,\n",
    "         4\n",
    "\n",
    "'''\n",
    "\n",
    "table_8 = pd.read_sql_query(query, con = engine) \n",
    "table_8"
   ]
  },
  {
   "cell_type": "markdown",
   "metadata": {
    "id": "_msBtnb2DWLC"
   },
   "source": [
    "Постройте тепловую карту Retention Rate. Какие аномалии или другие необычные явления удалось выявить? Сформулируйте гипотезы о возможных причинах."
   ]
  },
  {
   "cell_type": "code",
   "execution_count": 26,
   "metadata": {
    "id": "qAEJc8H1DWLC"
   },
   "outputs": [
    {
     "data": {
      "image/png": "[encoded data removed]",
      "text/plain": [
       "<Figure size 576x360 with 2 Axes>"
      ]
     },
     "metadata": {
      "needs_background": "light"
     },
     "output_type": "display_data"
    }
   ],
   "source": [
    "# тепловая карта Retention Rate\n",
    "retention = table_8.pivot('cohort_dt', 'session_dt', 'retention_rate')\n",
    "retention.index = [str(x)[0:10] for x in retention.index]\n",
    "retention.columns = [str(x)[0:10] for x in retention.columns]\n",
    "\n",
    "\n",
    "plt.figure(figsize=(8, 5)) \n",
    "sns.heatmap(retention, \n",
    "            annot=True, \n",
    "            fmt='') \n",
    "plt.title('Тепловая карта') \n",
    "plt.show() "
   ]
  },
  {
   "cell_type": "markdown",
   "metadata": {},
   "source": [
    "Июльская когорта: Retention Rate возрастает в октябре и декабре - такого быть не должно, так как уровень удержания клиентов всегда должен снижаться со временем, к тому же сами значения странные - повторяющиеся поочередно (66,67 и 33,33). Подозрительные значения Retention Rate указывают на ошибки в учёте количества пользователей по данной когорте;\n",
    "\n",
    "В когорте пользователей, пришедших в августе, самое высокое значение Retention Rate за первый месяц, возможно в этот месяц запускали какую-то уникальную потрясающую акцию."
   ]
  },
  {
   "cell_type": "markdown",
   "metadata": {
    "id": "1k7oPWt5DWLK"
   },
   "source": [
    "### Задание 9\n"
   ]
  },
  {
   "cell_type": "markdown",
   "metadata": {
    "id": "ALsYVSyRDWLM"
   },
   "source": [
    "На сколько процентов менялось количество постов ежемесячно с 1 сентября по 31 декабря 2008 года? Отобразите таблицу со следующими полями:\n",
    "\n",
    "- номер месяца;\n",
    "- количество постов за месяц;\n",
    "- процент, который показывает, насколько изменилось количество постов в текущем месяце по сравнению с предыдущим.\n",
    "\n",
    "Если постов стало меньше, значение процента должно быть отрицательным, если больше — положительным. Округлите значение процента до двух знаков после запятой.\n",
    "\n",
    "Напомним, что при делении одного целого числа на другое в PostgreSQL в результате получится целое число, округлённое до ближайшего целого вниз. Чтобы этого избежать, переведите делимое в тип `numeric`."
   ]
  },
  {
   "cell_type": "code",
   "execution_count": 27,
   "metadata": {
    "id": "Mb5pShStDWLN"
   },
   "outputs": [
    {
     "data": {
      "text/html": [
       "<div>\n",
       "<style scoped>\n",
       "    .dataframe tbody tr th:only-of-type {\n",
       "        vertical-align: middle;\n",
       "    }\n",
       "\n",
       "    .dataframe tbody tr th {\n",
       "        vertical-align: top;\n",
       "    }\n",
       "\n",
       "    .dataframe thead th {\n",
       "        text-align: right;\n",
       "    }\n",
       "</style>\n",
       "<table border=\"1\" class=\"dataframe\">\n",
       "  <thead>\n",
       "    <tr style=\"text-align: right;\">\n",
       "      <th></th>\n",
       "      <th>creation_month</th>\n",
       "      <th>posts_count</th>\n",
       "      <th>percentage</th>\n",
       "    </tr>\n",
       "  </thead>\n",
       "  <tbody>\n",
       "    <tr>\n",
       "      <th>0</th>\n",
       "      <td>9.0</td>\n",
       "      <td>70371</td>\n",
       "      <td>NaN</td>\n",
       "    </tr>\n",
       "    <tr>\n",
       "      <th>1</th>\n",
       "      <td>10.0</td>\n",
       "      <td>63102</td>\n",
       "      <td>-10.33</td>\n",
       "    </tr>\n",
       "    <tr>\n",
       "      <th>2</th>\n",
       "      <td>11.0</td>\n",
       "      <td>46975</td>\n",
       "      <td>-25.56</td>\n",
       "    </tr>\n",
       "    <tr>\n",
       "      <th>3</th>\n",
       "      <td>12.0</td>\n",
       "      <td>44592</td>\n",
       "      <td>-5.07</td>\n",
       "    </tr>\n",
       "  </tbody>\n",
       "</table>\n",
       "</div>"
      ],
      "text/plain": [
       "   creation_month  posts_count  percentage\n",
       "0             9.0        70371         NaN\n",
       "1            10.0        63102      -10.33\n",
       "2            11.0        46975      -25.56\n",
       "3            12.0        44592       -5.07"
      ]
     },
     "execution_count": 27,
     "metadata": {},
     "output_type": "execute_result"
    }
   ],
   "source": [
    "query = '''\n",
    "WITH posts_month AS (\n",
    "      SELECT EXTRACT (MONTH FROM creation_date) AS creation_month,\n",
    "             COUNT(id) AS posts_count\n",
    "        FROM stackoverflow.posts \n",
    "       WHERE creation_date :: date BETWEEN '2008-09-01' AND '2008-12-31'\n",
    "    GROUP BY EXTRACT (MONTH FROM creation_date) \n",
    "    ORDER BY creation_month\n",
    ")\n",
    "                     \n",
    "SELECT *,\n",
    "       ROUND(( posts_count - LAG(posts_count) OVER () ) * 100 / LAG(posts_count) OVER () :: numeric, 2) AS percentage\n",
    "  FROM posts_month\n",
    "'''\n",
    "\n",
    "table_9 = pd.read_sql_query(query, con = engine) \n",
    "table_9"
   ]
  },
  {
   "cell_type": "markdown",
   "metadata": {
    "id": "9NQE2y_MDWLP"
   },
   "source": [
    "Постройте круговую диаграмму с количеством постов по месяцам."
   ]
  },
  {
   "cell_type": "code",
   "execution_count": 28,
   "metadata": {
    "id": "377ABjiVDWLP"
   },
   "outputs": [
    {
     "data": {
      "image/png": "[encoded data removed]",
      "text/plain": [
       "<Figure size 432x288 with 1 Axes>"
      ]
     },
     "metadata": {},
     "output_type": "display_data"
    }
   ],
   "source": [
    "# круговая диаграммя с количеством постов по месяцам\n",
    "labels = ['Сентябрь', 'Октябрь', 'Ноябрь', 'Декабрь']\n",
    "sizes = table_9['posts_count']\n",
    "\n",
    "fig1, ax1 = plt.subplots()\n",
    "ax1.pie(sizes, labels=labels, autopct='%.1f%%')\n",
    "plt.title('Количество постов по месяцам')\n",
    "plt.show()"
   ]
  },
  {
   "cell_type": "markdown",
   "metadata": {
    "id": "uw7qMtafDWLP"
   },
   "source": [
    "### Задание 10"
   ]
  },
  {
   "cell_type": "markdown",
   "metadata": {
    "id": "oRBpWKx3DWLQ"
   },
   "source": [
    "Выгрузите данные активности пользователя, который опубликовал больше всего постов за всё время. Выведите данные за октябрь 2008 года в таком виде:\n",
    "\n",
    "- номер недели;\n",
    "- дата и время последнего поста, опубликованного на этой неделе."
   ]
  },
  {
   "cell_type": "code",
   "execution_count": 29,
   "metadata": {
    "id": "r5F5fSkwDWLQ"
   },
   "outputs": [
    {
     "data": {
      "text/html": [
       "<div>\n",
       "<style scoped>\n",
       "    .dataframe tbody tr th:only-of-type {\n",
       "        vertical-align: middle;\n",
       "    }\n",
       "\n",
       "    .dataframe tbody tr th {\n",
       "        vertical-align: top;\n",
       "    }\n",
       "\n",
       "    .dataframe thead th {\n",
       "        text-align: right;\n",
       "    }\n",
       "</style>\n",
       "<table border=\"1\" class=\"dataframe\">\n",
       "  <thead>\n",
       "    <tr style=\"text-align: right;\">\n",
       "      <th></th>\n",
       "      <th>week_creation</th>\n",
       "      <th>creation_date</th>\n",
       "    </tr>\n",
       "  </thead>\n",
       "  <tbody>\n",
       "    <tr>\n",
       "      <th>0</th>\n",
       "      <td>40.0</td>\n",
       "      <td>2008-10-05 09:00:58</td>\n",
       "    </tr>\n",
       "    <tr>\n",
       "      <th>1</th>\n",
       "      <td>41.0</td>\n",
       "      <td>2008-10-12 21:22:23</td>\n",
       "    </tr>\n",
       "    <tr>\n",
       "      <th>2</th>\n",
       "      <td>42.0</td>\n",
       "      <td>2008-10-19 06:49:30</td>\n",
       "    </tr>\n",
       "    <tr>\n",
       "      <th>3</th>\n",
       "      <td>43.0</td>\n",
       "      <td>2008-10-26 21:44:36</td>\n",
       "    </tr>\n",
       "    <tr>\n",
       "      <th>4</th>\n",
       "      <td>44.0</td>\n",
       "      <td>2008-10-31 22:16:01</td>\n",
       "    </tr>\n",
       "  </tbody>\n",
       "</table>\n",
       "</div>"
      ],
      "text/plain": [
       "   week_creation       creation_date\n",
       "0           40.0 2008-10-05 09:00:58\n",
       "1           41.0 2008-10-12 21:22:23\n",
       "2           42.0 2008-10-19 06:49:30\n",
       "3           43.0 2008-10-26 21:44:36\n",
       "4           44.0 2008-10-31 22:16:01"
      ]
     },
     "execution_count": 29,
     "metadata": {},
     "output_type": "execute_result"
    }
   ],
   "source": [
    "query = '''\n",
    "WITH week AS (   \n",
    "      SELECT EXTRACT(WEEK FROM creation_date) week_creation,\n",
    "             MAX(creation_date) OVER (ORDER BY EXTRACT(WEEK FROM creation_date)) creation_date\n",
    "        FROM stackoverflow.posts \n",
    "       WHERE user_id = (\n",
    "                 SELECT user_id\n",
    "                   FROM stackoverflow.posts \n",
    "               GROUP BY user_id \n",
    "               ORDER BY COUNT(id) DESC\n",
    "                  LIMIT 1\n",
    "                     ) \n",
    "        AND creation_date :: date BETWEEN '2008-10-01' AND '2008-10-31'          \n",
    "   ORDER BY creation_date\n",
    "             )\n",
    "   \n",
    "  SELECT DISTINCT *\n",
    "    FROM week\n",
    "ORDER BY week_creation\n",
    "'''\n",
    "\n",
    "table_10 = pd.read_sql_query(query, con = engine) \n",
    "table_10"
   ]
  },
  {
   "cell_type": "markdown",
   "metadata": {},
   "source": [
    "### Вывод\n",
    "В ходе данной работы были выполнены запросы к базе данных StackOverFlow за 2008 год - сервиса вопросов и ответов о программировании. StackOverflow похож на социальную сеть — пользователи сервиса задают вопросы, отвечают на посты, оставляют комментарии и ставят оценки другим ответам.\n",
    " \n",
    "- В сентябре 2008 года наблюдается резкий скачок количества просмотров, по сравнению с июлем и августом. Возможно это связано с началом учебного года, когда студенты начинают пользоваться сервисом или же началом какого-то нового интересного проекта. \n",
    "- Среди пользователей, которые в первый месяц после регистрации дали больше 100 ответов, каждому имени пользователя не обязательно соответствует только одно уникальное значений user_id. Скорее всего на данном сервисе иимя пользователя не обязательно должно быть уникальным.\n",
    "- В августе 2008 года имеется 32 поста, которые создали пользователи, зарегестрировавшиеся в сентябре 2008 года, что по логике вещей, они не могли сделать, так как еще не были зарегестрированы. Странная аномалия, которая могла возникнуть может быть из-за разницы часовых поясов, например, кто-то опубликовал пост из другого часового пояса, где уже был сентябрь, а в системе сервиса еще был август.\n",
    "- Выведено количество просмотров с накоплением для каждого пользователя, который написал пост.\n",
    "- Найдено среднее количество постов пользователей в день за август 2008 года, для этого отобрали данные о пользователях, которые опубликовали больше 120 постов за август.\n",
    "- Активные пользователи (которые хотя бы один пост за неделю выкладывают) взаимодействуют с платформой в среднем 2 дня из 7.\n",
    "- Выведена история активности каждого пользователя с указанием даты предыдущего поста.\n",
    "- Рассчитан аналог Retention Rate и построена тепловая карта: Июльская когорта: Retention Rate возрастает в октябре и декабре - такого быть не должно, так как уровень удержания клиентов всегда должен снижаться со временем, к тому же сами значения странные - повторяющиеся поочередно (66,67 и 33,33). Подозрительные значения Retention Rate указывают на ошибки в учёте количества пользователей по данной когорте; в когорте пользователей, пришедших в августе, самое высокое значение Retention Rate за первый месяц, возможно в этот месяц запускали какую-то уникальную потрясающую акцию.\n",
    "- С сентября по декабрь 2008 года количество постов уменьшалось от месяца к месяцу. \n",
    "- Выгружены данные октябрьской активности пользователя, который опубликовал больше всего постов за все время."
   ]
  }
 ],
 "metadata": {
  "ExecuteTimeLog": [
   {
    "duration": 872,
    "start_time": "2022-10-30T16:00:37.719Z"
   },
   {
    "duration": 6,
    "start_time": "2022-10-30T16:00:40.013Z"
   },
   {
    "duration": 8200,
    "start_time": "2022-10-30T16:00:43.308Z"
   },
   {
    "duration": 62,
    "start_time": "2022-10-30T16:00:54.993Z"
   },
   {
    "duration": 2,
    "start_time": "2022-10-30T16:01:37.135Z"
   },
   {
    "duration": 70,
    "start_time": "2022-10-30T16:04:30.928Z"
   },
   {
    "duration": 71,
    "start_time": "2022-10-30T16:04:37.988Z"
   },
   {
    "duration": 3,
    "start_time": "2022-10-30T16:17:10.701Z"
   },
   {
    "duration": 189,
    "start_time": "2022-10-30T16:18:09.376Z"
   },
   {
    "duration": 3,
    "start_time": "2022-10-30T16:18:28.564Z"
   },
   {
    "duration": 142,
    "start_time": "2022-10-30T16:18:30.692Z"
   },
   {
    "duration": 3,
    "start_time": "2022-10-30T16:18:48.803Z"
   },
   {
    "duration": 89,
    "start_time": "2022-10-30T16:18:50.460Z"
   },
   {
    "duration": 3,
    "start_time": "2022-10-30T16:24:25.873Z"
   },
   {
    "duration": 161,
    "start_time": "2022-10-30T16:24:52.683Z"
   },
   {
    "duration": 158,
    "start_time": "2022-10-30T16:25:42.779Z"
   },
   {
    "duration": 140,
    "start_time": "2022-10-30T16:25:56.980Z"
   },
   {
    "duration": 150,
    "start_time": "2022-10-30T16:26:01.539Z"
   },
   {
    "duration": 143,
    "start_time": "2022-10-30T16:26:21.443Z"
   },
   {
    "duration": 140,
    "start_time": "2022-10-30T16:26:33.923Z"
   },
   {
    "duration": 138,
    "start_time": "2022-10-30T16:27:21.507Z"
   },
   {
    "duration": 142,
    "start_time": "2022-10-30T16:27:27.843Z"
   },
   {
    "duration": 138,
    "start_time": "2022-10-30T16:28:00.899Z"
   },
   {
    "duration": 166,
    "start_time": "2022-10-30T16:28:05.675Z"
   },
   {
    "duration": 66,
    "start_time": "2022-10-30T16:29:03.164Z"
   },
   {
    "duration": 139,
    "start_time": "2022-10-30T16:29:12.556Z"
   },
   {
    "duration": 3,
    "start_time": "2022-10-30T16:29:15.362Z"
   },
   {
    "duration": 2,
    "start_time": "2022-10-30T16:29:20.732Z"
   },
   {
    "duration": 124,
    "start_time": "2022-10-30T16:29:36.268Z"
   },
   {
    "duration": 108,
    "start_time": "2022-10-30T16:29:54.803Z"
   },
   {
    "duration": 120,
    "start_time": "2022-10-30T16:30:03.491Z"
   },
   {
    "duration": 2,
    "start_time": "2022-10-30T16:35:35.290Z"
   },
   {
    "duration": 2,
    "start_time": "2022-10-30T16:38:45.561Z"
   },
   {
    "duration": 1095,
    "start_time": "2022-10-30T16:38:55.412Z"
   },
   {
    "duration": 989,
    "start_time": "2022-10-30T16:39:22.019Z"
   },
   {
    "duration": 3,
    "start_time": "2022-10-30T16:40:03.387Z"
   },
   {
    "duration": 2540,
    "start_time": "2022-10-30T16:40:14.068Z"
   },
   {
    "duration": 63,
    "start_time": "2022-10-30T16:44:59.067Z"
   },
   {
    "duration": 114,
    "start_time": "2022-10-30T16:45:59.116Z"
   },
   {
    "duration": 56,
    "start_time": "2022-10-30T16:46:13.339Z"
   },
   {
    "duration": 5,
    "start_time": "2022-10-30T16:47:08.979Z"
   },
   {
    "duration": 21,
    "start_time": "2022-10-30T16:48:27.579Z"
   },
   {
    "duration": 8,
    "start_time": "2022-10-30T16:51:15.682Z"
   },
   {
    "duration": 22,
    "start_time": "2022-10-30T16:51:26.735Z"
   },
   {
    "duration": 14,
    "start_time": "2022-10-30T16:57:47.825Z"
   },
   {
    "duration": 102,
    "start_time": "2022-10-30T17:03:16.827Z"
   },
   {
    "duration": 56,
    "start_time": "2022-10-30T17:03:38.238Z"
   },
   {
    "duration": 90,
    "start_time": "2022-10-30T17:04:03.906Z"
   },
   {
    "duration": 324,
    "start_time": "2022-10-30T17:04:16.179Z"
   },
   {
    "duration": 58,
    "start_time": "2022-10-30T17:04:20.580Z"
   },
   {
    "duration": 116,
    "start_time": "2022-10-30T17:06:29.634Z"
   },
   {
    "duration": 121,
    "start_time": "2022-10-30T17:06:48.731Z"
   },
   {
    "duration": 119,
    "start_time": "2022-10-30T17:06:55.682Z"
   },
   {
    "duration": 116,
    "start_time": "2022-10-30T17:07:01.395Z"
   },
   {
    "duration": 123,
    "start_time": "2022-10-30T17:09:02.858Z"
   },
   {
    "duration": 148,
    "start_time": "2022-10-30T17:10:36.938Z"
   },
   {
    "duration": 102,
    "start_time": "2022-10-30T17:10:46.363Z"
   },
   {
    "duration": 89,
    "start_time": "2022-10-30T17:11:31.368Z"
   },
   {
    "duration": 64,
    "start_time": "2022-10-30T17:13:34.827Z"
   },
   {
    "duration": 64,
    "start_time": "2022-10-30T17:13:40.506Z"
   },
   {
    "duration": 135,
    "start_time": "2022-10-30T17:15:06.235Z"
   },
   {
    "duration": 134,
    "start_time": "2022-10-30T17:15:17.467Z"
   },
   {
    "duration": 111,
    "start_time": "2022-10-30T17:15:27.419Z"
   },
   {
    "duration": 145,
    "start_time": "2022-10-30T17:15:37.882Z"
   },
   {
    "duration": 82,
    "start_time": "2022-10-30T17:15:57.411Z"
   },
   {
    "duration": 110,
    "start_time": "2022-10-30T17:45:07.067Z"
   },
   {
    "duration": 93,
    "start_time": "2022-10-30T17:45:34.084Z"
   },
   {
    "duration": 89,
    "start_time": "2022-10-30T17:46:25.362Z"
   },
   {
    "duration": 83,
    "start_time": "2022-10-30T17:46:54.138Z"
   },
   {
    "duration": 88,
    "start_time": "2022-10-30T17:47:07.803Z"
   },
   {
    "duration": 100,
    "start_time": "2022-10-30T17:47:21.392Z"
   },
   {
    "duration": 96,
    "start_time": "2022-10-30T17:47:39.602Z"
   },
   {
    "duration": 88,
    "start_time": "2022-10-30T17:47:52.076Z"
   },
   {
    "duration": 87,
    "start_time": "2022-10-30T17:48:21.756Z"
   },
   {
    "duration": 86,
    "start_time": "2022-10-30T17:49:03.857Z"
   },
   {
    "duration": 361,
    "start_time": "2022-10-30T17:50:04.180Z"
   },
   {
    "duration": 93,
    "start_time": "2022-10-30T17:50:17.911Z"
   },
   {
    "duration": 63,
    "start_time": "2022-10-30T17:50:53.403Z"
   },
   {
    "duration": 97,
    "start_time": "2022-10-30T17:51:49.802Z"
   },
   {
    "duration": 2626,
    "start_time": "2022-10-30T17:52:29.554Z"
   },
   {
    "duration": 1266,
    "start_time": "2022-10-30T17:53:14.331Z"
   },
   {
    "duration": 2443,
    "start_time": "2022-10-30T17:54:10.442Z"
   },
   {
    "duration": 9,
    "start_time": "2022-10-30T17:54:29.513Z"
   },
   {
    "duration": 14,
    "start_time": "2022-10-30T17:54:40.777Z"
   },
   {
    "duration": 458,
    "start_time": "2022-10-30T17:54:56.499Z"
   },
   {
    "duration": 441,
    "start_time": "2022-10-30T17:55:02.843Z"
   },
   {
    "duration": 1100,
    "start_time": "2022-10-30T18:00:17.998Z"
   },
   {
    "duration": 4,
    "start_time": "2022-10-30T18:00:19.100Z"
   },
   {
    "duration": 8164,
    "start_time": "2022-10-30T18:00:19.105Z"
   },
   {
    "duration": 50,
    "start_time": "2022-10-30T18:00:27.270Z"
   },
   {
    "duration": 14,
    "start_time": "2022-10-30T18:00:27.322Z"
   },
   {
    "duration": 80,
    "start_time": "2022-10-30T18:00:27.337Z"
   },
   {
    "duration": 3,
    "start_time": "2022-10-30T18:00:27.418Z"
   },
   {
    "duration": 171,
    "start_time": "2022-10-30T18:00:27.422Z"
   },
   {
    "duration": 2,
    "start_time": "2022-10-30T18:00:27.595Z"
   },
   {
    "duration": 171,
    "start_time": "2022-10-30T18:00:27.599Z"
   },
   {
    "duration": 0,
    "start_time": "2022-10-30T18:00:27.772Z"
   },
   {
    "duration": 0,
    "start_time": "2022-10-30T18:00:27.774Z"
   },
   {
    "duration": 0,
    "start_time": "2022-10-30T18:00:27.775Z"
   },
   {
    "duration": 0,
    "start_time": "2022-10-30T18:00:27.776Z"
   },
   {
    "duration": 0,
    "start_time": "2022-10-30T18:00:27.778Z"
   },
   {
    "duration": 0,
    "start_time": "2022-10-30T18:00:27.779Z"
   },
   {
    "duration": 0,
    "start_time": "2022-10-30T18:00:27.780Z"
   },
   {
    "duration": 0,
    "start_time": "2022-10-30T18:00:27.782Z"
   },
   {
    "duration": 0,
    "start_time": "2022-10-30T18:00:27.783Z"
   },
   {
    "duration": 0,
    "start_time": "2022-10-30T18:00:27.784Z"
   },
   {
    "duration": 0,
    "start_time": "2022-10-30T18:00:27.785Z"
   },
   {
    "duration": 0,
    "start_time": "2022-10-30T18:00:27.786Z"
   },
   {
    "duration": 544,
    "start_time": "2022-10-30T18:01:00.005Z"
   },
   {
    "duration": 1163,
    "start_time": "2022-10-30T18:01:04.712Z"
   },
   {
    "duration": 3,
    "start_time": "2022-10-30T18:01:05.877Z"
   },
   {
    "duration": 8009,
    "start_time": "2022-10-30T18:01:05.881Z"
   },
   {
    "duration": 88,
    "start_time": "2022-10-30T18:01:13.892Z"
   },
   {
    "duration": 13,
    "start_time": "2022-10-30T18:01:13.982Z"
   },
   {
    "duration": 116,
    "start_time": "2022-10-30T18:01:13.996Z"
   },
   {
    "duration": 2,
    "start_time": "2022-10-30T18:01:14.113Z"
   },
   {
    "duration": 183,
    "start_time": "2022-10-30T18:01:14.117Z"
   },
   {
    "duration": 2,
    "start_time": "2022-10-30T18:01:14.301Z"
   },
   {
    "duration": 1028,
    "start_time": "2022-10-30T18:01:14.304Z"
   },
   {
    "duration": 3,
    "start_time": "2022-10-30T18:01:15.333Z"
   },
   {
    "duration": 1932,
    "start_time": "2022-10-30T18:01:15.337Z"
   },
   {
    "duration": 63,
    "start_time": "2022-10-30T18:01:17.270Z"
   },
   {
    "duration": 3703,
    "start_time": "2022-10-30T18:01:17.335Z"
   },
   {
    "duration": 2,
    "start_time": "2022-10-30T18:01:21.039Z"
   },
   {
    "duration": 1060,
    "start_time": "2022-10-30T18:01:21.042Z"
   },
   {
    "duration": 6846,
    "start_time": "2022-10-30T18:01:22.104Z"
   },
   {
    "duration": 326,
    "start_time": "2022-10-30T18:01:28.951Z"
   },
   {
    "duration": 2,
    "start_time": "2022-10-30T18:01:29.279Z"
   },
   {
    "duration": 86,
    "start_time": "2022-10-30T18:01:29.282Z"
   },
   {
    "duration": 74,
    "start_time": "2022-10-30T18:01:29.369Z"
   },
   {
    "duration": 92,
    "start_time": "2022-10-30T18:01:29.445Z"
   },
   {
    "duration": 51,
    "start_time": "2022-10-31T11:11:43.732Z"
   },
   {
    "duration": 1394,
    "start_time": "2022-10-31T11:11:49.022Z"
   },
   {
    "duration": 4,
    "start_time": "2022-10-31T11:11:50.418Z"
   },
   {
    "duration": 5190,
    "start_time": "2022-10-31T11:11:50.423Z"
   },
   {
    "duration": 240,
    "start_time": "2022-10-31T11:11:55.615Z"
   },
   {
    "duration": 13,
    "start_time": "2022-10-31T11:11:55.857Z"
   },
   {
    "duration": 126,
    "start_time": "2022-10-31T11:11:55.872Z"
   },
   {
    "duration": 2,
    "start_time": "2022-10-31T11:11:56.000Z"
   },
   {
    "duration": 312,
    "start_time": "2022-10-31T11:11:56.004Z"
   },
   {
    "duration": 0,
    "start_time": "2022-10-31T11:11:56.318Z"
   },
   {
    "duration": 0,
    "start_time": "2022-10-31T11:11:56.320Z"
   },
   {
    "duration": 0,
    "start_time": "2022-10-31T11:11:56.321Z"
   },
   {
    "duration": 0,
    "start_time": "2022-10-31T11:11:56.322Z"
   },
   {
    "duration": 0,
    "start_time": "2022-10-31T11:11:56.324Z"
   },
   {
    "duration": 0,
    "start_time": "2022-10-31T11:11:56.325Z"
   },
   {
    "duration": 0,
    "start_time": "2022-10-31T11:11:56.326Z"
   },
   {
    "duration": 0,
    "start_time": "2022-10-31T11:11:56.328Z"
   },
   {
    "duration": 0,
    "start_time": "2022-10-31T11:11:56.329Z"
   },
   {
    "duration": 0,
    "start_time": "2022-10-31T11:11:56.331Z"
   },
   {
    "duration": 0,
    "start_time": "2022-10-31T11:11:56.332Z"
   },
   {
    "duration": 0,
    "start_time": "2022-10-31T11:11:56.333Z"
   },
   {
    "duration": 0,
    "start_time": "2022-10-31T11:11:56.334Z"
   },
   {
    "duration": 0,
    "start_time": "2022-10-31T11:11:56.335Z"
   },
   {
    "duration": 194,
    "start_time": "2022-10-31T11:12:29.242Z"
   },
   {
    "duration": 4,
    "start_time": "2022-10-31T11:12:48.409Z"
   },
   {
    "duration": 8,
    "start_time": "2022-10-31T11:12:54.362Z"
   },
   {
    "duration": 4,
    "start_time": "2022-10-31T11:13:00.889Z"
   },
   {
    "duration": 8,
    "start_time": "2022-10-31T11:13:08.863Z"
   },
   {
    "duration": 4,
    "start_time": "2022-10-31T11:13:13.225Z"
   },
   {
    "duration": 6,
    "start_time": "2022-10-31T11:13:48.841Z"
   },
   {
    "duration": 9,
    "start_time": "2022-10-31T11:14:04.129Z"
   },
   {
    "duration": 4,
    "start_time": "2022-10-31T11:14:14.961Z"
   },
   {
    "duration": 10,
    "start_time": "2022-10-31T11:15:03.344Z"
   },
   {
    "duration": 46,
    "start_time": "2022-10-31T11:18:32.480Z"
   },
   {
    "duration": 49,
    "start_time": "2022-10-31T11:22:35.545Z"
   },
   {
    "duration": 1197,
    "start_time": "2022-10-31T11:23:20.205Z"
   },
   {
    "duration": 5,
    "start_time": "2022-10-31T11:23:21.404Z"
   },
   {
    "duration": 5356,
    "start_time": "2022-10-31T11:23:21.413Z"
   },
   {
    "duration": 203,
    "start_time": "2022-10-31T11:23:26.771Z"
   },
   {
    "duration": 13,
    "start_time": "2022-10-31T11:23:26.976Z"
   },
   {
    "duration": 130,
    "start_time": "2022-10-31T11:23:26.991Z"
   },
   {
    "duration": 3,
    "start_time": "2022-10-31T11:23:27.122Z"
   },
   {
    "duration": 260,
    "start_time": "2022-10-31T11:23:27.126Z"
   },
   {
    "duration": 3,
    "start_time": "2022-10-31T11:23:27.388Z"
   },
   {
    "duration": 12,
    "start_time": "2022-10-31T11:23:27.392Z"
   },
   {
    "duration": 204,
    "start_time": "2022-10-31T11:23:27.406Z"
   },
   {
    "duration": 2,
    "start_time": "2022-10-31T11:23:27.611Z"
   },
   {
    "duration": 1223,
    "start_time": "2022-10-31T11:23:27.615Z"
   },
   {
    "duration": 105,
    "start_time": "2022-10-31T11:23:28.840Z"
   },
   {
    "duration": 63,
    "start_time": "2022-10-31T11:23:28.947Z"
   },
   {
    "duration": 2,
    "start_time": "2022-10-31T11:23:29.011Z"
   },
   {
    "duration": 1221,
    "start_time": "2022-10-31T11:23:29.015Z"
   },
   {
    "duration": 737,
    "start_time": "2022-10-31T11:23:30.238Z"
   },
   {
    "duration": 374,
    "start_time": "2022-10-31T11:23:30.977Z"
   },
   {
    "duration": 2,
    "start_time": "2022-10-31T11:23:31.352Z"
   },
   {
    "duration": 120,
    "start_time": "2022-10-31T11:23:31.356Z"
   },
   {
    "duration": 80,
    "start_time": "2022-10-31T11:23:31.478Z"
   },
   {
    "duration": 149,
    "start_time": "2022-10-31T11:23:31.560Z"
   }
  ],
  "colab": {
   "name": "AdvansedSQLProjectTemplate.ipynb",
   "provenance": []
  },
  "kernelspec": {
   "display_name": "Python 3 (ipykernel)",
   "language": "python",
   "name": "python3"
  },
  "language_info": {
   "codemirror_mode": {
    "name": "ipython",
    "version": 3
   },
   "file_extension": ".py",
   "mimetype": "text/x-python",
   "name": "python",
   "nbconvert_exporter": "python",
   "pygments_lexer": "ipython3",
   "version": "3.9.12"
  },
  "toc": {
   "base_numbering": 1,
   "nav_menu": {},
   "number_sections": true,
   "sideBar": true,
   "skip_h1_title": true,
   "title_cell": "Table of Contents",
   "title_sidebar": "Contents",
   "toc_cell": false,
   "toc_position": {},
   "toc_section_display": true,
   "toc_window_display": false
  }
 },
 "nbformat": 4,
 "nbformat_minor": 1
}
